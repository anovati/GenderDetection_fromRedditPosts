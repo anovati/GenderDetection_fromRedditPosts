{
 "cells": [
  {
   "cell_type": "markdown",
   "id": "40aee2b4",
   "metadata": {
    "papermill": {
     "duration": 0.043676,
     "end_time": "2023-02-17T09:39:45.533282",
     "exception": false,
     "start_time": "2023-02-17T09:39:45.489606",
     "status": "completed"
    },
    "tags": []
   },
   "source": [
    "# Gender Prediction from Comments on Reddit"
   ]
  },
  {
   "cell_type": "markdown",
   "id": "8a32045e",
   "metadata": {
    "papermill": {
     "duration": 0.040809,
     "end_time": "2023-02-17T09:39:45.616571",
     "exception": false,
     "start_time": "2023-02-17T09:39:45.575762",
     "status": "completed"
    },
    "tags": []
   },
   "source": [
    "## Loading Data"
   ]
  },
  {
   "cell_type": "code",
   "execution_count": 30,
   "id": "5fe82429",
   "metadata": {
    "execution": {
     "iopub.execute_input": "2023-02-17T09:39:45.701630Z",
     "iopub.status.busy": "2023-02-17T09:39:45.700851Z",
     "iopub.status.idle": "2023-02-17T09:39:45.723986Z",
     "shell.execute_reply": "2023-02-17T09:39:45.722907Z"
    },
    "papermill": {
     "duration": 0.07176,
     "end_time": "2023-02-17T09:39:45.728530",
     "exception": false,
     "start_time": "2023-02-17T09:39:45.656770",
     "status": "completed"
    },
    "tags": []
   },
   "outputs": [
    {
     "name": "stdout",
     "output_type": "stream",
     "text": [
      "%pylab is deprecated, use %matplotlib inline and import the required libraries.\n",
      "Populating the interactive namespace from numpy and matplotlib\n"
     ]
    }
   ],
   "source": [
    "%pylab inline\n",
    "import pandas as pd\n",
    "import numpy as np\n",
    "from scipy import sparse\n",
    "\n",
    "# for NLP\n",
    "import nltk\n",
    "import re\n",
    "from nltk.tokenize import word_tokenize\n",
    "from nltk.stem import WordNetLemmatizer\n",
    "from nltk.corpus import wordnet\n",
    "import string"
   ]
  },
  {
   "cell_type": "markdown",
   "id": "2377f4ce",
   "metadata": {},
   "source": [
    "### Training Data"
   ]
  },
  {
   "cell_type": "code",
   "execution_count": 31,
   "id": "134daab0",
   "metadata": {
    "execution": {
     "iopub.execute_input": "2023-02-17T09:39:45.816960Z",
     "iopub.status.busy": "2023-02-17T09:39:45.815821Z",
     "iopub.status.idle": "2023-02-17T09:39:45.909157Z",
     "shell.execute_reply": "2023-02-17T09:39:45.907441Z"
    },
    "papermill": {
     "duration": 0.141013,
     "end_time": "2023-02-17T09:39:45.910671",
     "exception": true,
     "start_time": "2023-02-17T09:39:45.769658",
     "status": "failed"
    },
    "tags": []
   },
   "outputs": [],
   "source": [
    "train = pd.read_csv(\"data/train_data.csv\", encoding=\"utf8\")\n",
    "\n",
    "\n",
    "target = pd.read_csv(\"data/train_target.csv\")\n",
    "#target.head()"
   ]
  },
  {
   "cell_type": "code",
   "execution_count": 32,
   "id": "0cbd68cd",
   "metadata": {
    "papermill": {
     "duration": null,
     "end_time": null,
     "exception": null,
     "start_time": null,
     "status": "pending"
    },
    "tags": []
   },
   "outputs": [
    {
     "data": {
      "text/html": [
       "<div>\n",
       "<style scoped>\n",
       "    .dataframe tbody tr th:only-of-type {\n",
       "        vertical-align: middle;\n",
       "    }\n",
       "\n",
       "    .dataframe tbody tr th {\n",
       "        vertical-align: top;\n",
       "    }\n",
       "\n",
       "    .dataframe thead th {\n",
       "        text-align: right;\n",
       "    }\n",
       "</style>\n",
       "<table border=\"1\" class=\"dataframe\">\n",
       "  <thead>\n",
       "    <tr style=\"text-align: right;\">\n",
       "      <th></th>\n",
       "      <th>author</th>\n",
       "      <th>subreddit</th>\n",
       "      <th>created_utc</th>\n",
       "      <th>body</th>\n",
       "    </tr>\n",
       "  </thead>\n",
       "  <tbody>\n",
       "    <tr>\n",
       "      <th>0</th>\n",
       "      <td>Shamus_Aran</td>\n",
       "      <td>mylittlepony</td>\n",
       "      <td>1.388534e+09</td>\n",
       "      <td>I don't think we'd get nearly as much fanficti...</td>\n",
       "    </tr>\n",
       "    <tr>\n",
       "      <th>1</th>\n",
       "      <td>Riddance</td>\n",
       "      <td>sex</td>\n",
       "      <td>1.388534e+09</td>\n",
       "      <td>Thanks. I made it up, that's how I got over my...</td>\n",
       "    </tr>\n",
       "    <tr>\n",
       "      <th>2</th>\n",
       "      <td>Secret_Wizard</td>\n",
       "      <td>DragonsDogma</td>\n",
       "      <td>1.388534e+09</td>\n",
       "      <td>Are you sure you aren't confusing Cyclops (the...</td>\n",
       "    </tr>\n",
       "    <tr>\n",
       "      <th>3</th>\n",
       "      <td>Penultimatum</td>\n",
       "      <td>malefashionadvice</td>\n",
       "      <td>1.388534e+09</td>\n",
       "      <td>dont do this to me bro</td>\n",
       "    </tr>\n",
       "    <tr>\n",
       "      <th>4</th>\n",
       "      <td>7-SE7EN-7</td>\n",
       "      <td>todayilearned</td>\n",
       "      <td>1.388534e+09</td>\n",
       "      <td>That's what we do when we can't find a mate</td>\n",
       "    </tr>\n",
       "  </tbody>\n",
       "</table>\n",
       "</div>"
      ],
      "text/plain": [
       "          author          subreddit   created_utc  \\\n",
       "0    Shamus_Aran       mylittlepony  1.388534e+09   \n",
       "1       Riddance                sex  1.388534e+09   \n",
       "2  Secret_Wizard       DragonsDogma  1.388534e+09   \n",
       "3   Penultimatum  malefashionadvice  1.388534e+09   \n",
       "4      7-SE7EN-7      todayilearned  1.388534e+09   \n",
       "\n",
       "                                                body  \n",
       "0  I don't think we'd get nearly as much fanficti...  \n",
       "1  Thanks. I made it up, that's how I got over my...  \n",
       "2  Are you sure you aren't confusing Cyclops (the...  \n",
       "3                             dont do this to me bro  \n",
       "4        That's what we do when we can't find a mate  "
      ]
     },
     "execution_count": 32,
     "metadata": {},
     "output_type": "execute_result"
    }
   ],
   "source": [
    "train.head()"
   ]
  },
  {
   "cell_type": "code",
   "execution_count": 33,
   "id": "e1a69bed",
   "metadata": {
    "papermill": {
     "duration": null,
     "end_time": null,
     "exception": null,
     "start_time": null,
     "status": "pending"
    },
    "tags": []
   },
   "outputs": [
    {
     "data": {
      "text/html": [
       "<div>\n",
       "<style scoped>\n",
       "    .dataframe tbody tr th:only-of-type {\n",
       "        vertical-align: middle;\n",
       "    }\n",
       "\n",
       "    .dataframe tbody tr th {\n",
       "        vertical-align: top;\n",
       "    }\n",
       "\n",
       "    .dataframe thead th {\n",
       "        text-align: right;\n",
       "    }\n",
       "</style>\n",
       "<table border=\"1\" class=\"dataframe\">\n",
       "  <thead>\n",
       "    <tr style=\"text-align: right;\">\n",
       "      <th></th>\n",
       "      <th>author</th>\n",
       "      <th>gender</th>\n",
       "    </tr>\n",
       "  </thead>\n",
       "  <tbody>\n",
       "    <tr>\n",
       "      <th>0</th>\n",
       "      <td>RedThunder90</td>\n",
       "      <td>0</td>\n",
       "    </tr>\n",
       "    <tr>\n",
       "      <th>1</th>\n",
       "      <td>Lirkmor</td>\n",
       "      <td>1</td>\n",
       "    </tr>\n",
       "    <tr>\n",
       "      <th>2</th>\n",
       "      <td>In0chi</td>\n",
       "      <td>0</td>\n",
       "    </tr>\n",
       "    <tr>\n",
       "      <th>3</th>\n",
       "      <td>ProjectGrudge</td>\n",
       "      <td>0</td>\n",
       "    </tr>\n",
       "    <tr>\n",
       "      <th>4</th>\n",
       "      <td>TehTurtleHermit</td>\n",
       "      <td>0</td>\n",
       "    </tr>\n",
       "  </tbody>\n",
       "</table>\n",
       "</div>"
      ],
      "text/plain": [
       "            author  gender\n",
       "0     RedThunder90       0\n",
       "1          Lirkmor       1\n",
       "2           In0chi       0\n",
       "3    ProjectGrudge       0\n",
       "4  TehTurtleHermit       0"
      ]
     },
     "execution_count": 33,
     "metadata": {},
     "output_type": "execute_result"
    }
   ],
   "source": [
    "target.head()"
   ]
  },
  {
   "cell_type": "markdown",
   "id": "7a3a8678",
   "metadata": {
    "papermill": {
     "duration": null,
     "end_time": null,
     "exception": null,
     "start_time": null,
     "status": "pending"
    },
    "tags": []
   },
   "source": [
    "How many rows does the training set have"
   ]
  },
  {
   "cell_type": "code",
   "execution_count": 34,
   "id": "b4756291",
   "metadata": {
    "papermill": {
     "duration": null,
     "end_time": null,
     "exception": null,
     "start_time": null,
     "status": "pending"
    },
    "tags": []
   },
   "outputs": [
    {
     "data": {
      "text/plain": [
       "296042"
      ]
     },
     "execution_count": 34,
     "metadata": {},
     "output_type": "execute_result"
    }
   ],
   "source": [
    "train.shape[0]"
   ]
  },
  {
   "cell_type": "code",
   "execution_count": 35,
   "id": "15348327",
   "metadata": {
    "papermill": {
     "duration": null,
     "end_time": null,
     "exception": null,
     "start_time": null,
     "status": "pending"
    },
    "tags": []
   },
   "outputs": [
    {
     "data": {
      "text/plain": [
       "5000"
      ]
     },
     "execution_count": 35,
     "metadata": {},
     "output_type": "execute_result"
    }
   ],
   "source": [
    "target.shape[0]"
   ]
  },
  {
   "cell_type": "markdown",
   "id": "54262f62",
   "metadata": {},
   "source": [
    "### Test Data"
   ]
  },
  {
   "cell_type": "markdown",
   "id": "7497acef",
   "metadata": {},
   "source": [
    "Loading test data"
   ]
  },
  {
   "cell_type": "code",
   "execution_count": 36,
   "id": "2a57e5e2",
   "metadata": {},
   "outputs": [
    {
     "data": {
      "text/html": [
       "<div>\n",
       "<style scoped>\n",
       "    .dataframe tbody tr th:only-of-type {\n",
       "        vertical-align: middle;\n",
       "    }\n",
       "\n",
       "    .dataframe tbody tr th {\n",
       "        vertical-align: top;\n",
       "    }\n",
       "\n",
       "    .dataframe thead th {\n",
       "        text-align: right;\n",
       "    }\n",
       "</style>\n",
       "<table border=\"1\" class=\"dataframe\">\n",
       "  <thead>\n",
       "    <tr style=\"text-align: right;\">\n",
       "      <th></th>\n",
       "      <th>author</th>\n",
       "      <th>subreddit</th>\n",
       "      <th>created_utc</th>\n",
       "      <th>body</th>\n",
       "    </tr>\n",
       "  </thead>\n",
       "  <tbody>\n",
       "    <tr>\n",
       "      <th>0</th>\n",
       "      <td>ejchristian86</td>\n",
       "      <td>TwoXChromosomes</td>\n",
       "      <td>1.388534e+09</td>\n",
       "      <td>I hadn't ever heard of them before joining thi...</td>\n",
       "    </tr>\n",
       "    <tr>\n",
       "      <th>1</th>\n",
       "      <td>ZenDragon</td>\n",
       "      <td>gaming</td>\n",
       "      <td>1.388534e+09</td>\n",
       "      <td>At 7680 by 4320 with 64x AA, right?</td>\n",
       "    </tr>\n",
       "    <tr>\n",
       "      <th>2</th>\n",
       "      <td>savoytruffle</td>\n",
       "      <td>AskReddit</td>\n",
       "      <td>1.388534e+09</td>\n",
       "      <td>bite me</td>\n",
       "    </tr>\n",
       "    <tr>\n",
       "      <th>3</th>\n",
       "      <td>hentercenter</td>\n",
       "      <td>stlouisblues</td>\n",
       "      <td>1.388534e+09</td>\n",
       "      <td>Damn that was a good penalty :(</td>\n",
       "    </tr>\n",
       "    <tr>\n",
       "      <th>4</th>\n",
       "      <td>rick-o-suave</td>\n",
       "      <td>army</td>\n",
       "      <td>1.388534e+09</td>\n",
       "      <td>I swore into DEP on 6-OCT and I left 5-NOV und...</td>\n",
       "    </tr>\n",
       "  </tbody>\n",
       "</table>\n",
       "</div>"
      ],
      "text/plain": [
       "          author        subreddit   created_utc  \\\n",
       "0  ejchristian86  TwoXChromosomes  1.388534e+09   \n",
       "1      ZenDragon           gaming  1.388534e+09   \n",
       "2   savoytruffle        AskReddit  1.388534e+09   \n",
       "3   hentercenter     stlouisblues  1.388534e+09   \n",
       "4   rick-o-suave             army  1.388534e+09   \n",
       "\n",
       "                                                body  \n",
       "0  I hadn't ever heard of them before joining thi...  \n",
       "1                At 7680 by 4320 with 64x AA, right?  \n",
       "2                                            bite me  \n",
       "3                    Damn that was a good penalty :(  \n",
       "4  I swore into DEP on 6-OCT and I left 5-NOV und...  "
      ]
     },
     "execution_count": 36,
     "metadata": {},
     "output_type": "execute_result"
    }
   ],
   "source": [
    "test = pd.read_csv(\"data/test_data.csv\", encoding=\"utf8\")\n",
    "test.head()"
   ]
  },
  {
   "cell_type": "code",
   "execution_count": 37,
   "id": "8fce38c0",
   "metadata": {},
   "outputs": [
    {
     "data": {
      "text/plain": [
       "1107946"
      ]
     },
     "execution_count": 37,
     "metadata": {},
     "output_type": "execute_result"
    }
   ],
   "source": [
    "test.shape[0]"
   ]
  },
  {
   "cell_type": "markdown",
   "id": "ac37618d",
   "metadata": {},
   "source": [
    "## Data Pre-processing"
   ]
  },
  {
   "cell_type": "markdown",
   "id": "b34ad08f",
   "metadata": {
    "papermill": {
     "duration": null,
     "end_time": null,
     "exception": null,
     "start_time": null,
     "status": "pending"
    },
    "tags": []
   },
   "source": [
    "Checking if there are more comments from the same people"
   ]
  },
  {
   "cell_type": "code",
   "execution_count": 38,
   "id": "f1cfa09f",
   "metadata": {
    "papermill": {
     "duration": null,
     "end_time": null,
     "exception": null,
     "start_time": null,
     "status": "pending"
    },
    "tags": []
   },
   "outputs": [
    {
     "data": {
      "text/plain": [
       "<AxesSubplot: xlabel='author'>"
      ]
     },
     "execution_count": 38,
     "metadata": {},
     "output_type": "execute_result"
    },
    {
     "data": {
      "image/png": "[encoded data removed]",
      "text/plain": [
       "<Figure size 640x480 with 1 Axes>"
      ]
     },
     "metadata": {},
     "output_type": "display_data"
    }
   ],
   "source": [
    "train.groupby('author').count().plot()"
   ]
  },
  {
   "cell_type": "markdown",
   "id": "2458828b",
   "metadata": {
    "papermill": {
     "duration": null,
     "end_time": null,
     "exception": null,
     "start_time": null,
     "status": "pending"
    },
    "tags": []
   },
   "source": [
    "Checking how many different users wrote comments"
   ]
  },
  {
   "cell_type": "code",
   "execution_count": 39,
   "id": "3d8521bd",
   "metadata": {
    "papermill": {
     "duration": null,
     "end_time": null,
     "exception": null,
     "start_time": null,
     "status": "pending"
    },
    "tags": []
   },
   "outputs": [
    {
     "data": {
      "text/plain": [
       "(5000,)"
      ]
     },
     "execution_count": 39,
     "metadata": {},
     "output_type": "execute_result"
    }
   ],
   "source": [
    "train['author'].unique().shape"
   ]
  },
  {
   "cell_type": "markdown",
   "id": "a312c7c5",
   "metadata": {
    "papermill": {
     "duration": null,
     "end_time": null,
     "exception": null,
     "start_time": null,
     "status": "pending"
    },
    "tags": []
   },
   "source": [
    "One user is ubiquitous, in order to remove bias in the model that user's posts are reduced to the mean value of the comments per user"
   ]
  },
  {
   "cell_type": "code",
   "execution_count": 40,
   "id": "7d510dfc",
   "metadata": {
    "papermill": {
     "duration": null,
     "end_time": null,
     "exception": null,
     "start_time": null,
     "status": "pending"
    },
    "tags": []
   },
   "outputs": [
    {
     "data": {
      "text/html": [
       "<div>\n",
       "<style scoped>\n",
       "    .dataframe tbody tr th:only-of-type {\n",
       "        vertical-align: middle;\n",
       "    }\n",
       "\n",
       "    .dataframe tbody tr th {\n",
       "        vertical-align: top;\n",
       "    }\n",
       "\n",
       "    .dataframe thead th {\n",
       "        text-align: right;\n",
       "    }\n",
       "</style>\n",
       "<table border=\"1\" class=\"dataframe\">\n",
       "  <thead>\n",
       "    <tr style=\"text-align: right;\">\n",
       "      <th></th>\n",
       "      <th>subreddit</th>\n",
       "      <th>created_utc</th>\n",
       "      <th>body</th>\n",
       "    </tr>\n",
       "  </thead>\n",
       "  <tbody>\n",
       "    <tr>\n",
       "      <th>count</th>\n",
       "      <td>5000.000000</td>\n",
       "      <td>5000.000000</td>\n",
       "      <td>5000.000000</td>\n",
       "    </tr>\n",
       "    <tr>\n",
       "      <th>mean</th>\n",
       "      <td>59.208400</td>\n",
       "      <td>59.208400</td>\n",
       "      <td>59.208400</td>\n",
       "    </tr>\n",
       "    <tr>\n",
       "      <th>std</th>\n",
       "      <td>298.134567</td>\n",
       "      <td>298.134567</td>\n",
       "      <td>298.134567</td>\n",
       "    </tr>\n",
       "    <tr>\n",
       "      <th>min</th>\n",
       "      <td>1.000000</td>\n",
       "      <td>1.000000</td>\n",
       "      <td>1.000000</td>\n",
       "    </tr>\n",
       "    <tr>\n",
       "      <th>25%</th>\n",
       "      <td>5.000000</td>\n",
       "      <td>5.000000</td>\n",
       "      <td>5.000000</td>\n",
       "    </tr>\n",
       "    <tr>\n",
       "      <th>50%</th>\n",
       "      <td>16.000000</td>\n",
       "      <td>16.000000</td>\n",
       "      <td>16.000000</td>\n",
       "    </tr>\n",
       "    <tr>\n",
       "      <th>75%</th>\n",
       "      <td>54.000000</td>\n",
       "      <td>54.000000</td>\n",
       "      <td>54.000000</td>\n",
       "    </tr>\n",
       "    <tr>\n",
       "      <th>max</th>\n",
       "      <td>19534.000000</td>\n",
       "      <td>19534.000000</td>\n",
       "      <td>19534.000000</td>\n",
       "    </tr>\n",
       "  </tbody>\n",
       "</table>\n",
       "</div>"
      ],
      "text/plain": [
       "          subreddit   created_utc          body\n",
       "count   5000.000000   5000.000000   5000.000000\n",
       "mean      59.208400     59.208400     59.208400\n",
       "std      298.134567    298.134567    298.134567\n",
       "min        1.000000      1.000000      1.000000\n",
       "25%        5.000000      5.000000      5.000000\n",
       "50%       16.000000     16.000000     16.000000\n",
       "75%       54.000000     54.000000     54.000000\n",
       "max    19534.000000  19534.000000  19534.000000"
      ]
     },
     "execution_count": 40,
     "metadata": {},
     "output_type": "execute_result"
    }
   ],
   "source": [
    "train.groupby('author').count().describe()\n"
   ]
  },
  {
   "cell_type": "markdown",
   "id": "cb205207",
   "metadata": {
    "papermill": {
     "duration": null,
     "end_time": null,
     "exception": null,
     "start_time": null,
     "status": "pending"
    },
    "tags": []
   },
   "source": [
    "Adding a count column, initialized at 1 for each row"
   ]
  },
  {
   "cell_type": "code",
   "execution_count": 41,
   "id": "40a862cc",
   "metadata": {
    "papermill": {
     "duration": null,
     "end_time": null,
     "exception": null,
     "start_time": null,
     "status": "pending"
    },
    "tags": []
   },
   "outputs": [
    {
     "data": {
      "text/html": [
       "<div>\n",
       "<style scoped>\n",
       "    .dataframe tbody tr th:only-of-type {\n",
       "        vertical-align: middle;\n",
       "    }\n",
       "\n",
       "    .dataframe tbody tr th {\n",
       "        vertical-align: top;\n",
       "    }\n",
       "\n",
       "    .dataframe thead th {\n",
       "        text-align: right;\n",
       "    }\n",
       "</style>\n",
       "<table border=\"1\" class=\"dataframe\">\n",
       "  <thead>\n",
       "    <tr style=\"text-align: right;\">\n",
       "      <th></th>\n",
       "      <th>author</th>\n",
       "      <th>subreddit</th>\n",
       "      <th>created_utc</th>\n",
       "      <th>body</th>\n",
       "      <th>count</th>\n",
       "    </tr>\n",
       "  </thead>\n",
       "  <tbody>\n",
       "    <tr>\n",
       "      <th>0</th>\n",
       "      <td>Shamus_Aran</td>\n",
       "      <td>mylittlepony</td>\n",
       "      <td>1.388534e+09</td>\n",
       "      <td>I don't think we'd get nearly as much fanficti...</td>\n",
       "      <td>1</td>\n",
       "    </tr>\n",
       "    <tr>\n",
       "      <th>1</th>\n",
       "      <td>Riddance</td>\n",
       "      <td>sex</td>\n",
       "      <td>1.388534e+09</td>\n",
       "      <td>Thanks. I made it up, that's how I got over my...</td>\n",
       "      <td>1</td>\n",
       "    </tr>\n",
       "    <tr>\n",
       "      <th>2</th>\n",
       "      <td>Secret_Wizard</td>\n",
       "      <td>DragonsDogma</td>\n",
       "      <td>1.388534e+09</td>\n",
       "      <td>Are you sure you aren't confusing Cyclops (the...</td>\n",
       "      <td>1</td>\n",
       "    </tr>\n",
       "    <tr>\n",
       "      <th>3</th>\n",
       "      <td>Penultimatum</td>\n",
       "      <td>malefashionadvice</td>\n",
       "      <td>1.388534e+09</td>\n",
       "      <td>dont do this to me bro</td>\n",
       "      <td>1</td>\n",
       "    </tr>\n",
       "    <tr>\n",
       "      <th>4</th>\n",
       "      <td>7-SE7EN-7</td>\n",
       "      <td>todayilearned</td>\n",
       "      <td>1.388534e+09</td>\n",
       "      <td>That's what we do when we can't find a mate</td>\n",
       "      <td>1</td>\n",
       "    </tr>\n",
       "    <tr>\n",
       "      <th>...</th>\n",
       "      <td>...</td>\n",
       "      <td>...</td>\n",
       "      <td>...</td>\n",
       "      <td>...</td>\n",
       "      <td>...</td>\n",
       "    </tr>\n",
       "    <tr>\n",
       "      <th>296037</th>\n",
       "      <td>Tashre</td>\n",
       "      <td>FiftyFifty</td>\n",
       "      <td>1.391213e+09</td>\n",
       "      <td>I don't want to play this game anymore :(</td>\n",
       "      <td>1</td>\n",
       "    </tr>\n",
       "    <tr>\n",
       "      <th>296038</th>\n",
       "      <td>someguyfromtheuk</td>\n",
       "      <td>AskReddit</td>\n",
       "      <td>1.391213e+09</td>\n",
       "      <td>Twist: I am your son and staged all of this to...</td>\n",
       "      <td>1</td>\n",
       "    </tr>\n",
       "    <tr>\n",
       "      <th>296039</th>\n",
       "      <td>spurscanada</td>\n",
       "      <td>HIMYM</td>\n",
       "      <td>1.391213e+09</td>\n",
       "      <td>I think a lot of people don't like her because...</td>\n",
       "      <td>1</td>\n",
       "    </tr>\n",
       "    <tr>\n",
       "      <th>296040</th>\n",
       "      <td>SPAZZEH</td>\n",
       "      <td>politics</td>\n",
       "      <td>1.391213e+09</td>\n",
       "      <td>And the Tea Party must be having strokes right...</td>\n",
       "      <td>1</td>\n",
       "    </tr>\n",
       "    <tr>\n",
       "      <th>296041</th>\n",
       "      <td>whslaxattack</td>\n",
       "      <td>WorldofTanks</td>\n",
       "      <td>1.391213e+09</td>\n",
       "      <td>It has a huge ROF boost, so it is pretty much ...</td>\n",
       "      <td>1</td>\n",
       "    </tr>\n",
       "  </tbody>\n",
       "</table>\n",
       "<p>296042 rows × 5 columns</p>\n",
       "</div>"
      ],
      "text/plain": [
       "                  author          subreddit   created_utc  \\\n",
       "0            Shamus_Aran       mylittlepony  1.388534e+09   \n",
       "1               Riddance                sex  1.388534e+09   \n",
       "2          Secret_Wizard       DragonsDogma  1.388534e+09   \n",
       "3           Penultimatum  malefashionadvice  1.388534e+09   \n",
       "4              7-SE7EN-7      todayilearned  1.388534e+09   \n",
       "...                  ...                ...           ...   \n",
       "296037            Tashre         FiftyFifty  1.391213e+09   \n",
       "296038  someguyfromtheuk          AskReddit  1.391213e+09   \n",
       "296039       spurscanada              HIMYM  1.391213e+09   \n",
       "296040           SPAZZEH           politics  1.391213e+09   \n",
       "296041      whslaxattack       WorldofTanks  1.391213e+09   \n",
       "\n",
       "                                                     body  count  \n",
       "0       I don't think we'd get nearly as much fanficti...      1  \n",
       "1       Thanks. I made it up, that's how I got over my...      1  \n",
       "2       Are you sure you aren't confusing Cyclops (the...      1  \n",
       "3                                  dont do this to me bro      1  \n",
       "4             That's what we do when we can't find a mate      1  \n",
       "...                                                   ...    ...  \n",
       "296037          I don't want to play this game anymore :(      1  \n",
       "296038  Twist: I am your son and staged all of this to...      1  \n",
       "296039  I think a lot of people don't like her because...      1  \n",
       "296040  And the Tea Party must be having strokes right...      1  \n",
       "296041  It has a huge ROF boost, so it is pretty much ...      1  \n",
       "\n",
       "[296042 rows x 5 columns]"
      ]
     },
     "execution_count": 41,
     "metadata": {},
     "output_type": "execute_result"
    }
   ],
   "source": [
    "train['count'] = 1\n",
    "train"
   ]
  },
  {
   "cell_type": "markdown",
   "id": "a9259b4b",
   "metadata": {
    "papermill": {
     "duration": null,
     "end_time": null,
     "exception": null,
     "start_time": null,
     "status": "pending"
    },
    "tags": []
   },
   "source": [
    "Selecting the outlier by grouping by author and filtering for message count over 1k. Only one user has such a high message counter --> morbiusgreen"
   ]
  },
  {
   "cell_type": "code",
   "execution_count": 42,
   "id": "39a07222",
   "metadata": {
    "papermill": {
     "duration": null,
     "end_time": null,
     "exception": null,
     "start_time": null,
     "status": "pending"
    },
    "tags": []
   },
   "outputs": [
    {
     "data": {
      "text/plain": [
       "array(['morbiusgreen'], dtype=object)"
      ]
     },
     "execution_count": 42,
     "metadata": {},
     "output_type": "execute_result"
    }
   ],
   "source": [
    "train_outlier = train.groupby('author').filter(lambda x: len(x) > 10000)\n",
    "train_outlier['author'].unique()"
   ]
  },
  {
   "cell_type": "markdown",
   "id": "474c8c3f",
   "metadata": {
    "papermill": {
     "duration": null,
     "end_time": null,
     "exception": null,
     "start_time": null,
     "status": "pending"
    },
    "tags": []
   },
   "source": [
    "Creating a table without the outlier, in order to understand what is the real mean number of messages per user. In this way, data from the outlier can be still used without completely dropping it, but normalizing it to the other inputs."
   ]
  },
  {
   "cell_type": "code",
   "execution_count": 43,
   "id": "d75c99a0",
   "metadata": {
    "papermill": {
     "duration": null,
     "end_time": null,
     "exception": null,
     "start_time": null,
     "status": "pending"
    },
    "tags": []
   },
   "outputs": [],
   "source": [
    "# #Dropping from train table the rows with author \"morbiusgreen\". Drop requires index of these rows, so index is provided\n",
    "# train_aux = train.drop(train[train.author == 'morbiusgreen'].index)\n",
    "# train_aux.groupby('author').count().describe()"
   ]
  },
  {
   "cell_type": "markdown",
   "id": "8dfc3dcc",
   "metadata": {
    "papermill": {
     "duration": null,
     "end_time": null,
     "exception": null,
     "start_time": null,
     "status": "pending"
    },
    "tags": []
   },
   "source": [
    "Morbiusgreen is the outlier with a huge number of posts. Let's remove some of the posts and leave about the mean value of posts per user for Morbiusgreen. \n",
    "\n",
    "Selecting what percentage of messages from outlier to keep (0.2%)."
   ]
  },
  {
   "cell_type": "code",
   "execution_count": 44,
   "id": "f9cef6aa",
   "metadata": {
    "papermill": {
     "duration": null,
     "end_time": null,
     "exception": null,
     "start_time": null,
     "status": "pending"
    },
    "tags": []
   },
   "outputs": [
    {
     "data": {
      "text/plain": [
       "0.002815603563018327"
      ]
     },
     "execution_count": 44,
     "metadata": {},
     "output_type": "execute_result"
    }
   ],
   "source": [
    "perc = 55/19534\n",
    "perc"
   ]
  },
  {
   "cell_type": "markdown",
   "id": "d4e519f1",
   "metadata": {
    "papermill": {
     "duration": null,
     "end_time": null,
     "exception": null,
     "start_time": null,
     "status": "pending"
    },
    "tags": []
   },
   "source": [
    "Keeping the 0.2% of messages from outlier and dropping all the other $1-perc$ messages"
   ]
  },
  {
   "cell_type": "code",
   "execution_count": 45,
   "id": "b8769268",
   "metadata": {
    "papermill": {
     "duration": null,
     "end_time": null,
     "exception": null,
     "start_time": null,
     "status": "pending"
    },
    "scrolled": true,
    "tags": []
   },
   "outputs": [
    {
     "data": {
      "text/html": [
       "<div>\n",
       "<style scoped>\n",
       "    .dataframe tbody tr th:only-of-type {\n",
       "        vertical-align: middle;\n",
       "    }\n",
       "\n",
       "    .dataframe tbody tr th {\n",
       "        vertical-align: top;\n",
       "    }\n",
       "\n",
       "    .dataframe thead th {\n",
       "        text-align: right;\n",
       "    }\n",
       "</style>\n",
       "<table border=\"1\" class=\"dataframe\">\n",
       "  <thead>\n",
       "    <tr style=\"text-align: right;\">\n",
       "      <th></th>\n",
       "      <th>author</th>\n",
       "      <th>subreddit</th>\n",
       "      <th>created_utc</th>\n",
       "      <th>body</th>\n",
       "      <th>count</th>\n",
       "    </tr>\n",
       "  </thead>\n",
       "  <tbody>\n",
       "    <tr>\n",
       "      <th>0</th>\n",
       "      <td>Shamus_Aran</td>\n",
       "      <td>mylittlepony</td>\n",
       "      <td>1.388534e+09</td>\n",
       "      <td>I don't think we'd get nearly as much fanficti...</td>\n",
       "      <td>1</td>\n",
       "    </tr>\n",
       "    <tr>\n",
       "      <th>1</th>\n",
       "      <td>Riddance</td>\n",
       "      <td>sex</td>\n",
       "      <td>1.388534e+09</td>\n",
       "      <td>Thanks. I made it up, that's how I got over my...</td>\n",
       "      <td>1</td>\n",
       "    </tr>\n",
       "    <tr>\n",
       "      <th>2</th>\n",
       "      <td>Secret_Wizard</td>\n",
       "      <td>DragonsDogma</td>\n",
       "      <td>1.388534e+09</td>\n",
       "      <td>Are you sure you aren't confusing Cyclops (the...</td>\n",
       "      <td>1</td>\n",
       "    </tr>\n",
       "    <tr>\n",
       "      <th>3</th>\n",
       "      <td>Penultimatum</td>\n",
       "      <td>malefashionadvice</td>\n",
       "      <td>1.388534e+09</td>\n",
       "      <td>dont do this to me bro</td>\n",
       "      <td>1</td>\n",
       "    </tr>\n",
       "    <tr>\n",
       "      <th>4</th>\n",
       "      <td>7-SE7EN-7</td>\n",
       "      <td>todayilearned</td>\n",
       "      <td>1.388534e+09</td>\n",
       "      <td>That's what we do when we can't find a mate</td>\n",
       "      <td>1</td>\n",
       "    </tr>\n",
       "    <tr>\n",
       "      <th>...</th>\n",
       "      <td>...</td>\n",
       "      <td>...</td>\n",
       "      <td>...</td>\n",
       "      <td>...</td>\n",
       "      <td>...</td>\n",
       "    </tr>\n",
       "    <tr>\n",
       "      <th>296037</th>\n",
       "      <td>Tashre</td>\n",
       "      <td>FiftyFifty</td>\n",
       "      <td>1.391213e+09</td>\n",
       "      <td>I don't want to play this game anymore :(</td>\n",
       "      <td>1</td>\n",
       "    </tr>\n",
       "    <tr>\n",
       "      <th>296038</th>\n",
       "      <td>someguyfromtheuk</td>\n",
       "      <td>AskReddit</td>\n",
       "      <td>1.391213e+09</td>\n",
       "      <td>Twist: I am your son and staged all of this to...</td>\n",
       "      <td>1</td>\n",
       "    </tr>\n",
       "    <tr>\n",
       "      <th>296039</th>\n",
       "      <td>spurscanada</td>\n",
       "      <td>HIMYM</td>\n",
       "      <td>1.391213e+09</td>\n",
       "      <td>I think a lot of people don't like her because...</td>\n",
       "      <td>1</td>\n",
       "    </tr>\n",
       "    <tr>\n",
       "      <th>296040</th>\n",
       "      <td>SPAZZEH</td>\n",
       "      <td>politics</td>\n",
       "      <td>1.391213e+09</td>\n",
       "      <td>And the Tea Party must be having strokes right...</td>\n",
       "      <td>1</td>\n",
       "    </tr>\n",
       "    <tr>\n",
       "      <th>296041</th>\n",
       "      <td>whslaxattack</td>\n",
       "      <td>WorldofTanks</td>\n",
       "      <td>1.391213e+09</td>\n",
       "      <td>It has a huge ROF boost, so it is pretty much ...</td>\n",
       "      <td>1</td>\n",
       "    </tr>\n",
       "  </tbody>\n",
       "</table>\n",
       "<p>276563 rows × 5 columns</p>\n",
       "</div>"
      ],
      "text/plain": [
       "                  author          subreddit   created_utc  \\\n",
       "0            Shamus_Aran       mylittlepony  1.388534e+09   \n",
       "1               Riddance                sex  1.388534e+09   \n",
       "2          Secret_Wizard       DragonsDogma  1.388534e+09   \n",
       "3           Penultimatum  malefashionadvice  1.388534e+09   \n",
       "4              7-SE7EN-7      todayilearned  1.388534e+09   \n",
       "...                  ...                ...           ...   \n",
       "296037            Tashre         FiftyFifty  1.391213e+09   \n",
       "296038  someguyfromtheuk          AskReddit  1.391213e+09   \n",
       "296039       spurscanada              HIMYM  1.391213e+09   \n",
       "296040           SPAZZEH           politics  1.391213e+09   \n",
       "296041      whslaxattack       WorldofTanks  1.391213e+09   \n",
       "\n",
       "                                                     body  count  \n",
       "0       I don't think we'd get nearly as much fanficti...      1  \n",
       "1       Thanks. I made it up, that's how I got over my...      1  \n",
       "2       Are you sure you aren't confusing Cyclops (the...      1  \n",
       "3                                  dont do this to me bro      1  \n",
       "4             That's what we do when we can't find a mate      1  \n",
       "...                                                   ...    ...  \n",
       "296037          I don't want to play this game anymore :(      1  \n",
       "296038  Twist: I am your son and staged all of this to...      1  \n",
       "296039  I think a lot of people don't like her because...      1  \n",
       "296040  And the Tea Party must be having strokes right...      1  \n",
       "296041  It has a huge ROF boost, so it is pretty much ...      1  \n",
       "\n",
       "[276563 rows x 5 columns]"
      ]
     },
     "execution_count": 45,
     "metadata": {},
     "output_type": "execute_result"
    }
   ],
   "source": [
    "train = train.drop(train[train.author == 'morbiusgreen'].sample(frac = 1 - perc).index)\n",
    "\n",
    "train"
   ]
  },
  {
   "cell_type": "code",
   "execution_count": 47,
   "id": "4605be7e",
   "metadata": {},
   "outputs": [
    {
     "data": {
      "text/html": [
       "<div>\n",
       "<style scoped>\n",
       "    .dataframe tbody tr th:only-of-type {\n",
       "        vertical-align: middle;\n",
       "    }\n",
       "\n",
       "    .dataframe tbody tr th {\n",
       "        vertical-align: top;\n",
       "    }\n",
       "\n",
       "    .dataframe thead th {\n",
       "        text-align: right;\n",
       "    }\n",
       "</style>\n",
       "<table border=\"1\" class=\"dataframe\">\n",
       "  <thead>\n",
       "    <tr style=\"text-align: right;\">\n",
       "      <th></th>\n",
       "      <th>author</th>\n",
       "      <th>subreddit</th>\n",
       "      <th>created_utc</th>\n",
       "      <th>body</th>\n",
       "      <th>count</th>\n",
       "    </tr>\n",
       "  </thead>\n",
       "  <tbody>\n",
       "    <tr>\n",
       "      <th>1488</th>\n",
       "      <td>morbiusgreen</td>\n",
       "      <td>ExploreFiction</td>\n",
       "      <td>1.388547e+09</td>\n",
       "      <td>\"Good...\"</td>\n",
       "      <td>1</td>\n",
       "    </tr>\n",
       "    <tr>\n",
       "      <th>2715</th>\n",
       "      <td>morbiusgreen</td>\n",
       "      <td>ExploreFiction</td>\n",
       "      <td>1.388561e+09</td>\n",
       "      <td>\"I was trained by the best. Your own daughter,...</td>\n",
       "      <td>1</td>\n",
       "    </tr>\n",
       "    <tr>\n",
       "      <th>5106</th>\n",
       "      <td>morbiusgreen</td>\n",
       "      <td>ExploreFiction</td>\n",
       "      <td>1.388601e+09</td>\n",
       "      <td>\"I am. We were looking for an ancient artifact...</td>\n",
       "      <td>1</td>\n",
       "    </tr>\n",
       "    <tr>\n",
       "      <th>5539</th>\n",
       "      <td>morbiusgreen</td>\n",
       "      <td>ExploreFiction</td>\n",
       "      <td>1.388604e+09</td>\n",
       "      <td>*He transported them back to the house.*\\n\\n\"W...</td>\n",
       "      <td>1</td>\n",
       "    </tr>\n",
       "    <tr>\n",
       "      <th>8174</th>\n",
       "      <td>morbiusgreen</td>\n",
       "      <td>ExploreFiction</td>\n",
       "      <td>1.388622e+09</td>\n",
       "      <td>\"Of course...\"</td>\n",
       "      <td>1</td>\n",
       "    </tr>\n",
       "    <tr>\n",
       "      <th>18359</th>\n",
       "      <td>morbiusgreen</td>\n",
       "      <td>ExploreFiction</td>\n",
       "      <td>1.388714e+09</td>\n",
       "      <td>*The Lycan waved his ass at her.*</td>\n",
       "      <td>1</td>\n",
       "    </tr>\n",
       "    <tr>\n",
       "      <th>19141</th>\n",
       "      <td>morbiusgreen</td>\n",
       "      <td>ExploreFiction</td>\n",
       "      <td>1.388718e+09</td>\n",
       "      <td>\"I will tell him.\"\\n\\n*Betania ran off. Benji ...</td>\n",
       "      <td>1</td>\n",
       "    </tr>\n",
       "    <tr>\n",
       "      <th>23766</th>\n",
       "      <td>morbiusgreen</td>\n",
       "      <td>ExploreFiction</td>\n",
       "      <td>1.388769e+09</td>\n",
       "      <td>*He did so.*</td>\n",
       "      <td>1</td>\n",
       "    </tr>\n",
       "    <tr>\n",
       "      <th>28345</th>\n",
       "      <td>morbiusgreen</td>\n",
       "      <td>ExploreFiction</td>\n",
       "      <td>1.388800e+09</td>\n",
       "      <td>*He buried his face in her nethers.*</td>\n",
       "      <td>1</td>\n",
       "    </tr>\n",
       "    <tr>\n",
       "      <th>30076</th>\n",
       "      <td>morbiusgreen</td>\n",
       "      <td>ExploreFiction</td>\n",
       "      <td>1.388811e+09</td>\n",
       "      <td>\"Ah! As hard and fast as you can!\"</td>\n",
       "      <td>1</td>\n",
       "    </tr>\n",
       "    <tr>\n",
       "      <th>36302</th>\n",
       "      <td>morbiusgreen</td>\n",
       "      <td>ExploreFiction</td>\n",
       "      <td>1.388874e+09</td>\n",
       "      <td>\"YES!\"</td>\n",
       "      <td>1</td>\n",
       "    </tr>\n",
       "    <tr>\n",
       "      <th>41002</th>\n",
       "      <td>morbiusgreen</td>\n",
       "      <td>ExploreFiction</td>\n",
       "      <td>1.388913e+09</td>\n",
       "      <td>\"You chose the cutest male form ever. What's y...</td>\n",
       "      <td>1</td>\n",
       "    </tr>\n",
       "    <tr>\n",
       "      <th>47079</th>\n",
       "      <td>morbiusgreen</td>\n",
       "      <td>ExploreFiction</td>\n",
       "      <td>1.388968e+09</td>\n",
       "      <td>*Soon they came to a campsite.*</td>\n",
       "      <td>1</td>\n",
       "    </tr>\n",
       "    <tr>\n",
       "      <th>66618</th>\n",
       "      <td>morbiusgreen</td>\n",
       "      <td>ExploreFiction</td>\n",
       "      <td>1.389137e+09</td>\n",
       "      <td>\"Taser like eh?\"</td>\n",
       "      <td>1</td>\n",
       "    </tr>\n",
       "    <tr>\n",
       "      <th>66807</th>\n",
       "      <td>morbiusgreen</td>\n",
       "      <td>ExploreFiction</td>\n",
       "      <td>1.389138e+09</td>\n",
       "      <td>\"N-nothing...\"</td>\n",
       "      <td>1</td>\n",
       "    </tr>\n",
       "    <tr>\n",
       "      <th>66923</th>\n",
       "      <td>morbiusgreen</td>\n",
       "      <td>ExploreFiction</td>\n",
       "      <td>1.389139e+09</td>\n",
       "      <td>*She got on all fours.*</td>\n",
       "      <td>1</td>\n",
       "    </tr>\n",
       "    <tr>\n",
       "      <th>67495</th>\n",
       "      <td>morbiusgreen</td>\n",
       "      <td>ExploreFiction</td>\n",
       "      <td>1.389142e+09</td>\n",
       "      <td>\"We are. It is delicious miss,\" *Yuuta said wi...</td>\n",
       "      <td>1</td>\n",
       "    </tr>\n",
       "    <tr>\n",
       "      <th>67909</th>\n",
       "      <td>morbiusgreen</td>\n",
       "      <td>ExploreFiction</td>\n",
       "      <td>1.389145e+09</td>\n",
       "      <td>*Jake suddenly grew happy.*</td>\n",
       "      <td>1</td>\n",
       "    </tr>\n",
       "    <tr>\n",
       "      <th>68454</th>\n",
       "      <td>morbiusgreen</td>\n",
       "      <td>ExploreFiction</td>\n",
       "      <td>1.389147e+09</td>\n",
       "      <td>\"Sure.\"</td>\n",
       "      <td>1</td>\n",
       "    </tr>\n",
       "    <tr>\n",
       "      <th>68571</th>\n",
       "      <td>morbiusgreen</td>\n",
       "      <td>ExploreFiction</td>\n",
       "      <td>1.389148e+09</td>\n",
       "      <td>*He fucked her.*</td>\n",
       "      <td>1</td>\n",
       "    </tr>\n",
       "    <tr>\n",
       "      <th>70629</th>\n",
       "      <td>morbiusgreen</td>\n",
       "      <td>ExploreFiction</td>\n",
       "      <td>1.389164e+09</td>\n",
       "      <td>*She walked beside him and put her arm around ...</td>\n",
       "      <td>1</td>\n",
       "    </tr>\n",
       "    <tr>\n",
       "      <th>90321</th>\n",
       "      <td>morbiusgreen</td>\n",
       "      <td>ExploreFiction</td>\n",
       "      <td>1.389336e+09</td>\n",
       "      <td>*Night passed. Soon The sun began to rise.*</td>\n",
       "      <td>1</td>\n",
       "    </tr>\n",
       "    <tr>\n",
       "      <th>94915</th>\n",
       "      <td>morbiusgreen</td>\n",
       "      <td>RatedRFiction</td>\n",
       "      <td>1.389385e+09</td>\n",
       "      <td>\"Just head down the street then at the Eich La...</td>\n",
       "      <td>1</td>\n",
       "    </tr>\n",
       "    <tr>\n",
       "      <th>102759</th>\n",
       "      <td>morbiusgreen</td>\n",
       "      <td>ExploreFiction</td>\n",
       "      <td>1.389462e+09</td>\n",
       "      <td>\"Good girl!\"</td>\n",
       "      <td>1</td>\n",
       "    </tr>\n",
       "    <tr>\n",
       "      <th>102810</th>\n",
       "      <td>morbiusgreen</td>\n",
       "      <td>ExploreFiction</td>\n",
       "      <td>1.389462e+09</td>\n",
       "      <td>*She screamed in mock terror.*</td>\n",
       "      <td>1</td>\n",
       "    </tr>\n",
       "    <tr>\n",
       "      <th>103329</th>\n",
       "      <td>morbiusgreen</td>\n",
       "      <td>ExploreFiction</td>\n",
       "      <td>1.389465e+09</td>\n",
       "      <td>\"It will return the dragon's intellect.\"</td>\n",
       "      <td>1</td>\n",
       "    </tr>\n",
       "    <tr>\n",
       "      <th>103650</th>\n",
       "      <td>morbiusgreen</td>\n",
       "      <td>ExploreFiction</td>\n",
       "      <td>1.389467e+09</td>\n",
       "      <td>\"Fuck yes...\"</td>\n",
       "      <td>1</td>\n",
       "    </tr>\n",
       "    <tr>\n",
       "      <th>107798</th>\n",
       "      <td>morbiusgreen</td>\n",
       "      <td>ExploreFiction</td>\n",
       "      <td>1.389496e+09</td>\n",
       "      <td>\"Sure!\"</td>\n",
       "      <td>1</td>\n",
       "    </tr>\n",
       "    <tr>\n",
       "      <th>108162</th>\n",
       "      <td>morbiusgreen</td>\n",
       "      <td>RatedRFiction</td>\n",
       "      <td>1.389498e+09</td>\n",
       "      <td>\"My feet are lonely!\"</td>\n",
       "      <td>1</td>\n",
       "    </tr>\n",
       "    <tr>\n",
       "      <th>112820</th>\n",
       "      <td>morbiusgreen</td>\n",
       "      <td>ExploreFiction</td>\n",
       "      <td>1.389552e+09</td>\n",
       "      <td>\"I was told you have many other forms. Can you...</td>\n",
       "      <td>1</td>\n",
       "    </tr>\n",
       "    <tr>\n",
       "      <th>115128</th>\n",
       "      <td>morbiusgreen</td>\n",
       "      <td>ExploreFiction</td>\n",
       "      <td>1.389566e+09</td>\n",
       "      <td>\"Mmm...ladies I can't wait to marry you.\"</td>\n",
       "      <td>1</td>\n",
       "    </tr>\n",
       "    <tr>\n",
       "      <th>116435</th>\n",
       "      <td>morbiusgreen</td>\n",
       "      <td>RatedRFiction</td>\n",
       "      <td>1.389576e+09</td>\n",
       "      <td>\"Oh...\"</td>\n",
       "      <td>1</td>\n",
       "    </tr>\n",
       "    <tr>\n",
       "      <th>122906</th>\n",
       "      <td>morbiusgreen</td>\n",
       "      <td>RatedRFiction</td>\n",
       "      <td>1.389643e+09</td>\n",
       "      <td>*She slept on, tired form the day's events.*</td>\n",
       "      <td>1</td>\n",
       "    </tr>\n",
       "    <tr>\n",
       "      <th>125218</th>\n",
       "      <td>morbiusgreen</td>\n",
       "      <td>RatedRFiction</td>\n",
       "      <td>1.389659e+09</td>\n",
       "      <td>*Shrugging, they let him in. Mythological crea...</td>\n",
       "      <td>1</td>\n",
       "    </tr>\n",
       "    <tr>\n",
       "      <th>127115</th>\n",
       "      <td>morbiusgreen</td>\n",
       "      <td>RatedRFiction</td>\n",
       "      <td>1.389672e+09</td>\n",
       "      <td>\"Go ahead.\"</td>\n",
       "      <td>1</td>\n",
       "    </tr>\n",
       "    <tr>\n",
       "      <th>135026</th>\n",
       "      <td>morbiusgreen</td>\n",
       "      <td>ExploreFiction</td>\n",
       "      <td>1.389746e+09</td>\n",
       "      <td>*Ayres leaned forward.*\\n\\n\"Imagining our deat...</td>\n",
       "      <td>1</td>\n",
       "    </tr>\n",
       "    <tr>\n",
       "      <th>135045</th>\n",
       "      <td>morbiusgreen</td>\n",
       "      <td>ExploreFiction</td>\n",
       "      <td>1.389747e+09</td>\n",
       "      <td>*She pulled Jayden and Sonya out, pushing Neys...</td>\n",
       "      <td>1</td>\n",
       "    </tr>\n",
       "    <tr>\n",
       "      <th>147904</th>\n",
       "      <td>morbiusgreen</td>\n",
       "      <td>ExploreFiction</td>\n",
       "      <td>1.389850e+09</td>\n",
       "      <td>\"Makes sense.\"\\n\\n\"Hu...man...?\" *the native R...</td>\n",
       "      <td>1</td>\n",
       "    </tr>\n",
       "    <tr>\n",
       "      <th>154464</th>\n",
       "      <td>morbiusgreen</td>\n",
       "      <td>ExploreFiction</td>\n",
       "      <td>1.389914e+09</td>\n",
       "      <td>\"It was only that. The notice claimed that eve...</td>\n",
       "      <td>1</td>\n",
       "    </tr>\n",
       "    <tr>\n",
       "      <th>169830</th>\n",
       "      <td>morbiusgreen</td>\n",
       "      <td>ExploreFiction</td>\n",
       "      <td>1.390066e+09</td>\n",
       "      <td>*She put her fingers to her mouth and whistled...</td>\n",
       "      <td>1</td>\n",
       "    </tr>\n",
       "    <tr>\n",
       "      <th>170278</th>\n",
       "      <td>morbiusgreen</td>\n",
       "      <td>ExploreFiction</td>\n",
       "      <td>1.390070e+09</td>\n",
       "      <td>\"Really?\"</td>\n",
       "      <td>1</td>\n",
       "    </tr>\n",
       "    <tr>\n",
       "      <th>171548</th>\n",
       "      <td>morbiusgreen</td>\n",
       "      <td>RatedRFiction</td>\n",
       "      <td>1.390080e+09</td>\n",
       "      <td>*He erupted like a geyser.*</td>\n",
       "      <td>1</td>\n",
       "    </tr>\n",
       "    <tr>\n",
       "      <th>173539</th>\n",
       "      <td>morbiusgreen</td>\n",
       "      <td>RatedRFiction</td>\n",
       "      <td>1.390096e+09</td>\n",
       "      <td>*She melted into his kiss.*\\n\\n*****\\n\\n\"If yo...</td>\n",
       "      <td>1</td>\n",
       "    </tr>\n",
       "    <tr>\n",
       "      <th>174520</th>\n",
       "      <td>morbiusgreen</td>\n",
       "      <td>ExploreFiction</td>\n",
       "      <td>1.390104e+09</td>\n",
       "      <td>\"I will be young. Act as if you don't know me....</td>\n",
       "      <td>1</td>\n",
       "    </tr>\n",
       "    <tr>\n",
       "      <th>179896</th>\n",
       "      <td>morbiusgreen</td>\n",
       "      <td>ExploreFiction</td>\n",
       "      <td>1.390167e+09</td>\n",
       "      <td>\"You summoned me my lady?\" *he asked with a wi...</td>\n",
       "      <td>1</td>\n",
       "    </tr>\n",
       "    <tr>\n",
       "      <th>182276</th>\n",
       "      <td>morbiusgreen</td>\n",
       "      <td>ExploreFiction</td>\n",
       "      <td>1.390183e+09</td>\n",
       "      <td>*After eating he smiled.*</td>\n",
       "      <td>1</td>\n",
       "    </tr>\n",
       "    <tr>\n",
       "      <th>191397</th>\n",
       "      <td>morbiusgreen</td>\n",
       "      <td>ExploreFiction</td>\n",
       "      <td>1.390266e+09</td>\n",
       "      <td>*She was mute with terror.*</td>\n",
       "      <td>1</td>\n",
       "    </tr>\n",
       "    <tr>\n",
       "      <th>193591</th>\n",
       "      <td>morbiusgreen</td>\n",
       "      <td>ExploreFiction</td>\n",
       "      <td>1.390280e+09</td>\n",
       "      <td>*A portal opened. Jake leaped through it. It c...</td>\n",
       "      <td>1</td>\n",
       "    </tr>\n",
       "    <tr>\n",
       "      <th>206151</th>\n",
       "      <td>morbiusgreen</td>\n",
       "      <td>ExploreFiction</td>\n",
       "      <td>1.390402e+09</td>\n",
       "      <td>\"Oh?\"</td>\n",
       "      <td>1</td>\n",
       "    </tr>\n",
       "    <tr>\n",
       "      <th>234615</th>\n",
       "      <td>morbiusgreen</td>\n",
       "      <td>ExploreFiction</td>\n",
       "      <td>1.390664e+09</td>\n",
       "      <td>*She surreptitiously looked for the least obvi...</td>\n",
       "      <td>1</td>\n",
       "    </tr>\n",
       "    <tr>\n",
       "      <th>249093</th>\n",
       "      <td>morbiusgreen</td>\n",
       "      <td>ExploreFiction</td>\n",
       "      <td>1.390802e+09</td>\n",
       "      <td>\"Fire!\"\\n\\n*Lasers began to fire on the ship a...</td>\n",
       "      <td>1</td>\n",
       "    </tr>\n",
       "    <tr>\n",
       "      <th>255955</th>\n",
       "      <td>morbiusgreen</td>\n",
       "      <td>RatedRFiction</td>\n",
       "      <td>1.390866e+09</td>\n",
       "      <td>\"Oh yessss...\"</td>\n",
       "      <td>1</td>\n",
       "    </tr>\n",
       "    <tr>\n",
       "      <th>257003</th>\n",
       "      <td>morbiusgreen</td>\n",
       "      <td>ExploreFiction</td>\n",
       "      <td>1.390874e+09</td>\n",
       "      <td>*It seemed to melt and the large alien vessel ...</td>\n",
       "      <td>1</td>\n",
       "    </tr>\n",
       "    <tr>\n",
       "      <th>294922</th>\n",
       "      <td>morbiusgreen</td>\n",
       "      <td>RatedRFiction</td>\n",
       "      <td>1.391205e+09</td>\n",
       "      <td>\"Babe...\"</td>\n",
       "      <td>1</td>\n",
       "    </tr>\n",
       "    <tr>\n",
       "      <th>295799</th>\n",
       "      <td>morbiusgreen</td>\n",
       "      <td>ExploreFiction</td>\n",
       "      <td>1.391211e+09</td>\n",
       "      <td>\"Mm...mostly veggies and fruits.\"</td>\n",
       "      <td>1</td>\n",
       "    </tr>\n",
       "  </tbody>\n",
       "</table>\n",
       "</div>"
      ],
      "text/plain": [
       "              author       subreddit   created_utc  \\\n",
       "1488    morbiusgreen  ExploreFiction  1.388547e+09   \n",
       "2715    morbiusgreen  ExploreFiction  1.388561e+09   \n",
       "5106    morbiusgreen  ExploreFiction  1.388601e+09   \n",
       "5539    morbiusgreen  ExploreFiction  1.388604e+09   \n",
       "8174    morbiusgreen  ExploreFiction  1.388622e+09   \n",
       "18359   morbiusgreen  ExploreFiction  1.388714e+09   \n",
       "19141   morbiusgreen  ExploreFiction  1.388718e+09   \n",
       "23766   morbiusgreen  ExploreFiction  1.388769e+09   \n",
       "28345   morbiusgreen  ExploreFiction  1.388800e+09   \n",
       "30076   morbiusgreen  ExploreFiction  1.388811e+09   \n",
       "36302   morbiusgreen  ExploreFiction  1.388874e+09   \n",
       "41002   morbiusgreen  ExploreFiction  1.388913e+09   \n",
       "47079   morbiusgreen  ExploreFiction  1.388968e+09   \n",
       "66618   morbiusgreen  ExploreFiction  1.389137e+09   \n",
       "66807   morbiusgreen  ExploreFiction  1.389138e+09   \n",
       "66923   morbiusgreen  ExploreFiction  1.389139e+09   \n",
       "67495   morbiusgreen  ExploreFiction  1.389142e+09   \n",
       "67909   morbiusgreen  ExploreFiction  1.389145e+09   \n",
       "68454   morbiusgreen  ExploreFiction  1.389147e+09   \n",
       "68571   morbiusgreen  ExploreFiction  1.389148e+09   \n",
       "70629   morbiusgreen  ExploreFiction  1.389164e+09   \n",
       "90321   morbiusgreen  ExploreFiction  1.389336e+09   \n",
       "94915   morbiusgreen   RatedRFiction  1.389385e+09   \n",
       "102759  morbiusgreen  ExploreFiction  1.389462e+09   \n",
       "102810  morbiusgreen  ExploreFiction  1.389462e+09   \n",
       "103329  morbiusgreen  ExploreFiction  1.389465e+09   \n",
       "103650  morbiusgreen  ExploreFiction  1.389467e+09   \n",
       "107798  morbiusgreen  ExploreFiction  1.389496e+09   \n",
       "108162  morbiusgreen   RatedRFiction  1.389498e+09   \n",
       "112820  morbiusgreen  ExploreFiction  1.389552e+09   \n",
       "115128  morbiusgreen  ExploreFiction  1.389566e+09   \n",
       "116435  morbiusgreen   RatedRFiction  1.389576e+09   \n",
       "122906  morbiusgreen   RatedRFiction  1.389643e+09   \n",
       "125218  morbiusgreen   RatedRFiction  1.389659e+09   \n",
       "127115  morbiusgreen   RatedRFiction  1.389672e+09   \n",
       "135026  morbiusgreen  ExploreFiction  1.389746e+09   \n",
       "135045  morbiusgreen  ExploreFiction  1.389747e+09   \n",
       "147904  morbiusgreen  ExploreFiction  1.389850e+09   \n",
       "154464  morbiusgreen  ExploreFiction  1.389914e+09   \n",
       "169830  morbiusgreen  ExploreFiction  1.390066e+09   \n",
       "170278  morbiusgreen  ExploreFiction  1.390070e+09   \n",
       "171548  morbiusgreen   RatedRFiction  1.390080e+09   \n",
       "173539  morbiusgreen   RatedRFiction  1.390096e+09   \n",
       "174520  morbiusgreen  ExploreFiction  1.390104e+09   \n",
       "179896  morbiusgreen  ExploreFiction  1.390167e+09   \n",
       "182276  morbiusgreen  ExploreFiction  1.390183e+09   \n",
       "191397  morbiusgreen  ExploreFiction  1.390266e+09   \n",
       "193591  morbiusgreen  ExploreFiction  1.390280e+09   \n",
       "206151  morbiusgreen  ExploreFiction  1.390402e+09   \n",
       "234615  morbiusgreen  ExploreFiction  1.390664e+09   \n",
       "249093  morbiusgreen  ExploreFiction  1.390802e+09   \n",
       "255955  morbiusgreen   RatedRFiction  1.390866e+09   \n",
       "257003  morbiusgreen  ExploreFiction  1.390874e+09   \n",
       "294922  morbiusgreen   RatedRFiction  1.391205e+09   \n",
       "295799  morbiusgreen  ExploreFiction  1.391211e+09   \n",
       "\n",
       "                                                     body  count  \n",
       "1488                                            \"Good...\"      1  \n",
       "2715    \"I was trained by the best. Your own daughter,...      1  \n",
       "5106    \"I am. We were looking for an ancient artifact...      1  \n",
       "5539    *He transported them back to the house.*\\n\\n\"W...      1  \n",
       "8174                                       \"Of course...\"      1  \n",
       "18359                   *The Lycan waved his ass at her.*      1  \n",
       "19141   \"I will tell him.\"\\n\\n*Betania ran off. Benji ...      1  \n",
       "23766                                        *He did so.*      1  \n",
       "28345                *He buried his face in her nethers.*      1  \n",
       "30076                  \"Ah! As hard and fast as you can!\"      1  \n",
       "36302                                              \"YES!\"      1  \n",
       "41002   \"You chose the cutest male form ever. What's y...      1  \n",
       "47079                     *Soon they came to a campsite.*      1  \n",
       "66618                                    \"Taser like eh?\"      1  \n",
       "66807                                      \"N-nothing...\"      1  \n",
       "66923                             *She got on all fours.*      1  \n",
       "67495   \"We are. It is delicious miss,\" *Yuuta said wi...      1  \n",
       "67909                         *Jake suddenly grew happy.*      1  \n",
       "68454                                             \"Sure.\"      1  \n",
       "68571                                    *He fucked her.*      1  \n",
       "70629   *She walked beside him and put her arm around ...      1  \n",
       "90321         *Night passed. Soon The sun began to rise.*      1  \n",
       "94915   \"Just head down the street then at the Eich La...      1  \n",
       "102759                                       \"Good girl!\"      1  \n",
       "102810                     *She screamed in mock terror.*      1  \n",
       "103329           \"It will return the dragon's intellect.\"      1  \n",
       "103650                                      \"Fuck yes...\"      1  \n",
       "107798                                            \"Sure!\"      1  \n",
       "108162                              \"My feet are lonely!\"      1  \n",
       "112820  \"I was told you have many other forms. Can you...      1  \n",
       "115128          \"Mmm...ladies I can't wait to marry you.\"      1  \n",
       "116435                                            \"Oh...\"      1  \n",
       "122906       *She slept on, tired form the day's events.*      1  \n",
       "125218  *Shrugging, they let him in. Mythological crea...      1  \n",
       "127115                                        \"Go ahead.\"      1  \n",
       "135026  *Ayres leaned forward.*\\n\\n\"Imagining our deat...      1  \n",
       "135045  *She pulled Jayden and Sonya out, pushing Neys...      1  \n",
       "147904  \"Makes sense.\"\\n\\n\"Hu...man...?\" *the native R...      1  \n",
       "154464  \"It was only that. The notice claimed that eve...      1  \n",
       "169830  *She put her fingers to her mouth and whistled...      1  \n",
       "170278                                          \"Really?\"      1  \n",
       "171548                        *He erupted like a geyser.*      1  \n",
       "173539  *She melted into his kiss.*\\n\\n*****\\n\\n\"If yo...      1  \n",
       "174520  \"I will be young. Act as if you don't know me....      1  \n",
       "179896  \"You summoned me my lady?\" *he asked with a wi...      1  \n",
       "182276                          *After eating he smiled.*      1  \n",
       "191397                        *She was mute with terror.*      1  \n",
       "193591  *A portal opened. Jake leaped through it. It c...      1  \n",
       "206151                                              \"Oh?\"      1  \n",
       "234615  *She surreptitiously looked for the least obvi...      1  \n",
       "249093  \"Fire!\"\\n\\n*Lasers began to fire on the ship a...      1  \n",
       "255955                                     \"Oh yessss...\"      1  \n",
       "257003  *It seemed to melt and the large alien vessel ...      1  \n",
       "294922                                          \"Babe...\"      1  \n",
       "295799                  \"Mm...mostly veggies and fruits.\"      1  "
      ]
     },
     "execution_count": 47,
     "metadata": {},
     "output_type": "execute_result"
    }
   ],
   "source": [
    "train[train.author == 'morbiusgreen']"
   ]
  },
  {
   "cell_type": "markdown",
   "id": "028fb90b",
   "metadata": {
    "papermill": {
     "duration": null,
     "end_time": null,
     "exception": null,
     "start_time": null,
     "status": "pending"
    },
    "tags": []
   },
   "source": [
    "# Feature Extraction"
   ]
  },
  {
   "cell_type": "markdown",
   "id": "367f2701",
   "metadata": {
    "papermill": {
     "duration": null,
     "end_time": null,
     "exception": null,
     "start_time": null,
     "status": "pending"
    },
    "tags": []
   },
   "source": [
    "## Reddit subforum"
   ]
  },
  {
   "cell_type": "markdown",
   "id": "80aee19a",
   "metadata": {
    "papermill": {
     "duration": null,
     "end_time": null,
     "exception": null,
     "start_time": null,
     "status": "pending"
    },
    "tags": []
   },
   "source": [
    "Mapping each subreddit to a numerical value"
   ]
  },
  {
   "cell_type": "code",
   "execution_count": 48,
   "id": "1c0a6479",
   "metadata": {
    "papermill": {
     "duration": null,
     "end_time": null,
     "exception": null,
     "start_time": null,
     "status": "pending"
    },
    "tags": []
   },
   "outputs": [
    {
     "data": {
      "text/plain": [
       "mylittlepony            0\n",
       "sex                     1\n",
       "DragonsDogma            2\n",
       "malefashionadvice       3\n",
       "todayilearned           4\n",
       "                     ... \n",
       "palegirls            3462\n",
       "onions               3463\n",
       "mumfordandsons       3464\n",
       "infertility          3465\n",
       "HangoutFest          3466\n",
       "Length: 3467, dtype: int32"
      ]
     },
     "execution_count": 48,
     "metadata": {},
     "output_type": "execute_result"
    }
   ],
   "source": [
    "subreddits = train.subreddit.unique()\n",
    "subreddits_map = pd.Series(index=subreddits, data=arange(subreddits.shape[0]))\n",
    "\n",
    "subreddits_map"
   ]
  },
  {
   "cell_type": "code",
   "execution_count": 49,
   "id": "9230efac",
   "metadata": {
    "papermill": {
     "duration": null,
     "end_time": null,
     "exception": null,
     "start_time": null,
     "status": "pending"
    },
    "tags": []
   },
   "outputs": [
    {
     "data": {
      "text/plain": [
       "<1x3467 sparse matrix of type '<class 'numpy.float64'>'\n",
       "\twith 1 stored elements in Compressed Sparse Row format>"
      ]
     },
     "execution_count": 49,
     "metadata": {},
     "output_type": "execute_result"
    }
   ],
   "source": [
    "#One hot encoding for the subreddit\n",
    "def extract_features(group):\n",
    "    group_subreddits = group['subreddit']\n",
    "    group_subreddits = group_subreddits[group_subreddits.isin(subreddits_map.index)].values\n",
    "    idxs = subreddits_map.loc[group_subreddits].values\n",
    "    v = sparse.dok_matrix((1, subreddits.shape[0]))\n",
    "    for idx in idxs:\n",
    "        if not np.isnan(idx):\n",
    "            v[0, idx] = 1\n",
    "    return v.tocsr()\n",
    "\n",
    "\n",
    "extract_features(train[train.author=='RedThunder90'])"
   ]
  },
  {
   "cell_type": "markdown",
   "id": "e0b03a2a",
   "metadata": {
    "papermill": {
     "duration": null,
     "end_time": null,
     "exception": null,
     "start_time": null,
     "status": "pending"
    },
    "tags": []
   },
   "source": [
    "Inserting subreddit information in a dictionary, then used to build a matrix X of One-hot-encoded subreddit feature, that will be substituting the subreddit column in the original matrix with multiple, categorical columns in the final design matrix."
   ]
  },
  {
   "cell_type": "code",
   "execution_count": 50,
   "id": "d196961f",
   "metadata": {
    "papermill": {
     "duration": null,
     "end_time": null,
     "exception": null,
     "start_time": null,
     "status": "pending"
    },
    "tags": []
   },
   "outputs": [
    {
     "data": {
      "text/plain": [
       "{'--redbeard--': <1x3467 sparse matrix of type '<class 'numpy.float64'>'\n",
       " \twith 6 stored elements in Compressed Sparse Row format>,\n",
       " '-Allaina-': <1x3467 sparse matrix of type '<class 'numpy.float64'>'\n",
       " \twith 2 stored elements in Compressed Sparse Row format>,\n",
       " '-AllonsyAlonso': <1x3467 sparse matrix of type '<class 'numpy.float64'>'\n",
       " \twith 9 stored elements in Compressed Sparse Row format>,\n",
       " '-Beth-': <1x3467 sparse matrix of type '<class 'numpy.float64'>'\n",
       " \twith 3 stored elements in Compressed Sparse Row format>,\n",
       " '-Greeny-': <1x3467 sparse matrix of type '<class 'numpy.float64'>'\n",
       " \twith 4 stored elements in Compressed Sparse Row format>,\n",
       " '-JaneDoe-': <1x3467 sparse matrix of type '<class 'numpy.float64'>'\n",
       " \twith 2 stored elements in Compressed Sparse Row format>,\n",
       " '-LMFAO-': <1x3467 sparse matrix of type '<class 'numpy.float64'>'\n",
       " \twith 3 stored elements in Compressed Sparse Row format>,\n",
       " '-MM-': <1x3467 sparse matrix of type '<class 'numpy.float64'>'\n",
       " \twith 8 stored elements in Compressed Sparse Row format>,\n",
       " '-Master-Builder-': <1x3467 sparse matrix of type '<class 'numpy.float64'>'\n",
       " \twith 9 stored elements in Compressed Sparse Row format>,\n",
       " '-Poe-': <1x3467 sparse matrix of type '<class 'numpy.float64'>'\n",
       " \twith 29 stored elements in Compressed Sparse Row format>,\n",
       " '-Riko': <1x3467 sparse matrix of type '<class 'numpy.float64'>'\n",
       " \twith 19 stored elements in Compressed Sparse Row format>,\n",
       " '-Sikng': <1x3467 sparse matrix of type '<class 'numpy.float64'>'\n",
       " \twith 2 stored elements in Compressed Sparse Row format>,\n",
       " '-StevieJanowski-': <1x3467 sparse matrix of type '<class 'numpy.float64'>'\n",
       " \twith 3 stored elements in Compressed Sparse Row format>,\n",
       " '-Terriermon-': <1x3467 sparse matrix of type '<class 'numpy.float64'>'\n",
       " \twith 6 stored elements in Compressed Sparse Row format>,\n",
       " '-ThoR-': <1x3467 sparse matrix of type '<class 'numpy.float64'>'\n",
       " \twith 4 stored elements in Compressed Sparse Row format>,\n",
       " '-Tommy': <1x3467 sparse matrix of type '<class 'numpy.float64'>'\n",
       " \twith 23 stored elements in Compressed Sparse Row format>,\n",
       " '-XIII-': <1x3467 sparse matrix of type '<class 'numpy.float64'>'\n",
       " \twith 19 stored elements in Compressed Sparse Row format>,\n",
       " '-amnesia-': <1x3467 sparse matrix of type '<class 'numpy.float64'>'\n",
       " \twith 6 stored elements in Compressed Sparse Row format>,\n",
       " '-blahblah': <1x3467 sparse matrix of type '<class 'numpy.float64'>'\n",
       " \twith 1 stored elements in Compressed Sparse Row format>,\n",
       " '-del2phi': <1x3467 sparse matrix of type '<class 'numpy.float64'>'\n",
       " \twith 1 stored elements in Compressed Sparse Row format>,\n",
       " '-momoyome-': <1x3467 sparse matrix of type '<class 'numpy.float64'>'\n",
       " \twith 13 stored elements in Compressed Sparse Row format>,\n",
       " '00101011': <1x3467 sparse matrix of type '<class 'numpy.float64'>'\n",
       " \twith 7 stored elements in Compressed Sparse Row format>,\n",
       " '0011110000110011': <1x3467 sparse matrix of type '<class 'numpy.float64'>'\n",
       " \twith 54 stored elements in Compressed Sparse Row format>,\n",
       " '01100001011101100110': <1x3467 sparse matrix of type '<class 'numpy.float64'>'\n",
       " \twith 10 stored elements in Compressed Sparse Row format>,\n",
       " '021fluff5': <1x3467 sparse matrix of type '<class 'numpy.float64'>'\n",
       " \twith 54 stored elements in Compressed Sparse Row format>,\n",
       " '0252': <1x3467 sparse matrix of type '<class 'numpy.float64'>'\n",
       " \twith 4 stored elements in Compressed Sparse Row format>,\n",
       " '0kazak1': <1x3467 sparse matrix of type '<class 'numpy.float64'>'\n",
       " \twith 7 stored elements in Compressed Sparse Row format>,\n",
       " '0utshined': <1x3467 sparse matrix of type '<class 'numpy.float64'>'\n",
       " \twith 5 stored elements in Compressed Sparse Row format>,\n",
       " '0vary': <1x3467 sparse matrix of type '<class 'numpy.float64'>'\n",
       " \twith 2 stored elements in Compressed Sparse Row format>,\n",
       " '0x38E': <1x3467 sparse matrix of type '<class 'numpy.float64'>'\n",
       " \twith 1 stored elements in Compressed Sparse Row format>,\n",
       " '0x_': <1x3467 sparse matrix of type '<class 'numpy.float64'>'\n",
       " \twith 43 stored elements in Compressed Sparse Row format>,\n",
       " '0xc000000f': <1x3467 sparse matrix of type '<class 'numpy.float64'>'\n",
       " \twith 16 stored elements in Compressed Sparse Row format>,\n",
       " '1011001101': <1x3467 sparse matrix of type '<class 'numpy.float64'>'\n",
       " \twith 5 stored elements in Compressed Sparse Row format>,\n",
       " '1017GucciMane': <1x3467 sparse matrix of type '<class 'numpy.float64'>'\n",
       " \twith 4 stored elements in Compressed Sparse Row format>,\n",
       " '10thMuse': <1x3467 sparse matrix of type '<class 'numpy.float64'>'\n",
       " \twith 6 stored elements in Compressed Sparse Row format>,\n",
       " '1127243': <1x3467 sparse matrix of type '<class 'numpy.float64'>'\n",
       " \twith 2 stored elements in Compressed Sparse Row format>,\n",
       " '115MRD': <1x3467 sparse matrix of type '<class 'numpy.float64'>'\n",
       " \twith 12 stored elements in Compressed Sparse Row format>,\n",
       " '11trobo': <1x3467 sparse matrix of type '<class 'numpy.float64'>'\n",
       " \twith 11 stored elements in Compressed Sparse Row format>,\n",
       " '120114': <1x3467 sparse matrix of type '<class 'numpy.float64'>'\n",
       " \twith 1 stored elements in Compressed Sparse Row format>,\n",
       " '12124': <1x3467 sparse matrix of type '<class 'numpy.float64'>'\n",
       " \twith 8 stored elements in Compressed Sparse Row format>,\n",
       " '123_Meatsauce': <1x3467 sparse matrix of type '<class 'numpy.float64'>'\n",
       " \twith 15 stored elements in Compressed Sparse Row format>,\n",
       " '1337Chicken': <1x3467 sparse matrix of type '<class 'numpy.float64'>'\n",
       " \twith 1 stored elements in Compressed Sparse Row format>,\n",
       " '1337and0': <1x3467 sparse matrix of type '<class 'numpy.float64'>'\n",
       " \twith 5 stored elements in Compressed Sparse Row format>,\n",
       " '13853211': <1x3467 sparse matrix of type '<class 'numpy.float64'>'\n",
       " \twith 11 stored elements in Compressed Sparse Row format>,\n",
       " '13thmurder': <1x3467 sparse matrix of type '<class 'numpy.float64'>'\n",
       " \twith 30 stored elements in Compressed Sparse Row format>,\n",
       " '1497-793': <1x3467 sparse matrix of type '<class 'numpy.float64'>'\n",
       " \twith 7 stored elements in Compressed Sparse Row format>,\n",
       " '14h0urs': <1x3467 sparse matrix of type '<class 'numpy.float64'>'\n",
       " \twith 23 stored elements in Compressed Sparse Row format>,\n",
       " '150c_vapour': <1x3467 sparse matrix of type '<class 'numpy.float64'>'\n",
       " \twith 3 stored elements in Compressed Sparse Row format>,\n",
       " '17bicycles': <1x3467 sparse matrix of type '<class 'numpy.float64'>'\n",
       " \twith 3 stored elements in Compressed Sparse Row format>,\n",
       " '17warwick': <1x3467 sparse matrix of type '<class 'numpy.float64'>'\n",
       " \twith 2 stored elements in Compressed Sparse Row format>,\n",
       " '18-24-61-B-17-17-4': <1x3467 sparse matrix of type '<class 'numpy.float64'>'\n",
       " \twith 15 stored elements in Compressed Sparse Row format>,\n",
       " '197mmCannon': <1x3467 sparse matrix of type '<class 'numpy.float64'>'\n",
       " \twith 8 stored elements in Compressed Sparse Row format>,\n",
       " '1989hmmm': <1x3467 sparse matrix of type '<class 'numpy.float64'>'\n",
       " \twith 6 stored elements in Compressed Sparse Row format>,\n",
       " '19thconservatory': <1x3467 sparse matrix of type '<class 'numpy.float64'>'\n",
       " \twith 3 stored elements in Compressed Sparse Row format>,\n",
       " '1EyedPokerface': <1x3467 sparse matrix of type '<class 'numpy.float64'>'\n",
       " \twith 6 stored elements in Compressed Sparse Row format>,\n",
       " '1MintBerryCrunch1': <1x3467 sparse matrix of type '<class 'numpy.float64'>'\n",
       " \twith 1 stored elements in Compressed Sparse Row format>,\n",
       " '1__________': <1x3467 sparse matrix of type '<class 'numpy.float64'>'\n",
       " \twith 3 stored elements in Compressed Sparse Row format>,\n",
       " '1corvidae1': <1x3467 sparse matrix of type '<class 'numpy.float64'>'\n",
       " \twith 16 stored elements in Compressed Sparse Row format>,\n",
       " '1kachan': <1x3467 sparse matrix of type '<class 'numpy.float64'>'\n",
       " \twith 12 stored elements in Compressed Sparse Row format>,\n",
       " '1ncognito': <1x3467 sparse matrix of type '<class 'numpy.float64'>'\n",
       " \twith 12 stored elements in Compressed Sparse Row format>,\n",
       " '1nf1d3l': <1x3467 sparse matrix of type '<class 'numpy.float64'>'\n",
       " \twith 11 stored elements in Compressed Sparse Row format>,\n",
       " '1ntoTheRa1n': <1x3467 sparse matrix of type '<class 'numpy.float64'>'\n",
       " \twith 4 stored elements in Compressed Sparse Row format>,\n",
       " '1stpostever': <1x3467 sparse matrix of type '<class 'numpy.float64'>'\n",
       " \twith 1 stored elements in Compressed Sparse Row format>,\n",
       " '1wiseguy': <1x3467 sparse matrix of type '<class 'numpy.float64'>'\n",
       " \twith 14 stored elements in Compressed Sparse Row format>,\n",
       " '20jcp': <1x3467 sparse matrix of type '<class 'numpy.float64'>'\n",
       " \twith 12 stored elements in Compressed Sparse Row format>,\n",
       " '2311777': <1x3467 sparse matrix of type '<class 'numpy.float64'>'\n",
       " \twith 17 stored elements in Compressed Sparse Row format>,\n",
       " '235throw': <1x3467 sparse matrix of type '<class 'numpy.float64'>'\n",
       " \twith 11 stored elements in Compressed Sparse Row format>,\n",
       " '25tolife_': <1x3467 sparse matrix of type '<class 'numpy.float64'>'\n",
       " \twith 4 stored elements in Compressed Sparse Row format>,\n",
       " '283leis': <1x3467 sparse matrix of type '<class 'numpy.float64'>'\n",
       " \twith 8 stored elements in Compressed Sparse Row format>,\n",
       " '292grit': <1x3467 sparse matrix of type '<class 'numpy.float64'>'\n",
       " \twith 7 stored elements in Compressed Sparse Row format>,\n",
       " '2Broton': <1x3467 sparse matrix of type '<class 'numpy.float64'>'\n",
       " \twith 21 stored elements in Compressed Sparse Row format>,\n",
       " '2TallJones69': <1x3467 sparse matrix of type '<class 'numpy.float64'>'\n",
       " \twith 3 stored elements in Compressed Sparse Row format>,\n",
       " '2classy': <1x3467 sparse matrix of type '<class 'numpy.float64'>'\n",
       " \twith 3 stored elements in Compressed Sparse Row format>,\n",
       " '2econd_draft': <1x3467 sparse matrix of type '<class 'numpy.float64'>'\n",
       " \twith 9 stored elements in Compressed Sparse Row format>,\n",
       " '2edgy420me': <1x3467 sparse matrix of type '<class 'numpy.float64'>'\n",
       " \twith 71 stored elements in Compressed Sparse Row format>,\n",
       " '2legit2knit': <1x3467 sparse matrix of type '<class 'numpy.float64'>'\n",
       " \twith 8 stored elements in Compressed Sparse Row format>,\n",
       " '2nah': <1x3467 sparse matrix of type '<class 'numpy.float64'>'\n",
       " \twith 1 stored elements in Compressed Sparse Row format>,\n",
       " '2pc_and_a_biscuit': <1x3467 sparse matrix of type '<class 'numpy.float64'>'\n",
       " \twith 6 stored elements in Compressed Sparse Row format>,\n",
       " '2pnt0': <1x3467 sparse matrix of type '<class 'numpy.float64'>'\n",
       " \twith 3 stored elements in Compressed Sparse Row format>,\n",
       " '2pt5RS': <1x3467 sparse matrix of type '<class 'numpy.float64'>'\n",
       " \twith 10 stored elements in Compressed Sparse Row format>,\n",
       " '2shootthemoon': <1x3467 sparse matrix of type '<class 'numpy.float64'>'\n",
       " \twith 3 stored elements in Compressed Sparse Row format>,\n",
       " '3006MA': <1x3467 sparse matrix of type '<class 'numpy.float64'>'\n",
       " \twith 6 stored elements in Compressed Sparse Row format>,\n",
       " '303rd': <1x3467 sparse matrix of type '<class 'numpy.float64'>'\n",
       " \twith 4 stored elements in Compressed Sparse Row format>,\n",
       " '30denari': <1x3467 sparse matrix of type '<class 'numpy.float64'>'\n",
       " \twith 10 stored elements in Compressed Sparse Row format>,\n",
       " '32OrtonEdge32dh': <1x3467 sparse matrix of type '<class 'numpy.float64'>'\n",
       " \twith 68 stored elements in Compressed Sparse Row format>,\n",
       " '33dyson': <1x3467 sparse matrix of type '<class 'numpy.float64'>'\n",
       " \twith 4 stored elements in Compressed Sparse Row format>,\n",
       " '3454355': <1x3467 sparse matrix of type '<class 'numpy.float64'>'\n",
       " \twith 2 stored elements in Compressed Sparse Row format>,\n",
       " '34_yro_virgin': <1x3467 sparse matrix of type '<class 'numpy.float64'>'\n",
       " \twith 3 stored elements in Compressed Sparse Row format>,\n",
       " '3Magic_Beans': <1x3467 sparse matrix of type '<class 'numpy.float64'>'\n",
       " \twith 4 stored elements in Compressed Sparse Row format>,\n",
       " '3WiseMonkeys': <1x3467 sparse matrix of type '<class 'numpy.float64'>'\n",
       " \twith 8 stored elements in Compressed Sparse Row format>,\n",
       " '3Xthisvolume': <1x3467 sparse matrix of type '<class 'numpy.float64'>'\n",
       " \twith 13 stored elements in Compressed Sparse Row format>,\n",
       " '3Y3L3SS': <1x3467 sparse matrix of type '<class 'numpy.float64'>'\n",
       " \twith 4 stored elements in Compressed Sparse Row format>,\n",
       " '3d12': <1x3467 sparse matrix of type '<class 'numpy.float64'>'\n",
       " \twith 5 stored elements in Compressed Sparse Row format>,\n",
       " '3danman': <1x3467 sparse matrix of type '<class 'numpy.float64'>'\n",
       " \twith 2 stored elements in Compressed Sparse Row format>,\n",
       " '3days3ways': <1x3467 sparse matrix of type '<class 'numpy.float64'>'\n",
       " \twith 2 stored elements in Compressed Sparse Row format>,\n",
       " '3dogs3cats1goodlife': <1x3467 sparse matrix of type '<class 'numpy.float64'>'\n",
       " \twith 22 stored elements in Compressed Sparse Row format>,\n",
       " '3kool5you': <1x3467 sparse matrix of type '<class 'numpy.float64'>'\n",
       " \twith 18 stored elements in Compressed Sparse Row format>,\n",
       " '3lyssa': <1x3467 sparse matrix of type '<class 'numpy.float64'>'\n",
       " \twith 2 stored elements in Compressed Sparse Row format>,\n",
       " '3nd3rWiggins': <1x3467 sparse matrix of type '<class 'numpy.float64'>'\n",
       " \twith 18 stored elements in Compressed Sparse Row format>,\n",
       " '403redditor': <1x3467 sparse matrix of type '<class 'numpy.float64'>'\n",
       " \twith 52 stored elements in Compressed Sparse Row format>,\n",
       " '40hzHERO': <1x3467 sparse matrix of type '<class 'numpy.float64'>'\n",
       " \twith 32 stored elements in Compressed Sparse Row format>,\n",
       " '40thStreetBlack': <1x3467 sparse matrix of type '<class 'numpy.float64'>'\n",
       " \twith 7 stored elements in Compressed Sparse Row format>,\n",
       " '41234': <1x3467 sparse matrix of type '<class 'numpy.float64'>'\n",
       " \twith 4 stored elements in Compressed Sparse Row format>,\n",
       " '414923': <1x3467 sparse matrix of type '<class 'numpy.float64'>'\n",
       " \twith 3 stored elements in Compressed Sparse Row format>,\n",
       " '420xMLGxNOSCOPEx': <1x3467 sparse matrix of type '<class 'numpy.float64'>'\n",
       " \twith 4 stored elements in Compressed Sparse Row format>,\n",
       " '42420': <1x3467 sparse matrix of type '<class 'numpy.float64'>'\n",
       " \twith 10 stored elements in Compressed Sparse Row format>,\n",
       " '42shadowofadoubt24': <1x3467 sparse matrix of type '<class 'numpy.float64'>'\n",
       " \twith 28 stored elements in Compressed Sparse Row format>,\n",
       " '43stones': <1x3467 sparse matrix of type '<class 'numpy.float64'>'\n",
       " \twith 4 stored elements in Compressed Sparse Row format>,\n",
       " '446172656E': <1x3467 sparse matrix of type '<class 'numpy.float64'>'\n",
       " \twith 2 stored elements in Compressed Sparse Row format>,\n",
       " '4618': <1x3467 sparse matrix of type '<class 'numpy.float64'>'\n",
       " \twith 2 stored elements in Compressed Sparse Row format>,\n",
       " '4Eights': <1x3467 sparse matrix of type '<class 'numpy.float64'>'\n",
       " \twith 13 stored elements in Compressed Sparse Row format>,\n",
       " '4LostSoulsinaBowl': <1x3467 sparse matrix of type '<class 'numpy.float64'>'\n",
       " \twith 30 stored elements in Compressed Sparse Row format>,\n",
       " '4_out_of_5_people': <1x3467 sparse matrix of type '<class 'numpy.float64'>'\n",
       " \twith 4 stored elements in Compressed Sparse Row format>,\n",
       " '4billion': <1x3467 sparse matrix of type '<class 'numpy.float64'>'\n",
       " \twith 2 stored elements in Compressed Sparse Row format>,\n",
       " '4juice': <1x3467 sparse matrix of type '<class 'numpy.float64'>'\n",
       " \twith 14 stored elements in Compressed Sparse Row format>,\n",
       " '4nv1': <1x3467 sparse matrix of type '<class 'numpy.float64'>'\n",
       " \twith 1 stored elements in Compressed Sparse Row format>,\n",
       " '4redditthings': <1x3467 sparse matrix of type '<class 'numpy.float64'>'\n",
       " \twith 1 stored elements in Compressed Sparse Row format>,\n",
       " '4t2l2t': <1x3467 sparse matrix of type '<class 'numpy.float64'>'\n",
       " \twith 10 stored elements in Compressed Sparse Row format>,\n",
       " '50_cal': <1x3467 sparse matrix of type '<class 'numpy.float64'>'\n",
       " \twith 2 stored elements in Compressed Sparse Row format>,\n",
       " '50_shades_of_whey': <1x3467 sparse matrix of type '<class 'numpy.float64'>'\n",
       " \twith 13 stored elements in Compressed Sparse Row format>,\n",
       " '50grams': <1x3467 sparse matrix of type '<class 'numpy.float64'>'\n",
       " \twith 1 stored elements in Compressed Sparse Row format>,\n",
       " '519ma13lue6erry': <1x3467 sparse matrix of type '<class 'numpy.float64'>'\n",
       " \twith 1 stored elements in Compressed Sparse Row format>,\n",
       " '5f6168': <1x3467 sparse matrix of type '<class 'numpy.float64'>'\n",
       " \twith 1 stored elements in Compressed Sparse Row format>,\n",
       " '5kywolf': <1x3467 sparse matrix of type '<class 'numpy.float64'>'\n",
       " \twith 17 stored elements in Compressed Sparse Row format>,\n",
       " '5n1p3rhaa': <1x3467 sparse matrix of type '<class 'numpy.float64'>'\n",
       " \twith 13 stored elements in Compressed Sparse Row format>,\n",
       " '5panda': <1x3467 sparse matrix of type '<class 'numpy.float64'>'\n",
       " \twith 7 stored elements in Compressed Sparse Row format>,\n",
       " '5picy': <1x3467 sparse matrix of type '<class 'numpy.float64'>'\n",
       " \twith 2 stored elements in Compressed Sparse Row format>,\n",
       " '5spoke': <1x3467 sparse matrix of type '<class 'numpy.float64'>'\n",
       " \twith 14 stored elements in Compressed Sparse Row format>,\n",
       " '5upern0v4': <1x3467 sparse matrix of type '<class 'numpy.float64'>'\n",
       " \twith 3 stored elements in Compressed Sparse Row format>,\n",
       " '619rko9': <1x3467 sparse matrix of type '<class 'numpy.float64'>'\n",
       " \twith 8 stored elements in Compressed Sparse Row format>,\n",
       " '63percentlegs': <1x3467 sparse matrix of type '<class 'numpy.float64'>'\n",
       " \twith 2 stored elements in Compressed Sparse Row format>,\n",
       " '66thrownaway': <1x3467 sparse matrix of type '<class 'numpy.float64'>'\n",
       " \twith 1 stored elements in Compressed Sparse Row format>,\n",
       " '69_link_karma': <1x3467 sparse matrix of type '<class 'numpy.float64'>'\n",
       " \twith 7 stored elements in Compressed Sparse Row format>,\n",
       " '6DT': <1x3467 sparse matrix of type '<class 'numpy.float64'>'\n",
       " \twith 3 stored elements in Compressed Sparse Row format>,\n",
       " '6blocks': <1x3467 sparse matrix of type '<class 'numpy.float64'>'\n",
       " \twith 1 stored elements in Compressed Sparse Row format>,\n",
       " '6i9': <1x3467 sparse matrix of type '<class 'numpy.float64'>'\n",
       " \twith 4 stored elements in Compressed Sparse Row format>,\n",
       " '6sweet6leaf6': <1x3467 sparse matrix of type '<class 'numpy.float64'>'\n",
       " \twith 10 stored elements in Compressed Sparse Row format>,\n",
       " '73553r4c7': <1x3467 sparse matrix of type '<class 'numpy.float64'>'\n",
       " \twith 3 stored elements in Compressed Sparse Row format>,\n",
       " '74orangebeetle': <1x3467 sparse matrix of type '<class 'numpy.float64'>'\n",
       " \twith 5 stored elements in Compressed Sparse Row format>,\n",
       " '757pizzaguy': <1x3467 sparse matrix of type '<class 'numpy.float64'>'\n",
       " \twith 2 stored elements in Compressed Sparse Row format>,\n",
       " '7621305': <1x3467 sparse matrix of type '<class 'numpy.float64'>'\n",
       " \twith 8 stored elements in Compressed Sparse Row format>,\n",
       " '777kid': <1x3467 sparse matrix of type '<class 'numpy.float64'>'\n",
       " \twith 6 stored elements in Compressed Sparse Row format>,\n",
       " '77P': <1x3467 sparse matrix of type '<class 'numpy.float64'>'\n",
       " \twith 23 stored elements in Compressed Sparse Row format>,\n",
       " '794613825': <1x3467 sparse matrix of type '<class 'numpy.float64'>'\n",
       " \twith 26 stored elements in Compressed Sparse Row format>,\n",
       " '7_legged_spider': <1x3467 sparse matrix of type '<class 'numpy.float64'>'\n",
       " \twith 17 stored elements in Compressed Sparse Row format>,\n",
       " '7fw': <1x3467 sparse matrix of type '<class 'numpy.float64'>'\n",
       " \twith 18 stored elements in Compressed Sparse Row format>,\n",
       " '7h3Hun73r': <1x3467 sparse matrix of type '<class 'numpy.float64'>'\n",
       " \twith 10 stored elements in Compressed Sparse Row format>,\n",
       " '7oby': <1x3467 sparse matrix of type '<class 'numpy.float64'>'\n",
       " \twith 44 stored elements in Compressed Sparse Row format>,\n",
       " '7thDRXN': <1x3467 sparse matrix of type '<class 'numpy.float64'>'\n",
       " \twith 9 stored elements in Compressed Sparse Row format>,\n",
       " '8245a': <1x3467 sparse matrix of type '<class 'numpy.float64'>'\n",
       " \twith 4 stored elements in Compressed Sparse Row format>,\n",
       " '83kk4h': <1x3467 sparse matrix of type '<class 'numpy.float64'>'\n",
       " \twith 21 stored elements in Compressed Sparse Row format>,\n",
       " '869689698': <1x3467 sparse matrix of type '<class 'numpy.float64'>'\n",
       " \twith 22 stored elements in Compressed Sparse Row format>,\n",
       " '89rovi': <1x3467 sparse matrix of type '<class 'numpy.float64'>'\n",
       " \twith 13 stored elements in Compressed Sparse Row format>,\n",
       " '89vision': <1x3467 sparse matrix of type '<class 'numpy.float64'>'\n",
       " \twith 10 stored elements in Compressed Sparse Row format>,\n",
       " '8GRAPESofWrath': <1x3467 sparse matrix of type '<class 'numpy.float64'>'\n",
       " \twith 2 stored elements in Compressed Sparse Row format>,\n",
       " '90child': <1x3467 sparse matrix of type '<class 'numpy.float64'>'\n",
       " \twith 17 stored elements in Compressed Sparse Row format>,\n",
       " '97222': <1x3467 sparse matrix of type '<class 'numpy.float64'>'\n",
       " \twith 2 stored elements in Compressed Sparse Row format>,\n",
       " '99percentbullshit': <1x3467 sparse matrix of type '<class 'numpy.float64'>'\n",
       " \twith 13 stored elements in Compressed Sparse Row format>,\n",
       " 'A2000_Love': <1x3467 sparse matrix of type '<class 'numpy.float64'>'\n",
       " \twith 9 stored elements in Compressed Sparse Row format>,\n",
       " 'A88Y_391': <1x3467 sparse matrix of type '<class 'numpy.float64'>'\n",
       " \twith 12 stored elements in Compressed Sparse Row format>,\n",
       " 'AAleksandre': <1x3467 sparse matrix of type '<class 'numpy.float64'>'\n",
       " \twith 1 stored elements in Compressed Sparse Row format>,\n",
       " 'ABVerageJoe69': <1x3467 sparse matrix of type '<class 'numpy.float64'>'\n",
       " \twith 10 stored elements in Compressed Sparse Row format>,\n",
       " 'AC-Starscream': <1x3467 sparse matrix of type '<class 'numpy.float64'>'\n",
       " \twith 1 stored elements in Compressed Sparse Row format>,\n",
       " 'AC1colossus': <1x3467 sparse matrix of type '<class 'numpy.float64'>'\n",
       " \twith 4 stored elements in Compressed Sparse Row format>,\n",
       " 'ADUADU': <1x3467 sparse matrix of type '<class 'numpy.float64'>'\n",
       " \twith 3 stored elements in Compressed Sparse Row format>,\n",
       " 'ADillPickle': <1x3467 sparse matrix of type '<class 'numpy.float64'>'\n",
       " \twith 15 stored elements in Compressed Sparse Row format>,\n",
       " 'AFLoneWolf': <1x3467 sparse matrix of type '<class 'numpy.float64'>'\n",
       " \twith 2 stored elements in Compressed Sparse Row format>,\n",
       " 'AFormidableContender': <1x3467 sparse matrix of type '<class 'numpy.float64'>'\n",
       " \twith 8 stored elements in Compressed Sparse Row format>,\n",
       " 'AJinxyCat': <1x3467 sparse matrix of type '<class 'numpy.float64'>'\n",
       " \twith 29 stored elements in Compressed Sparse Row format>,\n",
       " 'AK2CA': <1x3467 sparse matrix of type '<class 'numpy.float64'>'\n",
       " \twith 37 stored elements in Compressed Sparse Row format>,\n",
       " 'AKZeb': <1x3467 sparse matrix of type '<class 'numpy.float64'>'\n",
       " \twith 1 stored elements in Compressed Sparse Row format>,\n",
       " 'AM89': <1x3467 sparse matrix of type '<class 'numpy.float64'>'\n",
       " \twith 1 stored elements in Compressed Sparse Row format>,\n",
       " 'AMG93': <1x3467 sparse matrix of type '<class 'numpy.float64'>'\n",
       " \twith 1 stored elements in Compressed Sparse Row format>,\n",
       " 'AMasterOfNone': <1x3467 sparse matrix of type '<class 'numpy.float64'>'\n",
       " \twith 1 stored elements in Compressed Sparse Row format>,\n",
       " 'ANGRYMAYBE': <1x3467 sparse matrix of type '<class 'numpy.float64'>'\n",
       " \twith 4 stored elements in Compressed Sparse Row format>,\n",
       " 'ANewMachine615': <1x3467 sparse matrix of type '<class 'numpy.float64'>'\n",
       " \twith 40 stored elements in Compressed Sparse Row format>,\n",
       " 'ARDad': <1x3467 sparse matrix of type '<class 'numpy.float64'>'\n",
       " \twith 9 stored elements in Compressed Sparse Row format>,\n",
       " 'ARRO-gant': <1x3467 sparse matrix of type '<class 'numpy.float64'>'\n",
       " \twith 24 stored elements in Compressed Sparse Row format>,\n",
       " 'ARUKET': <1x3467 sparse matrix of type '<class 'numpy.float64'>'\n",
       " \twith 8 stored elements in Compressed Sparse Row format>,\n",
       " 'ARXXBA': <1x3467 sparse matrix of type '<class 'numpy.float64'>'\n",
       " \twith 4 stored elements in Compressed Sparse Row format>,\n",
       " 'ARandomCdn': <1x3467 sparse matrix of type '<class 'numpy.float64'>'\n",
       " \twith 2 stored elements in Compressed Sparse Row format>,\n",
       " 'ARedHouseOverYonder': <1x3467 sparse matrix of type '<class 'numpy.float64'>'\n",
       " \twith 5 stored elements in Compressed Sparse Row format>,\n",
       " 'ASEKMusik': <1x3467 sparse matrix of type '<class 'numpy.float64'>'\n",
       " \twith 56 stored elements in Compressed Sparse Row format>,\n",
       " 'AS_DrivebyNinja': <1x3467 sparse matrix of type '<class 'numpy.float64'>'\n",
       " \twith 2 stored elements in Compressed Sparse Row format>,\n",
       " 'ASaintJohn': <1x3467 sparse matrix of type '<class 'numpy.float64'>'\n",
       " \twith 3 stored elements in Compressed Sparse Row format>,\n",
       " 'ASilverlight95': <1x3467 sparse matrix of type '<class 'numpy.float64'>'\n",
       " \twith 3 stored elements in Compressed Sparse Row format>,\n",
       " 'AThousandBirds': <1x3467 sparse matrix of type '<class 'numpy.float64'>'\n",
       " \twith 2 stored elements in Compressed Sparse Row format>,\n",
       " 'AWhiteStripe42': <1x3467 sparse matrix of type '<class 'numpy.float64'>'\n",
       " \twith 2 stored elements in Compressed Sparse Row format>,\n",
       " 'AWildGingerAppears': <1x3467 sparse matrix of type '<class 'numpy.float64'>'\n",
       " \twith 3 stored elements in Compressed Sparse Row format>,\n",
       " 'AYellowFix': <1x3467 sparse matrix of type '<class 'numpy.float64'>'\n",
       " \twith 1 stored elements in Compressed Sparse Row format>,\n",
       " 'A_Bank_Robber': <1x3467 sparse matrix of type '<class 'numpy.float64'>'\n",
       " \twith 1 stored elements in Compressed Sparse Row format>,\n",
       " 'A_British_Gentleman': <1x3467 sparse matrix of type '<class 'numpy.float64'>'\n",
       " \twith 67 stored elements in Compressed Sparse Row format>,\n",
       " 'A_New_Knight': <1x3467 sparse matrix of type '<class 'numpy.float64'>'\n",
       " \twith 9 stored elements in Compressed Sparse Row format>,\n",
       " 'A_Rude_Canadian': <1x3467 sparse matrix of type '<class 'numpy.float64'>'\n",
       " \twith 6 stored elements in Compressed Sparse Row format>,\n",
       " 'A_Seabear': <1x3467 sparse matrix of type '<class 'numpy.float64'>'\n",
       " \twith 3 stored elements in Compressed Sparse Row format>,\n",
       " 'A_White_Tulip': <1x3467 sparse matrix of type '<class 'numpy.float64'>'\n",
       " \twith 3 stored elements in Compressed Sparse Row format>,\n",
       " 'A_for_Anonymous': <1x3467 sparse matrix of type '<class 'numpy.float64'>'\n",
       " \twith 10 stored elements in Compressed Sparse Row format>,\n",
       " 'A_sexy_black_man': <1x3467 sparse matrix of type '<class 'numpy.float64'>'\n",
       " \twith 14 stored elements in Compressed Sparse Row format>,\n",
       " 'Aa_is_for_Aardvark': <1x3467 sparse matrix of type '<class 'numpy.float64'>'\n",
       " \twith 23 stored elements in Compressed Sparse Row format>,\n",
       " 'Aaaaaaaaaaaagh': <1x3467 sparse matrix of type '<class 'numpy.float64'>'\n",
       " \twith 12 stored elements in Compressed Sparse Row format>,\n",
       " 'Aah': <1x3467 sparse matrix of type '<class 'numpy.float64'>'\n",
       " \twith 2 stored elements in Compressed Sparse Row format>,\n",
       " 'Aapjes94': <1x3467 sparse matrix of type '<class 'numpy.float64'>'\n",
       " \twith 12 stored elements in Compressed Sparse Row format>,\n",
       " 'Aarkanian': <1x3467 sparse matrix of type '<class 'numpy.float64'>'\n",
       " \twith 7 stored elements in Compressed Sparse Row format>,\n",
       " 'AaronC14': <1x3467 sparse matrix of type '<class 'numpy.float64'>'\n",
       " \twith 6 stored elements in Compressed Sparse Row format>,\n",
       " 'AaronRodgersMustache': <1x3467 sparse matrix of type '<class 'numpy.float64'>'\n",
       " \twith 21 stored elements in Compressed Sparse Row format>,\n",
       " 'Aaronplane': <1x3467 sparse matrix of type '<class 'numpy.float64'>'\n",
       " \twith 5 stored elements in Compressed Sparse Row format>,\n",
       " 'Aaylaa': <1x3467 sparse matrix of type '<class 'numpy.float64'>'\n",
       " \twith 3 stored elements in Compressed Sparse Row format>,\n",
       " 'Abcdety': <1x3467 sparse matrix of type '<class 'numpy.float64'>'\n",
       " \twith 9 stored elements in Compressed Sparse Row format>,\n",
       " 'Abeneezer': <1x3467 sparse matrix of type '<class 'numpy.float64'>'\n",
       " \twith 29 stored elements in Compressed Sparse Row format>,\n",
       " 'Aberdeen_MIke': <1x3467 sparse matrix of type '<class 'numpy.float64'>'\n",
       " \twith 3 stored elements in Compressed Sparse Row format>,\n",
       " 'Aberdeen_W': <1x3467 sparse matrix of type '<class 'numpy.float64'>'\n",
       " \twith 11 stored elements in Compressed Sparse Row format>,\n",
       " 'AberrantCheese': <1x3467 sparse matrix of type '<class 'numpy.float64'>'\n",
       " \twith 11 stored elements in Compressed Sparse Row format>,\n",
       " 'AbortusLuciferum': <1x3467 sparse matrix of type '<class 'numpy.float64'>'\n",
       " \twith 16 stored elements in Compressed Sparse Row format>,\n",
       " 'AboveTheBears': <1x3467 sparse matrix of type '<class 'numpy.float64'>'\n",
       " \twith 4 stored elements in Compressed Sparse Row format>,\n",
       " 'Abracadanielle': <1x3467 sparse matrix of type '<class 'numpy.float64'>'\n",
       " \twith 10 stored elements in Compressed Sparse Row format>,\n",
       " 'Absinthe42': <1x3467 sparse matrix of type '<class 'numpy.float64'>'\n",
       " \twith 11 stored elements in Compressed Sparse Row format>,\n",
       " 'AbsoluteBlack': <1x3467 sparse matrix of type '<class 'numpy.float64'>'\n",
       " \twith 2 stored elements in Compressed Sparse Row format>,\n",
       " 'AbsoluteRunner': <1x3467 sparse matrix of type '<class 'numpy.float64'>'\n",
       " \twith 13 stored elements in Compressed Sparse Row format>,\n",
       " 'AbstractAngel': <1x3467 sparse matrix of type '<class 'numpy.float64'>'\n",
       " \twith 7 stored elements in Compressed Sparse Row format>,\n",
       " 'AbusingVitaminK': <1x3467 sparse matrix of type '<class 'numpy.float64'>'\n",
       " \twith 4 stored elements in Compressed Sparse Row format>,\n",
       " 'AccidentalScumbag': <1x3467 sparse matrix of type '<class 'numpy.float64'>'\n",
       " \twith 2 stored elements in Compressed Sparse Row format>,\n",
       " 'Accipehoc': <1x3467 sparse matrix of type '<class 'numpy.float64'>'\n",
       " \twith 31 stored elements in Compressed Sparse Row format>,\n",
       " 'AccipiterQ': <1x3467 sparse matrix of type '<class 'numpy.float64'>'\n",
       " \twith 11 stored elements in Compressed Sparse Row format>,\n",
       " 'AccountHaver25': <1x3467 sparse matrix of type '<class 'numpy.float64'>'\n",
       " \twith 58 stored elements in Compressed Sparse Row format>,\n",
       " 'AceRockola': <1x3467 sparse matrix of type '<class 'numpy.float64'>'\n",
       " \twith 1 stored elements in Compressed Sparse Row format>,\n",
       " 'AceroInoxidable': <1x3467 sparse matrix of type '<class 'numpy.float64'>'\n",
       " \twith 16 stored elements in Compressed Sparse Row format>,\n",
       " 'Acez4200': <1x3467 sparse matrix of type '<class 'numpy.float64'>'\n",
       " \twith 4 stored elements in Compressed Sparse Row format>,\n",
       " 'Achillez2390': <1x3467 sparse matrix of type '<class 'numpy.float64'>'\n",
       " \twith 1 stored elements in Compressed Sparse Row format>,\n",
       " 'Achlies': <1x3467 sparse matrix of type '<class 'numpy.float64'>'\n",
       " \twith 16 stored elements in Compressed Sparse Row format>,\n",
       " 'AcidHappy': <1x3467 sparse matrix of type '<class 'numpy.float64'>'\n",
       " \twith 12 stored elements in Compressed Sparse Row format>,\n",
       " 'Acidpants220': <1x3467 sparse matrix of type '<class 'numpy.float64'>'\n",
       " \twith 4 stored elements in Compressed Sparse Row format>,\n",
       " 'Acidwits': <1x3467 sparse matrix of type '<class 'numpy.float64'>'\n",
       " \twith 4 stored elements in Compressed Sparse Row format>,\n",
       " 'AcronymEjr': <1x3467 sparse matrix of type '<class 'numpy.float64'>'\n",
       " \twith 5 stored elements in Compressed Sparse Row format>,\n",
       " 'ActingPower': <1x3467 sparse matrix of type '<class 'numpy.float64'>'\n",
       " \twith 8 stored elements in Compressed Sparse Row format>,\n",
       " 'ActionistRespoke': <1x3467 sparse matrix of type '<class 'numpy.float64'>'\n",
       " \twith 10 stored elements in Compressed Sparse Row format>,\n",
       " 'Adajeanne': <1x3467 sparse matrix of type '<class 'numpy.float64'>'\n",
       " \twith 2 stored elements in Compressed Sparse Row format>,\n",
       " 'AdamColligan': <1x3467 sparse matrix of type '<class 'numpy.float64'>'\n",
       " \twith 11 stored elements in Compressed Sparse Row format>,\n",
       " 'AdamNJH': <1x3467 sparse matrix of type '<class 'numpy.float64'>'\n",
       " \twith 9 stored elements in Compressed Sparse Row format>,\n",
       " 'Adamapplejacks': <1x3467 sparse matrix of type '<class 'numpy.float64'>'\n",
       " \twith 22 stored elements in Compressed Sparse Row format>,\n",
       " 'Adamas_Mustache': <1x3467 sparse matrix of type '<class 'numpy.float64'>'\n",
       " \twith 9 stored elements in Compressed Sparse Row format>,\n",
       " 'Adarkox': <1x3467 sparse matrix of type '<class 'numpy.float64'>'\n",
       " \twith 20 stored elements in Compressed Sparse Row format>,\n",
       " 'AddedDownforce': <1x3467 sparse matrix of type '<class 'numpy.float64'>'\n",
       " \twith 1 stored elements in Compressed Sparse Row format>,\n",
       " 'Adibooy': <1x3467 sparse matrix of type '<class 'numpy.float64'>'\n",
       " \twith 2 stored elements in Compressed Sparse Row format>,\n",
       " 'AdmiralSC': <1x3467 sparse matrix of type '<class 'numpy.float64'>'\n",
       " \twith 5 stored elements in Compressed Sparse Row format>,\n",
       " 'Admiral_Snuggles': <1x3467 sparse matrix of type '<class 'numpy.float64'>'\n",
       " \twith 11 stored elements in Compressed Sparse Row format>,\n",
       " 'Adolf_': <1x3467 sparse matrix of type '<class 'numpy.float64'>'\n",
       " \twith 40 stored elements in Compressed Sparse Row format>,\n",
       " 'AdorableRapist': <1x3467 sparse matrix of type '<class 'numpy.float64'>'\n",
       " \twith 3 stored elements in Compressed Sparse Row format>,\n",
       " 'AdrienneSublime': <1x3467 sparse matrix of type '<class 'numpy.float64'>'\n",
       " \twith 4 stored elements in Compressed Sparse Row format>,\n",
       " 'AdventureDave': <1x3467 sparse matrix of type '<class 'numpy.float64'>'\n",
       " \twith 16 stored elements in Compressed Sparse Row format>,\n",
       " 'Adventureous': <1x3467 sparse matrix of type '<class 'numpy.float64'>'\n",
       " \twith 1 stored elements in Compressed Sparse Row format>,\n",
       " 'AdvocateForGod': <1x3467 sparse matrix of type '<class 'numpy.float64'>'\n",
       " \twith 42 stored elements in Compressed Sparse Row format>,\n",
       " 'Aelonius': <1x3467 sparse matrix of type '<class 'numpy.float64'>'\n",
       " \twith 16 stored elements in Compressed Sparse Row format>,\n",
       " 'Aerowulf9': <1x3467 sparse matrix of type '<class 'numpy.float64'>'\n",
       " \twith 2 stored elements in Compressed Sparse Row format>,\n",
       " 'Aessari': <1x3467 sparse matrix of type '<class 'numpy.float64'>'\n",
       " \twith 11 stored elements in Compressed Sparse Row format>,\n",
       " 'AetherThought': <1x3467 sparse matrix of type '<class 'numpy.float64'>'\n",
       " \twith 22 stored elements in Compressed Sparse Row format>,\n",
       " 'Aezjeck': <1x3467 sparse matrix of type '<class 'numpy.float64'>'\n",
       " \twith 9 stored elements in Compressed Sparse Row format>,\n",
       " 'Afarr': <1x3467 sparse matrix of type '<class 'numpy.float64'>'\n",
       " \twith 18 stored elements in Compressed Sparse Row format>,\n",
       " 'Afeni02': <1x3467 sparse matrix of type '<class 'numpy.float64'>'\n",
       " \twith 21 stored elements in Compressed Sparse Row format>,\n",
       " 'Afghan_Ninja': <1x3467 sparse matrix of type '<class 'numpy.float64'>'\n",
       " \twith 16 stored elements in Compressed Sparse Row format>,\n",
       " 'Afin12': <1x3467 sparse matrix of type '<class 'numpy.float64'>'\n",
       " \twith 9 stored elements in Compressed Sparse Row format>,\n",
       " 'Afle': <1x3467 sparse matrix of type '<class 'numpy.float64'>'\n",
       " \twith 1 stored elements in Compressed Sparse Row format>,\n",
       " 'Aflipp': <1x3467 sparse matrix of type '<class 'numpy.float64'>'\n",
       " \twith 1 stored elements in Compressed Sparse Row format>,\n",
       " 'Africanfratboy': <1x3467 sparse matrix of type '<class 'numpy.float64'>'\n",
       " \twith 4 stored elements in Compressed Sparse Row format>,\n",
       " 'AfroMullet': <1x3467 sparse matrix of type '<class 'numpy.float64'>'\n",
       " \twith 25 stored elements in Compressed Sparse Row format>,\n",
       " 'After1984': <1x3467 sparse matrix of type '<class 'numpy.float64'>'\n",
       " \twith 6 stored elements in Compressed Sparse Row format>,\n",
       " 'Afwn': <1x3467 sparse matrix of type '<class 'numpy.float64'>'\n",
       " \twith 1 stored elements in Compressed Sparse Row format>,\n",
       " 'Ag16': <1x3467 sparse matrix of type '<class 'numpy.float64'>'\n",
       " \twith 3 stored elements in Compressed Sparse Row format>,\n",
       " 'Ag_in_China': <1x3467 sparse matrix of type '<class 'numpy.float64'>'\n",
       " \twith 16 stored elements in Compressed Sparse Row format>,\n",
       " 'Agat0n': <1x3467 sparse matrix of type '<class 'numpy.float64'>'\n",
       " \twith 2 stored elements in Compressed Sparse Row format>,\n",
       " 'AgentDL': <1x3467 sparse matrix of type '<class 'numpy.float64'>'\n",
       " \twith 16 stored elements in Compressed Sparse Row format>,\n",
       " 'AgentDoubleM7': <1x3467 sparse matrix of type '<class 'numpy.float64'>'\n",
       " \twith 2 stored elements in Compressed Sparse Row format>,\n",
       " 'AgentFade2Black': <1x3467 sparse matrix of type '<class 'numpy.float64'>'\n",
       " \twith 4 stored elements in Compressed Sparse Row format>,\n",
       " 'AgentFreckles': <1x3467 sparse matrix of type '<class 'numpy.float64'>'\n",
       " \twith 6 stored elements in Compressed Sparse Row format>,\n",
       " 'AgentHoneywell': <1x3467 sparse matrix of type '<class 'numpy.float64'>'\n",
       " \twith 11 stored elements in Compressed Sparse Row format>,\n",
       " 'AgentWD40': <1x3467 sparse matrix of type '<class 'numpy.float64'>'\n",
       " \twith 2 stored elements in Compressed Sparse Row format>,\n",
       " 'Agile820': <1x3467 sparse matrix of type '<class 'numpy.float64'>'\n",
       " \twith 9 stored elements in Compressed Sparse Row format>,\n",
       " 'AgricultureVulture': <1x3467 sparse matrix of type '<class 'numpy.float64'>'\n",
       " \twith 3 stored elements in Compressed Sparse Row format>,\n",
       " 'AgtOrange116': <1x3467 sparse matrix of type '<class 'numpy.float64'>'\n",
       " \twith 3 stored elements in Compressed Sparse Row format>,\n",
       " 'Agwap': <1x3467 sparse matrix of type '<class 'numpy.float64'>'\n",
       " \twith 2 stored elements in Compressed Sparse Row format>,\n",
       " 'Aiden_Blackthorne': <1x3467 sparse matrix of type '<class 'numpy.float64'>'\n",
       " \twith 10 stored elements in Compressed Sparse Row format>,\n",
       " 'Aieolos': <1x3467 sparse matrix of type '<class 'numpy.float64'>'\n",
       " \twith 0 stored elements in Compressed Sparse Row format>,\n",
       " 'Aikidi': <1x3467 sparse matrix of type '<class 'numpy.float64'>'\n",
       " \twith 70 stored elements in Compressed Sparse Row format>,\n",
       " 'Aines': <1x3467 sparse matrix of type '<class 'numpy.float64'>'\n",
       " \twith 1 stored elements in Compressed Sparse Row format>,\n",
       " 'Airazz': <1x3467 sparse matrix of type '<class 'numpy.float64'>'\n",
       " \twith 92 stored elements in Compressed Sparse Row format>,\n",
       " 'Airdria': <1x3467 sparse matrix of type '<class 'numpy.float64'>'\n",
       " \twith 3 stored elements in Compressed Sparse Row format>,\n",
       " 'Airreola': <1x3467 sparse matrix of type '<class 'numpy.float64'>'\n",
       " \twith 1 stored elements in Compressed Sparse Row format>,\n",
       " 'Airsoftm4a1': <1x3467 sparse matrix of type '<class 'numpy.float64'>'\n",
       " \twith 1 stored elements in Compressed Sparse Row format>,\n",
       " 'AisforAwesome': <1x3467 sparse matrix of type '<class 'numpy.float64'>'\n",
       " \twith 2 stored elements in Compressed Sparse Row format>,\n",
       " 'Aiyhlo': <1x3467 sparse matrix of type '<class 'numpy.float64'>'\n",
       " \twith 3 stored elements in Compressed Sparse Row format>,\n",
       " 'Ajax_Malone': <1x3467 sparse matrix of type '<class 'numpy.float64'>'\n",
       " \twith 17 stored elements in Compressed Sparse Row format>,\n",
       " 'Ajaxeler': <1x3467 sparse matrix of type '<class 'numpy.float64'>'\n",
       " \twith 4 stored elements in Compressed Sparse Row format>,\n",
       " 'Ajaxx6': <1x3467 sparse matrix of type '<class 'numpy.float64'>'\n",
       " \twith 6 stored elements in Compressed Sparse Row format>,\n",
       " 'AkaYakaWaka': <1x3467 sparse matrix of type '<class 'numpy.float64'>'\n",
       " \twith 3 stored elements in Compressed Sparse Row format>,\n",
       " 'Akatsiya': <1x3467 sparse matrix of type '<class 'numpy.float64'>'\n",
       " \twith 11 stored elements in Compressed Sparse Row format>,\n",
       " 'Akhavy': <1x3467 sparse matrix of type '<class 'numpy.float64'>'\n",
       " \twith 3 stored elements in Compressed Sparse Row format>,\n",
       " 'Akitcougar': <1x3467 sparse matrix of type '<class 'numpy.float64'>'\n",
       " \twith 7 stored elements in Compressed Sparse Row format>,\n",
       " 'Akoshermeal': <1x3467 sparse matrix of type '<class 'numpy.float64'>'\n",
       " \twith 2 stored elements in Compressed Sparse Row format>,\n",
       " 'AlJoelson': <1x3467 sparse matrix of type '<class 'numpy.float64'>'\n",
       " \twith 3 stored elements in Compressed Sparse Row format>,\n",
       " 'Al_Simmons': <1x3467 sparse matrix of type '<class 'numpy.float64'>'\n",
       " \twith 37 stored elements in Compressed Sparse Row format>,\n",
       " 'Alabaster_Slayne': <1x3467 sparse matrix of type '<class 'numpy.float64'>'\n",
       " \twith 4 stored elements in Compressed Sparse Row format>,\n",
       " 'AladdinDaCamel': <1x3467 sparse matrix of type '<class 'numpy.float64'>'\n",
       " \twith 5 stored elements in Compressed Sparse Row format>,\n",
       " 'Alaendil': <1x3467 sparse matrix of type '<class 'numpy.float64'>'\n",
       " \twith 4 stored elements in Compressed Sparse Row format>,\n",
       " 'Alaira314': <1x3467 sparse matrix of type '<class 'numpy.float64'>'\n",
       " \twith 20 stored elements in Compressed Sparse Row format>,\n",
       " 'AlaskanPotatoSlap': <1x3467 sparse matrix of type '<class 'numpy.float64'>'\n",
       " \twith 24 stored elements in Compressed Sparse Row format>,\n",
       " 'Alca_Pwn': <1x3467 sparse matrix of type '<class 'numpy.float64'>'\n",
       " \twith 9 stored elements in Compressed Sparse Row format>,\n",
       " 'Alcaeora': <1x3467 sparse matrix of type '<class 'numpy.float64'>'\n",
       " \twith 1 stored elements in Compressed Sparse Row format>,\n",
       " 'AlcidesGhiggia': <1x3467 sparse matrix of type '<class 'numpy.float64'>'\n",
       " \twith 4 stored elements in Compressed Sparse Row format>,\n",
       " 'Alcohooligan': <1x3467 sparse matrix of type '<class 'numpy.float64'>'\n",
       " \twith 2 stored elements in Compressed Sparse Row format>,\n",
       " 'Aldairion': <1x3467 sparse matrix of type '<class 'numpy.float64'>'\n",
       " \twith 15 stored elements in Compressed Sparse Row format>,\n",
       " 'Alesandramw': <1x3467 sparse matrix of type '<class 'numpy.float64'>'\n",
       " \twith 4 stored elements in Compressed Sparse Row format>,\n",
       " 'AlexDeGruven': <1x3467 sparse matrix of type '<class 'numpy.float64'>'\n",
       " \twith 1 stored elements in Compressed Sparse Row format>,\n",
       " 'AlexLeSage': <1x3467 sparse matrix of type '<class 'numpy.float64'>'\n",
       " \twith 14 stored elements in Compressed Sparse Row format>,\n",
       " 'AlexWIWA': <1x3467 sparse matrix of type '<class 'numpy.float64'>'\n",
       " \twith 13 stored elements in Compressed Sparse Row format>,\n",
       " 'Alexhale': <1x3467 sparse matrix of type '<class 'numpy.float64'>'\n",
       " \twith 3 stored elements in Compressed Sparse Row format>,\n",
       " 'Alexnader-': <1x3467 sparse matrix of type '<class 'numpy.float64'>'\n",
       " \twith 6 stored elements in Compressed Sparse Row format>,\n",
       " 'Aleysia': <1x3467 sparse matrix of type '<class 'numpy.float64'>'\n",
       " \twith 6 stored elements in Compressed Sparse Row format>,\n",
       " 'Alfonze423': <1x3467 sparse matrix of type '<class 'numpy.float64'>'\n",
       " \twith 4 stored elements in Compressed Sparse Row format>,\n",
       " 'AlfredTheGreatest': <1x3467 sparse matrix of type '<class 'numpy.float64'>'\n",
       " \twith 6 stored elements in Compressed Sparse Row format>,\n",
       " 'AliasLloyd': <1x3467 sparse matrix of type '<class 'numpy.float64'>'\n",
       " \twith 2 stored elements in Compressed Sparse Row format>,\n",
       " 'AliceA': <1x3467 sparse matrix of type '<class 'numpy.float64'>'\n",
       " \twith 101 stored elements in Compressed Sparse Row format>,\n",
       " 'AliceAndTheHatter': <1x3467 sparse matrix of type '<class 'numpy.float64'>'\n",
       " \twith 5 stored elements in Compressed Sparse Row format>,\n",
       " 'AliceFishyWishy': <1x3467 sparse matrix of type '<class 'numpy.float64'>'\n",
       " \twith 5 stored elements in Compressed Sparse Row format>,\n",
       " 'Alien35': <1x3467 sparse matrix of type '<class 'numpy.float64'>'\n",
       " \twith 4 stored elements in Compressed Sparse Row format>,\n",
       " 'AliensOfLondon': <1x3467 sparse matrix of type '<class 'numpy.float64'>'\n",
       " \twith 6 stored elements in Compressed Sparse Row format>,\n",
       " 'AlisaurusL': <1x3467 sparse matrix of type '<class 'numpy.float64'>'\n",
       " \twith 3 stored elements in Compressed Sparse Row format>,\n",
       " 'Alisazzz': <1x3467 sparse matrix of type '<class 'numpy.float64'>'\n",
       " \twith 1 stored elements in Compressed Sparse Row format>,\n",
       " 'AliveAndThenSome': <1x3467 sparse matrix of type '<class 'numpy.float64'>'\n",
       " \twith 7 stored elements in Compressed Sparse Row format>,\n",
       " 'AllHailTheCloud': <1x3467 sparse matrix of type '<class 'numpy.float64'>'\n",
       " \twith 3 stored elements in Compressed Sparse Row format>,\n",
       " 'AllIdoisWhine': <1x3467 sparse matrix of type '<class 'numpy.float64'>'\n",
       " \twith 2 stored elements in Compressed Sparse Row format>,\n",
       " 'AllMadHere': <1x3467 sparse matrix of type '<class 'numpy.float64'>'\n",
       " \twith 12 stored elements in Compressed Sparse Row format>,\n",
       " 'AllThatAndAChipsBag': <1x3467 sparse matrix of type '<class 'numpy.float64'>'\n",
       " \twith 3 stored elements in Compressed Sparse Row format>,\n",
       " 'All_Under_Heaven': <1x3467 sparse matrix of type '<class 'numpy.float64'>'\n",
       " \twith 17 stored elements in Compressed Sparse Row format>,\n",
       " 'Alleycat_Caveman': <1x3467 sparse matrix of type '<class 'numpy.float64'>'\n",
       " \twith 1 stored elements in Compressed Sparse Row format>,\n",
       " 'Allternator': <1x3467 sparse matrix of type '<class 'numpy.float64'>'\n",
       " \twith 20 stored elements in Compressed Sparse Row format>,\n",
       " 'Allthisandbrains2': <1x3467 sparse matrix of type '<class 'numpy.float64'>'\n",
       " \twith 5 stored elements in Compressed Sparse Row format>,\n",
       " 'Almachtigheid': <1x3467 sparse matrix of type '<class 'numpy.float64'>'\n",
       " \twith 3 stored elements in Compressed Sparse Row format>,\n",
       " 'AlmightyRedditor': <1x3467 sparse matrix of type '<class 'numpy.float64'>'\n",
       " \twith 2 stored elements in Compressed Sparse Row format>,\n",
       " 'Almighty_Egg': <1x3467 sparse matrix of type '<class 'numpy.float64'>'\n",
       " \twith 9 stored elements in Compressed Sparse Row format>,\n",
       " 'AlmondMilkTea': <1x3467 sparse matrix of type '<class 'numpy.float64'>'\n",
       " \twith 4 stored elements in Compressed Sparse Row format>,\n",
       " 'AlmostNameless': <1x3467 sparse matrix of type '<class 'numpy.float64'>'\n",
       " \twith 5 stored elements in Compressed Sparse Row format>,\n",
       " 'AlmostVentured_': <1x3467 sparse matrix of type '<class 'numpy.float64'>'\n",
       " \twith 15 stored elements in Compressed Sparse Row format>,\n",
       " 'AlpacaFight': <1x3467 sparse matrix of type '<class 'numpy.float64'>'\n",
       " \twith 11 stored elements in Compressed Sparse Row format>,\n",
       " 'AlphabetSo0p': <1x3467 sparse matrix of type '<class 'numpy.float64'>'\n",
       " \twith 3 stored elements in Compressed Sparse Row format>,\n",
       " 'Alphabetspaghettios': <1x3467 sparse matrix of type '<class 'numpy.float64'>'\n",
       " \twith 2 stored elements in Compressed Sparse Row format>,\n",
       " 'Alphadestrious': <1x3467 sparse matrix of type '<class 'numpy.float64'>'\n",
       " \twith 24 stored elements in Compressed Sparse Row format>,\n",
       " 'Alphaomega92': <1x3467 sparse matrix of type '<class 'numpy.float64'>'\n",
       " \twith 2 stored elements in Compressed Sparse Row format>,\n",
       " 'Alphonse_H_Bundy': <1x3467 sparse matrix of type '<class 'numpy.float64'>'\n",
       " \twith 4 stored elements in Compressed Sparse Row format>,\n",
       " 'Alt-F-Throwaway': <1x3467 sparse matrix of type '<class 'numpy.float64'>'\n",
       " \twith 1 stored elements in Compressed Sparse Row format>,\n",
       " 'AlternEgo': <1x3467 sparse matrix of type '<class 'numpy.float64'>'\n",
       " \twith 5 stored elements in Compressed Sparse Row format>,\n",
       " 'Altessa': <1x3467 sparse matrix of type '<class 'numpy.float64'>'\n",
       " \twith 13 stored elements in Compressed Sparse Row format>,\n",
       " 'AltruisticAlice': <1x3467 sparse matrix of type '<class 'numpy.float64'>'\n",
       " \twith 4 stored elements in Compressed Sparse Row format>,\n",
       " 'Alucard_draculA': <1x3467 sparse matrix of type '<class 'numpy.float64'>'\n",
       " \twith 10 stored elements in Compressed Sparse Row format>,\n",
       " 'Alv2Rde': <1x3467 sparse matrix of type '<class 'numpy.float64'>'\n",
       " \twith 10 stored elements in Compressed Sparse Row format>,\n",
       " 'AlvinTheBest': <1x3467 sparse matrix of type '<class 'numpy.float64'>'\n",
       " \twith 7 stored elements in Compressed Sparse Row format>,\n",
       " 'AlwaysHopelesslyLost': <1x3467 sparse matrix of type '<class 'numpy.float64'>'\n",
       " \twith 7 stored elements in Compressed Sparse Row format>,\n",
       " 'AlwaysTheBigSpoon': <1x3467 sparse matrix of type '<class 'numpy.float64'>'\n",
       " \twith 2 stored elements in Compressed Sparse Row format>,\n",
       " 'Always_Daria': <1x3467 sparse matrix of type '<class 'numpy.float64'>'\n",
       " \twith 5 stored elements in Compressed Sparse Row format>,\n",
       " 'Alxrockz': <1x3467 sparse matrix of type '<class 'numpy.float64'>'\n",
       " \twith 12 stored elements in Compressed Sparse Row format>,\n",
       " 'AlySedai': <1x3467 sparse matrix of type '<class 'numpy.float64'>'\n",
       " \twith 2 stored elements in Compressed Sparse Row format>,\n",
       " 'AlyoChem': <1x3467 sparse matrix of type '<class 'numpy.float64'>'\n",
       " \twith 14 stored elements in Compressed Sparse Row format>,\n",
       " 'AlyxVeldin': <1x3467 sparse matrix of type '<class 'numpy.float64'>'\n",
       " \twith 3 stored elements in Compressed Sparse Row format>,\n",
       " 'Am3ricanN3ro': <1x3467 sparse matrix of type '<class 'numpy.float64'>'\n",
       " \twith 11 stored elements in Compressed Sparse Row format>,\n",
       " 'Amadameus': <1x3467 sparse matrix of type '<class 'numpy.float64'>'\n",
       " \twith 5 stored elements in Compressed Sparse Row format>,\n",
       " 'AmadeusMadison': <1x3467 sparse matrix of type '<class 'numpy.float64'>'\n",
       " \twith 9 stored elements in Compressed Sparse Row format>,\n",
       " 'AmantisAsoko': <1x3467 sparse matrix of type '<class 'numpy.float64'>'\n",
       " \twith 36 stored elements in Compressed Sparse Row format>,\n",
       " 'Amazingness905': <1x3467 sparse matrix of type '<class 'numpy.float64'>'\n",
       " \twith 13 stored elements in Compressed Sparse Row format>,\n",
       " 'AmberFellows': <1x3467 sparse matrix of type '<class 'numpy.float64'>'\n",
       " \twith 6 stored elements in Compressed Sparse Row format>,\n",
       " 'Ambitus': <1x3467 sparse matrix of type '<class 'numpy.float64'>'\n",
       " \twith 6 stored elements in Compressed Sparse Row format>,\n",
       " 'Amelora': <1x3467 sparse matrix of type '<class 'numpy.float64'>'\n",
       " \twith 8 stored elements in Compressed Sparse Row format>,\n",
       " 'Amerikai': <1x3467 sparse matrix of type '<class 'numpy.float64'>'\n",
       " \twith 18 stored elements in Compressed Sparse Row format>,\n",
       " 'Aminon': <1x3467 sparse matrix of type '<class 'numpy.float64'>'\n",
       " \twith 2 stored elements in Compressed Sparse Row format>,\n",
       " 'Amitron89': <1x3467 sparse matrix of type '<class 'numpy.float64'>'\n",
       " \twith 14 stored elements in Compressed Sparse Row format>,\n",
       " 'Amj161': <1x3467 sparse matrix of type '<class 'numpy.float64'>'\n",
       " \twith 13 stored elements in Compressed Sparse Row format>,\n",
       " 'AmondaPls': <1x3467 sparse matrix of type '<class 'numpy.float64'>'\n",
       " \twith 1 stored elements in Compressed Sparse Row format>,\n",
       " 'Amoner': <1x3467 sparse matrix of type '<class 'numpy.float64'>'\n",
       " \twith 10 stored elements in Compressed Sparse Row format>,\n",
       " 'Amonette2012': <1x3467 sparse matrix of type '<class 'numpy.float64'>'\n",
       " \twith 68 stored elements in Compressed Sparse Row format>,\n",
       " 'Amunium': <1x3467 sparse matrix of type '<class 'numpy.float64'>'\n",
       " \twith 40 stored elements in Compressed Sparse Row format>,\n",
       " 'AmyNeedsFun': <1x3467 sparse matrix of type '<class 'numpy.float64'>'\n",
       " \twith 2 stored elements in Compressed Sparse Row format>,\n",
       " 'Amygdalar': <1x3467 sparse matrix of type '<class 'numpy.float64'>'\n",
       " \twith 11 stored elements in Compressed Sparse Row format>,\n",
       " 'AnAnaFrances': <1x3467 sparse matrix of type '<class 'numpy.float64'>'\n",
       " \twith 2 stored elements in Compressed Sparse Row format>,\n",
       " 'AnEmptyBottle': <1x3467 sparse matrix of type '<class 'numpy.float64'>'\n",
       " \twith 5 stored elements in Compressed Sparse Row format>,\n",
       " 'AnExoticLlama': <1x3467 sparse matrix of type '<class 'numpy.float64'>'\n",
       " \twith 9 stored elements in Compressed Sparse Row format>,\n",
       " 'AnJu91': <1x3467 sparse matrix of type '<class 'numpy.float64'>'\n",
       " \twith 24 stored elements in Compressed Sparse Row format>,\n",
       " 'An_Ex_Leper': <1x3467 sparse matrix of type '<class 'numpy.float64'>'\n",
       " \twith 2 stored elements in Compressed Sparse Row format>,\n",
       " 'An_entire_Grapefruit': <1x3467 sparse matrix of type '<class 'numpy.float64'>'\n",
       " \twith 8 stored elements in Compressed Sparse Row format>,\n",
       " 'Anab10sis': <1x3467 sparse matrix of type '<class 'numpy.float64'>'\n",
       " \twith 5 stored elements in Compressed Sparse Row format>,\n",
       " 'Anach': <1x3467 sparse matrix of type '<class 'numpy.float64'>'\n",
       " \twith 3 stored elements in Compressed Sparse Row format>,\n",
       " 'Anal_Scrubs': <1x3467 sparse matrix of type '<class 'numpy.float64'>'\n",
       " \twith 7 stored elements in Compressed Sparse Row format>,\n",
       " 'Analog265': <1x3467 sparse matrix of type '<class 'numpy.float64'>'\n",
       " \twith 22 stored elements in Compressed Sparse Row format>,\n",
       " 'Ananzy': <1x3467 sparse matrix of type '<class 'numpy.float64'>'\n",
       " \twith 11 stored elements in Compressed Sparse Row format>,\n",
       " 'Anarquisto': <1x3467 sparse matrix of type '<class 'numpy.float64'>'\n",
       " \twith 19 stored elements in Compressed Sparse Row format>,\n",
       " 'Anaximander23': <1x3467 sparse matrix of type '<class 'numpy.float64'>'\n",
       " \twith 7 stored elements in Compressed Sparse Row format>,\n",
       " 'AndTheAnswerIs42': <1x3467 sparse matrix of type '<class 'numpy.float64'>'\n",
       " \twith 4 stored elements in Compressed Sparse Row format>,\n",
       " 'Andhareall': <1x3467 sparse matrix of type '<class 'numpy.float64'>'\n",
       " \twith 17 stored elements in Compressed Sparse Row format>,\n",
       " 'Andiemus': <1x3467 sparse matrix of type '<class 'numpy.float64'>'\n",
       " \twith 8 stored elements in Compressed Sparse Row format>,\n",
       " 'Andrew9623': <1x3467 sparse matrix of type '<class 'numpy.float64'>'\n",
       " \twith 20 stored elements in Compressed Sparse Row format>,\n",
       " 'AndrewBGM': <1x3467 sparse matrix of type '<class 'numpy.float64'>'\n",
       " \twith 4 stored elements in Compressed Sparse Row format>,\n",
       " 'AndroidFromND': <1x3467 sparse matrix of type '<class 'numpy.float64'>'\n",
       " \twith 3 stored elements in Compressed Sparse Row format>,\n",
       " 'Andy591': <1x3467 sparse matrix of type '<class 'numpy.float64'>'\n",
       " \twith 2 stored elements in Compressed Sparse Row format>,\n",
       " 'AndyBennett': <1x3467 sparse matrix of type '<class 'numpy.float64'>'\n",
       " \twith 25 stored elements in Compressed Sparse Row format>,\n",
       " 'AndyBerNardDawg': <1x3467 sparse matrix of type '<class 'numpy.float64'>'\n",
       " \twith 5 stored elements in Compressed Sparse Row format>,\n",
       " 'AndySocks': <1x3467 sparse matrix of type '<class 'numpy.float64'>'\n",
       " \twith 10 stored elements in Compressed Sparse Row format>,\n",
       " 'Aneranium': <1x3467 sparse matrix of type '<class 'numpy.float64'>'\n",
       " \twith 11 stored elements in Compressed Sparse Row format>,\n",
       " 'AngelOfDoom': <1x3467 sparse matrix of type '<class 'numpy.float64'>'\n",
       " \twith 5 stored elements in Compressed Sparse Row format>,\n",
       " 'AngelOfMusic42': <1x3467 sparse matrix of type '<class 'numpy.float64'>'\n",
       " \twith 1 stored elements in Compressed Sparse Row format>,\n",
       " 'AngelSaysNo': <1x3467 sparse matrix of type '<class 'numpy.float64'>'\n",
       " \twith 37 stored elements in Compressed Sparse Row format>,\n",
       " 'Angelus414': <1x3467 sparse matrix of type '<class 'numpy.float64'>'\n",
       " \twith 5 stored elements in Compressed Sparse Row format>,\n",
       " 'AngryBorscht': <1x3467 sparse matrix of type '<class 'numpy.float64'>'\n",
       " \twith 1 stored elements in Compressed Sparse Row format>,\n",
       " 'Anileda': <1x3467 sparse matrix of type '<class 'numpy.float64'>'\n",
       " \twith 3 stored elements in Compressed Sparse Row format>,\n",
       " 'AnimaIibera': <1x3467 sparse matrix of type '<class 'numpy.float64'>'\n",
       " \twith 1 stored elements in Compressed Sparse Row format>,\n",
       " 'AnimusHerb240': <1x3467 sparse matrix of type '<class 'numpy.float64'>'\n",
       " \twith 11 stored elements in Compressed Sparse Row format>,\n",
       " 'AnnBland': <1x3467 sparse matrix of type '<class 'numpy.float64'>'\n",
       " \twith 4 stored elements in Compressed Sparse Row format>,\n",
       " 'Anna_Banananana': <1x3467 sparse matrix of type '<class 'numpy.float64'>'\n",
       " \twith 7 stored elements in Compressed Sparse Row format>,\n",
       " 'AnneAnubi': <1x3467 sparse matrix of type '<class 'numpy.float64'>'\n",
       " \twith 1 stored elements in Compressed Sparse Row format>,\n",
       " 'Anneal': <1x3467 sparse matrix of type '<class 'numpy.float64'>'\n",
       " \twith 3 stored elements in Compressed Sparse Row format>,\n",
       " 'AnnoyingFaecbookGirl': <1x3467 sparse matrix of type '<class 'numpy.float64'>'\n",
       " \twith 4 stored elements in Compressed Sparse Row format>,\n",
       " 'Anomaly88': <1x3467 sparse matrix of type '<class 'numpy.float64'>'\n",
       " \twith 6 stored elements in Compressed Sparse Row format>,\n",
       " 'Anonasty': <1x3467 sparse matrix of type '<class 'numpy.float64'>'\n",
       " \twith 23 stored elements in Compressed Sparse Row format>,\n",
       " 'Anonimity_Is_Key': <1x3467 sparse matrix of type '<class 'numpy.float64'>'\n",
       " \twith 1 stored elements in Compressed Sparse Row format>,\n",
       " 'Anonivixen': <1x3467 sparse matrix of type '<class 'numpy.float64'>'\n",
       " \twith 25 stored elements in Compressed Sparse Row format>,\n",
       " 'Anonnov': <1x3467 sparse matrix of type '<class 'numpy.float64'>'\n",
       " \twith 8 stored elements in Compressed Sparse Row format>,\n",
       " 'Anonymoose728': <1x3467 sparse matrix of type '<class 'numpy.float64'>'\n",
       " \twith 1 stored elements in Compressed Sparse Row format>,\n",
       " 'AnotherCrazyChick': <1x3467 sparse matrix of type '<class 'numpy.float64'>'\n",
       " \twith 8 stored elements in Compressed Sparse Row format>,\n",
       " 'AnotherSmegHead': <1x3467 sparse matrix of type '<class 'numpy.float64'>'\n",
       " \twith 56 stored elements in Compressed Sparse Row format>,\n",
       " 'Antacid258': <1x3467 sparse matrix of type '<class 'numpy.float64'>'\n",
       " \twith 6 stored elements in Compressed Sparse Row format>,\n",
       " 'Antebios': <1x3467 sparse matrix of type '<class 'numpy.float64'>'\n",
       " \twith 44 stored elements in Compressed Sparse Row format>,\n",
       " 'Anthematics': <1x3467 sparse matrix of type '<class 'numpy.float64'>'\n",
       " \twith 6 stored elements in Compressed Sparse Row format>,\n",
       " 'AnthonyG23': <1x3467 sparse matrix of type '<class 'numpy.float64'>'\n",
       " \twith 3 stored elements in Compressed Sparse Row format>,\n",
       " 'AnthonyHilton': <1x3467 sparse matrix of type '<class 'numpy.float64'>'\n",
       " \twith 1 stored elements in Compressed Sparse Row format>,\n",
       " 'Anyasometimes': <1x3467 sparse matrix of type '<class 'numpy.float64'>'\n",
       " \twith 7 stored elements in Compressed Sparse Row format>,\n",
       " 'AnyelevNokova': <1x3467 sparse matrix of type '<class 'numpy.float64'>'\n",
       " \twith 12 stored elements in Compressed Sparse Row format>,\n",
       " 'ApocaLiz': <1x3467 sparse matrix of type '<class 'numpy.float64'>'\n",
       " \twith 18 stored elements in Compressed Sparse Row format>,\n",
       " 'Apocalypte': <1x3467 sparse matrix of type '<class 'numpy.float64'>'\n",
       " \twith 16 stored elements in Compressed Sparse Row format>,\n",
       " 'Apocolypse007': <1x3467 sparse matrix of type '<class 'numpy.float64'>'\n",
       " \twith 22 stored elements in Compressed Sparse Row format>,\n",
       " 'Apolik': <1x3467 sparse matrix of type '<class 'numpy.float64'>'\n",
       " \twith 41 stored elements in Compressed Sparse Row format>,\n",
       " 'Apollo908': <1x3467 sparse matrix of type '<class 'numpy.float64'>'\n",
       " \twith 3 stored elements in Compressed Sparse Row format>,\n",
       " 'ApolloGiant': <1x3467 sparse matrix of type '<class 'numpy.float64'>'\n",
       " \twith 10 stored elements in Compressed Sparse Row format>,\n",
       " 'Apollytes': <1x3467 sparse matrix of type '<class 'numpy.float64'>'\n",
       " \twith 1 stored elements in Compressed Sparse Row format>,\n",
       " 'AppleAtrocity': <1x3467 sparse matrix of type '<class 'numpy.float64'>'\n",
       " \twith 18 stored elements in Compressed Sparse Row format>,\n",
       " 'AppleLamp': <1x3467 sparse matrix of type '<class 'numpy.float64'>'\n",
       " \twith 3 stored elements in Compressed Sparse Row format>,\n",
       " 'AppleMeow': <1x3467 sparse matrix of type '<class 'numpy.float64'>'\n",
       " \twith 17 stored elements in Compressed Sparse Row format>,\n",
       " 'Aptom_4': <1x3467 sparse matrix of type '<class 'numpy.float64'>'\n",
       " \twith 25 stored elements in Compressed Sparse Row format>,\n",
       " 'Apwek': <1x3467 sparse matrix of type '<class 'numpy.float64'>'\n",
       " \twith 3 stored elements in Compressed Sparse Row format>,\n",
       " 'Aqueous_Lightning': <1x3467 sparse matrix of type '<class 'numpy.float64'>'\n",
       " \twith 3 stored elements in Compressed Sparse Row format>,\n",
       " 'AraTheAwesome': <1x3467 sparse matrix of type '<class 'numpy.float64'>'\n",
       " \twith 3 stored elements in Compressed Sparse Row format>,\n",
       " 'Arandanos': <1x3467 sparse matrix of type '<class 'numpy.float64'>'\n",
       " \twith 5 stored elements in Compressed Sparse Row format>,\n",
       " 'Arayle': <1x3467 sparse matrix of type '<class 'numpy.float64'>'\n",
       " \twith 1 stored elements in Compressed Sparse Row format>,\n",
       " 'Arbitrage84': <1x3467 sparse matrix of type '<class 'numpy.float64'>'\n",
       " \twith 19 stored elements in Compressed Sparse Row format>,\n",
       " 'ArcFurnace': <1x3467 sparse matrix of type '<class 'numpy.float64'>'\n",
       " \twith 5 stored elements in Compressed Sparse Row format>,\n",
       " 'Arcaad': <1x3467 sparse matrix of type '<class 'numpy.float64'>'\n",
       " \twith 3 stored elements in Compressed Sparse Row format>,\n",
       " 'ArcanErasmus': <1x3467 sparse matrix of type '<class 'numpy.float64'>'\n",
       " \twith 7 stored elements in Compressed Sparse Row format>,\n",
       " 'ArchaeologyNerd': <1x3467 sparse matrix of type '<class 'numpy.float64'>'\n",
       " \twith 1 stored elements in Compressed Sparse Row format>,\n",
       " 'Archammes': <1x3467 sparse matrix of type '<class 'numpy.float64'>'\n",
       " \twith 2 stored elements in Compressed Sparse Row format>,\n",
       " 'ArchangelleShitspoon': <1x3467 sparse matrix of type '<class 'numpy.float64'>'\n",
       " \twith 4 stored elements in Compressed Sparse Row format>,\n",
       " 'Archenoth': <1x3467 sparse matrix of type '<class 'numpy.float64'>'\n",
       " \twith 7 stored elements in Compressed Sparse Row format>,\n",
       " 'ArcherofArchet': <1x3467 sparse matrix of type '<class 'numpy.float64'>'\n",
       " \twith 11 stored elements in Compressed Sparse Row format>,\n",
       " 'Arcsis': <1x3467 sparse matrix of type '<class 'numpy.float64'>'\n",
       " \twith 11 stored elements in Compressed Sparse Row format>,\n",
       " 'ArealA23': <1x3467 sparse matrix of type '<class 'numpy.float64'>'\n",
       " \twith 1 stored elements in Compressed Sparse Row format>,\n",
       " 'Areat': <1x3467 sparse matrix of type '<class 'numpy.float64'>'\n",
       " \twith 30 stored elements in Compressed Sparse Row format>,\n",
       " 'Arecam': <1x3467 sparse matrix of type '<class 'numpy.float64'>'\n",
       " \twith 6 stored elements in Compressed Sparse Row format>,\n",
       " 'AreoWolf': <1x3467 sparse matrix of type '<class 'numpy.float64'>'\n",
       " \twith 9 stored elements in Compressed Sparse Row format>,\n",
       " 'ArgyleMN': <1x3467 sparse matrix of type '<class 'numpy.float64'>'\n",
       " \twith 6 stored elements in Compressed Sparse Row format>,\n",
       " 'AriMaeda': <1x3467 sparse matrix of type '<class 'numpy.float64'>'\n",
       " \twith 8 stored elements in Compressed Sparse Row format>,\n",
       " 'AriaOfHavoc': <1x3467 sparse matrix of type '<class 'numpy.float64'>'\n",
       " \twith 1 stored elements in Compressed Sparse Row format>,\n",
       " 'Arium': <1x3467 sparse matrix of type '<class 'numpy.float64'>'\n",
       " \twith 2 stored elements in Compressed Sparse Row format>,\n",
       " 'Ariy_chan': <1x3467 sparse matrix of type '<class 'numpy.float64'>'\n",
       " \twith 12 stored elements in Compressed Sparse Row format>,\n",
       " 'Arkanta': <1x3467 sparse matrix of type '<class 'numpy.float64'>'\n",
       " \twith 17 stored elements in Compressed Sparse Row format>,\n",
       " 'Arkeaus': <1x3467 sparse matrix of type '<class 'numpy.float64'>'\n",
       " \twith 8 stored elements in Compressed Sparse Row format>,\n",
       " 'ArkitekZero': <1x3467 sparse matrix of type '<class 'numpy.float64'>'\n",
       " \twith 12 stored elements in Compressed Sparse Row format>,\n",
       " 'Arlieth': <1x3467 sparse matrix of type '<class 'numpy.float64'>'\n",
       " \twith 61 stored elements in Compressed Sparse Row format>,\n",
       " 'Armagetiton': <1x3467 sparse matrix of type '<class 'numpy.float64'>'\n",
       " \twith 36 stored elements in Compressed Sparse Row format>,\n",
       " 'ArmedTechie': <1x3467 sparse matrix of type '<class 'numpy.float64'>'\n",
       " \twith 17 stored elements in Compressed Sparse Row format>,\n",
       " 'Armon2010': <1x3467 sparse matrix of type '<class 'numpy.float64'>'\n",
       " \twith 1 stored elements in Compressed Sparse Row format>,\n",
       " 'Armunt': <1x3467 sparse matrix of type '<class 'numpy.float64'>'\n",
       " \twith 1 stored elements in Compressed Sparse Row format>,\n",
       " 'ArmyGuy543': <1x3467 sparse matrix of type '<class 'numpy.float64'>'\n",
       " \twith 2 stored elements in Compressed Sparse Row format>,\n",
       " 'ArniePalmys': <1x3467 sparse matrix of type '<class 'numpy.float64'>'\n",
       " \twith 39 stored elements in Compressed Sparse Row format>,\n",
       " 'Arqueete': <1x3467 sparse matrix of type '<class 'numpy.float64'>'\n",
       " \twith 6 stored elements in Compressed Sparse Row format>,\n",
       " 'Arrys': <1x3467 sparse matrix of type '<class 'numpy.float64'>'\n",
       " \twith 7 stored elements in Compressed Sparse Row format>,\n",
       " 'Arswaw': <1x3467 sparse matrix of type '<class 'numpy.float64'>'\n",
       " \twith 11 stored elements in Compressed Sparse Row format>,\n",
       " 'Artemis_Sniper': <1x3467 sparse matrix of type '<class 'numpy.float64'>'\n",
       " \twith 5 stored elements in Compressed Sparse Row format>,\n",
       " 'ArthurTrollington': <1x3467 sparse matrix of type '<class 'numpy.float64'>'\n",
       " \twith 21 stored elements in Compressed Sparse Row format>,\n",
       " 'ArtisticD': <1x3467 sparse matrix of type '<class 'numpy.float64'>'\n",
       " \twith 1 stored elements in Compressed Sparse Row format>,\n",
       " 'ArtmanOz': <1x3467 sparse matrix of type '<class 'numpy.float64'>'\n",
       " \twith 5 stored elements in Compressed Sparse Row format>,\n",
       " 'ArtsyMNKid': <1x3467 sparse matrix of type '<class 'numpy.float64'>'\n",
       " \twith 14 stored elements in Compressed Sparse Row format>,\n",
       " 'Arukemos': <1x3467 sparse matrix of type '<class 'numpy.float64'>'\n",
       " \twith 6 stored elements in Compressed Sparse Row format>,\n",
       " 'Arvore': <1x3467 sparse matrix of type '<class 'numpy.float64'>'\n",
       " \twith 2 stored elements in Compressed Sparse Row format>,\n",
       " 'AryaBreaksBad': <1x3467 sparse matrix of type '<class 'numpy.float64'>'\n",
       " \twith 22 stored elements in Compressed Sparse Row format>,\n",
       " 'AsInOptimus': <1x3467 sparse matrix of type '<class 'numpy.float64'>'\n",
       " \twith 6 stored elements in Compressed Sparse Row format>,\n",
       " 'Asbjorno': <1x3467 sparse matrix of type '<class 'numpy.float64'>'\n",
       " \twith 7 stored elements in Compressed Sparse Row format>,\n",
       " 'Asdar': <1x3467 sparse matrix of type '<class 'numpy.float64'>'\n",
       " \twith 1 stored elements in Compressed Sparse Row format>,\n",
       " 'Asdetevo': <1x3467 sparse matrix of type '<class 'numpy.float64'>'\n",
       " \twith 3 stored elements in Compressed Sparse Row format>,\n",
       " 'AshKatchup': <1x3467 sparse matrix of type '<class 'numpy.float64'>'\n",
       " \twith 4 stored elements in Compressed Sparse Row format>,\n",
       " 'Ashihna': <1x3467 sparse matrix of type '<class 'numpy.float64'>'\n",
       " \twith 24 stored elements in Compressed Sparse Row format>,\n",
       " 'AshleyCraft1': <1x3467 sparse matrix of type '<class 'numpy.float64'>'\n",
       " \twith 3 stored elements in Compressed Sparse Row format>,\n",
       " 'AshleyYakeley': <1x3467 sparse matrix of type '<class 'numpy.float64'>'\n",
       " \twith 11 stored elements in Compressed Sparse Row format>,\n",
       " 'AshtraySoul': <1x3467 sparse matrix of type '<class 'numpy.float64'>'\n",
       " \twith 8 stored elements in Compressed Sparse Row format>,\n",
       " 'AsianEnigma': <1x3467 sparse matrix of type '<class 'numpy.float64'>'\n",
       " \twith 7 stored elements in Compressed Sparse Row format>,\n",
       " 'Asinda': <1x3467 sparse matrix of type '<class 'numpy.float64'>'\n",
       " \twith 2 stored elements in Compressed Sparse Row format>,\n",
       " 'Askebaske': <1x3467 sparse matrix of type '<class 'numpy.float64'>'\n",
       " \twith 7 stored elements in Compressed Sparse Row format>,\n",
       " 'AsmoDeus_G': <1x3467 sparse matrix of type '<class 'numpy.float64'>'\n",
       " \twith 11 stored elements in Compressed Sparse Row format>,\n",
       " 'AssaultKommando': <1x3467 sparse matrix of type '<class 'numpy.float64'>'\n",
       " \twith 23 stored elements in Compressed Sparse Row format>,\n",
       " 'Asseman': <1x3467 sparse matrix of type '<class 'numpy.float64'>'\n",
       " \twith 9 stored elements in Compressed Sparse Row format>,\n",
       " 'Astarlyne': <1x3467 sparse matrix of type '<class 'numpy.float64'>'\n",
       " \twith 3 stored elements in Compressed Sparse Row format>,\n",
       " 'AstonishingX-Woman': <1x3467 sparse matrix of type '<class 'numpy.float64'>'\n",
       " \twith 8 stored elements in Compressed Sparse Row format>,\n",
       " 'Astraloid': <1x3467 sparse matrix of type '<class 'numpy.float64'>'\n",
       " \twith 7 stored elements in Compressed Sparse Row format>,\n",
       " 'AstroAndy': <1x3467 sparse matrix of type '<class 'numpy.float64'>'\n",
       " \twith 2 stored elements in Compressed Sparse Row format>,\n",
       " 'Asunder_': <1x3467 sparse matrix of type '<class 'numpy.float64'>'\n",
       " \twith 10 stored elements in Compressed Sparse Row format>,\n",
       " 'Asuperniceguy': <1x3467 sparse matrix of type '<class 'numpy.float64'>'\n",
       " \twith 21 stored elements in Compressed Sparse Row format>,\n",
       " 'AsusFarstrider': <1x3467 sparse matrix of type '<class 'numpy.float64'>'\n",
       " \twith 1 stored elements in Compressed Sparse Row format>,\n",
       " 'Asuup': <1x3467 sparse matrix of type '<class 'numpy.float64'>'\n",
       " \twith 2 stored elements in Compressed Sparse Row format>,\n",
       " 'Atiqua': <1x3467 sparse matrix of type '<class 'numpy.float64'>'\n",
       " \twith 1 stored elements in Compressed Sparse Row format>,\n",
       " 'Atiran': <1x3467 sparse matrix of type '<class 'numpy.float64'>'\n",
       " \twith 3 stored elements in Compressed Sparse Row format>,\n",
       " 'AtlasRaps': <1x3467 sparse matrix of type '<class 'numpy.float64'>'\n",
       " \twith 8 stored elements in Compressed Sparse Row format>,\n",
       " 'Atlas_Above': <1x3467 sparse matrix of type '<class 'numpy.float64'>'\n",
       " \twith 7 stored elements in Compressed Sparse Row format>,\n",
       " 'Atlascell': <1x3467 sparse matrix of type '<class 'numpy.float64'>'\n",
       " \twith 3 stored elements in Compressed Sparse Row format>,\n",
       " 'Atmozfears': <1x3467 sparse matrix of type '<class 'numpy.float64'>'\n",
       " \twith 10 stored elements in Compressed Sparse Row format>,\n",
       " 'Atrus2k': <1x3467 sparse matrix of type '<class 'numpy.float64'>'\n",
       " \twith 14 stored elements in Compressed Sparse Row format>,\n",
       " 'AtsirkEnots': <1x3467 sparse matrix of type '<class 'numpy.float64'>'\n",
       " \twith 2 stored elements in Compressed Sparse Row format>,\n",
       " 'Atzend': <1x3467 sparse matrix of type '<class 'numpy.float64'>'\n",
       " \twith 11 stored elements in Compressed Sparse Row format>,\n",
       " 'Ausboz101': <1x3467 sparse matrix of type '<class 'numpy.float64'>'\n",
       " \twith 3 stored elements in Compressed Sparse Row format>,\n",
       " 'Austaph': <1x3467 sparse matrix of type '<class 'numpy.float64'>'\n",
       " \twith 2 stored elements in Compressed Sparse Row format>,\n",
       " 'Austenismyhomegirl': <1x3467 sparse matrix of type '<class 'numpy.float64'>'\n",
       " \twith 12 stored elements in Compressed Sparse Row format>,\n",
       " 'Authiel': <1x3467 sparse matrix of type '<class 'numpy.float64'>'\n",
       " \twith 2 stored elements in Compressed Sparse Row format>,\n",
       " 'AutumnInJapan': <1x3467 sparse matrix of type '<class 'numpy.float64'>'\n",
       " \twith 25 stored elements in Compressed Sparse Row format>,\n",
       " 'AutumnStar': <1x3467 sparse matrix of type '<class 'numpy.float64'>'\n",
       " \twith 15 stored elements in Compressed Sparse Row format>,\n",
       " 'Avalessa': <1x3467 sparse matrix of type '<class 'numpy.float64'>'\n",
       " \twith 16 stored elements in Compressed Sparse Row format>,\n",
       " 'Avarise': <1x3467 sparse matrix of type '<class 'numpy.float64'>'\n",
       " \twith 12 stored elements in Compressed Sparse Row format>,\n",
       " 'AverageCanuck': <1x3467 sparse matrix of type '<class 'numpy.float64'>'\n",
       " \twith 2 stored elements in Compressed Sparse Row format>,\n",
       " 'AverageHoe': <1x3467 sparse matrix of type '<class 'numpy.float64'>'\n",
       " \twith 1 stored elements in Compressed Sparse Row format>,\n",
       " 'Avery17': <1x3467 sparse matrix of type '<class 'numpy.float64'>'\n",
       " \twith 6 stored elements in Compressed Sparse Row format>,\n",
       " 'AvidRead': <1x3467 sparse matrix of type '<class 'numpy.float64'>'\n",
       " \twith 1 stored elements in Compressed Sparse Row format>,\n",
       " 'AvoidTheSky': <1x3467 sparse matrix of type '<class 'numpy.float64'>'\n",
       " \twith 1 stored elements in Compressed Sparse Row format>,\n",
       " 'AvoidingIowa': <1x3467 sparse matrix of type '<class 'numpy.float64'>'\n",
       " \twith 23 stored elements in Compressed Sparse Row format>,\n",
       " 'Awbade': <1x3467 sparse matrix of type '<class 'numpy.float64'>'\n",
       " \twith 16 stored elements in Compressed Sparse Row format>,\n",
       " 'Awful_Person': <1x3467 sparse matrix of type '<class 'numpy.float64'>'\n",
       " \twith 3 stored elements in Compressed Sparse Row format>,\n",
       " 'Awkwaaaard': <1x3467 sparse matrix of type '<class 'numpy.float64'>'\n",
       " \twith 4 stored elements in Compressed Sparse Row format>,\n",
       " 'AwkwardReply': <1x3467 sparse matrix of type '<class 'numpy.float64'>'\n",
       " \twith 11 stored elements in Compressed Sparse Row format>,\n",
       " 'Awkwerdna': <1x3467 sparse matrix of type '<class 'numpy.float64'>'\n",
       " \twith 11 stored elements in Compressed Sparse Row format>,\n",
       " 'Awoawesome': <1x3467 sparse matrix of type '<class 'numpy.float64'>'\n",
       " \twith 8 stored elements in Compressed Sparse Row format>,\n",
       " 'Axemantitan': <1x3467 sparse matrix of type '<class 'numpy.float64'>'\n",
       " \twith 9 stored elements in Compressed Sparse Row format>,\n",
       " 'Axotl': <1x3467 sparse matrix of type '<class 'numpy.float64'>'\n",
       " \twith 24 stored elements in Compressed Sparse Row format>,\n",
       " 'AyJayH': <1x3467 sparse matrix of type '<class 'numpy.float64'>'\n",
       " \twith 5 stored elements in Compressed Sparse Row format>,\n",
       " 'Aye-curumba': <1x3467 sparse matrix of type '<class 'numpy.float64'>'\n",
       " \twith 0 stored elements in Compressed Sparse Row format>,\n",
       " 'Ayotte': <1x3467 sparse matrix of type '<class 'numpy.float64'>'\n",
       " \twith 22 stored elements in Compressed Sparse Row format>,\n",
       " 'Azes13': <1x3467 sparse matrix of type '<class 'numpy.float64'>'\n",
       " \twith 1 stored elements in Compressed Sparse Row format>,\n",
       " 'Azhain': <1x3467 sparse matrix of type '<class 'numpy.float64'>'\n",
       " \twith 18 stored elements in Compressed Sparse Row format>,\n",
       " 'Azor2500': <1x3467 sparse matrix of type '<class 'numpy.float64'>'\n",
       " \twith 11 stored elements in Compressed Sparse Row format>,\n",
       " 'Azulsky': <1x3467 sparse matrix of type '<class 'numpy.float64'>'\n",
       " \twith 7 stored elements in Compressed Sparse Row format>,\n",
       " 'B2BombYourAss': <1x3467 sparse matrix of type '<class 'numpy.float64'>'\n",
       " \twith 8 stored elements in Compressed Sparse Row format>,\n",
       " 'BACsop': <1x3467 sparse matrix of type '<class 'numpy.float64'>'\n",
       " \twith 6 stored elements in Compressed Sparse Row format>,\n",
       " 'BARTELS-': <1x3467 sparse matrix of type '<class 'numpy.float64'>'\n",
       " \twith 9 stored elements in Compressed Sparse Row format>,\n",
       " 'BB64': <1x3467 sparse matrix of type '<class 'numpy.float64'>'\n",
       " \twith 9 stored elements in Compressed Sparse Row format>,\n",
       " 'BCsniper831': <1x3467 sparse matrix of type '<class 'numpy.float64'>'\n",
       " \twith 1 stored elements in Compressed Sparse Row format>,\n",
       " 'BDTS': <1x3467 sparse matrix of type '<class 'numpy.float64'>'\n",
       " \twith 3 stored elements in Compressed Sparse Row format>,\n",
       " 'BECKSTERRRR': <1x3467 sparse matrix of type '<class 'numpy.float64'>'\n",
       " \twith 23 stored elements in Compressed Sparse Row format>,\n",
       " 'BEZthePEZ': <1x3467 sparse matrix of type '<class 'numpy.float64'>'\n",
       " \twith 21 stored elements in Compressed Sparse Row format>,\n",
       " 'BGAL7090': <1x3467 sparse matrix of type '<class 'numpy.float64'>'\n",
       " \twith 4 stored elements in Compressed Sparse Row format>,\n",
       " 'BGirlTokki': <1x3467 sparse matrix of type '<class 'numpy.float64'>'\n",
       " \twith 4 stored elements in Compressed Sparse Row format>,\n",
       " 'BIG_BOOTY_men': <1x3467 sparse matrix of type '<class 'numpy.float64'>'\n",
       " \twith 17 stored elements in Compressed Sparse Row format>,\n",
       " 'BIGnateBIGpoppa': <1x3467 sparse matrix of type '<class 'numpy.float64'>'\n",
       " \twith 7 stored elements in Compressed Sparse Row format>,\n",
       " 'BIGxM1KE': <1x3467 sparse matrix of type '<class 'numpy.float64'>'\n",
       " \twith 4 stored elements in Compressed Sparse Row format>,\n",
       " 'BIOdire': <1x3467 sparse matrix of type '<class 'numpy.float64'>'\n",
       " \twith 7 stored elements in Compressed Sparse Row format>,\n",
       " 'BIueBlaze': <1x3467 sparse matrix of type '<class 'numpy.float64'>'\n",
       " \twith 4 stored elements in Compressed Sparse Row format>,\n",
       " 'BJRone': <1x3467 sparse matrix of type '<class 'numpy.float64'>'\n",
       " \twith 7 stored elements in Compressed Sparse Row format>,\n",
       " 'BL4IN0': <1x3467 sparse matrix of type '<class 'numpy.float64'>'\n",
       " \twith 1 stored elements in Compressed Sparse Row format>,\n",
       " 'BMFochouno': <1x3467 sparse matrix of type '<class 'numpy.float64'>'\n",
       " \twith 13 stored elements in Compressed Sparse Row format>,\n",
       " 'BOOMBOXNOTATOY': <1x3467 sparse matrix of type '<class 'numpy.float64'>'\n",
       " \twith 19 stored elements in Compressed Sparse Row format>,\n",
       " 'B_Dawg429123': <1x3467 sparse matrix of type '<class 'numpy.float64'>'\n",
       " \twith 6 stored elements in Compressed Sparse Row format>,\n",
       " 'BaRKy1911': <1x3467 sparse matrix of type '<class 'numpy.float64'>'\n",
       " \twith 9 stored elements in Compressed Sparse Row format>,\n",
       " 'Babomancer': <1x3467 sparse matrix of type '<class 'numpy.float64'>'\n",
       " \twith 33 stored elements in Compressed Sparse Row format>,\n",
       " 'BaboonFury': <1x3467 sparse matrix of type '<class 'numpy.float64'>'\n",
       " \twith 2 stored elements in Compressed Sparse Row format>,\n",
       " 'BabyArm3rdLeg': <1x3467 sparse matrix of type '<class 'numpy.float64'>'\n",
       " \twith 23 stored elements in Compressed Sparse Row format>,\n",
       " 'Backstop': <1x3467 sparse matrix of type '<class 'numpy.float64'>'\n",
       " \twith 60 stored elements in Compressed Sparse Row format>,\n",
       " 'BackwerdsMan': <1x3467 sparse matrix of type '<class 'numpy.float64'>'\n",
       " \twith 19 stored elements in Compressed Sparse Row format>,\n",
       " 'BadBadBrownStuff': <1x3467 sparse matrix of type '<class 'numpy.float64'>'\n",
       " \twith 6 stored elements in Compressed Sparse Row format>,\n",
       " 'BadWithPeoplesNames': <1x3467 sparse matrix of type '<class 'numpy.float64'>'\n",
       " \twith 44 stored elements in Compressed Sparse Row format>,\n",
       " 'BadgerBear': <1x3467 sparse matrix of type '<class 'numpy.float64'>'\n",
       " \twith 9 stored elements in Compressed Sparse Row format>,\n",
       " 'Badgers10': <1x3467 sparse matrix of type '<class 'numpy.float64'>'\n",
       " \twith 2 stored elements in Compressed Sparse Row format>,\n",
       " 'BahamutWings': <1x3467 sparse matrix of type '<class 'numpy.float64'>'\n",
       " \twith 1 stored elements in Compressed Sparse Row format>,\n",
       " 'BakSlash': <1x3467 sparse matrix of type '<class 'numpy.float64'>'\n",
       " \twith 1 stored elements in Compressed Sparse Row format>,\n",
       " 'BakedGoodGoddess': <1x3467 sparse matrix of type '<class 'numpy.float64'>'\n",
       " \twith 8 stored elements in Compressed Sparse Row format>,\n",
       " 'Bakuwoman': <1x3467 sparse matrix of type '<class 'numpy.float64'>'\n",
       " \twith 3 stored elements in Compressed Sparse Row format>,\n",
       " 'BaldCanary': <1x3467 sparse matrix of type '<class 'numpy.float64'>'\n",
       " \twith 6 stored elements in Compressed Sparse Row format>,\n",
       " 'Baldazzer': <1x3467 sparse matrix of type '<class 'numpy.float64'>'\n",
       " \twith 7 stored elements in Compressed Sparse Row format>,\n",
       " 'Baldish': <1x3467 sparse matrix of type '<class 'numpy.float64'>'\n",
       " \twith 31 stored elements in Compressed Sparse Row format>,\n",
       " 'Balieyez': <1x3467 sparse matrix of type '<class 'numpy.float64'>'\n",
       " \twith 2 stored elements in Compressed Sparse Row format>,\n",
       " 'BallroomKritz': <1x3467 sparse matrix of type '<class 'numpy.float64'>'\n",
       " \twith 1 stored elements in Compressed Sparse Row format>,\n",
       " 'BalooDP': <1x3467 sparse matrix of type '<class 'numpy.float64'>'\n",
       " \twith 14 stored elements in Compressed Sparse Row format>,\n",
       " 'BamBamBeano': <1x3467 sparse matrix of type '<class 'numpy.float64'>'\n",
       " \twith 4 stored elements in Compressed Sparse Row format>,\n",
       " 'Bambikins': <1x3467 sparse matrix of type '<class 'numpy.float64'>'\n",
       " \twith 13 stored elements in Compressed Sparse Row format>,\n",
       " 'BananaPeelSlippers': <1x3467 sparse matrix of type '<class 'numpy.float64'>'\n",
       " \twith 56 stored elements in Compressed Sparse Row format>,\n",
       " 'BandBoots': <1x3467 sparse matrix of type '<class 'numpy.float64'>'\n",
       " \twith 8 stored elements in Compressed Sparse Row format>,\n",
       " 'BandarSeriBegawan': <1x3467 sparse matrix of type '<class 'numpy.float64'>'\n",
       " \twith 33 stored elements in Compressed Sparse Row format>,\n",
       " 'BanditBadger': <1x3467 sparse matrix of type '<class 'numpy.float64'>'\n",
       " \twith 2 stored elements in Compressed Sparse Row format>,\n",
       " 'BanditMcDougal': <1x3467 sparse matrix of type '<class 'numpy.float64'>'\n",
       " \twith 17 stored elements in Compressed Sparse Row format>,\n",
       " 'BaneFlare': <1x3467 sparse matrix of type '<class 'numpy.float64'>'\n",
       " \twith 19 stored elements in Compressed Sparse Row format>,\n",
       " 'BanjoismyHomeboy': <1x3467 sparse matrix of type '<class 'numpy.float64'>'\n",
       " \twith 2 stored elements in Compressed Sparse Row format>,\n",
       " 'Bannanahatman': <1x3467 sparse matrix of type '<class 'numpy.float64'>'\n",
       " \twith 9 stored elements in Compressed Sparse Row format>,\n",
       " 'Banthum': <1x3467 sparse matrix of type '<class 'numpy.float64'>'\n",
       " \twith 7 stored elements in Compressed Sparse Row format>,\n",
       " 'Banzaiattacker': <1x3467 sparse matrix of type '<class 'numpy.float64'>'\n",
       " \twith 5 stored elements in Compressed Sparse Row format>,\n",
       " 'Bapoos': <1x3467 sparse matrix of type '<class 'numpy.float64'>'\n",
       " \twith 38 stored elements in Compressed Sparse Row format>,\n",
       " 'BaptismByFire': <1x3467 sparse matrix of type '<class 'numpy.float64'>'\n",
       " \twith 5 stored elements in Compressed Sparse Row format>,\n",
       " 'BaraStarkGaryenSter': <1x3467 sparse matrix of type '<class 'numpy.float64'>'\n",
       " \twith 7 stored elements in Compressed Sparse Row format>,\n",
       " 'BarbecueGod': <1x3467 sparse matrix of type '<class 'numpy.float64'>'\n",
       " \twith 1 stored elements in Compressed Sparse Row format>,\n",
       " 'BareBahr': <1x3467 sparse matrix of type '<class 'numpy.float64'>'\n",
       " \twith 5 stored elements in Compressed Sparse Row format>,\n",
       " 'BarelyLethal': <1x3467 sparse matrix of type '<class 'numpy.float64'>'\n",
       " \twith 20 stored elements in Compressed Sparse Row format>,\n",
       " 'Bargh9': <1x3467 sparse matrix of type '<class 'numpy.float64'>'\n",
       " \twith 2 stored elements in Compressed Sparse Row format>,\n",
       " 'Barkas': <1x3467 sparse matrix of type '<class 'numpy.float64'>'\n",
       " \twith 3 stored elements in Compressed Sparse Row format>,\n",
       " 'BarkingToad': <1x3467 sparse matrix of type '<class 'numpy.float64'>'\n",
       " \twith 17 stored elements in Compressed Sparse Row format>,\n",
       " 'BarneseyBoo': <1x3467 sparse matrix of type '<class 'numpy.float64'>'\n",
       " \twith 4 stored elements in Compressed Sparse Row format>,\n",
       " 'BarneyStinsbro': <1x3467 sparse matrix of type '<class 'numpy.float64'>'\n",
       " \twith 12 stored elements in Compressed Sparse Row format>,\n",
       " 'Baron_Rogue': <1x3467 sparse matrix of type '<class 'numpy.float64'>'\n",
       " \twith 4 stored elements in Compressed Sparse Row format>,\n",
       " 'Bartleby1955': <1x3467 sparse matrix of type '<class 'numpy.float64'>'\n",
       " \twith 16 stored elements in Compressed Sparse Row format>,\n",
       " 'Bartlet4America': <1x3467 sparse matrix of type '<class 'numpy.float64'>'\n",
       " \twith 13 stored elements in Compressed Sparse Row format>,\n",
       " 'BartokTheBat': <1x3467 sparse matrix of type '<class 'numpy.float64'>'\n",
       " \twith 9 stored elements in Compressed Sparse Row format>,\n",
       " 'BasedRod': <1x3467 sparse matrix of type '<class 'numpy.float64'>'\n",
       " \twith 7 stored elements in Compressed Sparse Row format>,\n",
       " 'BasedVOL': <1x3467 sparse matrix of type '<class 'numpy.float64'>'\n",
       " \twith 3 stored elements in Compressed Sparse Row format>,\n",
       " 'Based_Gob': <1x3467 sparse matrix of type '<class 'numpy.float64'>'\n",
       " \twith 6 stored elements in Compressed Sparse Row format>,\n",
       " 'Based_Iguana': <1x3467 sparse matrix of type '<class 'numpy.float64'>'\n",
       " \twith 4 stored elements in Compressed Sparse Row format>,\n",
       " 'BaselxD': <1x3467 sparse matrix of type '<class 'numpy.float64'>'\n",
       " \twith 3 stored elements in Compressed Sparse Row format>,\n",
       " 'BasicallyUSMC': <1x3467 sparse matrix of type '<class 'numpy.float64'>'\n",
       " \twith 11 stored elements in Compressed Sparse Row format>,\n",
       " 'BasketCaseSensitive': <1x3467 sparse matrix of type '<class 'numpy.float64'>'\n",
       " \twith 57 stored elements in Compressed Sparse Row format>,\n",
       " 'BassPengoowin': <1x3467 sparse matrix of type '<class 'numpy.float64'>'\n",
       " \twith 2 stored elements in Compressed Sparse Row format>,\n",
       " 'Bassically': <1x3467 sparse matrix of type '<class 'numpy.float64'>'\n",
       " \twith 3 stored elements in Compressed Sparse Row format>,\n",
       " 'Bastrd_87': <1x3467 sparse matrix of type '<class 'numpy.float64'>'\n",
       " \twith 23 stored elements in Compressed Sparse Row format>,\n",
       " 'Bat_001': <1x3467 sparse matrix of type '<class 'numpy.float64'>'\n",
       " \twith 5 stored elements in Compressed Sparse Row format>,\n",
       " 'Batshit_McGee': <1x3467 sparse matrix of type '<class 'numpy.float64'>'\n",
       " \twith 3 stored elements in Compressed Sparse Row format>,\n",
       " 'BayAreaLove': <1x3467 sparse matrix of type '<class 'numpy.float64'>'\n",
       " \twith 1 stored elements in Compressed Sparse Row format>,\n",
       " 'Baystate411': <1x3467 sparse matrix of type '<class 'numpy.float64'>'\n",
       " \twith 11 stored elements in Compressed Sparse Row format>,\n",
       " 'BboySlamJam': <1x3467 sparse matrix of type '<class 'numpy.float64'>'\n",
       " \twith 4 stored elements in Compressed Sparse Row format>,\n",
       " 'Bcadren': <1x3467 sparse matrix of type '<class 'numpy.float64'>'\n",
       " \twith 3 stored elements in Compressed Sparse Row format>,\n",
       " 'BeHereNow91': <1x3467 sparse matrix of type '<class 'numpy.float64'>'\n",
       " \twith 35 stored elements in Compressed Sparse Row format>,\n",
       " 'BeMyGabentine': <1x3467 sparse matrix of type '<class 'numpy.float64'>'\n",
       " \twith 2 stored elements in Compressed Sparse Row format>,\n",
       " 'BeSeXe': <1x3467 sparse matrix of type '<class 'numpy.float64'>'\n",
       " \twith 12 stored elements in Compressed Sparse Row format>,\n",
       " 'BeachBum8': <1x3467 sparse matrix of type '<class 'numpy.float64'>'\n",
       " \twith 5 stored elements in Compressed Sparse Row format>,\n",
       " 'BeachBumHarmony': <1x3467 sparse matrix of type '<class 'numpy.float64'>'\n",
       " \twith 17 stored elements in Compressed Sparse Row format>,\n",
       " 'Beamah': <1x3467 sparse matrix of type '<class 'numpy.float64'>'\n",
       " \twith 2 stored elements in Compressed Sparse Row format>,\n",
       " 'Beans101': <1x3467 sparse matrix of type '<class 'numpy.float64'>'\n",
       " \twith 11 stored elements in Compressed Sparse Row format>,\n",
       " 'BearSkull': <1x3467 sparse matrix of type '<class 'numpy.float64'>'\n",
       " \twith 7 stored elements in Compressed Sparse Row format>,\n",
       " 'Bearmodule': <1x3467 sparse matrix of type '<class 'numpy.float64'>'\n",
       " \twith 60 stored elements in Compressed Sparse Row format>,\n",
       " 'BearsChief': <1x3467 sparse matrix of type '<class 'numpy.float64'>'\n",
       " \twith 10 stored elements in Compressed Sparse Row format>,\n",
       " 'Beastafer': <1x3467 sparse matrix of type '<class 'numpy.float64'>'\n",
       " \twith 6 stored elements in Compressed Sparse Row format>,\n",
       " 'BeastlyChicken': <1x3467 sparse matrix of type '<class 'numpy.float64'>'\n",
       " \twith 11 stored elements in Compressed Sparse Row format>,\n",
       " 'Beckon6': <1x3467 sparse matrix of type '<class 'numpy.float64'>'\n",
       " \twith 3 stored elements in Compressed Sparse Row format>,\n",
       " 'BecomingTheArchtype': <1x3467 sparse matrix of type '<class 'numpy.float64'>'\n",
       " \twith 6 stored elements in Compressed Sparse Row format>,\n",
       " 'Bedfordshire': <1x3467 sparse matrix of type '<class 'numpy.float64'>'\n",
       " \twith 10 stored elements in Compressed Sparse Row format>,\n",
       " 'Bedstemor192': <1x3467 sparse matrix of type '<class 'numpy.float64'>'\n",
       " \twith 1 stored elements in Compressed Sparse Row format>,\n",
       " 'BeeClarkie': <1x3467 sparse matrix of type '<class 'numpy.float64'>'\n",
       " \twith 2 stored elements in Compressed Sparse Row format>,\n",
       " 'Beebzoar': <1x3467 sparse matrix of type '<class 'numpy.float64'>'\n",
       " \twith 10 stored elements in Compressed Sparse Row format>,\n",
       " 'Beefyface': <1x3467 sparse matrix of type '<class 'numpy.float64'>'\n",
       " \twith 12 stored elements in Compressed Sparse Row format>,\n",
       " 'BeerWarden': <1x3467 sparse matrix of type '<class 'numpy.float64'>'\n",
       " \twith 8 stored elements in Compressed Sparse Row format>,\n",
       " 'Beeristheanswer': <1x3467 sparse matrix of type '<class 'numpy.float64'>'\n",
       " \twith 24 stored elements in Compressed Sparse Row format>,\n",
       " 'Beerspaz12': <1x3467 sparse matrix of type '<class 'numpy.float64'>'\n",
       " \twith 8 stored elements in Compressed Sparse Row format>,\n",
       " 'Beezo514': <1x3467 sparse matrix of type '<class 'numpy.float64'>'\n",
       " \twith 4 stored elements in Compressed Sparse Row format>,\n",
       " 'Beezzy': <1x3467 sparse matrix of type '<class 'numpy.float64'>'\n",
       " \twith 3 stored elements in Compressed Sparse Row format>,\n",
       " 'Belgian_Rofl': <1x3467 sparse matrix of type '<class 'numpy.float64'>'\n",
       " \twith 3 stored elements in Compressed Sparse Row format>,\n",
       " 'BellRd': <1x3467 sparse matrix of type '<class 'numpy.float64'>'\n",
       " \twith 3 stored elements in Compressed Sparse Row format>,\n",
       " 'Ben92': <1x3467 sparse matrix of type '<class 'numpy.float64'>'\n",
       " \twith 3 stored elements in Compressed Sparse Row format>,\n",
       " 'Ben_RavenCroft': <1x3467 sparse matrix of type '<class 'numpy.float64'>'\n",
       " \twith 2 stored elements in Compressed Sparse Row format>,\n",
       " 'Bendak_Starkiller': <1x3467 sparse matrix of type '<class 'numpy.float64'>'\n",
       " \twith 5 stored elements in Compressed Sparse Row format>,\n",
       " 'BenitoBro': <1x3467 sparse matrix of type '<class 'numpy.float64'>'\n",
       " \twith 18 stored elements in Compressed Sparse Row format>,\n",
       " 'Benn1': <1x3467 sparse matrix of type '<class 'numpy.float64'>'\n",
       " \twith 4 stored elements in Compressed Sparse Row format>,\n",
       " 'BennyRoundL': <1x3467 sparse matrix of type '<class 'numpy.float64'>'\n",
       " \twith 4 stored elements in Compressed Sparse Row format>,\n",
       " 'BeowulfShatner': <1x3467 sparse matrix of type '<class 'numpy.float64'>'\n",
       " \twith 2 stored elements in Compressed Sparse Row format>,\n",
       " 'Beperkte': <1x3467 sparse matrix of type '<class 'numpy.float64'>'\n",
       " \twith 1 stored elements in Compressed Sparse Row format>,\n",
       " 'Berean_Katz': <1x3467 sparse matrix of type '<class 'numpy.float64'>'\n",
       " \twith 23 stored elements in Compressed Sparse Row format>,\n",
       " 'Berkbelts': <1x3467 sparse matrix of type '<class 'numpy.float64'>'\n",
       " \twith 29 stored elements in Compressed Sparse Row format>,\n",
       " 'Bermy_Boi': <1x3467 sparse matrix of type '<class 'numpy.float64'>'\n",
       " \twith 2 stored elements in Compressed Sparse Row format>,\n",
       " 'BertRenolds': <1x3467 sparse matrix of type '<class 'numpy.float64'>'\n",
       " \twith 11 stored elements in Compressed Sparse Row format>,\n",
       " 'BesottedScot': <1x3467 sparse matrix of type '<class 'numpy.float64'>'\n",
       " \twith 47 stored elements in Compressed Sparse Row format>,\n",
       " 'BespectacledOwl': <1x3467 sparse matrix of type '<class 'numpy.float64'>'\n",
       " \twith 3 stored elements in Compressed Sparse Row format>,\n",
       " 'Bestbtrollin': <1x3467 sparse matrix of type '<class 'numpy.float64'>'\n",
       " \twith 18 stored elements in Compressed Sparse Row format>,\n",
       " 'Besthandshake': <1x3467 sparse matrix of type '<class 'numpy.float64'>'\n",
       " \twith 5 stored elements in Compressed Sparse Row format>,\n",
       " 'BetaAsFuq': <1x3467 sparse matrix of type '<class 'numpy.float64'>'\n",
       " \twith 1 stored elements in Compressed Sparse Row format>,\n",
       " 'Betakiller': <1x3467 sparse matrix of type '<class 'numpy.float64'>'\n",
       " \twith 1 stored elements in Compressed Sparse Row format>,\n",
       " 'BethEmily93': <1x3467 sparse matrix of type '<class 'numpy.float64'>'\n",
       " \twith 2 stored elements in Compressed Sparse Row format>,\n",
       " 'Betrivent': <1x3467 sparse matrix of type '<class 'numpy.float64'>'\n",
       " \twith 15 stored elements in Compressed Sparse Row format>,\n",
       " 'BetterCallSeal': <1x3467 sparse matrix of type '<class 'numpy.float64'>'\n",
       " \twith 5 stored elements in Compressed Sparse Row format>,\n",
       " 'BetterMeThanYou': <1x3467 sparse matrix of type '<class 'numpy.float64'>'\n",
       " \twith 16 stored elements in Compressed Sparse Row format>,\n",
       " 'Betty_Whites_Muffin': <1x3467 sparse matrix of type '<class 'numpy.float64'>'\n",
       " \twith 9 stored elements in Compressed Sparse Row format>,\n",
       " 'Bettye_Wayne': <1x3467 sparse matrix of type '<class 'numpy.float64'>'\n",
       " \twith 4 stored elements in Compressed Sparse Row format>,\n",
       " 'Betweenyourhips': <1x3467 sparse matrix of type '<class 'numpy.float64'>'\n",
       " \twith 2 stored elements in Compressed Sparse Row format>,\n",
       " 'Bevolicious18': <1x3467 sparse matrix of type '<class 'numpy.float64'>'\n",
       " \twith 1 stored elements in Compressed Sparse Row format>,\n",
       " 'Bewarethewulf': <1x3467 sparse matrix of type '<class 'numpy.float64'>'\n",
       " \twith 5 stored elements in Compressed Sparse Row format>,\n",
       " 'BewilderedTurtle': <1x3467 sparse matrix of type '<class 'numpy.float64'>'\n",
       " \twith 4 stored elements in Compressed Sparse Row format>,\n",
       " 'BeyondTheFail': <1x3467 sparse matrix of type '<class 'numpy.float64'>'\n",
       " \twith 4 stored elements in Compressed Sparse Row format>,\n",
       " 'Bflat13': <1x3467 sparse matrix of type '<class 'numpy.float64'>'\n",
       " \twith 18 stored elements in Compressed Sparse Row format>,\n",
       " 'BicyclingBabe': <1x3467 sparse matrix of type '<class 'numpy.float64'>'\n",
       " \twith 5 stored elements in Compressed Sparse Row format>,\n",
       " 'Big10Joe': <1x3467 sparse matrix of type '<class 'numpy.float64'>'\n",
       " \twith 6 stored elements in Compressed Sparse Row format>,\n",
       " 'BigBadAsh': <1x3467 sparse matrix of type '<class 'numpy.float64'>'\n",
       " \twith 10 stored elements in Compressed Sparse Row format>,\n",
       " 'BigBluntsMcBongford': <1x3467 sparse matrix of type '<class 'numpy.float64'>'\n",
       " \twith 4 stored elements in Compressed Sparse Row format>,\n",
       " 'BigDaddyRed': <1x3467 sparse matrix of type '<class 'numpy.float64'>'\n",
       " \twith 6 stored elements in Compressed Sparse Row format>,\n",
       " 'BigDawgWTF': <1x3467 sparse matrix of type '<class 'numpy.float64'>'\n",
       " \twith 25 stored elements in Compressed Sparse Row format>,\n",
       " 'BigDriggy': <1x3467 sparse matrix of type '<class 'numpy.float64'>'\n",
       " \twith 1 stored elements in Compressed Sparse Row format>,\n",
       " 'BigFishMcNish': <1x3467 sparse matrix of type '<class 'numpy.float64'>'\n",
       " \twith 45 stored elements in Compressed Sparse Row format>,\n",
       " 'BigHowski': <1x3467 sparse matrix of type '<class 'numpy.float64'>'\n",
       " \twith 5 stored elements in Compressed Sparse Row format>,\n",
       " 'BigMac2341': <1x3467 sparse matrix of type '<class 'numpy.float64'>'\n",
       " \twith 15 stored elements in Compressed Sparse Row format>,\n",
       " 'BigMax55': <1x3467 sparse matrix of type '<class 'numpy.float64'>'\n",
       " \twith 13 stored elements in Compressed Sparse Row format>,\n",
       " 'BigShowJoe': <1x3467 sparse matrix of type '<class 'numpy.float64'>'\n",
       " \twith 10 stored elements in Compressed Sparse Row format>,\n",
       " 'BigStein': <1x3467 sparse matrix of type '<class 'numpy.float64'>'\n",
       " \twith 11 stored elements in Compressed Sparse Row format>,\n",
       " 'Big_Lex': <1x3467 sparse matrix of type '<class 'numpy.float64'>'\n",
       " \twith 2 stored elements in Compressed Sparse Row format>,\n",
       " 'Big_Meech61': <1x3467 sparse matrix of type '<class 'numpy.float64'>'\n",
       " \twith 19 stored elements in Compressed Sparse Row format>,\n",
       " 'Bigdaddydonavan': <1x3467 sparse matrix of type '<class 'numpy.float64'>'\n",
       " \twith 27 stored elements in Compressed Sparse Row format>,\n",
       " 'Biggie313': <1x3467 sparse matrix of type '<class 'numpy.float64'>'\n",
       " \twith 12 stored elements in Compressed Sparse Row format>,\n",
       " 'Bigglesworth94': <1x3467 sparse matrix of type '<class 'numpy.float64'>'\n",
       " \twith 3 stored elements in Compressed Sparse Row format>,\n",
       " 'Bigman61': <1x3467 sparse matrix of type '<class 'numpy.float64'>'\n",
       " \twith 44 stored elements in Compressed Sparse Row format>,\n",
       " 'Bigmouthstrikesback': <1x3467 sparse matrix of type '<class 'numpy.float64'>'\n",
       " \twith 4 stored elements in Compressed Sparse Row format>,\n",
       " 'Bigr789': <1x3467 sparse matrix of type '<class 'numpy.float64'>'\n",
       " \twith 18 stored elements in Compressed Sparse Row format>,\n",
       " 'BikerMouseFromMars': <1x3467 sparse matrix of type '<class 'numpy.float64'>'\n",
       " \twith 18 stored elements in Compressed Sparse Row format>,\n",
       " 'BillDAWG': <1x3467 sparse matrix of type '<class 'numpy.float64'>'\n",
       " \twith 3 stored elements in Compressed Sparse Row format>,\n",
       " 'BillDaBeast': <1x3467 sparse matrix of type '<class 'numpy.float64'>'\n",
       " \twith 5 stored elements in Compressed Sparse Row format>,\n",
       " 'BillTheKill': <1x3467 sparse matrix of type '<class 'numpy.float64'>'\n",
       " \twith 9 stored elements in Compressed Sparse Row format>,\n",
       " 'Billtodamax': <1x3467 sparse matrix of type '<class 'numpy.float64'>'\n",
       " \twith 11 stored elements in Compressed Sparse Row format>,\n",
       " 'Billyshears68': <1x3467 sparse matrix of type '<class 'numpy.float64'>'\n",
       " \twith 3 stored elements in Compressed Sparse Row format>,\n",
       " 'BinghamL': <1x3467 sparse matrix of type '<class 'numpy.float64'>'\n",
       " \twith 8 stored elements in Compressed Sparse Row format>,\n",
       " 'Bioluminesce': <1x3467 sparse matrix of type '<class 'numpy.float64'>'\n",
       " \twith 13 stored elements in Compressed Sparse Row format>,\n",
       " 'BirdGames': <1x3467 sparse matrix of type '<class 'numpy.float64'>'\n",
       " \twith 1 stored elements in Compressed Sparse Row format>,\n",
       " 'BirdLearnsArt': <1x3467 sparse matrix of type '<class 'numpy.float64'>'\n",
       " \twith 1 stored elements in Compressed Sparse Row format>,\n",
       " 'Birdmania': <1x3467 sparse matrix of type '<class 'numpy.float64'>'\n",
       " \twith 2 stored elements in Compressed Sparse Row format>,\n",
       " 'Birdy58033': <1x3467 sparse matrix of type '<class 'numpy.float64'>'\n",
       " \twith 12 stored elements in Compressed Sparse Row format>,\n",
       " 'BitBoss': <1x3467 sparse matrix of type '<class 'numpy.float64'>'\n",
       " \twith 4 stored elements in Compressed Sparse Row format>,\n",
       " 'BitesOverKissing': <1x3467 sparse matrix of type '<class 'numpy.float64'>'\n",
       " \twith 5 stored elements in Compressed Sparse Row format>,\n",
       " 'BitterBubblegum': <1x3467 sparse matrix of type '<class 'numpy.float64'>'\n",
       " \twith 4 stored elements in Compressed Sparse Row format>,\n",
       " 'BizSib': <1x3467 sparse matrix of type '<class 'numpy.float64'>'\n",
       " \twith 14 stored elements in Compressed Sparse Row format>,\n",
       " 'BizWax': <1x3467 sparse matrix of type '<class 'numpy.float64'>'\n",
       " \twith 10 stored elements in Compressed Sparse Row format>,\n",
       " 'Bjorn_Bear': <1x3467 sparse matrix of type '<class 'numpy.float64'>'\n",
       " \twith 4 stored elements in Compressed Sparse Row format>,\n",
       " 'BlackLeatherRain': <1x3467 sparse matrix of type '<class 'numpy.float64'>'\n",
       " \twith 50 stored elements in Compressed Sparse Row format>,\n",
       " 'BlackMKIII': <1x3467 sparse matrix of type '<class 'numpy.float64'>'\n",
       " \twith 3 stored elements in Compressed Sparse Row format>,\n",
       " 'BlackOnBothSides': <1x3467 sparse matrix of type '<class 'numpy.float64'>'\n",
       " \twith 4 stored elements in Compressed Sparse Row format>,\n",
       " 'BlackSquirrelBoy': <1x3467 sparse matrix of type '<class 'numpy.float64'>'\n",
       " \twith 12 stored elements in Compressed Sparse Row format>,\n",
       " 'Black_Belt_Troy': <1x3467 sparse matrix of type '<class 'numpy.float64'>'\n",
       " \twith 12 stored elements in Compressed Sparse Row format>,\n",
       " 'Black_Fury': <1x3467 sparse matrix of type '<class 'numpy.float64'>'\n",
       " \twith 8 stored elements in Compressed Sparse Row format>,\n",
       " 'Blackborealis': <1x3467 sparse matrix of type '<class 'numpy.float64'>'\n",
       " \twith 21 stored elements in Compressed Sparse Row format>,\n",
       " 'Blackchaos93': <1x3467 sparse matrix of type '<class 'numpy.float64'>'\n",
       " \twith 1 stored elements in Compressed Sparse Row format>,\n",
       " 'Blackhawk1282': <1x3467 sparse matrix of type '<class 'numpy.float64'>'\n",
       " \twith 2 stored elements in Compressed Sparse Row format>,\n",
       " 'BlackieChan': <1x3467 sparse matrix of type '<class 'numpy.float64'>'\n",
       " \twith 8 stored elements in Compressed Sparse Row format>,\n",
       " 'Blackleafly': <1x3467 sparse matrix of type '<class 'numpy.float64'>'\n",
       " \twith 3 stored elements in Compressed Sparse Row format>,\n",
       " 'Blackluster': <1x3467 sparse matrix of type '<class 'numpy.float64'>'\n",
       " \twith 2 stored elements in Compressed Sparse Row format>,\n",
       " 'Blacksheep01': <1x3467 sparse matrix of type '<class 'numpy.float64'>'\n",
       " \twith 18 stored elements in Compressed Sparse Row format>,\n",
       " 'BladeRunnerDMC': <1x3467 sparse matrix of type '<class 'numpy.float64'>'\n",
       " \twith 24 stored elements in Compressed Sparse Row format>,\n",
       " 'BladesofChaos': <1x3467 sparse matrix of type '<class 'numpy.float64'>'\n",
       " \twith 6 stored elements in Compressed Sparse Row format>,\n",
       " 'Blakeyy': <1x3467 sparse matrix of type '<class 'numpy.float64'>'\n",
       " \twith 21 stored elements in Compressed Sparse Row format>,\n",
       " 'Blakob': <1x3467 sparse matrix of type '<class 'numpy.float64'>'\n",
       " \twith 4 stored elements in Compressed Sparse Row format>,\n",
       " 'Blank747': <1x3467 sparse matrix of type '<class 'numpy.float64'>'\n",
       " \twith 16 stored elements in Compressed Sparse Row format>,\n",
       " 'BlatantFix': <1x3467 sparse matrix of type '<class 'numpy.float64'>'\n",
       " \twith 2 stored elements in Compressed Sparse Row format>,\n",
       " 'Blazing1': <1x3467 sparse matrix of type '<class 'numpy.float64'>'\n",
       " \twith 4 stored elements in Compressed Sparse Row format>,\n",
       " 'Blazta': <1x3467 sparse matrix of type '<class 'numpy.float64'>'\n",
       " \twith 2 stored elements in Compressed Sparse Row format>,\n",
       " 'Blehe': <1x3467 sparse matrix of type '<class 'numpy.float64'>'\n",
       " \twith 4 stored elements in Compressed Sparse Row format>,\n",
       " 'Blehhh55': <1x3467 sparse matrix of type '<class 'numpy.float64'>'\n",
       " \twith 2 stored elements in Compressed Sparse Row format>,\n",
       " 'Blemish': <1x3467 sparse matrix of type '<class 'numpy.float64'>'\n",
       " \twith 60 stored elements in Compressed Sparse Row format>,\n",
       " 'Bleumanable': <1x3467 sparse matrix of type '<class 'numpy.float64'>'\n",
       " \twith 2 stored elements in Compressed Sparse Row format>,\n",
       " 'BlindMusician': <1x3467 sparse matrix of type '<class 'numpy.float64'>'\n",
       " \twith 3 stored elements in Compressed Sparse Row format>,\n",
       " 'BlinguNoona': <1x3467 sparse matrix of type '<class 'numpy.float64'>'\n",
       " \twith 2 stored elements in Compressed Sparse Row format>,\n",
       " 'Blinkskij': <1x3467 sparse matrix of type '<class 'numpy.float64'>'\n",
       " \twith 11 stored elements in Compressed Sparse Row format>,\n",
       " 'BlisterBox': <1x3467 sparse matrix of type '<class 'numpy.float64'>'\n",
       " \twith 1 stored elements in Compressed Sparse Row format>,\n",
       " 'BlizzardWave': <1x3467 sparse matrix of type '<class 'numpy.float64'>'\n",
       " \twith 13 stored elements in Compressed Sparse Row format>,\n",
       " 'BlizzardofFlame': <1x3467 sparse matrix of type '<class 'numpy.float64'>'\n",
       " \twith 43 stored elements in Compressed Sparse Row format>,\n",
       " 'Bloginshpiel': <1x3467 sparse matrix of type '<class 'numpy.float64'>'\n",
       " \twith 2 stored elements in Compressed Sparse Row format>,\n",
       " 'BlondeTrom': <1x3467 sparse matrix of type '<class 'numpy.float64'>'\n",
       " \twith 5 stored elements in Compressed Sparse Row format>,\n",
       " 'BloodyJourno': <1x3467 sparse matrix of type '<class 'numpy.float64'>'\n",
       " \twith 3 stored elements in Compressed Sparse Row format>,\n",
       " 'Blozi': <1x3467 sparse matrix of type '<class 'numpy.float64'>'\n",
       " \twith 16 stored elements in Compressed Sparse Row format>,\n",
       " 'BlueBeanstalk': <1x3467 sparse matrix of type '<class 'numpy.float64'>'\n",
       " \twith 10 stored elements in Compressed Sparse Row format>,\n",
       " 'BlueInq': <1x3467 sparse matrix of type '<class 'numpy.float64'>'\n",
       " \twith 13 stored elements in Compressed Sparse Row format>,\n",
       " 'BlueRazors': <1x3467 sparse matrix of type '<class 'numpy.float64'>'\n",
       " \twith 1 stored elements in Compressed Sparse Row format>,\n",
       " 'BlueShellOP': <1x3467 sparse matrix of type '<class 'numpy.float64'>'\n",
       " \twith 8 stored elements in Compressed Sparse Row format>,\n",
       " 'BlueVelvet': <1x3467 sparse matrix of type '<class 'numpy.float64'>'\n",
       " \twith 3 stored elements in Compressed Sparse Row format>,\n",
       " 'Blue_Gateflash': <1x3467 sparse matrix of type '<class 'numpy.float64'>'\n",
       " \twith 6 stored elements in Compressed Sparse Row format>,\n",
       " 'Bluefastakan': <1x3467 sparse matrix of type '<class 'numpy.float64'>'\n",
       " \twith 3 stored elements in Compressed Sparse Row format>,\n",
       " 'Blueseeds': <1x3467 sparse matrix of type '<class 'numpy.float64'>'\n",
       " \twith 6 stored elements in Compressed Sparse Row format>,\n",
       " 'Bluetiger811': <1x3467 sparse matrix of type '<class 'numpy.float64'>'\n",
       " \twith 6 stored elements in Compressed Sparse Row format>,\n",
       " 'BluntsOnBluntsOnBlun': <1x3467 sparse matrix of type '<class 'numpy.float64'>'\n",
       " \twith 14 stored elements in Compressed Sparse Row format>,\n",
       " 'Blutwolf': <1x3467 sparse matrix of type '<class 'numpy.float64'>'\n",
       " \twith 1 stored elements in Compressed Sparse Row format>,\n",
       " 'Bmelko': <1x3467 sparse matrix of type '<class 'numpy.float64'>'\n",
       " \twith 4 stored elements in Compressed Sparse Row format>,\n",
       " 'Bmonkey5': <1x3467 sparse matrix of type '<class 'numpy.float64'>'\n",
       " \twith 26 stored elements in Compressed Sparse Row format>,\n",
       " 'BoBalderson': <1x3467 sparse matrix of type '<class 'numpy.float64'>'\n",
       " \twith 6 stored elements in Compressed Sparse Row format>,\n",
       " 'BobLoblaw368': <1x3467 sparse matrix of type '<class 'numpy.float64'>'\n",
       " \twith 6 stored elements in Compressed Sparse Row format>,\n",
       " 'BobTheSnail': <1x3467 sparse matrix of type '<class 'numpy.float64'>'\n",
       " \twith 5 stored elements in Compressed Sparse Row format>,\n",
       " 'Bob_Sapp': <1x3467 sparse matrix of type '<class 'numpy.float64'>'\n",
       " \twith 1 stored elements in Compressed Sparse Row format>,\n",
       " 'BobbyBeanBags': <1x3467 sparse matrix of type '<class 'numpy.float64'>'\n",
       " \twith 4 stored elements in Compressed Sparse Row format>,\n",
       " 'BoboTheTalkingClown': <1x3467 sparse matrix of type '<class 'numpy.float64'>'\n",
       " \twith 56 stored elements in Compressed Sparse Row format>,\n",
       " 'Bobsaid': <1x3467 sparse matrix of type '<class 'numpy.float64'>'\n",
       " \twith 8 stored elements in Compressed Sparse Row format>,\n",
       " 'BocoCHutternut': <1x3467 sparse matrix of type '<class 'numpy.float64'>'\n",
       " \twith 2 stored elements in Compressed Sparse Row format>,\n",
       " 'Bodilis': <1x3467 sparse matrix of type '<class 'numpy.float64'>'\n",
       " \twith 5 stored elements in Compressed Sparse Row format>,\n",
       " 'Boethias': <1x3467 sparse matrix of type '<class 'numpy.float64'>'\n",
       " \twith 7 stored elements in Compressed Sparse Row format>,\n",
       " 'BogdanD': <1x3467 sparse matrix of type '<class 'numpy.float64'>'\n",
       " \twith 1 stored elements in Compressed Sparse Row format>,\n",
       " 'BoiledEggs': <1x3467 sparse matrix of type '<class 'numpy.float64'>'\n",
       " \twith 24 stored elements in Compressed Sparse Row format>,\n",
       " 'BombadeerStudios': <1x3467 sparse matrix of type '<class 'numpy.float64'>'\n",
       " \twith 5 stored elements in Compressed Sparse Row format>,\n",
       " 'Bombkirby': <1x3467 sparse matrix of type '<class 'numpy.float64'>'\n",
       " \twith 21 stored elements in Compressed Sparse Row format>,\n",
       " 'BomburTheFat': <1x3467 sparse matrix of type '<class 'numpy.float64'>'\n",
       " \twith 1 stored elements in Compressed Sparse Row format>,\n",
       " 'BonaFideFaith': <1x3467 sparse matrix of type '<class 'numpy.float64'>'\n",
       " \twith 1 stored elements in Compressed Sparse Row format>,\n",
       " 'BonerYNot': <1x3467 sparse matrix of type '<class 'numpy.float64'>'\n",
       " \twith 21 stored elements in Compressed Sparse Row format>,\n",
       " 'Bonfire_ahead': <1x3467 sparse matrix of type '<class 'numpy.float64'>'\n",
       " \twith 1 stored elements in Compressed Sparse Row format>,\n",
       " 'Bonki_': <1x3467 sparse matrix of type '<class 'numpy.float64'>'\n",
       " \twith 2 stored elements in Compressed Sparse Row format>,\n",
       " 'Bonkzzilla': <1x3467 sparse matrix of type '<class 'numpy.float64'>'\n",
       " \twith 4 stored elements in Compressed Sparse Row format>,\n",
       " 'BonzaiBunny': <1x3467 sparse matrix of type '<class 'numpy.float64'>'\n",
       " \twith 5 stored elements in Compressed Sparse Row format>,\n",
       " 'BoobsMadeMeDoIt': <1x3467 sparse matrix of type '<class 'numpy.float64'>'\n",
       " \twith 7 stored elements in Compressed Sparse Row format>,\n",
       " 'Boogidy': <1x3467 sparse matrix of type '<class 'numpy.float64'>'\n",
       " \twith 3 stored elements in Compressed Sparse Row format>,\n",
       " 'Boohoohitme': <1x3467 sparse matrix of type '<class 'numpy.float64'>'\n",
       " \twith 1 stored elements in Compressed Sparse Row format>,\n",
       " 'BooksofMagic': <1x3467 sparse matrix of type '<class 'numpy.float64'>'\n",
       " \twith 16 stored elements in Compressed Sparse Row format>,\n",
       " 'Boolean263': <1x3467 sparse matrix of type '<class 'numpy.float64'>'\n",
       " \twith 3 stored elements in Compressed Sparse Row format>,\n",
       " 'Boornidentity': <1x3467 sparse matrix of type '<class 'numpy.float64'>'\n",
       " \twith 1 stored elements in Compressed Sparse Row format>,\n",
       " 'Boosh2112': <1x3467 sparse matrix of type '<class 'numpy.float64'>'\n",
       " \twith 4 stored elements in Compressed Sparse Row format>,\n",
       " 'Boosted_Bastard': <1x3467 sparse matrix of type '<class 'numpy.float64'>'\n",
       " \twith 9 stored elements in Compressed Sparse Row format>,\n",
       " 'Bootlegs': <1x3467 sparse matrix of type '<class 'numpy.float64'>'\n",
       " \twith 1 stored elements in Compressed Sparse Row format>,\n",
       " 'BoraxNigger': <1x3467 sparse matrix of type '<class 'numpy.float64'>'\n",
       " \twith 6 stored elements in Compressed Sparse Row format>,\n",
       " 'BornToBeSam': <1x3467 sparse matrix of type '<class 'numpy.float64'>'\n",
       " \twith 4 stored elements in Compressed Sparse Row format>,\n",
       " 'Born_Ruffian': <1x3467 sparse matrix of type '<class 'numpy.float64'>'\n",
       " \twith 2 stored elements in Compressed Sparse Row format>,\n",
       " 'Borne': <1x3467 sparse matrix of type '<class 'numpy.float64'>'\n",
       " \twith 1 stored elements in Compressed Sparse Row format>,\n",
       " 'Borror0': <1x3467 sparse matrix of type '<class 'numpy.float64'>'\n",
       " \twith 14 stored elements in Compressed Sparse Row format>,\n",
       " 'Bosaapje': <1x3467 sparse matrix of type '<class 'numpy.float64'>'\n",
       " \twith 9 stored elements in Compressed Sparse Row format>,\n",
       " 'BosmanJ': <1x3467 sparse matrix of type '<class 'numpy.float64'>'\n",
       " \twith 30 stored elements in Compressed Sparse Row format>,\n",
       " 'Bossit': <1x3467 sparse matrix of type '<class 'numpy.float64'>'\n",
       " \twith 10 stored elements in Compressed Sparse Row format>,\n",
       " 'BostonSamurai': <1x3467 sparse matrix of type '<class 'numpy.float64'>'\n",
       " \twith 1 stored elements in Compressed Sparse Row format>,\n",
       " 'Bothan_Spy': <1x3467 sparse matrix of type '<class 'numpy.float64'>'\n",
       " \twith 5 stored elements in Compressed Sparse Row format>,\n",
       " 'BounceRight': <1x3467 sparse matrix of type '<class 'numpy.float64'>'\n",
       " \twith 2 stored elements in Compressed Sparse Row format>,\n",
       " 'BoundlessMediocrity': <1x3467 sparse matrix of type '<class 'numpy.float64'>'\n",
       " \twith 5 stored elements in Compressed Sparse Row format>,\n",
       " 'Bountyzero': <1x3467 sparse matrix of type '<class 'numpy.float64'>'\n",
       " \twith 12 stored elements in Compressed Sparse Row format>,\n",
       " 'Bowna': <1x3467 sparse matrix of type '<class 'numpy.float64'>'\n",
       " \twith 1 stored elements in Compressed Sparse Row format>,\n",
       " 'Bowwow828': <1x3467 sparse matrix of type '<class 'numpy.float64'>'\n",
       " \twith 1 stored elements in Compressed Sparse Row format>,\n",
       " 'Box0fSunshine': <1x3467 sparse matrix of type '<class 'numpy.float64'>'\n",
       " \twith 4 stored elements in Compressed Sparse Row format>,\n",
       " 'BoxMulder': <1x3467 sparse matrix of type '<class 'numpy.float64'>'\n",
       " \twith 6 stored elements in Compressed Sparse Row format>,\n",
       " 'Boyblunder': <1x3467 sparse matrix of type '<class 'numpy.float64'>'\n",
       " \twith 6 stored elements in Compressed Sparse Row format>,\n",
       " 'BrCreeps': <1x3467 sparse matrix of type '<class 'numpy.float64'>'\n",
       " \twith 3 stored elements in Compressed Sparse Row format>,\n",
       " 'Braakman': <1x3467 sparse matrix of type '<class 'numpy.float64'>'\n",
       " \twith 22 stored elements in Compressed Sparse Row format>,\n",
       " 'Bragadash': <1x3467 sparse matrix of type '<class 'numpy.float64'>'\n",
       " \twith 10 stored elements in Compressed Sparse Row format>,\n",
       " 'BrainChild95': <1x3467 sparse matrix of type '<class 'numpy.float64'>'\n",
       " \twith 9 stored elements in Compressed Sparse Row format>,\n",
       " 'BrainSlurper': <1x3467 sparse matrix of type '<class 'numpy.float64'>'\n",
       " \twith 15 stored elements in Compressed Sparse Row format>,\n",
       " 'Braindeadgenius': <1x3467 sparse matrix of type '<class 'numpy.float64'>'\n",
       " \twith 10 stored elements in Compressed Sparse Row format>,\n",
       " 'Braintree0173': <1x3467 sparse matrix of type '<class 'numpy.float64'>'\n",
       " \twith 8 stored elements in Compressed Sparse Row format>,\n",
       " 'BramaLlama': <1x3467 sparse matrix of type '<class 'numpy.float64'>'\n",
       " \twith 6 stored elements in Compressed Sparse Row format>,\n",
       " 'BranLandry': <1x3467 sparse matrix of type '<class 'numpy.float64'>'\n",
       " \twith 6 stored elements in Compressed Sparse Row format>,\n",
       " 'BrandNewSidewalk': <1x3467 sparse matrix of type '<class 'numpy.float64'>'\n",
       " \twith 12 stored elements in Compressed Sparse Row format>,\n",
       " 'BrandoPB': <1x3467 sparse matrix of type '<class 'numpy.float64'>'\n",
       " \twith 35 stored elements in Compressed Sparse Row format>,\n",
       " 'Brandocomandoe': <1x3467 sparse matrix of type '<class 'numpy.float64'>'\n",
       " \twith 1 stored elements in Compressed Sparse Row format>,\n",
       " 'Brandy2008': <1x3467 sparse matrix of type '<class 'numpy.float64'>'\n",
       " \twith 28 stored elements in Compressed Sparse Row format>,\n",
       " 'BravoMyles': <1x3467 sparse matrix of type '<class 'numpy.float64'>'\n",
       " \twith 3 stored elements in Compressed Sparse Row format>,\n",
       " 'BreadIsTheBest': <1x3467 sparse matrix of type '<class 'numpy.float64'>'\n",
       " \twith 3 stored elements in Compressed Sparse Row format>,\n",
       " 'BreakBeats': <1x3467 sparse matrix of type '<class 'numpy.float64'>'\n",
       " \twith 14 stored elements in Compressed Sparse Row format>,\n",
       " 'Breakfast_King': <1x3467 sparse matrix of type '<class 'numpy.float64'>'\n",
       " \twith 12 stored elements in Compressed Sparse Row format>,\n",
       " 'BreakingBurgers': <1x3467 sparse matrix of type '<class 'numpy.float64'>'\n",
       " \twith 1 stored elements in Compressed Sparse Row format>,\n",
       " 'Breklinho': <1x3467 sparse matrix of type '<class 'numpy.float64'>'\n",
       " \twith 18 stored elements in Compressed Sparse Row format>,\n",
       " 'BrewerPhil': <1x3467 sparse matrix of type '<class 'numpy.float64'>'\n",
       " \twith 2 stored elements in Compressed Sparse Row format>,\n",
       " 'BrewsAndCPUs': <1x3467 sparse matrix of type '<class 'numpy.float64'>'\n",
       " \twith 3 stored elements in Compressed Sparse Row format>,\n",
       " 'BrewsTheSkank': <1x3467 sparse matrix of type '<class 'numpy.float64'>'\n",
       " \twith 4 stored elements in Compressed Sparse Row format>,\n",
       " 'Breylan': <1x3467 sparse matrix of type '<class 'numpy.float64'>'\n",
       " \twith 3 stored elements in Compressed Sparse Row format>,\n",
       " 'BriMcC': <1x3467 sparse matrix of type '<class 'numpy.float64'>'\n",
       " \twith 13 stored elements in Compressed Sparse Row format>,\n",
       " 'Brian-Puccio': <1x3467 sparse matrix of type '<class 'numpy.float64'>'\n",
       " \twith 10 stored elements in Compressed Sparse Row format>,\n",
       " 'Bricklesworth': <1x3467 sparse matrix of type '<class 'numpy.float64'>'\n",
       " \twith 3 stored elements in Compressed Sparse Row format>,\n",
       " 'Brightt': <1x3467 sparse matrix of type '<class 'numpy.float64'>'\n",
       " \twith 27 stored elements in Compressed Sparse Row format>,\n",
       " 'Briize': <1x3467 sparse matrix of type '<class 'numpy.float64'>'\n",
       " \twith 4 stored elements in Compressed Sparse Row format>,\n",
       " 'BrinkMeister': <1x3467 sparse matrix of type '<class 'numpy.float64'>'\n",
       " \twith 4 stored elements in Compressed Sparse Row format>,\n",
       " 'Brio0': <1x3467 sparse matrix of type '<class 'numpy.float64'>'\n",
       " \twith 2 stored elements in Compressed Sparse Row format>,\n",
       " 'BritishyAccent': <1x3467 sparse matrix of type '<class 'numpy.float64'>'\n",
       " \twith 11 stored elements in Compressed Sparse Row format>,\n",
       " 'Brocardo': <1x3467 sparse matrix of type '<class 'numpy.float64'>'\n",
       " \twith 3 stored elements in Compressed Sparse Row format>,\n",
       " 'BrockN': <1x3467 sparse matrix of type '<class 'numpy.float64'>'\n",
       " \twith 52 stored elements in Compressed Sparse Row format>,\n",
       " 'Brodash': <1x3467 sparse matrix of type '<class 'numpy.float64'>'\n",
       " \twith 2 stored elements in Compressed Sparse Row format>,\n",
       " 'Broetchen8441': <1x3467 sparse matrix of type '<class 'numpy.float64'>'\n",
       " \twith 1 stored elements in Compressed Sparse Row format>,\n",
       " 'Brogasmic': <1x3467 sparse matrix of type '<class 'numpy.float64'>'\n",
       " \twith 7 stored elements in Compressed Sparse Row format>,\n",
       " 'Broken_Potatoe': <1x3467 sparse matrix of type '<class 'numpy.float64'>'\n",
       " \twith 1 stored elements in Compressed Sparse Row format>,\n",
       " 'BrooksConrad': <1x3467 sparse matrix of type '<class 'numpy.float64'>'\n",
       " \twith 28 stored elements in Compressed Sparse Row format>,\n",
       " 'BroseidonSirF': <1x3467 sparse matrix of type '<class 'numpy.float64'>'\n",
       " \twith 27 stored elements in Compressed Sparse Row format>,\n",
       " 'BrotherGrimSVSD': <1x3467 sparse matrix of type '<class 'numpy.float64'>'\n",
       " \twith 10 stored elements in Compressed Sparse Row format>,\n",
       " 'BrotherSammyWilson': <1x3467 sparse matrix of type '<class 'numpy.float64'>'\n",
       " \twith 3 stored elements in Compressed Sparse Row format>,\n",
       " 'BrownEyesOpenMind': <1x3467 sparse matrix of type '<class 'numpy.float64'>'\n",
       " \twith 7 stored elements in Compressed Sparse Row format>,\n",
       " 'BrownSugah': <1x3467 sparse matrix of type '<class 'numpy.float64'>'\n",
       " \twith 4 stored elements in Compressed Sparse Row format>,\n",
       " 'Brown_Gosling': <1x3467 sparse matrix of type '<class 'numpy.float64'>'\n",
       " \twith 11 stored elements in Compressed Sparse Row format>,\n",
       " 'Brozekial': <1x3467 sparse matrix of type '<class 'numpy.float64'>'\n",
       " \twith 43 stored elements in Compressed Sparse Row format>,\n",
       " 'BruceCampbell123': <1x3467 sparse matrix of type '<class 'numpy.float64'>'\n",
       " \twith 6 stored elements in Compressed Sparse Row format>,\n",
       " 'Brunch_Detention': <1x3467 sparse matrix of type '<class 'numpy.float64'>'\n",
       " \twith 3 stored elements in Compressed Sparse Row format>,\n",
       " 'BrutalSauce': <1x3467 sparse matrix of type '<class 'numpy.float64'>'\n",
       " \twith 1 stored elements in Compressed Sparse Row format>,\n",
       " 'Bryn013': <1x3467 sparse matrix of type '<class 'numpy.float64'>'\n",
       " \twith 5 stored elements in Compressed Sparse Row format>,\n",
       " 'Brytard': <1x3467 sparse matrix of type '<class 'numpy.float64'>'\n",
       " \twith 3 stored elements in Compressed Sparse Row format>,\n",
       " 'Brzhk': <1x3467 sparse matrix of type '<class 'numpy.float64'>'\n",
       " \twith 2 stored elements in Compressed Sparse Row format>,\n",
       " 'Bubbascrub': <1x3467 sparse matrix of type '<class 'numpy.float64'>'\n",
       " \twith 3 stored elements in Compressed Sparse Row format>,\n",
       " 'Bubble_Lord': <1x3467 sparse matrix of type '<class 'numpy.float64'>'\n",
       " \twith 4 stored elements in Compressed Sparse Row format>,\n",
       " 'Buck_Speedjunk': <1x3467 sparse matrix of type '<class 'numpy.float64'>'\n",
       " \twith 17 stored elements in Compressed Sparse Row format>,\n",
       " 'BuddySheff': <1x3467 sparse matrix of type '<class 'numpy.float64'>'\n",
       " \twith 20 stored elements in Compressed Sparse Row format>,\n",
       " 'Buddy_H0lly': <1x3467 sparse matrix of type '<class 'numpy.float64'>'\n",
       " \twith 3 stored elements in Compressed Sparse Row format>,\n",
       " 'Buelldozer': <1x3467 sparse matrix of type '<class 'numpy.float64'>'\n",
       " \twith 31 stored elements in Compressed Sparse Row format>,\n",
       " 'Bueroaffe': <1x3467 sparse matrix of type '<class 'numpy.float64'>'\n",
       " \twith 1 stored elements in Compressed Sparse Row format>,\n",
       " 'BuffHipster': <1x3467 sparse matrix of type '<class 'numpy.float64'>'\n",
       " \twith 10 stored elements in Compressed Sparse Row format>,\n",
       " 'Bug_Eyed_Beatrix': <1x3467 sparse matrix of type '<class 'numpy.float64'>'\n",
       " \twith 3 stored elements in Compressed Sparse Row format>,\n",
       " 'BugalooShrimpp': <1x3467 sparse matrix of type '<class 'numpy.float64'>'\n",
       " \twith 9 stored elements in Compressed Sparse Row format>,\n",
       " 'Bugsfunny10': <1x3467 sparse matrix of type '<class 'numpy.float64'>'\n",
       " \twith 5 stored elements in Compressed Sparse Row format>,\n",
       " 'BuhDan': <1x3467 sparse matrix of type '<class 'numpy.float64'>'\n",
       " \twith 54 stored elements in Compressed Sparse Row format>,\n",
       " 'Buick88': <1x3467 sparse matrix of type '<class 'numpy.float64'>'\n",
       " \twith 3 stored elements in Compressed Sparse Row format>,\n",
       " 'BuildMyPaperHeart': <1x3467 sparse matrix of type '<class 'numpy.float64'>'\n",
       " \twith 6 stored elements in Compressed Sparse Row format>,\n",
       " 'Buildapanda': <1x3467 sparse matrix of type '<class 'numpy.float64'>'\n",
       " \twith 7 stored elements in Compressed Sparse Row format>,\n",
       " 'BuildtheAdytum': <1x3467 sparse matrix of type '<class 'numpy.float64'>'\n",
       " \twith 6 stored elements in Compressed Sparse Row format>,\n",
       " 'BuiltToSpil1': <1x3467 sparse matrix of type '<class 'numpy.float64'>'\n",
       " \twith 12 stored elements in Compressed Sparse Row format>,\n",
       " 'BukBasher': <1x3467 sparse matrix of type '<class 'numpy.float64'>'\n",
       " \twith 7 stored elements in Compressed Sparse Row format>,\n",
       " 'BukkakeAtAFuneral': <1x3467 sparse matrix of type '<class 'numpy.float64'>'\n",
       " \twith 18 stored elements in Compressed Sparse Row format>,\n",
       " 'Buksey': <1x3467 sparse matrix of type '<class 'numpy.float64'>'\n",
       " \twith 13 stored elements in Compressed Sparse Row format>,\n",
       " 'Bulezau': <1x3467 sparse matrix of type '<class 'numpy.float64'>'\n",
       " \twith 4 stored elements in Compressed Sparse Row format>,\n",
       " 'BullsLawDan': <1x3467 sparse matrix of type '<class 'numpy.float64'>'\n",
       " \twith 52 stored elements in Compressed Sparse Row format>,\n",
       " 'BullsNotion': <1x3467 sparse matrix of type '<class 'numpy.float64'>'\n",
       " \twith 3 stored elements in Compressed Sparse Row format>,\n",
       " 'Bulwarky': <1x3467 sparse matrix of type '<class 'numpy.float64'>'\n",
       " \twith 5 stored elements in Compressed Sparse Row format>,\n",
       " 'Bum_Left_Knee': <1x3467 sparse matrix of type '<class 'numpy.float64'>'\n",
       " \twith 8 stored elements in Compressed Sparse Row format>,\n",
       " 'BunRabbit': <1x3467 sparse matrix of type '<class 'numpy.float64'>'\n",
       " \twith 8 stored elements in Compressed Sparse Row format>,\n",
       " 'BunniesOfLove': <1x3467 sparse matrix of type '<class 'numpy.float64'>'\n",
       " \twith 4 stored elements in Compressed Sparse Row format>,\n",
       " 'Bunze': <1x3467 sparse matrix of type '<class 'numpy.float64'>'\n",
       " \twith 4 stored elements in Compressed Sparse Row format>,\n",
       " 'BuppyDog': <1x3467 sparse matrix of type '<class 'numpy.float64'>'\n",
       " \twith 10 stored elements in Compressed Sparse Row format>,\n",
       " 'Burkey': <1x3467 sparse matrix of type '<class 'numpy.float64'>'\n",
       " \twith 7 stored elements in Compressed Sparse Row format>,\n",
       " 'Burlapin': <1x3467 sparse matrix of type '<class 'numpy.float64'>'\n",
       " \twith 26 stored elements in Compressed Sparse Row format>,\n",
       " 'Burn_ThemAll': <1x3467 sparse matrix of type '<class 'numpy.float64'>'\n",
       " \twith 2 stored elements in Compressed Sparse Row format>,\n",
       " 'BurnedOperative': <1x3467 sparse matrix of type '<class 'numpy.float64'>'\n",
       " \twith 9 stored elements in Compressed Sparse Row format>,\n",
       " 'BurnestHempingway': <1x3467 sparse matrix of type '<class 'numpy.float64'>'\n",
       " \twith 1 stored elements in Compressed Sparse Row format>,\n",
       " 'BurningLed': <1x3467 sparse matrix of type '<class 'numpy.float64'>'\n",
       " \twith 5 stored elements in Compressed Sparse Row format>,\n",
       " 'BurnoutBoz': <1x3467 sparse matrix of type '<class 'numpy.float64'>'\n",
       " \twith 2 stored elements in Compressed Sparse Row format>,\n",
       " 'Burnthisbook': <1x3467 sparse matrix of type '<class 'numpy.float64'>'\n",
       " \twith 8 stored elements in Compressed Sparse Row format>,\n",
       " 'BurritoFreshDittle': <1x3467 sparse matrix of type '<class 'numpy.float64'>'\n",
       " \twith 10 stored elements in Compressed Sparse Row format>,\n",
       " 'Buscat': <1x3467 sparse matrix of type '<class 'numpy.float64'>'\n",
       " \twith 59 stored elements in Compressed Sparse Row format>,\n",
       " 'Bushels_for_All': <1x3467 sparse matrix of type '<class 'numpy.float64'>'\n",
       " \twith 5 stored elements in Compressed Sparse Row format>,\n",
       " 'Buster01': <1x3467 sparse matrix of type '<class 'numpy.float64'>'\n",
       " \twith 3 stored elements in Compressed Sparse Row format>,\n",
       " 'ButIamThatguy': <1x3467 sparse matrix of type '<class 'numpy.float64'>'\n",
       " \twith 5 stored elements in Compressed Sparse Row format>,\n",
       " 'ButtSurgeon': <1x3467 sparse matrix of type '<class 'numpy.float64'>'\n",
       " \twith 2 stored elements in Compressed Sparse Row format>,\n",
       " 'Buttah': <1x3467 sparse matrix of type '<class 'numpy.float64'>'\n",
       " \twith 8 stored elements in Compressed Sparse Row format>,\n",
       " 'ButterBat': <1x3467 sparse matrix of type '<class 'numpy.float64'>'\n",
       " \twith 5 stored elements in Compressed Sparse Row format>,\n",
       " 'ButterMyBiscuit': <1x3467 sparse matrix of type '<class 'numpy.float64'>'\n",
       " \twith 54 stored elements in Compressed Sparse Row format>,\n",
       " 'ButteredPecan': <1x3467 sparse matrix of type '<class 'numpy.float64'>'\n",
       " \twith 2 stored elements in Compressed Sparse Row format>,\n",
       " 'ButthurtBeanpole': <1x3467 sparse matrix of type '<class 'numpy.float64'>'\n",
       " \twith 2 stored elements in Compressed Sparse Row format>,\n",
       " 'Buzzbrad': <1x3467 sparse matrix of type '<class 'numpy.float64'>'\n",
       " \twith 6 stored elements in Compressed Sparse Row format>,\n",
       " 'Buzzword33': <1x3467 sparse matrix of type '<class 'numpy.float64'>'\n",
       " \twith 10 stored elements in Compressed Sparse Row format>,\n",
       " 'Bwignite24': <1x3467 sparse matrix of type '<class 'numpy.float64'>'\n",
       " \twith 3 stored elements in Compressed Sparse Row format>,\n",
       " 'Bwool': <1x3467 sparse matrix of type '<class 'numpy.float64'>'\n",
       " \twith 1 stored elements in Compressed Sparse Row format>,\n",
       " 'Byeka': <1x3467 sparse matrix of type '<class 'numpy.float64'>'\n",
       " \twith 9 stored elements in Compressed Sparse Row format>,\n",
       " 'ByrdHermes55': <1x3467 sparse matrix of type '<class 'numpy.float64'>'\n",
       " \twith 20 stored elements in Compressed Sparse Row format>,\n",
       " 'ByronicAsian': <1x3467 sparse matrix of type '<class 'numpy.float64'>'\n",
       " \twith 34 stored elements in Compressed Sparse Row format>,\n",
       " 'C-BASS': <1x3467 sparse matrix of type '<class 'numpy.float64'>'\n",
       " \twith 1 stored elements in Compressed Sparse Row format>,\n",
       " 'C-grij': <1x3467 sparse matrix of type '<class 'numpy.float64'>'\n",
       " \twith 18 stored elements in Compressed Sparse Row format>,\n",
       " 'C20H23NO4': <1x3467 sparse matrix of type '<class 'numpy.float64'>'\n",
       " \twith 16 stored elements in Compressed Sparse Row format>,\n",
       " 'C4RB0MB': <1x3467 sparse matrix of type '<class 'numpy.float64'>'\n",
       " \twith 2 stored elements in Compressed Sparse Row format>,\n",
       " 'CAN_ZIGZAG': <1x3467 sparse matrix of type '<class 'numpy.float64'>'\n",
       " \twith 15 stored elements in Compressed Sparse Row format>,\n",
       " 'CC-Rider': <1x3467 sparse matrix of type '<class 'numpy.float64'>'\n",
       " \twith 19 stored elements in Compressed Sparse Row format>,\n",
       " 'CCFTW': <1x3467 sparse matrix of type '<class 'numpy.float64'>'\n",
       " \twith 1 stored elements in Compressed Sparse Row format>,\n",
       " 'CC_EF_JTF': <1x3467 sparse matrix of type '<class 'numpy.float64'>'\n",
       " \twith 12 stored elements in Compressed Sparse Row format>,\n",
       " 'CFAK': <1x3467 sparse matrix of type '<class 'numpy.float64'>'\n",
       " \twith 3 stored elements in Compressed Sparse Row format>,\n",
       " 'CFroggenhall': <1x3467 sparse matrix of type '<class 'numpy.float64'>'\n",
       " \twith 19 stored elements in Compressed Sparse Row format>,\n",
       " 'CGord': <1x3467 sparse matrix of type '<class 'numpy.float64'>'\n",
       " \twith 60 stored elements in Compressed Sparse Row format>,\n",
       " 'CHAIN_MAIL_MIKE': <1x3467 sparse matrix of type '<class 'numpy.float64'>'\n",
       " \twith 4 stored elements in Compressed Sparse Row format>,\n",
       " 'CJB95': <1x3467 sparse matrix of type '<class 'numpy.float64'>'\n",
       " \twith 25 stored elements in Compressed Sparse Row format>,\n",
       " 'CJ_Productions': <1x3467 sparse matrix of type '<class 'numpy.float64'>'\n",
       " \twith 14 stored elements in Compressed Sparse Row format>,\n",
       " 'CLASSIC_REDDIT': <1x3467 sparse matrix of type '<class 'numpy.float64'>'\n",
       " \twith 4 stored elements in Compressed Sparse Row format>,\n",
       " 'COCOnizzle': <1x3467 sparse matrix of type '<class 'numpy.float64'>'\n",
       " \twith 7 stored elements in Compressed Sparse Row format>,\n",
       " 'CORNDOGCOMMANDO': <1x3467 sparse matrix of type '<class 'numpy.float64'>'\n",
       " \twith 3 stored elements in Compressed Sparse Row format>,\n",
       " 'CR00KS': <1x3467 sparse matrix of type '<class 'numpy.float64'>'\n",
       " \twith 32 stored elements in Compressed Sparse Row format>,\n",
       " 'CSpotRunCPlusPlus': <1x3467 sparse matrix of type '<class 'numpy.float64'>'\n",
       " \twith 4 stored elements in Compressed Sparse Row format>,\n",
       " 'CTI556': <1x3467 sparse matrix of type '<class 'numpy.float64'>'\n",
       " \twith 9 stored elements in Compressed Sparse Row format>,\n",
       " 'CTRL_ALT_FUCK_YOU': <1x3467 sparse matrix of type '<class 'numpy.float64'>'\n",
       " \twith 4 stored elements in Compressed Sparse Row format>,\n",
       " 'CTomke93': <1x3467 sparse matrix of type '<class 'numpy.float64'>'\n",
       " \twith 5 stored elements in Compressed Sparse Row format>,\n",
       " 'CTthrower': <1x3467 sparse matrix of type '<class 'numpy.float64'>'\n",
       " \twith 9 stored elements in Compressed Sparse Row format>,\n",
       " 'CUDesu': <1x3467 sparse matrix of type '<class 'numpy.float64'>'\n",
       " \twith 9 stored elements in Compressed Sparse Row format>,\n",
       " 'CUNT_PUNCHIFIER': <1x3467 sparse matrix of type '<class 'numpy.float64'>'\n",
       " \twith 14 stored elements in Compressed Sparse Row format>,\n",
       " 'CVTHIZZKID': <1x3467 sparse matrix of type '<class 'numpy.float64'>'\n",
       " \twith 17 stored elements in Compressed Sparse Row format>,\n",
       " 'CWagner': <1x3467 sparse matrix of type '<class 'numpy.float64'>'\n",
       " \twith 25 stored elements in Compressed Sparse Row format>,\n",
       " 'C_Terror': <1x3467 sparse matrix of type '<class 'numpy.float64'>'\n",
       " \twith 14 stored elements in Compressed Sparse Row format>,\n",
       " 'C_sharp_minor': <1x3467 sparse matrix of type '<class 'numpy.float64'>'\n",
       " \twith 6 stored elements in Compressed Sparse Row format>,\n",
       " 'Ca11megee': <1x3467 sparse matrix of type '<class 'numpy.float64'>'\n",
       " \twith 3 stored elements in Compressed Sparse Row format>,\n",
       " 'Cabes86': <1x3467 sparse matrix of type '<class 'numpy.float64'>'\n",
       " \twith 12 stored elements in Compressed Sparse Row format>,\n",
       " 'Caeleste': <1x3467 sparse matrix of type '<class 'numpy.float64'>'\n",
       " \twith 12 stored elements in Compressed Sparse Row format>,\n",
       " 'CaffeineParadigm': <1x3467 sparse matrix of type '<class 'numpy.float64'>'\n",
       " \twith 1 stored elements in Compressed Sparse Row format>,\n",
       " 'CaffeinePixel': <1x3467 sparse matrix of type '<class 'numpy.float64'>'\n",
       " \twith 2 stored elements in Compressed Sparse Row format>,\n",
       " 'CaiserZero': <1x3467 sparse matrix of type '<class 'numpy.float64'>'\n",
       " \twith 23 stored elements in Compressed Sparse Row format>,\n",
       " 'Caitlionator': <1x3467 sparse matrix of type '<class 'numpy.float64'>'\n",
       " \twith 17 stored elements in Compressed Sparse Row format>,\n",
       " 'CajunTaco': <1x3467 sparse matrix of type '<class 'numpy.float64'>'\n",
       " \twith 9 stored elements in Compressed Sparse Row format>,\n",
       " 'CakeHaxx': <1x3467 sparse matrix of type '<class 'numpy.float64'>'\n",
       " \twith 3 stored elements in Compressed Sparse Row format>,\n",
       " 'CakiePamy': <1x3467 sparse matrix of type '<class 'numpy.float64'>'\n",
       " \twith 19 stored elements in Compressed Sparse Row format>,\n",
       " 'CalJGirl': <1x3467 sparse matrix of type '<class 'numpy.float64'>'\n",
       " \twith 3 stored elements in Compressed Sparse Row format>,\n",
       " 'CalamityJaneDoe': <1x3467 sparse matrix of type '<class 'numpy.float64'>'\n",
       " \twith 12 stored elements in Compressed Sparse Row format>,\n",
       " 'Calcytron': <1x3467 sparse matrix of type '<class 'numpy.float64'>'\n",
       " \twith 6 stored elements in Compressed Sparse Row format>,\n",
       " 'CaliBuddz': <1x3467 sparse matrix of type '<class 'numpy.float64'>'\n",
       " \twith 25 stored elements in Compressed Sparse Row format>,\n",
       " 'CaliToast': <1x3467 sparse matrix of type '<class 'numpy.float64'>'\n",
       " \twith 3 stored elements in Compressed Sparse Row format>,\n",
       " 'Calisquare': <1x3467 sparse matrix of type '<class 'numpy.float64'>'\n",
       " \twith 6 stored elements in Compressed Sparse Row format>,\n",
       " 'CallMeDoc24': <1x3467 sparse matrix of type '<class 'numpy.float64'>'\n",
       " \twith 11 stored elements in Compressed Sparse Row format>,\n",
       " 'Call_Me_Jebus': <1x3467 sparse matrix of type '<class 'numpy.float64'>'\n",
       " \twith 3 stored elements in Compressed Sparse Row format>,\n",
       " 'Callahan27': <1x3467 sparse matrix of type '<class 'numpy.float64'>'\n",
       " \twith 11 stored elements in Compressed Sparse Row format>,\n",
       " 'Callamanda': <1x3467 sparse matrix of type '<class 'numpy.float64'>'\n",
       " \twith 3 stored elements in Compressed Sparse Row format>,\n",
       " 'Callinectes': <1x3467 sparse matrix of type '<class 'numpy.float64'>'\n",
       " \twith 1 stored elements in Compressed Sparse Row format>,\n",
       " 'Calmchowder112': <1x3467 sparse matrix of type '<class 'numpy.float64'>'\n",
       " \twith 11 stored elements in Compressed Sparse Row format>,\n",
       " 'Calmwinds': <1x3467 sparse matrix of type '<class 'numpy.float64'>'\n",
       " \twith 3 stored elements in Compressed Sparse Row format>,\n",
       " 'CalvinDehaze': <1x3467 sparse matrix of type '<class 'numpy.float64'>'\n",
       " \twith 30 stored elements in Compressed Sparse Row format>,\n",
       " 'CambodianDrywall': <1x3467 sparse matrix of type '<class 'numpy.float64'>'\n",
       " \twith 13 stored elements in Compressed Sparse Row format>,\n",
       " 'Cambridge_Shoulders': <1x3467 sparse matrix of type '<class 'numpy.float64'>'\n",
       " \twith 5 stored elements in Compressed Sparse Row format>,\n",
       " 'CameIMilk': <1x3467 sparse matrix of type '<class 'numpy.float64'>'\n",
       " \twith 2 stored elements in Compressed Sparse Row format>,\n",
       " 'Camelliasinensis': <1x3467 sparse matrix of type '<class 'numpy.float64'>'\n",
       " \twith 3 stored elements in Compressed Sparse Row format>,\n",
       " 'Cameronious': <1x3467 sparse matrix of type '<class 'numpy.float64'>'\n",
       " \twith 12 stored elements in Compressed Sparse Row format>,\n",
       " 'CamlachieCougar': <1x3467 sparse matrix of type '<class 'numpy.float64'>'\n",
       " \twith 2 stored elements in Compressed Sparse Row format>,\n",
       " 'Cammielouu': <1x3467 sparse matrix of type '<class 'numpy.float64'>'\n",
       " \twith 9 stored elements in Compressed Sparse Row format>,\n",
       " 'Canadairy': <1x3467 sparse matrix of type '<class 'numpy.float64'>'\n",
       " \twith 7 stored elements in Compressed Sparse Row format>,\n",
       " 'CanadianForApology': <1x3467 sparse matrix of type '<class 'numpy.float64'>'\n",
       " \twith 5 stored elements in Compressed Sparse Row format>,\n",
       " 'CanadianGiraffe69': <1x3467 sparse matrix of type '<class 'numpy.float64'>'\n",
       " \twith 6 stored elements in Compressed Sparse Row format>,\n",
       " 'CanadianGuy116': <1x3467 sparse matrix of type '<class 'numpy.float64'>'\n",
       " \twith 20 stored elements in Compressed Sparse Row format>,\n",
       " 'Cananbaum': <1x3467 sparse matrix of type '<class 'numpy.float64'>'\n",
       " \twith 25 stored elements in Compressed Sparse Row format>,\n",
       " 'Canarka': <1x3467 sparse matrix of type '<class 'numpy.float64'>'\n",
       " \twith 4 stored elements in Compressed Sparse Row format>,\n",
       " 'CannedToast': <1x3467 sparse matrix of type '<class 'numpy.float64'>'\n",
       " \twith 13 stored elements in Compressed Sparse Row format>,\n",
       " 'Canuck147': <1x3467 sparse matrix of type '<class 'numpy.float64'>'\n",
       " \twith 18 stored elements in Compressed Sparse Row format>,\n",
       " 'CanvasWolfDoll': <1x3467 sparse matrix of type '<class 'numpy.float64'>'\n",
       " \twith 7 stored elements in Compressed Sparse Row format>,\n",
       " 'CapOnFoam': <1x3467 sparse matrix of type '<class 'numpy.float64'>'\n",
       " \twith 30 stored elements in Compressed Sparse Row format>,\n",
       " 'Cap_Had': <1x3467 sparse matrix of type '<class 'numpy.float64'>'\n",
       " \twith 10 stored elements in Compressed Sparse Row format>,\n",
       " 'Capatown': <1x3467 sparse matrix of type '<class 'numpy.float64'>'\n",
       " \twith 52 stored elements in Compressed Sparse Row format>,\n",
       " ...}"
      ]
     },
     "execution_count": 50,
     "metadata": {},
     "output_type": "execute_result"
    }
   ],
   "source": [
    "features_dict = {}\n",
    "test_features_dict = {}\n",
    "\n",
    "for author, group in train.groupby('author'):\n",
    "    features_dict[author] = extract_features(group)\n",
    "\n",
    "for author, group in test.groupby('author'):\n",
    "    test_features_dict[author] = extract_features(group)\n",
    "    \n",
    "test_features_dict\n"
   ]
  },
  {
   "cell_type": "code",
   "execution_count": 53,
   "id": "f541ceaf",
   "metadata": {
    "papermill": {
     "duration": null,
     "end_time": null,
     "exception": null,
     "start_time": null,
     "status": "pending"
    },
    "tags": []
   },
   "outputs": [],
   "source": [
    "X_subs = sparse.vstack([features_dict[author] for author in target.author])\n",
    "\n",
    "\n",
    "X_subs_test = sparse.vstack([test_features_dict[author] for author in test.author.unique()])\n"
   ]
  },
  {
   "cell_type": "code",
   "execution_count": 54,
   "id": "d1407492",
   "metadata": {
    "papermill": {
     "duration": null,
     "end_time": null,
     "exception": null,
     "start_time": null,
     "status": "pending"
    },
    "tags": []
   },
   "outputs": [],
   "source": [
    "sparse.save_npz('X_subs.npz', X_subs)\n",
    "sparse.save_npz('X_subs_test.npz', X_subs_test)"
   ]
  },
  {
   "cell_type": "markdown",
   "id": "9b374925",
   "metadata": {
    "papermill": {
     "duration": null,
     "end_time": null,
     "exception": null,
     "start_time": null,
     "status": "pending"
    },
    "tags": []
   },
   "source": [
    "### Extracting and transforming text"
   ]
  },
  {
   "cell_type": "markdown",
   "id": "8efa71ef",
   "metadata": {
    "papermill": {
     "duration": null,
     "end_time": null,
     "exception": null,
     "start_time": null,
     "status": "pending"
    },
    "tags": []
   },
   "source": [
    "Let's now do feature extraction from the text. First of all, we need to put together all the text written by the specific user, in order to analyze it thoroughly.\n",
    "\n",
    "For example, user '-Jared' has written several posts; let's gather all the text in one place"
   ]
  },
  {
   "cell_type": "code",
   "execution_count": 55,
   "id": "54c33403",
   "metadata": {
    "papermill": {
     "duration": null,
     "end_time": null,
     "exception": null,
     "start_time": null,
     "status": "pending"
    },
    "tags": []
   },
   "outputs": [
    {
     "data": {
      "text/plain": [
       "183147                        Neil Diamond - Sweet Caroline\n",
       "183217    +1 on the chiropractor. I went religiously fro...\n",
       "216135    Looks like the pattern on the envelope that mi...\n",
       "216762    If you had a bad motivator would you want to s...\n",
       "284178    And nothing beats a hangover quite like bacon ...\n",
       "284874    No, I think YOU mean Taylor Ham... Really, wha...\n",
       "Name: body, dtype: object"
      ]
     },
     "execution_count": 55,
     "metadata": {},
     "output_type": "execute_result"
    }
   ],
   "source": [
    "train.loc[train['author']=='-Jared']['body']"
   ]
  },
  {
   "cell_type": "code",
   "execution_count": 56,
   "id": "d50a9fd1",
   "metadata": {
    "papermill": {
     "duration": null,
     "end_time": null,
     "exception": null,
     "start_time": null,
     "status": "pending"
    },
    "tags": []
   },
   "outputs": [
    {
     "data": {
      "text/plain": [
       "'Neil Diamond - Sweet Caroline +1 on the chiropractor. I went religiously from ages 14 - 19 due to extreme lower back pain from running track / cross country. It\\'s important to remember it\\'s a somewhat slow process, but worth the results. \\n\\nOh, and don\\'t worry, they aren\\'t cracking your back - its just an \"adjustment\"  Looks like the pattern on the envelope that middle school photos came in.  If you had a bad motivator would you want to spell that out every time? And nothing beats a hangover quite like bacon (or better yet, Taylor ham), eggs over easy, toast, and hash browns! No, I think YOU mean Taylor Ham... Really, whatever you call it doesn\\'t matter, its damn delicious. '"
      ]
     },
     "execution_count": 56,
     "metadata": {},
     "output_type": "execute_result"
    }
   ],
   "source": [
    "def extract_text(group):\n",
    "    group_text = group['body'].astype(str).values\n",
    "    full_text = \" \".join(group_text)\n",
    "    return full_text\n",
    "\n",
    "extract_text(train[train.author=='-Jared'])\n",
    "\n"
   ]
  },
  {
   "cell_type": "markdown",
   "id": "beaf8e61",
   "metadata": {
    "papermill": {
     "duration": null,
     "end_time": null,
     "exception": null,
     "start_time": null,
     "status": "pending"
    },
    "tags": []
   },
   "source": [
    "Let's now gather text for each user.\n",
    "\n",
    "Lower-case is applied as well. For Bag-of-Words lower_case will be used, whereas for some of other feature, where capital letters or words are evaluated, the one with upper-cases will be used."
   ]
  },
  {
   "cell_type": "code",
   "execution_count": 57,
   "id": "709b87a8",
   "metadata": {
    "papermill": {
     "duration": null,
     "end_time": null,
     "exception": null,
     "start_time": null,
     "status": "pending"
    },
    "tags": []
   },
   "outputs": [],
   "source": [
    "#Base\n",
    "text_dict = {}\n",
    "test_text_dict = {}\n",
    "#Lower case\n",
    "text_dict_lower = {}\n",
    "test_text_dict_lower = {}\n",
    "\n",
    "#Training\n",
    "for author, group in train.groupby('author'):\n",
    "    full_text = extract_text(group)\n",
    "    text_dict[author] = full_text\n",
    "    text_dict_lower[author] = full_text.lower()\n",
    "    \n",
    "author_text = [text_dict[author] for author in target.author]\n",
    "author_text_lower = [text_dict_lower[author] for author in target.author]\n",
    "\n",
    "#Test\n",
    "for author, group in test.groupby('author'):\n",
    "    full_text = extract_text(group)\n",
    "    test_text_dict[author] = full_text\n",
    "    test_text_dict_lower[author] = full_text.lower()\n",
    "\n",
    "test_author_text = [test_text_dict[author] for author in test.author.unique()]\n",
    "test_author_text_lower = [test_text_dict_lower[author] for author in test.author.unique()]\n",
    "\n"
   ]
  },
  {
   "cell_type": "code",
   "execution_count": 58,
   "id": "60328df7",
   "metadata": {
    "papermill": {
     "duration": null,
     "end_time": null,
     "exception": null,
     "start_time": null,
     "status": "pending"
    },
    "tags": []
   },
   "outputs": [
    {
     "data": {
      "text/plain": [
       "\"darn, someone already used it.  yep, a co-worker showed me this. as soon as i have the money, i'm canceling my account with sprint. drinking tea with local honey will help, somewhat. bees pollinating  everything, those dirty little bees. as someone who has done support for a ton of video game companies:\\n**no.** for kids! i really hate to say, but check out a school system called harmony science academy. i went there from 6th to 12th. one of the requirements of graduation is to get accepted to a 4 year college. they've never had one person not graduate because of it. the teachers all really do care. they are very good with academics, but not so much sports. if you really are looking for a good college prep school, i couldn't recommend a better one. i had an ex give me this. \\nex. famine, disease, introduction to native americans?  oh gosh, the return of the king! it is so much fun to play with friends! ironically, i have that same thing on my desk. who would have thought?\""
      ]
     },
     "execution_count": 58,
     "metadata": {},
     "output_type": "execute_result"
    }
   ],
   "source": [
    "author_text_lower[4]"
   ]
  },
  {
   "cell_type": "markdown",
   "id": "958f5452",
   "metadata": {
    "papermill": {
     "duration": null,
     "end_time": null,
     "exception": null,
     "start_time": null,
     "status": "pending"
    },
    "tags": []
   },
   "source": [
    "## LEMMATIZATION/STEMMING "
   ]
  },
  {
   "cell_type": "markdown",
   "id": "d6c229b9",
   "metadata": {
    "papermill": {
     "duration": null,
     "end_time": null,
     "exception": null,
     "start_time": null,
     "status": "pending"
    },
    "tags": []
   },
   "source": [
    "For Bag of Words, a lemmatized text is provided in order to reduce vocabulary and thus number of features, and at the same time limit sparse words such as \"Hellllooooo\" typical of social media and that are highly unlikely to be present more than once, if ever. This kind of words contain information though, in their meaning. Thus, by applying a lemmatization technique, we are preserving meaning and neglecting the specific modified word.\n",
    "\n",
    "Since we use Pos-Tagging as a guideline for correct lemmatization, we need to map tags used by Pos-Tagging to the tags used by the Lemmatization tool."
   ]
  },
  {
   "cell_type": "code",
   "execution_count": 59,
   "id": "4417ef14",
   "metadata": {
    "papermill": {
     "duration": null,
     "end_time": null,
     "exception": null,
     "start_time": null,
     "status": "pending"
    },
    "tags": []
   },
   "outputs": [
    {
     "ename": "ModuleNotFoundError",
     "evalue": "No module named 'nltk'",
     "output_type": "error",
     "traceback": [
      "\u001b[1;31m---------------------------------------------------------------------------\u001b[0m",
      "\u001b[1;31mModuleNotFoundError\u001b[0m                       Traceback (most recent call last)",
      "Cell \u001b[1;32mIn[59], line 1\u001b[0m\n\u001b[1;32m----> 1\u001b[0m \u001b[38;5;28;01mimport\u001b[39;00m \u001b[38;5;21;01mnltk\u001b[39;00m\n\u001b[0;32m      2\u001b[0m \u001b[38;5;28;01mimport\u001b[39;00m \u001b[38;5;21;01mre\u001b[39;00m\n\u001b[0;32m      3\u001b[0m \u001b[38;5;28;01mfrom\u001b[39;00m \u001b[38;5;21;01mnltk\u001b[39;00m\u001b[38;5;21;01m.\u001b[39;00m\u001b[38;5;21;01mtokenize\u001b[39;00m \u001b[38;5;28;01mimport\u001b[39;00m word_tokenize\n",
      "\u001b[1;31mModuleNotFoundError\u001b[0m: No module named 'nltk'"
     ]
    }
   ],
   "source": [
    "import nltk\n",
    "import re\n",
    "from nltk.tokenize import word_tokenize\n",
    "from nltk.stem import WordNetLemmatizer\n",
    "from nltk.corpus import wordnet\n",
    "import string\n",
    "\n",
    "def get_wordnet_pos(treebank_tag):\n",
    "\n",
    "    if treebank_tag.startswith('J'):\n",
    "        return wordnet.ADJ\n",
    "    elif treebank_tag.startswith('V'):\n",
    "        return wordnet.VERB\n",
    "    elif treebank_tag.startswith('N'):\n",
    "        return wordnet.NOUN\n",
    "    elif treebank_tag.startswith('R'):\n",
    "        return wordnet.ADV\n",
    "    else:\n",
    "        return ''\n",
    " "
   ]
  },
  {
   "cell_type": "markdown",
   "id": "b928f672",
   "metadata": {
    "papermill": {
     "duration": null,
     "end_time": null,
     "exception": null,
     "start_time": null,
     "status": "pending"
    },
    "tags": []
   },
   "source": [
    "Then we create a translator to remove punctuation. This is the first of the pipeline, in which we clean data from punctuations in order to isolate words"
   ]
  },
  {
   "cell_type": "code",
   "execution_count": null,
   "id": "d65e7f2b",
   "metadata": {
    "papermill": {
     "duration": null,
     "end_time": null,
     "exception": null,
     "start_time": null,
     "status": "pending"
    },
    "tags": []
   },
   "outputs": [],
   "source": [
    "translator = str.maketrans('', '', string.punctuation)"
   ]
  },
  {
   "cell_type": "markdown",
   "id": "61f7a32c",
   "metadata": {
    "papermill": {
     "duration": null,
     "end_time": null,
     "exception": null,
     "start_time": null,
     "status": "pending"
    },
    "tags": []
   },
   "source": [
    "Creating a function that:\n",
    "1) Removes punctuation\n",
    "\n",
    "2) Tokenizes text (subdivides text in a list of words, so called tokens)\n",
    "\n",
    "3) Applies Pos-Tagging, thus giving grammatical context to each one of the tokens\n",
    "\n",
    "4) Applies Lemmatization, reducing each word to their root. The tag is coherently mapped from Pos-Tag to wordnet through the *get_wordnet_pos* function\n"
   ]
  },
  {
   "cell_type": "code",
   "execution_count": null,
   "id": "38dedfae",
   "metadata": {
    "papermill": {
     "duration": null,
     "end_time": null,
     "exception": null,
     "start_time": null,
     "status": "pending"
    },
    "tags": []
   },
   "outputs": [],
   "source": [
    "def token_pos_lemmatizer(text):\n",
    "    lemmatizer=WordNetLemmatizer()\n",
    "\n",
    "    data = text.translate(translator)\n",
    "    words=word_tokenize(data)\n",
    "    pos = nltk.pos_tag(words)\n",
    "\n",
    "\n",
    "    lemmatized_sentence = []\n",
    "    for tpl in pos:\n",
    "        tag = get_wordnet_pos(tpl[1])\n",
    "        if tag != '':\n",
    "            lemma = lemmatizer.lemmatize(tpl[0], get_wordnet_pos(tpl[1]))\n",
    "        else: \n",
    "            lemma = lemmatizer.lemmatize(tpl[0])\n",
    "    \n",
    "        lemmatized_sentence.append(lemma)\n",
    "    return lemmatized_sentence\n",
    "\n",
    "\n",
    "#lemmatized_sentence = []\n",
    "#for tpl in pos:\n",
    "#    print(tpl)\n",
    "#    lemma = lemmatizer.lemmatize(tpl[0], tag[1].lower())\n",
    "#    lemmatized_sentence.append(lemma)\n",
    "#words = [lemmmatizer.lemmatize(word[0],word[1]) for word in pos]\n",
    "\n"
   ]
  },
  {
   "cell_type": "markdown",
   "id": "3fcfd046",
   "metadata": {
    "papermill": {
     "duration": null,
     "end_time": null,
     "exception": null,
     "start_time": null,
     "status": "pending"
    },
    "tags": []
   },
   "source": [
    "Applying Lemmatization to all text data. From this point on, we can apply Bag of Words."
   ]
  },
  {
   "cell_type": "code",
   "execution_count": null,
   "id": "03cd420b",
   "metadata": {
    "papermill": {
     "duration": null,
     "end_time": null,
     "exception": null,
     "start_time": null,
     "status": "pending"
    },
    "tags": []
   },
   "outputs": [],
   "source": [
    "lemmatized_data=[]\n",
    "for author in author_text_lower:\n",
    "    lemma = token_pos_lemmatizer(author)\n",
    "    #Creating one single blob of text by joining the lemmatized words, from the list created by the lemmatizer. \n",
    "    #This way, the lemmatized data can be fed to a TF-IDF Vectorizer which accepts only blob of strings\n",
    "    lemmatized_data.append(\" \".join(lemma))\n",
    "\n",
    "lemmatized_data_test=[]\n",
    "for author in test_author_text_lower:\n",
    "    lemma = token_pos_lemmatizer(author)\n",
    "    #Creating one single blob of text by joining the lemmatized words, from the list created by the lemmatizer. \n",
    "    #This way, the lemmatized data can be fed to a TF-IDF Vectorizer which accepts only blob of strings\n",
    "    lemmatized_data_test.append(\" \".join(lemma))\n",
    "\n"
   ]
  },
  {
   "cell_type": "markdown",
   "id": "299d4f84",
   "metadata": {
    "papermill": {
     "duration": null,
     "end_time": null,
     "exception": null,
     "start_time": null,
     "status": "pending"
    },
    "tags": []
   },
   "source": [
    "Now, with this data we apply Bag-of-Words through a TF-IDF Vectorizer. Features are normalized, thus no further normalization is applied. Furthermore, not all features in the Training Data are selected: a threshold of appearence has been put, so that only features that appear in at least 5% of the texts is accepted. This is done in order to remove outliers (noise) and keeping into account the fact that in social media writing style allows for same words written in different formats, which would appear only once in the whole dataset. This does not provide any information regarding writing style of gender, so it is removed. This should help computation time as well as performance.\n",
    "\n",
    "Edit: TF-IDF was initially switched-off, as we are looking for writing style rather than topic/content. After performing some tests, TF-IDF seems to give better performance, hence it was turned on."
   ]
  },
  {
   "cell_type": "code",
   "execution_count": null,
   "id": "16d9f4e9",
   "metadata": {
    "papermill": {
     "duration": null,
     "end_time": null,
     "exception": null,
     "start_time": null,
     "status": "pending"
    },
    "tags": []
   },
   "outputs": [],
   "source": [
    "from sklearn.feature_extraction.text import TfidfVectorizer\n",
    "vectorizer = TfidfVectorizer(use_idf=True, norm='l2', min_df=0.02)\n",
    "vectorizer.fit(lemmatized_data)\n",
    "X_lembow = vectorizer.transform(lemmatized_data)\n",
    "X_lembow_test = vectorizer.transform(lemmatized_data_test)\n",
    "\n",
    "X_lembow\n",
    "X_lembow_test\n"
   ]
  },
  {
   "cell_type": "markdown",
   "id": "4c329e09",
   "metadata": {
    "papermill": {
     "duration": null,
     "end_time": null,
     "exception": null,
     "start_time": null,
     "status": "pending"
    },
    "tags": []
   },
   "source": [
    "Saving the feature to file, so that features will not have to be extracted every time the notebook is closed. At the end of the feature extraction process, all these feature matrices will be stacked together to form the Design Matrix X."
   ]
  },
  {
   "cell_type": "code",
   "execution_count": null,
   "id": "bcbfddcd",
   "metadata": {
    "papermill": {
     "duration": null,
     "end_time": null,
     "exception": null,
     "start_time": null,
     "status": "pending"
    },
    "tags": []
   },
   "outputs": [],
   "source": [
    "sparse.save_npz('X_lembow.npz', X_lembow)\n",
    "sparse.save_npz('X_lembow_test.npz', X_lembow_test)"
   ]
  },
  {
   "cell_type": "markdown",
   "id": "eda7914d",
   "metadata": {
    "papermill": {
     "duration": null,
     "end_time": null,
     "exception": null,
     "start_time": null,
     "status": "pending"
    },
    "tags": []
   },
   "source": [
    "## Bag of Words "
   ]
  },
  {
   "cell_type": "markdown",
   "id": "cac6d6ed",
   "metadata": {
    "papermill": {
     "duration": null,
     "end_time": null,
     "exception": null,
     "start_time": null,
     "status": "pending"
    },
    "tags": []
   },
   "source": [
    "Evaluating the frequency of the words used in the posts (augmented frequency, in order to eliminate bias towards lengthier documents). The Inverse Document Frequency is switched off (idf=1) since in this specific case it is not relevant to normalize for frequency in documents, the goal here is to evaluate how and what users write in spite of how many users do use the same words and how frequently. \n",
    "\n",
    "EDIT: IDF enabled as it provides better performance\n"
   ]
  },
  {
   "cell_type": "code",
   "execution_count": null,
   "id": "1fc7e402",
   "metadata": {
    "papermill": {
     "duration": null,
     "end_time": null,
     "exception": null,
     "start_time": null,
     "status": "pending"
    },
    "tags": []
   },
   "outputs": [],
   "source": [
    "from sklearn.feature_extraction.text import TfidfVectorizer\n",
    "vectorizer = TfidfVectorizer(use_idf=True, norm='l2', min_df=0.02)\n",
    "vectorizer.fit(author_text_lower)\n",
    "X_bow = vectorizer.transform(author_text_lower)\n",
    "X_bow_test = vectorizer.transform(test_author_text_lower)"
   ]
  },
  {
   "cell_type": "code",
   "execution_count": null,
   "id": "ce0c1988",
   "metadata": {
    "papermill": {
     "duration": null,
     "end_time": null,
     "exception": null,
     "start_time": null,
     "status": "pending"
    },
    "tags": []
   },
   "outputs": [],
   "source": [
    "features = vectorizer.get_feature_names_out()\n",
    "[i for i in features if '' in i]"
   ]
  },
  {
   "cell_type": "code",
   "execution_count": null,
   "id": "d1868800",
   "metadata": {
    "papermill": {
     "duration": null,
     "end_time": null,
     "exception": null,
     "start_time": null,
     "status": "pending"
    },
    "tags": []
   },
   "outputs": [],
   "source": [
    "X_bow"
   ]
  },
  {
   "cell_type": "markdown",
   "id": "c066d157",
   "metadata": {
    "papermill": {
     "duration": null,
     "end_time": null,
     "exception": null,
     "start_time": null,
     "status": "pending"
    },
    "tags": []
   },
   "source": [
    "Saving the feature to file, so that features will not have to be extracted every time the notebook is closed. At the end of the feature extraction process, all these feature matrices will be stacked together to form the Design Matrix X."
   ]
  },
  {
   "cell_type": "code",
   "execution_count": null,
   "id": "c148cd74",
   "metadata": {
    "papermill": {
     "duration": null,
     "end_time": null,
     "exception": null,
     "start_time": null,
     "status": "pending"
    },
    "tags": []
   },
   "outputs": [],
   "source": [
    "sparse.save_npz('X_bow.npz', X_bow)\n",
    "sparse.save_npz('X_bow_test.npz', X_bow_test)"
   ]
  },
  {
   "cell_type": "markdown",
   "id": "5dcdd044",
   "metadata": {
    "papermill": {
     "duration": null,
     "end_time": null,
     "exception": null,
     "start_time": null,
     "status": "pending"
    },
    "tags": []
   },
   "source": [
    "## Feature Engineering"
   ]
  },
  {
   "cell_type": "markdown",
   "id": "f603e6b2",
   "metadata": {
    "papermill": {
     "duration": null,
     "end_time": null,
     "exception": null,
     "start_time": null,
     "status": "pending"
    },
    "tags": []
   },
   "source": [
    "The features that might be useful in recognizing gender are:\n",
    "* Words used (thus a bag of words might be useful, in colloquial english stop-words could be included as well in order to model writing style)\n",
    "* Average word length --> OK\n",
    "* Longest word length --> OK\n",
    "* Misspelling frequency --> NO (computationally heavy, probably not that informative either)\n",
    "* Profanity frequency --> OK\n",
    "* Capital word frequency --> OK\n",
    "* Capital letter frequency --> OK\n",
    "* Self-reference Frequency --> OK\n",
    "* Internet acronym frequency --> OK\n",
    "* Exclamation point frequency --> OK\n",
    "* Question mark frequency --> OK \n",
    "* Quotation mark frequency  --> OK\n",
    "* Digits frequency --> OK\n",
    "* Punctuation token frequency --> OK\n",
    "* Emoticon token frequency --> OK\n"
   ]
  },
  {
   "cell_type": "markdown",
   "id": "dffd2760",
   "metadata": {
    "papermill": {
     "duration": null,
     "end_time": null,
     "exception": null,
     "start_time": null,
     "status": "pending"
    },
    "tags": []
   },
   "source": [
    "### Preparation\n"
   ]
  },
  {
   "cell_type": "markdown",
   "id": "343cdc5e",
   "metadata": {
    "papermill": {
     "duration": null,
     "end_time": null,
     "exception": null,
     "start_time": null,
     "status": "pending"
    },
    "tags": []
   },
   "source": [
    "Creating a splitter/filter that can optionally remove links and punctuation. Optionally it can track single characters as well, as it will be needed for some of the features to be extracted."
   ]
  },
  {
   "cell_type": "markdown",
   "id": "9986051a",
   "metadata": {
    "papermill": {
     "duration": null,
     "end_time": null,
     "exception": null,
     "start_time": null,
     "status": "pending"
    },
    "tags": []
   },
   "source": [
    "Using Fnmatch to filter through wildcards for whatever kind of hyper-links in posts"
   ]
  },
  {
   "cell_type": "code",
   "execution_count": null,
   "id": "a6216b92",
   "metadata": {
    "papermill": {
     "duration": null,
     "end_time": null,
     "exception": null,
     "start_time": null,
     "status": "pending"
    },
    "tags": []
   },
   "outputs": [],
   "source": [
    "import fnmatch as fn\n",
    "\n",
    "filtro = ('*www.*', '*http*', '*.html', '*.gif' )"
   ]
  },
  {
   "cell_type": "markdown",
   "id": "a65cda42",
   "metadata": {
    "papermill": {
     "duration": null,
     "end_time": null,
     "exception": null,
     "start_time": null,
     "status": "pending"
    },
    "tags": []
   },
   "source": [
    "The splitter/filter function itself. \n",
    "\n",
    "Flatten necessary as a workoaround for nested lists that come up when the fn.filter() is applied.\n",
    "\n",
    "After careful observation of the data, it is noticed that links tend to appear in the following format [TEXT]\\(LINK).\n",
    "In order to retain [TEXT] and remove (LINK) via wildcards, the 2 are separated adding a white-space between parenthesis."
   ]
  },
  {
   "cell_type": "code",
   "execution_count": null,
   "id": "bcedab47",
   "metadata": {
    "papermill": {
     "duration": null,
     "end_time": null,
     "exception": null,
     "start_time": null,
     "status": "pending"
    },
    "tags": []
   },
   "outputs": [],
   "source": [
    "from nltk import flatten\n",
    "import string\n",
    "\n",
    "def text_split_filter(sentence, no_links=True, no_punct=True, char=False):\n",
    "    #Pre-processing in order to remove links\n",
    "    sentence = sentence.replace('](', '] (')\n",
    "    \n",
    "    #Splitting sentence into a list of words\n",
    "    words = sentence.split()\n",
    "    \n",
    "    #Removing Links\n",
    "    if no_links == True:\n",
    "        filtered_words = [] #list of words to be filtered out\n",
    "        for pattern in filtro:\n",
    "            filtered_words.append(fn.filter(words, pattern)) #if there's a match with any patterns, add it to the list of filtered out words\n",
    "        filtered_words = flatten(filtered_words)\n",
    "        words2 = [word for word in words if word not in filtered_words] #Selecting only words that were not filtered out\n",
    "    else:\n",
    "        words2 = words #if no filtered out words, just take them all\n",
    "    \n",
    "    \n",
    "    #Removing Punctuation\n",
    "    words_filtered = []\n",
    "    if no_punct == True:\n",
    "        for word in words2: #Consider words that survived filtering process\n",
    "            #\n",
    "            words_filtered.append(''.join(filter(lambda x: x not in string.punctuation, word)))\n",
    "    else: \n",
    "         words_filtered = words2\n",
    "    \n",
    "    #Subdividing sentence into single chars (no spaces included)\n",
    "    #Needed for extracting certain features, set to False by default\n",
    "    if char == True:\n",
    "        chars = []\n",
    "        for word in words_filtered:\n",
    "            letters = [*word]\n",
    "            chars.append(letters)\n",
    "        \n",
    "        return flatten(chars)\n",
    "    \n",
    "    else:   \n",
    "        return words_filtered\n",
    "    "
   ]
  },
  {
   "cell_type": "markdown",
   "id": "92e117e2",
   "metadata": {
    "papermill": {
     "duration": null,
     "end_time": null,
     "exception": null,
     "start_time": null,
     "status": "pending"
    },
    "tags": []
   },
   "source": [
    "Now features are extracted both for training and test set"
   ]
  },
  {
   "cell_type": "markdown",
   "id": "b83dca95",
   "metadata": {
    "papermill": {
     "duration": null,
     "end_time": null,
     "exception": null,
     "start_time": null,
     "status": "pending"
    },
    "tags": []
   },
   "source": [
    "### Average word length"
   ]
  },
  {
   "cell_type": "code",
   "execution_count": null,
   "id": "f712b5f1",
   "metadata": {
    "papermill": {
     "duration": null,
     "end_time": null,
     "exception": null,
     "start_time": null,
     "status": "pending"
    },
    "tags": []
   },
   "outputs": [],
   "source": [
    "def avg_word_length(sentence):\n",
    "    words = text_split_filter(sentence)\n",
    "    #In case a message is composed by single punctuations chars or links that have been filtered out\n",
    "    if len(words) == 0:\n",
    "        return 0\n",
    "    else:\n",
    "        average = sum(len(word) for word in words) / (len(words))\n",
    "        return average  \n",
    " \n",
    "avg_word_feature = []\n",
    "test_avg_word_feature = []\n",
    "\n",
    "#Evaluating average word length for each author\n",
    "for text in author_text:\n",
    "    wl = avg_word_length(text)\n",
    "    avg_word_feature.append(wl)\n",
    "    \n",
    "for text in test_author_text:\n",
    "    wl = avg_word_length(text)\n",
    "    test_avg_word_feature.append(wl)\n",
    "\n",
    "avg_word_feature\n"
   ]
  },
  {
   "cell_type": "markdown",
   "id": "4405ef1a",
   "metadata": {
    "papermill": {
     "duration": null,
     "end_time": null,
     "exception": null,
     "start_time": null,
     "status": "pending"
    },
    "tags": []
   },
   "source": [
    "Making the feature into a sparse matrix, to even it out with all the other features. In this case, this matrix will probably not be a sparse one. "
   ]
  },
  {
   "cell_type": "code",
   "execution_count": null,
   "id": "8dfdf398",
   "metadata": {
    "papermill": {
     "duration": null,
     "end_time": null,
     "exception": null,
     "start_time": null,
     "status": "pending"
    },
    "tags": []
   },
   "outputs": [],
   "source": [
    "arr = np.array(avg_word_feature)\n",
    "X_averagelength = sparse.csr_matrix(arr.reshape((5000,1)))"
   ]
  },
  {
   "cell_type": "code",
   "execution_count": null,
   "id": "8cda9085",
   "metadata": {
    "papermill": {
     "duration": null,
     "end_time": null,
     "exception": null,
     "start_time": null,
     "status": "pending"
    },
    "tags": []
   },
   "outputs": [],
   "source": [
    "test_arr = np.array(test_avg_word_feature)\n",
    "X_averagelength_test = sparse.csr_matrix(test_arr.reshape((15000,1)))\n"
   ]
  },
  {
   "cell_type": "markdown",
   "id": "b2bde46e",
   "metadata": {
    "papermill": {
     "duration": null,
     "end_time": null,
     "exception": null,
     "start_time": null,
     "status": "pending"
    },
    "tags": []
   },
   "source": [
    "Applying feature scaling: these numerical features, by nature, have different scales. Thus, they are normalized such that they weigh the same in ML models and there are no preferential features.\n",
    "\n",
    "The MaxAbsScaler is chosen, since we want to keep sparsity as a quality of our dataset, so that if a sample has value 0 for the specific feature, it will remain 0 after scaling is applied. "
   ]
  },
  {
   "cell_type": "code",
   "execution_count": null,
   "id": "701fcff1",
   "metadata": {
    "papermill": {
     "duration": null,
     "end_time": null,
     "exception": null,
     "start_time": null,
     "status": "pending"
    },
    "tags": []
   },
   "outputs": [],
   "source": [
    "from sklearn.preprocessing import MaxAbsScaler\n",
    "\n",
    "scaler = MaxAbsScaler()\n",
    "scaler.fit(X_averagelength)\n",
    "X_averagelength = scaler.transform(X_averagelength)\n",
    "X_averagelength_test = scaler.transform(X_averagelength_test)\n",
    "\n",
    "X_averagelength"
   ]
  },
  {
   "cell_type": "code",
   "execution_count": null,
   "id": "6f9cc815",
   "metadata": {
    "papermill": {
     "duration": null,
     "end_time": null,
     "exception": null,
     "start_time": null,
     "status": "pending"
    },
    "tags": []
   },
   "outputs": [],
   "source": [
    "sparse.save_npz('X_averagelength.npz', X_averagelength)\n",
    "sparse.save_npz('X_averagelength_test.npz', X_averagelength_test)"
   ]
  },
  {
   "cell_type": "markdown",
   "id": "5b400202",
   "metadata": {
    "papermill": {
     "duration": null,
     "end_time": null,
     "exception": null,
     "start_time": null,
     "status": "pending"
    },
    "tags": []
   },
   "source": [
    "### Max word length"
   ]
  },
  {
   "cell_type": "code",
   "execution_count": null,
   "id": "9bd33e8c",
   "metadata": {
    "papermill": {
     "duration": null,
     "end_time": null,
     "exception": null,
     "start_time": null,
     "status": "pending"
    },
    "tags": []
   },
   "outputs": [],
   "source": [
    "def long_word(sentence):\n",
    "    words = text_split_filter(sentence)\n",
    "    if len(words) == 0:\n",
    "        return 0\n",
    "    else:\n",
    "        print(max(words, key=len))\n",
    "        return len(max(words, key=len)) #Evaluating 'len' attribute for each word of the array, then selecting max and returning its length\n",
    "\n",
    "\n",
    "\n",
    "long_word_feature = []\n",
    "for text in author_text:\n",
    "    length = long_word(text)\n",
    "    long_word_feature.append(length)\n",
    "    \n",
    "test_long_word_feature = []\n",
    "for text in test_author_text:\n",
    "    length = long_word(text)\n",
    "    test_long_word_feature.append(length)\n",
    "\n",
    "long_word_feature"
   ]
  },
  {
   "cell_type": "code",
   "execution_count": null,
   "id": "0fbb48be",
   "metadata": {
    "papermill": {
     "duration": null,
     "end_time": null,
     "exception": null,
     "start_time": null,
     "status": "pending"
    },
    "tags": []
   },
   "outputs": [],
   "source": [
    "arr = np.array(long_word_feature)\n",
    "X_maxlength = sparse.csr_matrix(arr.reshape((5000,1)))"
   ]
  },
  {
   "cell_type": "code",
   "execution_count": null,
   "id": "8087e889",
   "metadata": {
    "papermill": {
     "duration": null,
     "end_time": null,
     "exception": null,
     "start_time": null,
     "status": "pending"
    },
    "tags": []
   },
   "outputs": [],
   "source": [
    "test_arr = np.array(test_long_word_feature)\n",
    "X_maxlength_test = sparse.csr_matrix(test_arr.reshape((15000,1)))\n"
   ]
  },
  {
   "cell_type": "code",
   "execution_count": null,
   "id": "61c5bfdf",
   "metadata": {
    "papermill": {
     "duration": null,
     "end_time": null,
     "exception": null,
     "start_time": null,
     "status": "pending"
    },
    "tags": []
   },
   "outputs": [],
   "source": [
    "from sklearn.preprocessing import MaxAbsScaler\n",
    "\n",
    "scaler = MaxAbsScaler()\n",
    "scaler.fit(X_maxlength)\n",
    "X_maxlength = scaler.transform(X_maxlength)\n",
    "X_maxlength_test = scaler.transform(X_maxlength_test)"
   ]
  },
  {
   "cell_type": "code",
   "execution_count": null,
   "id": "f261feef",
   "metadata": {
    "papermill": {
     "duration": null,
     "end_time": null,
     "exception": null,
     "start_time": null,
     "status": "pending"
    },
    "tags": []
   },
   "outputs": [],
   "source": [
    "sparse.save_npz('X_maxlength.npz', X_maxlength)\n",
    "sparse.save_npz('X_maxlength_test.npz', X_maxlength_test)"
   ]
  },
  {
   "cell_type": "markdown",
   "id": "5ed63a7c",
   "metadata": {
    "papermill": {
     "duration": null,
     "end_time": null,
     "exception": null,
     "start_time": null,
     "status": "pending"
    },
    "tags": []
   },
   "source": [
    "### Misspelling Frequency (not used)\n",
    "It takes too long, and the algorithm might not be very accurate. This feature is thus turned off."
   ]
  },
  {
   "cell_type": "code",
   "execution_count": null,
   "id": "5722dfe7",
   "metadata": {
    "papermill": {
     "duration": null,
     "end_time": null,
     "exception": null,
     "start_time": null,
     "status": "pending"
    },
    "tags": []
   },
   "outputs": [],
   "source": [
    "#from textblob import Word\n"
   ]
  },
  {
   "cell_type": "code",
   "execution_count": null,
   "id": "83e54736",
   "metadata": {
    "papermill": {
     "duration": null,
     "end_time": null,
     "exception": null,
     "start_time": null,
     "status": "pending"
    },
    "tags": []
   },
   "outputs": [],
   "source": [
    "#def spell_checker(sentence):\n",
    "#    words = text_split_filter(sentence)\n",
    "#    counter = 0\n",
    "#    for word in words:\n",
    "#        w = Word(word)\n",
    "#        check_word = w.spellcheck()\n",
    "#        if (check_word[0][0] != word):\n",
    "#            counter += 1\n",
    "#    \n",
    "#    return counter\n",
    "#        \n",
    "#    "
   ]
  },
  {
   "cell_type": "code",
   "execution_count": null,
   "id": "e65ec0cf",
   "metadata": {
    "papermill": {
     "duration": null,
     "end_time": null,
     "exception": null,
     "start_time": null,
     "status": "pending"
    },
    "tags": []
   },
   "outputs": [],
   "source": [
    "#misspelling_feature = []\n",
    "#for text in author_text:\n",
    "#    N = len(text)\n",
    "#    if N==0:\n",
    "#        n_misspell = 0\n",
    "#    else:\n",
    "#        n_misspell = spell_checker(text)/N\n",
    "#    misspelling_feature.append(n_misspell)\n",
    "#\n",
    "#misspelling_feature"
   ]
  },
  {
   "cell_type": "markdown",
   "id": "00e7d88b",
   "metadata": {
    "papermill": {
     "duration": null,
     "end_time": null,
     "exception": null,
     "start_time": null,
     "status": "pending"
    },
    "tags": []
   },
   "source": [
    "Adding the feature to the feature matrix X."
   ]
  },
  {
   "cell_type": "code",
   "execution_count": null,
   "id": "04249e89",
   "metadata": {
    "papermill": {
     "duration": null,
     "end_time": null,
     "exception": null,
     "start_time": null,
     "status": "pending"
    },
    "tags": []
   },
   "outputs": [],
   "source": [
    "#arr = np.array(misspelling_feature)\n",
    "#arr = arr.reshape((5000,1))\n",
    "#\n",
    "#X = sparse.hstack([X,arr])\n",
    "#X"
   ]
  },
  {
   "cell_type": "markdown",
   "id": "27e1b5d2",
   "metadata": {
    "papermill": {
     "duration": null,
     "end_time": null,
     "exception": null,
     "start_time": null,
     "status": "pending"
    },
    "tags": []
   },
   "source": [
    "### Profanity Frequency"
   ]
  },
  {
   "cell_type": "code",
   "execution_count": null,
   "id": "d19b8e47",
   "metadata": {
    "papermill": {
     "duration": null,
     "end_time": null,
     "exception": null,
     "start_time": null,
     "status": "pending"
    },
    "tags": []
   },
   "outputs": [],
   "source": [
    "df_profanity = pd.read_csv(\"profanity.csv\", encoding=\"utf8\", header=None)\n",
    "df_profanity = df_profanity[0].str.casefold()\n",
    "profanity_1 = [badword for badword in df_profanity]\n",
    "\n",
    "#Since we apply it to text without punctuation (such as '-'), we eliminate punctuation from profanities as well, to match data\n",
    "profanity = []\n",
    "for badword in profanity_1:\n",
    "    profanity.append(''.join(filter(lambda x: x not in string.punctuation, badword)))\n",
    "profanity"
   ]
  },
  {
   "cell_type": "code",
   "execution_count": null,
   "id": "5232042d",
   "metadata": {
    "papermill": {
     "duration": null,
     "end_time": null,
     "exception": null,
     "start_time": null,
     "status": "pending"
    },
    "tags": []
   },
   "outputs": [],
   "source": [
    "def profanity_filter(text):\n",
    "    counter = 0\n",
    "    words = text_split_filter(text)\n",
    "    for word in words:\n",
    "        if word in profanity:\n",
    "            counter += 1\n",
    "    \n",
    "    return counter"
   ]
  },
  {
   "cell_type": "markdown",
   "id": "19fbd0f9",
   "metadata": {
    "papermill": {
     "duration": null,
     "end_time": null,
     "exception": null,
     "start_time": null,
     "status": "pending"
    },
    "tags": []
   },
   "source": [
    "Using the lower-cased texts, to match the profanities list"
   ]
  },
  {
   "cell_type": "code",
   "execution_count": null,
   "id": "76421d14",
   "metadata": {
    "papermill": {
     "duration": null,
     "end_time": null,
     "exception": null,
     "start_time": null,
     "status": "pending"
    },
    "tags": []
   },
   "outputs": [],
   "source": [
    "profanity_feature = []\n",
    "for text in author_text_lower:\n",
    "    N = len(text_split_filter(text))\n",
    "    \n",
    "    if N == 0:\n",
    "        n_badwords = 0\n",
    "    else:\n",
    "        n_badwords = profanity_filter(text)/N\n",
    "    profanity_feature.append(n_badwords)\n",
    "    \n",
    "test_profanity_feature = []\n",
    "for text in test_author_text_lower:\n",
    "    N = len(text_split_filter(text))\n",
    "    \n",
    "    if N == 0:\n",
    "        n_badwords = 0\n",
    "    else:\n",
    "        n_badwords = profanity_filter(text)/N\n",
    "    test_profanity_feature.append(n_badwords)\n",
    "    \n",
    "profanity_feature"
   ]
  },
  {
   "cell_type": "code",
   "execution_count": null,
   "id": "9fe75c47",
   "metadata": {
    "papermill": {
     "duration": null,
     "end_time": null,
     "exception": null,
     "start_time": null,
     "status": "pending"
    },
    "tags": []
   },
   "outputs": [],
   "source": [
    "arr = np.array(profanity_feature)\n",
    "X_profanity = sparse.csr_matrix(arr.reshape((5000,1)))\n"
   ]
  },
  {
   "cell_type": "code",
   "execution_count": null,
   "id": "7100e220",
   "metadata": {
    "papermill": {
     "duration": null,
     "end_time": null,
     "exception": null,
     "start_time": null,
     "status": "pending"
    },
    "tags": []
   },
   "outputs": [],
   "source": [
    "test_arr = np.array(test_profanity_feature)\n",
    "X_profanity_test = sparse.csr_matrix(test_arr.reshape((15000,1)))\n"
   ]
  },
  {
   "cell_type": "code",
   "execution_count": null,
   "id": "60eb16bc",
   "metadata": {
    "papermill": {
     "duration": null,
     "end_time": null,
     "exception": null,
     "start_time": null,
     "status": "pending"
    },
    "tags": []
   },
   "outputs": [],
   "source": [
    "from sklearn.preprocessing import MaxAbsScaler\n",
    "\n",
    "scaler = MaxAbsScaler()\n",
    "scaler.fit(X_profanity)\n",
    "X_profanity = scaler.transform(X_profanity)\n",
    "X_profanity_test = scaler.transform(X_profanity_test)"
   ]
  },
  {
   "cell_type": "code",
   "execution_count": null,
   "id": "b18d3449",
   "metadata": {
    "papermill": {
     "duration": null,
     "end_time": null,
     "exception": null,
     "start_time": null,
     "status": "pending"
    },
    "tags": []
   },
   "outputs": [],
   "source": [
    "sparse.save_npz('X_profanity.npz', X_profanity)\n",
    "sparse.save_npz('X_profanity_test.npz', X_profanity_test)"
   ]
  },
  {
   "cell_type": "markdown",
   "id": "cb4088e9",
   "metadata": {
    "papermill": {
     "duration": null,
     "end_time": null,
     "exception": null,
     "start_time": null,
     "status": "pending"
    },
    "tags": []
   },
   "source": [
    "### Capital Words Frequency"
   ]
  },
  {
   "cell_type": "markdown",
   "id": "ddc49a85",
   "metadata": {
    "papermill": {
     "duration": null,
     "end_time": null,
     "exception": null,
     "start_time": null,
     "status": "pending"
    },
    "tags": []
   },
   "source": [
    "Measuring the frequency of FULL CAPITAL words. Only the pronoun \"I\" is taken out of the counting, for obvious reasons. The idea is to isolate a pattern of highlighting certain words that are not normally written in capital letters."
   ]
  },
  {
   "cell_type": "code",
   "execution_count": null,
   "id": "8d474d4b",
   "metadata": {
    "papermill": {
     "duration": null,
     "end_time": null,
     "exception": null,
     "start_time": null,
     "status": "pending"
    },
    "tags": []
   },
   "outputs": [],
   "source": [
    "def capital_words_filter(sentence):\n",
    "    words = text_split_filter(sentence)\n",
    "    counter = 0\n",
    "    for word in words:\n",
    "        if word != \"I\":\n",
    "            capital_bool = word.isupper()\n",
    "            if capital_bool == True:\n",
    "                counter += 1\n",
    "    \n",
    "    return counter"
   ]
  },
  {
   "cell_type": "markdown",
   "id": "2f44f38d",
   "metadata": {
    "papermill": {
     "duration": null,
     "end_time": null,
     "exception": null,
     "start_time": null,
     "status": "pending"
    },
    "tags": []
   },
   "source": [
    "Obviously, the non-lowered-cased text is used."
   ]
  },
  {
   "cell_type": "code",
   "execution_count": null,
   "id": "ddea6e6d",
   "metadata": {
    "papermill": {
     "duration": null,
     "end_time": null,
     "exception": null,
     "start_time": null,
     "status": "pending"
    },
    "tags": []
   },
   "outputs": [],
   "source": [
    "capital_words_feature = []\n",
    "\n",
    "for text in author_text:\n",
    "    N = len(text_split_filter(text))\n",
    "    \n",
    "    if N == 0:\n",
    "        capital_words = 0\n",
    "    else:\n",
    "        capital_words = capital_words_filter(text)/N\n",
    "    capital_words_feature.append(capital_words)\n",
    "\n",
    "test_capital_words_feature = []\n",
    "\n",
    "for text in test_author_text:\n",
    "    N = len(text_split_filter(text))\n",
    "    \n",
    "    if N == 0:\n",
    "        capital_words = 0\n",
    "    else:\n",
    "        capital_words = capital_words_filter(text)/N\n",
    "    test_capital_words_feature.append(capital_words)\n",
    "    \n",
    "capital_words_feature"
   ]
  },
  {
   "cell_type": "code",
   "execution_count": null,
   "id": "f0ae9b7c",
   "metadata": {
    "papermill": {
     "duration": null,
     "end_time": null,
     "exception": null,
     "start_time": null,
     "status": "pending"
    },
    "tags": []
   },
   "outputs": [],
   "source": [
    "arr = np.array(capital_words_feature)\n",
    "X_capitalwords = sparse.csr_matrix(arr.reshape((5000,1)))"
   ]
  },
  {
   "cell_type": "code",
   "execution_count": null,
   "id": "7ec402b3",
   "metadata": {
    "papermill": {
     "duration": null,
     "end_time": null,
     "exception": null,
     "start_time": null,
     "status": "pending"
    },
    "tags": []
   },
   "outputs": [],
   "source": [
    "test_arr = np.array(test_capital_words_feature)\n",
    "X_capitalwords_test = sparse.csr_matrix(test_arr.reshape((15000,1)))"
   ]
  },
  {
   "cell_type": "code",
   "execution_count": null,
   "id": "61b64978",
   "metadata": {
    "papermill": {
     "duration": null,
     "end_time": null,
     "exception": null,
     "start_time": null,
     "status": "pending"
    },
    "tags": []
   },
   "outputs": [],
   "source": [
    "from sklearn.preprocessing import MaxAbsScaler\n",
    "\n",
    "scaler = MaxAbsScaler()\n",
    "scaler.fit(X_capitalwords)\n",
    "X_capitalwords = scaler.transform(X_capitalwords)\n",
    "X_capitalwords_test = scaler.transform(X_capitalwords_test)"
   ]
  },
  {
   "cell_type": "code",
   "execution_count": null,
   "id": "911a2e0a",
   "metadata": {
    "papermill": {
     "duration": null,
     "end_time": null,
     "exception": null,
     "start_time": null,
     "status": "pending"
    },
    "tags": []
   },
   "outputs": [],
   "source": [
    "sparse.save_npz('X_capitalwords.npz', X_capitalwords)\n",
    "sparse.save_npz('X_capitalwords_test.npz', X_capitalwords_test)"
   ]
  },
  {
   "cell_type": "markdown",
   "id": "8fcfbf3c",
   "metadata": {
    "papermill": {
     "duration": null,
     "end_time": null,
     "exception": null,
     "start_time": null,
     "status": "pending"
    },
    "tags": []
   },
   "source": [
    "### Capital Letters Frequency"
   ]
  },
  {
   "cell_type": "markdown",
   "id": "a86306b3",
   "metadata": {
    "papermill": {
     "duration": null,
     "end_time": null,
     "exception": null,
     "start_time": null,
     "status": "pending"
    },
    "tags": []
   },
   "source": [
    "Extrapolate tendencies to use capital letters in words in both appropriate (eg. after a full-stop) or inappropriate (eg. \"she is Going over There\") contexts. THis tendencies may be correlated with gender."
   ]
  },
  {
   "cell_type": "code",
   "execution_count": null,
   "id": "71d3f312",
   "metadata": {
    "papermill": {
     "duration": null,
     "end_time": null,
     "exception": null,
     "start_time": null,
     "status": "pending"
    },
    "tags": []
   },
   "outputs": [],
   "source": [
    "import re\n",
    "\n",
    "def capital_letter_filter(sentence):\n",
    "    words = text_split_filter(sentence)\n",
    "    counter = 0\n",
    "    for word in words:\n",
    "        if word != \"I\":\n",
    "            capital_counter = len(re.findall('([A-Z])', word))\n",
    "            counter += capital_counter\n",
    "    \n",
    "    return counter"
   ]
  },
  {
   "cell_type": "markdown",
   "id": "4661d185",
   "metadata": {
    "papermill": {
     "duration": null,
     "end_time": null,
     "exception": null,
     "start_time": null,
     "status": "pending"
    },
    "tags": []
   },
   "source": [
    "Obviously, the non-lowered-cased text is used."
   ]
  },
  {
   "cell_type": "code",
   "execution_count": null,
   "id": "59d004ec",
   "metadata": {
    "papermill": {
     "duration": null,
     "end_time": null,
     "exception": null,
     "start_time": null,
     "status": "pending"
    },
    "tags": []
   },
   "outputs": [],
   "source": [
    "capital_letter_feature = []\n",
    "for text in author_text:\n",
    "    words = text_split_filter(text)\n",
    "    N = sum(len(word) for word in words)\n",
    "    \n",
    "    if N == 0:\n",
    "        capital_letter = 0\n",
    "    else:\n",
    "        capital_letter = capital_letter_filter(text)/N\n",
    "    \n",
    "    capital_letter_feature.append(capital_letter)\n",
    "    \n",
    "\n",
    "test_capital_letter_feature = []\n",
    "for text in test_author_text:\n",
    "    words = text_split_filter(text)\n",
    "    N = sum(len(word) for word in words)\n",
    "    \n",
    "    if N == 0:\n",
    "        capital_letter = 0\n",
    "    else:\n",
    "        capital_letter = capital_letter_filter(text)/N\n",
    "    \n",
    "    test_capital_letter_feature.append(capital_letter)\n",
    "    \n",
    "capital_letter_feature"
   ]
  },
  {
   "cell_type": "code",
   "execution_count": null,
   "id": "dd2f00f0",
   "metadata": {
    "papermill": {
     "duration": null,
     "end_time": null,
     "exception": null,
     "start_time": null,
     "status": "pending"
    },
    "tags": []
   },
   "outputs": [],
   "source": [
    "arr = np.array(capital_letter_feature)\n",
    "X_capitalletters = sparse.csr_matrix(arr.reshape((5000,1)))\n"
   ]
  },
  {
   "cell_type": "code",
   "execution_count": null,
   "id": "8331bea7",
   "metadata": {
    "papermill": {
     "duration": null,
     "end_time": null,
     "exception": null,
     "start_time": null,
     "status": "pending"
    },
    "tags": []
   },
   "outputs": [],
   "source": [
    "test_arr = np.array(test_capital_letter_feature)\n",
    "X_capitalletters_test = sparse.csr_matrix(test_arr.reshape((15000,1)))\n"
   ]
  },
  {
   "cell_type": "code",
   "execution_count": null,
   "id": "e2650c94",
   "metadata": {
    "papermill": {
     "duration": null,
     "end_time": null,
     "exception": null,
     "start_time": null,
     "status": "pending"
    },
    "tags": []
   },
   "outputs": [],
   "source": [
    "from sklearn.preprocessing import MaxAbsScaler\n",
    "\n",
    "scaler = MaxAbsScaler()\n",
    "scaler.fit(X_capitalletters)\n",
    "X_capitalletters = scaler.transform(X_capitalletters)\n",
    "X_capitalletters_test = scaler.transform(X_capitalletters_test)"
   ]
  },
  {
   "cell_type": "code",
   "execution_count": null,
   "id": "c6c7d9bf",
   "metadata": {
    "papermill": {
     "duration": null,
     "end_time": null,
     "exception": null,
     "start_time": null,
     "status": "pending"
    },
    "tags": []
   },
   "outputs": [],
   "source": [
    "sparse.save_npz('X_capitalletters.npz', X_capitalletters)\n",
    "sparse.save_npz('X_capitalletters_test.npz', X_capitalletters_test)"
   ]
  },
  {
   "cell_type": "markdown",
   "id": "edcb1116",
   "metadata": {
    "papermill": {
     "duration": null,
     "end_time": null,
     "exception": null,
     "start_time": null,
     "status": "pending"
    },
    "tags": []
   },
   "source": [
    "### Self-reference Frequency"
   ]
  },
  {
   "cell_type": "markdown",
   "id": "b532c1e3",
   "metadata": {
    "papermill": {
     "duration": null,
     "end_time": null,
     "exception": null,
     "start_time": null,
     "status": "pending"
    },
    "tags": []
   },
   "source": [
    "Evaluating how frequently a user self-references. the key words for this are the ones contained in the \"self_dict\". "
   ]
  },
  {
   "cell_type": "code",
   "execution_count": null,
   "id": "b5e1d5ec",
   "metadata": {
    "papermill": {
     "duration": null,
     "end_time": null,
     "exception": null,
     "start_time": null,
     "status": "pending"
    },
    "tags": []
   },
   "outputs": [],
   "source": [
    "self_dict = [\n",
    "'i',\n",
    "'i\\'m',\n",
    "'im'\n",
    "'myself',\n",
    "'me'\n",
    "]"
   ]
  },
  {
   "cell_type": "code",
   "execution_count": null,
   "id": "146fe5cf",
   "metadata": {
    "papermill": {
     "duration": null,
     "end_time": null,
     "exception": null,
     "start_time": null,
     "status": "pending"
    },
    "tags": []
   },
   "outputs": [],
   "source": [
    "def self_reference_filter(text):\n",
    "    words = text_split_filter(text)\n",
    "    counter = 0\n",
    "    for word in words:\n",
    "        if word in self_dict:\n",
    "            counter += 1\n",
    "        \n",
    "    \n",
    "    return counter"
   ]
  },
  {
   "cell_type": "code",
   "execution_count": null,
   "id": "7f2fa344",
   "metadata": {
    "papermill": {
     "duration": null,
     "end_time": null,
     "exception": null,
     "start_time": null,
     "status": "pending"
    },
    "tags": []
   },
   "outputs": [],
   "source": [
    "self_reference_feature = []\n",
    "for text in author_text_lower:\n",
    "    N = len(text_split_filter(text))\n",
    "    \n",
    "    if N == 0:\n",
    "        n_self_reference = 0\n",
    "    else:\n",
    "        n_self_reference = self_reference_filter(text)/N\n",
    "    self_reference_feature.append(n_self_reference)\n",
    "\n",
    "    \n",
    "test_self_reference_feature = []\n",
    "for text in test_author_text_lower:\n",
    "    N = len(text_split_filter(text))\n",
    "    \n",
    "    if N == 0:\n",
    "        n_self_reference = 0\n",
    "    else:\n",
    "        n_self_reference = self_reference_filter(text)/N\n",
    "    test_self_reference_feature.append(n_self_reference)\n",
    "    \n",
    "    \n",
    "self_reference_feature"
   ]
  },
  {
   "cell_type": "code",
   "execution_count": null,
   "id": "e40c1f09",
   "metadata": {
    "papermill": {
     "duration": null,
     "end_time": null,
     "exception": null,
     "start_time": null,
     "status": "pending"
    },
    "tags": []
   },
   "outputs": [],
   "source": [
    "arr = np.array(self_reference_feature)\n",
    "X_self = sparse.csr_matrix(arr.reshape((5000,1)))\n"
   ]
  },
  {
   "cell_type": "code",
   "execution_count": null,
   "id": "9edd451a",
   "metadata": {
    "papermill": {
     "duration": null,
     "end_time": null,
     "exception": null,
     "start_time": null,
     "status": "pending"
    },
    "tags": []
   },
   "outputs": [],
   "source": [
    "test_arr = np.array(test_self_reference_feature)\n",
    "X_self_test = sparse.csr_matrix(test_arr.reshape((15000,1)))\n"
   ]
  },
  {
   "cell_type": "code",
   "execution_count": null,
   "id": "641947df",
   "metadata": {
    "papermill": {
     "duration": null,
     "end_time": null,
     "exception": null,
     "start_time": null,
     "status": "pending"
    },
    "tags": []
   },
   "outputs": [],
   "source": [
    "from sklearn.preprocessing import MaxAbsScaler\n",
    "\n",
    "scaler = MaxAbsScaler()\n",
    "scaler.fit(X_self)\n",
    "X_self = scaler.transform(X_self)\n",
    "X_self_test = scaler.transform(X_self_test)"
   ]
  },
  {
   "cell_type": "code",
   "execution_count": null,
   "id": "cde849cd",
   "metadata": {
    "papermill": {
     "duration": null,
     "end_time": null,
     "exception": null,
     "start_time": null,
     "status": "pending"
    },
    "tags": []
   },
   "outputs": [],
   "source": [
    "sparse.save_npz('X_self.npz', X_self)\n",
    "sparse.save_npz('X_self_test.npz', X_self_test)"
   ]
  },
  {
   "cell_type": "markdown",
   "id": "3210931f",
   "metadata": {
    "papermill": {
     "duration": null,
     "end_time": null,
     "exception": null,
     "start_time": null,
     "status": "pending"
    },
    "tags": []
   },
   "source": [
    "### Internet Acronym Frequency"
   ]
  },
  {
   "cell_type": "markdown",
   "id": "097f6849",
   "metadata": {
    "papermill": {
     "duration": null,
     "end_time": null,
     "exception": null,
     "start_time": null,
     "status": "pending"
    },
    "tags": []
   },
   "source": [
    "Comparing every single word of each user and checking whether this word is contained in the acronym dictionary. The dictionary was made and edited in capital words: sometimes users write acronyms in non-capital format. For this reason, a non-case sensitive comparison has been made. "
   ]
  },
  {
   "cell_type": "code",
   "execution_count": null,
   "id": "8b22e53a",
   "metadata": {
    "papermill": {
     "duration": null,
     "end_time": null,
     "exception": null,
     "start_time": null,
     "status": "pending"
    },
    "tags": []
   },
   "outputs": [],
   "source": [
    "df_acronyms = pd.read_csv(\"web_acronyms.csv\", encoding=\"utf8\", header=None)\n",
    "df_acronyms = df_acronyms[0].str.casefold()\n",
    "acronyms_1 = [acronym for acronym in df_acronyms]\n",
    "\n",
    "acronyms = []\n",
    "for acr in acronyms_1:\n",
    "    acronyms.append(''.join(filter(lambda x: x not in string.punctuation, acr)))\n",
    "acronyms"
   ]
  },
  {
   "cell_type": "code",
   "execution_count": null,
   "id": "da0c480a",
   "metadata": {
    "papermill": {
     "duration": null,
     "end_time": null,
     "exception": null,
     "start_time": null,
     "status": "pending"
    },
    "tags": []
   },
   "outputs": [],
   "source": [
    "def acronyms_filter(text):\n",
    "    words = [word for word in text_split_filter(text)]\n",
    "    counter = 0\n",
    "    for word in words:\n",
    "        if word in acronyms:\n",
    "            counter += 1\n",
    "    \n",
    "    return counter"
   ]
  },
  {
   "cell_type": "code",
   "execution_count": null,
   "id": "d010823f",
   "metadata": {
    "papermill": {
     "duration": null,
     "end_time": null,
     "exception": null,
     "start_time": null,
     "status": "pending"
    },
    "tags": []
   },
   "outputs": [],
   "source": [
    "acronyms_feature = []\n",
    "for text in author_text_lower:\n",
    "    N = len(text_split_filter(text))\n",
    "    \n",
    "    if N == 0:\n",
    "        n_acronyms = 0\n",
    "    else:\n",
    "        n_acronyms = acronyms_filter(text)/N\n",
    "    acronyms_feature.append(n_acronyms)\n",
    "    \n",
    "\n",
    "test_acronyms_feature = []\n",
    "for text in test_author_text_lower:\n",
    "    N = len(text_split_filter(text))\n",
    "    \n",
    "    if N == 0:\n",
    "        n_acronyms = 0\n",
    "    else:\n",
    "        n_acronyms = acronyms_filter(text)/N\n",
    "    test_acronyms_feature.append(n_acronyms)\n",
    "    \n",
    "acronyms_feature"
   ]
  },
  {
   "cell_type": "code",
   "execution_count": null,
   "id": "bc2ac95b",
   "metadata": {
    "papermill": {
     "duration": null,
     "end_time": null,
     "exception": null,
     "start_time": null,
     "status": "pending"
    },
    "tags": []
   },
   "outputs": [],
   "source": [
    "arr = np.array(acronyms_feature)\n",
    "X_acronyms = sparse.csr_matrix(arr.reshape((5000,1)))\n"
   ]
  },
  {
   "cell_type": "code",
   "execution_count": null,
   "id": "45192e26",
   "metadata": {
    "papermill": {
     "duration": null,
     "end_time": null,
     "exception": null,
     "start_time": null,
     "status": "pending"
    },
    "tags": []
   },
   "outputs": [],
   "source": [
    "test_arr = np.array(test_acronyms_feature)\n",
    "X_acronyms_test = sparse.csr_matrix(test_arr.reshape((15000,1)))\n"
   ]
  },
  {
   "cell_type": "code",
   "execution_count": null,
   "id": "0ffefba5",
   "metadata": {
    "papermill": {
     "duration": null,
     "end_time": null,
     "exception": null,
     "start_time": null,
     "status": "pending"
    },
    "tags": []
   },
   "outputs": [],
   "source": [
    "from sklearn.preprocessing import MaxAbsScaler\n",
    "\n",
    "scaler = MaxAbsScaler()\n",
    "scaler.fit(X_acronyms)\n",
    "X_acronyms = scaler.transform(X_acronyms)\n",
    "X_acronyms_test = scaler.transform(X_acronyms_test)"
   ]
  },
  {
   "cell_type": "code",
   "execution_count": null,
   "id": "851cc7f8",
   "metadata": {
    "papermill": {
     "duration": null,
     "end_time": null,
     "exception": null,
     "start_time": null,
     "status": "pending"
    },
    "tags": []
   },
   "outputs": [],
   "source": [
    "sparse.save_npz('X_acronyms.npz', X_acronyms)\n",
    "sparse.save_npz('X_acronyms_test.npz', X_acronyms_test)"
   ]
  },
  {
   "cell_type": "markdown",
   "id": "94b7a143",
   "metadata": {
    "papermill": {
     "duration": null,
     "end_time": null,
     "exception": null,
     "start_time": null,
     "status": "pending"
    },
    "tags": []
   },
   "source": [
    "### EMOTICONS FREQUENCY"
   ]
  },
  {
   "cell_type": "code",
   "execution_count": null,
   "id": "9d82115a",
   "metadata": {
    "papermill": {
     "duration": null,
     "end_time": null,
     "exception": null,
     "start_time": null,
     "status": "pending"
    },
    "tags": []
   },
   "outputs": [],
   "source": [
    "#df_emoticons = pd.read_csv(\"emoticons.csv\", encoding=\"utf8\", header=None)\n",
    "#emoticons = [emo for emo in df_emoticons]\n",
    "#emoticons"
   ]
  },
  {
   "cell_type": "code",
   "execution_count": null,
   "id": "23f29150",
   "metadata": {
    "papermill": {
     "duration": null,
     "end_time": null,
     "exception": null,
     "start_time": null,
     "status": "pending"
    },
    "tags": []
   },
   "outputs": [],
   "source": [
    "import csv\n",
    "with open(\"emoticons.txt\") as f:\n",
    "    reader = csv.reader(f, delimiter=\"\\t\")\n",
    "    emoticons = list(reader)\n"
   ]
  },
  {
   "cell_type": "code",
   "execution_count": null,
   "id": "8a946633",
   "metadata": {
    "papermill": {
     "duration": null,
     "end_time": null,
     "exception": null,
     "start_time": null,
     "status": "pending"
    },
    "tags": []
   },
   "outputs": [],
   "source": [
    "def emoticons_filter(text):\n",
    "    words = text_split_filter(text, no_punct=False)\n",
    "    counter = 0\n",
    "    for word in words:\n",
    "        for emo in emoticons:\n",
    "            if word in emo:\n",
    "                counter += 1\n",
    "    \n",
    "    return counter\n",
    "    \n"
   ]
  },
  {
   "cell_type": "code",
   "execution_count": null,
   "id": "c6ac90b4",
   "metadata": {
    "papermill": {
     "duration": null,
     "end_time": null,
     "exception": null,
     "start_time": null,
     "status": "pending"
    },
    "tags": []
   },
   "outputs": [],
   "source": [
    "emoticons_feature = []\n",
    "for text in author_text:\n",
    "    N = len(text_split_filter(text, no_punct=False))\n",
    "    \n",
    "    if N == 0:\n",
    "        n_emoticons = 0\n",
    "    else:\n",
    "        n_emoticons = emoticons_filter(text)/N\n",
    "    emoticons_feature.append(n_emoticons)\n",
    "    \n",
    "    \n",
    "test_emoticons_feature = []\n",
    "for text in test_author_text:\n",
    "    N = len(text_split_filter(text, no_punct=False))\n",
    "    \n",
    "    if N == 0:\n",
    "        n_emoticons = 0\n",
    "    else:\n",
    "        n_emoticons = emoticons_filter(text)/N\n",
    "    test_emoticons_feature.append(n_emoticons)\n",
    "    \n",
    "emoticons_feature"
   ]
  },
  {
   "cell_type": "code",
   "execution_count": null,
   "id": "b9cdad87",
   "metadata": {
    "papermill": {
     "duration": null,
     "end_time": null,
     "exception": null,
     "start_time": null,
     "status": "pending"
    },
    "tags": []
   },
   "outputs": [],
   "source": [
    "arr = np.array(emoticons_feature)\n",
    "X_emoticons = sparse.csr_matrix(arr.reshape((5000,1)))\n"
   ]
  },
  {
   "cell_type": "code",
   "execution_count": null,
   "id": "b736b906",
   "metadata": {
    "papermill": {
     "duration": null,
     "end_time": null,
     "exception": null,
     "start_time": null,
     "status": "pending"
    },
    "tags": []
   },
   "outputs": [],
   "source": [
    "test_arr = np.array(test_emoticons_feature)\n",
    "X_emoticons_test = sparse.csr_matrix(test_arr.reshape((15000,1)))\n"
   ]
  },
  {
   "cell_type": "code",
   "execution_count": null,
   "id": "aabfcab5",
   "metadata": {
    "papermill": {
     "duration": null,
     "end_time": null,
     "exception": null,
     "start_time": null,
     "status": "pending"
    },
    "tags": []
   },
   "outputs": [],
   "source": [
    "from sklearn.preprocessing import MaxAbsScaler\n",
    "\n",
    "scaler = MaxAbsScaler()\n",
    "scaler.fit(X_emoticons)\n",
    "X_emoticons = scaler.transform(X_emoticons)\n",
    "X_emoticons_test = scaler.transform(X_emoticons_test)"
   ]
  },
  {
   "cell_type": "code",
   "execution_count": null,
   "id": "382651a4",
   "metadata": {
    "papermill": {
     "duration": null,
     "end_time": null,
     "exception": null,
     "start_time": null,
     "status": "pending"
    },
    "tags": []
   },
   "outputs": [],
   "source": [
    "sparse.save_npz('X_emoticons.npz', X_emoticons)\n",
    "sparse.save_npz('X_emoticons_test.npz', X_emoticons_test)"
   ]
  },
  {
   "cell_type": "markdown",
   "id": "09f9b653",
   "metadata": {
    "papermill": {
     "duration": null,
     "end_time": null,
     "exception": null,
     "start_time": null,
     "status": "pending"
    },
    "tags": []
   },
   "source": [
    "### Exclamation Mark Frequency"
   ]
  },
  {
   "cell_type": "code",
   "execution_count": null,
   "id": "daeea470",
   "metadata": {
    "papermill": {
     "duration": null,
     "end_time": null,
     "exception": null,
     "start_time": null,
     "status": "pending"
    },
    "tags": []
   },
   "outputs": [],
   "source": [
    "def exclamation_filter(text):\n",
    "    chars = text_split_filter(text, no_punct=False, char=True)\n",
    "    counter = 0\n",
    "    for char in chars:\n",
    "        if char=='!':\n",
    "            counter += 1\n",
    "    \n",
    "    return counter"
   ]
  },
  {
   "cell_type": "code",
   "execution_count": null,
   "id": "3acf1593",
   "metadata": {
    "papermill": {
     "duration": null,
     "end_time": null,
     "exception": null,
     "start_time": null,
     "status": "pending"
    },
    "tags": []
   },
   "outputs": [],
   "source": [
    "exclamation_feature = []\n",
    "for text in author_text:\n",
    "    N = len(text_split_filter(text, no_punct=False, char=True))\n",
    "    \n",
    "    if N == 0:\n",
    "        n_exclamation = 0\n",
    "    else:\n",
    "        n_exclamation = exclamation_filter(text)/N\n",
    "    exclamation_feature.append(n_exclamation)\n",
    "    \n",
    "    \n",
    "test_exclamation_feature = []\n",
    "for text in test_author_text:\n",
    "    N = len(text_split_filter(text, no_punct=False, char=True))\n",
    "    \n",
    "    if N == 0:\n",
    "        n_exclamation = 0\n",
    "    else:\n",
    "        n_exclamation = exclamation_filter(text)/N\n",
    "    test_exclamation_feature.append(n_exclamation)\n",
    "    \n",
    "exclamation_feature"
   ]
  },
  {
   "cell_type": "code",
   "execution_count": null,
   "id": "4e02ad6f",
   "metadata": {
    "papermill": {
     "duration": null,
     "end_time": null,
     "exception": null,
     "start_time": null,
     "status": "pending"
    },
    "tags": []
   },
   "outputs": [],
   "source": [
    "arr = np.array(exclamation_feature)\n",
    "X_exclamation = sparse.csr_matrix(arr.reshape((5000,1)))\n"
   ]
  },
  {
   "cell_type": "code",
   "execution_count": null,
   "id": "f5a210ff",
   "metadata": {
    "papermill": {
     "duration": null,
     "end_time": null,
     "exception": null,
     "start_time": null,
     "status": "pending"
    },
    "tags": []
   },
   "outputs": [],
   "source": [
    "test_arr = np.array(test_exclamation_feature)\n",
    "X_exclamation_test = sparse.csr_matrix(test_arr.reshape((15000,1)))\n"
   ]
  },
  {
   "cell_type": "code",
   "execution_count": null,
   "id": "c570c9cd",
   "metadata": {
    "papermill": {
     "duration": null,
     "end_time": null,
     "exception": null,
     "start_time": null,
     "status": "pending"
    },
    "tags": []
   },
   "outputs": [],
   "source": [
    "from sklearn.preprocessing import MaxAbsScaler\n",
    "\n",
    "scaler = MaxAbsScaler()\n",
    "scaler.fit(X_exclamation)\n",
    "X_exclamation = scaler.transform(X_exclamation)\n",
    "X_exclamation_test = scaler.transform(X_exclamation_test)"
   ]
  },
  {
   "cell_type": "code",
   "execution_count": null,
   "id": "3b2b90b9",
   "metadata": {
    "papermill": {
     "duration": null,
     "end_time": null,
     "exception": null,
     "start_time": null,
     "status": "pending"
    },
    "tags": []
   },
   "outputs": [],
   "source": [
    "sparse.save_npz('X_exclamation.npz', X_exclamation)\n",
    "sparse.save_npz('X_exclamation_test.npz', X_exclamation_test)"
   ]
  },
  {
   "cell_type": "markdown",
   "id": "58133672",
   "metadata": {
    "papermill": {
     "duration": null,
     "end_time": null,
     "exception": null,
     "start_time": null,
     "status": "pending"
    },
    "tags": []
   },
   "source": [
    "### Interrogation Mark Frequency"
   ]
  },
  {
   "cell_type": "code",
   "execution_count": null,
   "id": "6a77dd89",
   "metadata": {
    "papermill": {
     "duration": null,
     "end_time": null,
     "exception": null,
     "start_time": null,
     "status": "pending"
    },
    "tags": []
   },
   "outputs": [],
   "source": [
    "def interrogation_filter(text):\n",
    "    chars = text_split_filter(text, no_punct=False, char=True)\n",
    "    counter = 0\n",
    "    for char in chars:\n",
    "        if char=='?':\n",
    "            counter += 1\n",
    "    \n",
    "    return counter"
   ]
  },
  {
   "cell_type": "code",
   "execution_count": null,
   "id": "b8bff9b9",
   "metadata": {
    "papermill": {
     "duration": null,
     "end_time": null,
     "exception": null,
     "start_time": null,
     "status": "pending"
    },
    "tags": []
   },
   "outputs": [],
   "source": [
    "interrogation_feature = []\n",
    "for text in author_text:\n",
    "    N = len(text_split_filter(text, no_punct=False, char=True))\n",
    "    \n",
    "    if N == 0:\n",
    "        n_interrogation = 0\n",
    "    else:\n",
    "        n_interrogation = interrogation_filter(text)/N\n",
    "    interrogation_feature.append(n_interrogation)\n",
    "    \n",
    "    \n",
    "    \n",
    "test_interrogation_feature = []\n",
    "for text in test_author_text:\n",
    "    N = len(text_split_filter(text, no_punct=False, char=True))\n",
    "    \n",
    "    if N == 0:\n",
    "        n_interrogation = 0\n",
    "    else:\n",
    "        n_interrogation = interrogation_filter(text)/N\n",
    "    test_interrogation_feature.append(n_interrogation)\n",
    "    \n",
    "    \n",
    "interrogation_feature"
   ]
  },
  {
   "cell_type": "code",
   "execution_count": null,
   "id": "eb2def38",
   "metadata": {
    "papermill": {
     "duration": null,
     "end_time": null,
     "exception": null,
     "start_time": null,
     "status": "pending"
    },
    "tags": []
   },
   "outputs": [],
   "source": [
    "arr = np.array(interrogation_feature)\n",
    "X_interrogation = sparse.csr_matrix(arr.reshape((5000,1)))\n"
   ]
  },
  {
   "cell_type": "code",
   "execution_count": null,
   "id": "2ccdcfdc",
   "metadata": {
    "papermill": {
     "duration": null,
     "end_time": null,
     "exception": null,
     "start_time": null,
     "status": "pending"
    },
    "tags": []
   },
   "outputs": [],
   "source": [
    "test_arr = np.array(test_interrogation_feature)\n",
    "X_interrogation_test = sparse.csr_matrix(test_arr.reshape((15000,1)))\n"
   ]
  },
  {
   "cell_type": "code",
   "execution_count": null,
   "id": "b641f91f",
   "metadata": {
    "papermill": {
     "duration": null,
     "end_time": null,
     "exception": null,
     "start_time": null,
     "status": "pending"
    },
    "tags": []
   },
   "outputs": [],
   "source": [
    "from sklearn.preprocessing import MaxAbsScaler\n",
    "\n",
    "scaler = MaxAbsScaler()\n",
    "scaler.fit(X_interrogation)\n",
    "X_interrogation = scaler.transform(X_interrogation)\n",
    "X_interrogation_test = scaler.transform(X_interrogation_test)"
   ]
  },
  {
   "cell_type": "code",
   "execution_count": null,
   "id": "6639caa5",
   "metadata": {
    "papermill": {
     "duration": null,
     "end_time": null,
     "exception": null,
     "start_time": null,
     "status": "pending"
    },
    "tags": []
   },
   "outputs": [],
   "source": [
    "sparse.save_npz('X_interrogation.npz', X_interrogation)\n",
    "sparse.save_npz('X_interrogation_test.npz', X_interrogation_test)"
   ]
  },
  {
   "cell_type": "markdown",
   "id": "eff5c21d",
   "metadata": {
    "papermill": {
     "duration": null,
     "end_time": null,
     "exception": null,
     "start_time": null,
     "status": "pending"
    },
    "tags": []
   },
   "source": [
    "### Quotation Mark Frequency"
   ]
  },
  {
   "cell_type": "code",
   "execution_count": null,
   "id": "3df92349",
   "metadata": {
    "papermill": {
     "duration": null,
     "end_time": null,
     "exception": null,
     "start_time": null,
     "status": "pending"
    },
    "tags": []
   },
   "outputs": [],
   "source": [
    "def quotation_filter(text):\n",
    "    chars = text_split_filter(text, no_punct=False, char=True)\n",
    "    counter = 0\n",
    "    for char in chars:\n",
    "        if char=='\"':\n",
    "            counter += 1\n",
    "    \n",
    "    return counter"
   ]
  },
  {
   "cell_type": "code",
   "execution_count": null,
   "id": "f958476d",
   "metadata": {
    "papermill": {
     "duration": null,
     "end_time": null,
     "exception": null,
     "start_time": null,
     "status": "pending"
    },
    "tags": []
   },
   "outputs": [],
   "source": [
    "quotation_feature = []\n",
    "for text in author_text:\n",
    "    N = len(text_split_filter(text, no_punct=False, char=True))\n",
    "    \n",
    "    if N == 0:\n",
    "        n_quotation = 0\n",
    "    else:\n",
    "        n_quotation = quotation_filter(text)/N\n",
    "    quotation_feature.append(n_quotation)\n",
    "    \n",
    "    \n",
    "test_quotation_feature = []\n",
    "for text in test_author_text:\n",
    "    N = len(text_split_filter(text, no_punct=False, char=True))\n",
    "    \n",
    "    if N == 0:\n",
    "        n_quotation = 0\n",
    "    else:\n",
    "        n_quotation = quotation_filter(text)/N\n",
    "    test_quotation_feature.append(n_quotation)\n",
    "    \n",
    "quotation_feature"
   ]
  },
  {
   "cell_type": "code",
   "execution_count": null,
   "id": "cc20ec36",
   "metadata": {
    "papermill": {
     "duration": null,
     "end_time": null,
     "exception": null,
     "start_time": null,
     "status": "pending"
    },
    "tags": []
   },
   "outputs": [],
   "source": [
    "arr = np.array(quotation_feature)\n",
    "X_quotation = sparse.csr_matrix(arr.reshape((5000,1)))\n"
   ]
  },
  {
   "cell_type": "code",
   "execution_count": null,
   "id": "eb529cfc",
   "metadata": {
    "papermill": {
     "duration": null,
     "end_time": null,
     "exception": null,
     "start_time": null,
     "status": "pending"
    },
    "tags": []
   },
   "outputs": [],
   "source": [
    "test_arr = np.array(test_quotation_feature)\n",
    "X_quotation_test = sparse.csr_matrix(test_arr.reshape((15000,1)))\n"
   ]
  },
  {
   "cell_type": "code",
   "execution_count": null,
   "id": "e6f3dc52",
   "metadata": {
    "papermill": {
     "duration": null,
     "end_time": null,
     "exception": null,
     "start_time": null,
     "status": "pending"
    },
    "tags": []
   },
   "outputs": [],
   "source": [
    "from sklearn.preprocessing import MaxAbsScaler\n",
    "\n",
    "scaler = MaxAbsScaler()\n",
    "scaler.fit(X_quotation)\n",
    "X_quotation = scaler.transform(X_quotation)\n",
    "X_quotation_test = scaler.transform(X_quotation_test)"
   ]
  },
  {
   "cell_type": "code",
   "execution_count": null,
   "id": "f29acd4a",
   "metadata": {
    "papermill": {
     "duration": null,
     "end_time": null,
     "exception": null,
     "start_time": null,
     "status": "pending"
    },
    "tags": []
   },
   "outputs": [],
   "source": [
    "sparse.save_npz('X_quotation.npz', X_quotation)\n",
    "sparse.save_npz('X_quotation_test.npz', X_quotation_test)"
   ]
  },
  {
   "cell_type": "markdown",
   "id": "6c9634fc",
   "metadata": {
    "papermill": {
     "duration": null,
     "end_time": null,
     "exception": null,
     "start_time": null,
     "status": "pending"
    },
    "tags": []
   },
   "source": [
    "### Punctutation Frequency"
   ]
  },
  {
   "cell_type": "code",
   "execution_count": null,
   "id": "8e86ff89",
   "metadata": {
    "papermill": {
     "duration": null,
     "end_time": null,
     "exception": null,
     "start_time": null,
     "status": "pending"
    },
    "tags": []
   },
   "outputs": [],
   "source": [
    "import string\n",
    "punct_list = string.punctuation\n",
    "punct_list"
   ]
  },
  {
   "cell_type": "code",
   "execution_count": null,
   "id": "f6538f4e",
   "metadata": {
    "papermill": {
     "duration": null,
     "end_time": null,
     "exception": null,
     "start_time": null,
     "status": "pending"
    },
    "tags": []
   },
   "outputs": [],
   "source": [
    "def punctuation_filter(text):\n",
    "    chars = text_split_filter(text, no_punct=False, char=True)\n",
    "    counter = 0\n",
    "    for char in chars:\n",
    "        if char in punct_list:\n",
    "            counter += 1\n",
    "    \n",
    "    return counter"
   ]
  },
  {
   "cell_type": "code",
   "execution_count": null,
   "id": "fe59db53",
   "metadata": {
    "papermill": {
     "duration": null,
     "end_time": null,
     "exception": null,
     "start_time": null,
     "status": "pending"
    },
    "tags": []
   },
   "outputs": [],
   "source": [
    "punctuation_feature = []\n",
    "for text in author_text:\n",
    "    N = len(text_split_filter(text, no_punct=False, char=True))\n",
    "    \n",
    "    if N == 0:\n",
    "        n_punctuation = 0\n",
    "    else:\n",
    "        n_punctuation = punctuation_filter(text)/N\n",
    "    punctuation_feature.append(n_punctuation)\n",
    "    \n",
    "    \n",
    "test_punctuation_feature = []\n",
    "for text in test_author_text:\n",
    "    N = len(text_split_filter(text, no_punct=False, char=True))\n",
    "    \n",
    "    if N == 0:\n",
    "        n_punctuation = 0\n",
    "    else:\n",
    "        n_punctuation = punctuation_filter(text)/N\n",
    "    test_punctuation_feature.append(n_punctuation)\n",
    "    \n",
    "punctuation_feature"
   ]
  },
  {
   "cell_type": "code",
   "execution_count": null,
   "id": "c8cd7e5e",
   "metadata": {
    "papermill": {
     "duration": null,
     "end_time": null,
     "exception": null,
     "start_time": null,
     "status": "pending"
    },
    "tags": []
   },
   "outputs": [],
   "source": [
    "arr = np.array(punctuation_feature)\n",
    "X_punctuation = sparse.csr_matrix(arr.reshape((5000,1)))\n"
   ]
  },
  {
   "cell_type": "code",
   "execution_count": null,
   "id": "eaa5efd6",
   "metadata": {
    "papermill": {
     "duration": null,
     "end_time": null,
     "exception": null,
     "start_time": null,
     "status": "pending"
    },
    "tags": []
   },
   "outputs": [],
   "source": [
    "test_arr = np.array(test_punctuation_feature)\n",
    "X_punctuation_test = sparse.csr_matrix(test_arr.reshape((15000,1)))\n"
   ]
  },
  {
   "cell_type": "code",
   "execution_count": null,
   "id": "5f74cf5b",
   "metadata": {
    "papermill": {
     "duration": null,
     "end_time": null,
     "exception": null,
     "start_time": null,
     "status": "pending"
    },
    "tags": []
   },
   "outputs": [],
   "source": [
    "from sklearn.preprocessing import MaxAbsScaler\n",
    "\n",
    "scaler = MaxAbsScaler()\n",
    "scaler.fit(X_punctuation)\n",
    "X_punctuation = scaler.transform(X_punctuation)\n",
    "X_punctuation_test = scaler.transform(X_punctuation_test)"
   ]
  },
  {
   "cell_type": "code",
   "execution_count": null,
   "id": "1f648cac",
   "metadata": {
    "papermill": {
     "duration": null,
     "end_time": null,
     "exception": null,
     "start_time": null,
     "status": "pending"
    },
    "tags": []
   },
   "outputs": [],
   "source": [
    "sparse.save_npz('X_punctuation.npz', X_punctuation)\n",
    "sparse.save_npz('X_punctuation_test.npz', X_punctuation_test)"
   ]
  },
  {
   "cell_type": "markdown",
   "id": "8d96c617",
   "metadata": {
    "papermill": {
     "duration": null,
     "end_time": null,
     "exception": null,
     "start_time": null,
     "status": "pending"
    },
    "tags": []
   },
   "source": [
    "### Digits Frequency"
   ]
  },
  {
   "cell_type": "code",
   "execution_count": null,
   "id": "4caf809a",
   "metadata": {
    "papermill": {
     "duration": null,
     "end_time": null,
     "exception": null,
     "start_time": null,
     "status": "pending"
    },
    "tags": []
   },
   "outputs": [],
   "source": [
    "digits_list = [\n",
    "'0',\n",
    "'1',\n",
    "'2',\n",
    "'3',\n",
    "'4',\n",
    "'5',\n",
    "'6',\n",
    "'7',\n",
    "'8',\n",
    "'9'\n",
    "]"
   ]
  },
  {
   "cell_type": "code",
   "execution_count": null,
   "id": "ad3cb348",
   "metadata": {
    "papermill": {
     "duration": null,
     "end_time": null,
     "exception": null,
     "start_time": null,
     "status": "pending"
    },
    "tags": []
   },
   "outputs": [],
   "source": [
    "def digits_filter(text):\n",
    "    chars = text_split_filter(text, char=True)\n",
    "    counter = 0\n",
    "    for char in chars:\n",
    "        if char in digits_list:\n",
    "            counter += 1\n",
    "    \n",
    "    return counter"
   ]
  },
  {
   "cell_type": "code",
   "execution_count": null,
   "id": "cef80d29",
   "metadata": {
    "papermill": {
     "duration": null,
     "end_time": null,
     "exception": null,
     "start_time": null,
     "status": "pending"
    },
    "tags": []
   },
   "outputs": [],
   "source": [
    "digits_feature = []\n",
    "for text in author_text:\n",
    "    N = len(text_split_filter(text, char=True))\n",
    "    \n",
    "    if N == 0:\n",
    "        n_digits = 0\n",
    "    else:\n",
    "        n_digits = digits_filter(text)/N\n",
    "    digits_feature.append(n_digits)\n",
    "    \n",
    "    \n",
    "test_digits_feature = []\n",
    "for text in test_author_text:\n",
    "    N = len(text_split_filter(text, char=True))\n",
    "    \n",
    "    if N == 0:\n",
    "        n_digits = 0\n",
    "    else:\n",
    "        n_digits = digits_filter(text)/N\n",
    "    test_digits_feature.append(n_digits)\n",
    "    \n",
    "digits_feature"
   ]
  },
  {
   "cell_type": "code",
   "execution_count": null,
   "id": "0425fb1b",
   "metadata": {
    "papermill": {
     "duration": null,
     "end_time": null,
     "exception": null,
     "start_time": null,
     "status": "pending"
    },
    "tags": []
   },
   "outputs": [],
   "source": [
    "arr = np.array(digits_feature)\n",
    "X_digits = sparse.csr_matrix(arr.reshape((5000,1)))\n"
   ]
  },
  {
   "cell_type": "code",
   "execution_count": null,
   "id": "5126a203",
   "metadata": {
    "papermill": {
     "duration": null,
     "end_time": null,
     "exception": null,
     "start_time": null,
     "status": "pending"
    },
    "tags": []
   },
   "outputs": [],
   "source": [
    "test_arr = np.array(test_digits_feature)\n",
    "X_digits_test = sparse.csr_matrix(test_arr.reshape((15000,1)))\n"
   ]
  },
  {
   "cell_type": "code",
   "execution_count": null,
   "id": "ed38b5fc",
   "metadata": {
    "papermill": {
     "duration": null,
     "end_time": null,
     "exception": null,
     "start_time": null,
     "status": "pending"
    },
    "tags": []
   },
   "outputs": [],
   "source": [
    "from sklearn.preprocessing import MaxAbsScaler\n",
    "\n",
    "scaler = MaxAbsScaler()\n",
    "scaler.fit(X_digits)\n",
    "X_digits = scaler.transform(X_digits)\n",
    "X_digits_test = scaler.transform(X_digits_test)"
   ]
  },
  {
   "cell_type": "code",
   "execution_count": null,
   "id": "b32736a2",
   "metadata": {
    "papermill": {
     "duration": null,
     "end_time": null,
     "exception": null,
     "start_time": null,
     "status": "pending"
    },
    "tags": []
   },
   "outputs": [],
   "source": [
    "sparse.save_npz('X_digits.npz', X_digits)\n",
    "sparse.save_npz('X_digits_test.npz', X_digits_test)"
   ]
  },
  {
   "cell_type": "markdown",
   "id": "3b0d2d0a",
   "metadata": {
    "papermill": {
     "duration": null,
     "end_time": null,
     "exception": null,
     "start_time": null,
     "status": "pending"
    },
    "tags": []
   },
   "source": [
    "# Loading Preprocessed Data"
   ]
  },
  {
   "cell_type": "markdown",
   "id": "bf62dd15",
   "metadata": {
    "papermill": {
     "duration": null,
     "end_time": null,
     "exception": null,
     "start_time": null,
     "status": "pending"
    },
    "tags": []
   },
   "source": [
    "Creating target array"
   ]
  },
  {
   "cell_type": "code",
   "execution_count": null,
   "id": "d431e764",
   "metadata": {
    "papermill": {
     "duration": null,
     "end_time": null,
     "exception": null,
     "start_time": null,
     "status": "pending"
    },
    "tags": []
   },
   "outputs": [],
   "source": [
    "Y = target.gender\n",
    "Y"
   ]
  },
  {
   "cell_type": "markdown",
   "id": "41a72bf5",
   "metadata": {
    "papermill": {
     "duration": null,
     "end_time": null,
     "exception": null,
     "start_time": null,
     "status": "pending"
    },
    "tags": []
   },
   "source": [
    "Creating Design Matrix from feature files, using a list of wanted features (in order to perform some tests, it is preferable to have the possibility to choose which features to use)."
   ]
  },
  {
   "cell_type": "code",
   "execution_count": null,
   "id": "d6b1d500",
   "metadata": {
    "papermill": {
     "duration": null,
     "end_time": null,
     "exception": null,
     "start_time": null,
     "status": "pending"
    },
    "tags": []
   },
   "outputs": [],
   "source": [
    "from scipy import sparse\n",
    "def generate_matrix(features_all=False, feature_list=['subs', 'lembow', 'averagelength', 'maxlength', 'profanity', 'capitalwords', 'capitalletters', 'self', 'acronyms', 'emoticons', 'exclamation', 'interrogation', 'quotation', 'punctuation', 'digits']):\n",
    "    \"Function that generates the Design Matrix X from single features matrices/arrays\"\n",
    "    l = []\n",
    "    l_test = []\n",
    "    \n",
    "    if features_all == True:\n",
    "        feature_list_all = ['subs', 'lembow', 'averagelength', 'maxlength', 'profanity', 'capitalwords', 'capitalletters', 'self', 'acronyms', 'emoticons', 'exclamation', 'interrogation', 'quotation', 'punctuation', 'digits']\n",
    "        for feature in feature_list_all:\n",
    "            x = sparse.load_npz('X_'+str(feature)+'.npz')\n",
    "            x_test = sparse.load_npz('X_'+str(feature)+'_test.npz')\n",
    "            l.append(x)\n",
    "            l_test.append(x_test)\n",
    "        X = sparse.hstack(l)\n",
    "        X_test = sparse.hstack(l_test)\n",
    "    else:\n",
    "        for feature in feature_list:\n",
    "            x = sparse.load_npz('X_'+str(feature)+'.npz')\n",
    "            x\n",
    "            x_test = sparse.load_npz('X_'+str(feature)+'_test.npz')\n",
    "            l.append(x)\n",
    "            l_test.append(x_test)\n",
    "        X = sparse.hstack(l)\n",
    "        X_test = sparse.hstack(l_test)\n",
    "    \n",
    "    return X, X_test\n",
    "\n",
    "\n",
    "    \n",
    "    "
   ]
  },
  {
   "cell_type": "markdown",
   "id": "c02dc0b1",
   "metadata": {
    "papermill": {
     "duration": null,
     "end_time": null,
     "exception": null,
     "start_time": null,
     "status": "pending"
    },
    "tags": []
   },
   "source": [
    "Creating the Design Matrix. We can choose which features to include, so that different tests and options of Feature Selection can be performed at will (or if necessary)."
   ]
  },
  {
   "cell_type": "code",
   "execution_count": null,
   "id": "dbcb34a2",
   "metadata": {
    "papermill": {
     "duration": null,
     "end_time": null,
     "exception": null,
     "start_time": null,
     "status": "pending"
    },
    "tags": []
   },
   "outputs": [],
   "source": [
    "feature_list = ['subs', 'lembow', 'averagelength', 'maxlength', 'profanity', 'capitalwords', 'capitalletters', 'self', 'acronyms', 'emoticons', 'exclamation', 'interrogation', 'quotation', 'punctuation', 'digits']#, 'averagelength', 'maxlength', 'profanity', 'capitalwords', 'capitalletters', 'self', 'acronyms', 'emoticons', 'exclamation', 'interrogation', 'quotation', 'punctuation', 'digits']\n",
    "X, X_test = generate_matrix(features_all=True, feature_list = feature_list)\n",
    "X\n"
   ]
  },
  {
   "cell_type": "markdown",
   "id": "302d7096",
   "metadata": {
    "papermill": {
     "duration": null,
     "end_time": null,
     "exception": null,
     "start_time": null,
     "status": "pending"
    },
    "tags": []
   },
   "source": [
    "## Feature Selection"
   ]
  },
  {
   "cell_type": "markdown",
   "id": "c307215e",
   "metadata": {
    "papermill": {
     "duration": null,
     "end_time": null,
     "exception": null,
     "start_time": null,
     "status": "pending"
    },
    "tags": []
   },
   "source": [
    "From the way the data has been processed, numerous features have been selected. The dataset dimensionality and feature correlations might hinder some models different from Neural Networks and Trees, that might then be able to perform better if a significative subset of the data is provided to them, rather than all of the variability. \n",
    "\n",
    "Hence, different feature techniques have been tried to improve performance and have been entagled in a pipeline in the model selection process (see below)."
   ]
  },
  {
   "cell_type": "markdown",
   "id": "3a73bfcf",
   "metadata": {
    "papermill": {
     "duration": null,
     "end_time": null,
     "exception": null,
     "start_time": null,
     "status": "pending"
    },
    "tags": []
   },
   "source": [
    "A filtering feature selection method is applied. Keeping in mind that our input data is numerical and the output is categorical, the ANOVA score is applied. The number of features is given in the model selection process, in which ANOVA is part of the pipeline. Best scoring given for number of features of $\\sim$1500\n",
    "\n",
    "As a notice of work, different feature selection techniques have been tried. In particular Truncated SVD was tested as an alternative method that would keep sparsity untouched, but in the Model Selection/ Hyperparameters Selection, when included in the pipeline, even the best number for singular components to keep did not provide a performance on pair with ANOVA.\n"
   ]
  },
  {
   "cell_type": "code",
   "execution_count": null,
   "id": "58f55c18",
   "metadata": {
    "papermill": {
     "duration": null,
     "end_time": null,
     "exception": null,
     "start_time": null,
     "status": "pending"
    },
    "tags": []
   },
   "outputs": [],
   "source": [
    "from sklearn.feature_selection import SelectKBest\n",
    "from sklearn.feature_selection import f_classif #ANOVA"
   ]
  },
  {
   "cell_type": "markdown",
   "id": "ded97f18",
   "metadata": {
    "papermill": {
     "duration": null,
     "end_time": null,
     "exception": null,
     "start_time": null,
     "status": "pending"
    },
    "tags": []
   },
   "source": [
    "Selecting which features to keep, once the optimal number $k$ is found during the Model Selection process (see below)."
   ]
  },
  {
   "cell_type": "code",
   "execution_count": null,
   "id": "529cbb71",
   "metadata": {
    "papermill": {
     "duration": null,
     "end_time": null,
     "exception": null,
     "start_time": null,
     "status": "pending"
    },
    "scrolled": true,
    "tags": []
   },
   "outputs": [],
   "source": [
    "selector = SelectKBest(f_classif, k=1480) # k is the number of features to be selected\n",
    "selector.fit(X, Y)"
   ]
  },
  {
   "cell_type": "markdown",
   "id": "2653d650",
   "metadata": {
    "papermill": {
     "duration": null,
     "end_time": null,
     "exception": null,
     "start_time": null,
     "status": "pending"
    },
    "tags": []
   },
   "source": [
    "Transforming (selecting only relevant features) both Training & Test Set"
   ]
  },
  {
   "cell_type": "code",
   "execution_count": null,
   "id": "a673c129",
   "metadata": {
    "papermill": {
     "duration": null,
     "end_time": null,
     "exception": null,
     "start_time": null,
     "status": "pending"
    },
    "tags": []
   },
   "outputs": [],
   "source": [
    "X = selector.transform(X)\n",
    "X_test = selector.transform(X_test)"
   ]
  },
  {
   "cell_type": "markdown",
   "id": "07bc00f6",
   "metadata": {
    "papermill": {
     "duration": null,
     "end_time": null,
     "exception": null,
     "start_time": null,
     "status": "pending"
    },
    "tags": []
   },
   "source": [
    "## Machine Learning --> Classification Problem"
   ]
  },
  {
   "cell_type": "markdown",
   "id": "5716e2c1",
   "metadata": {
    "papermill": {
     "duration": null,
     "end_time": null,
     "exception": null,
     "start_time": null,
     "status": "pending"
    },
    "tags": []
   },
   "source": [
    "Loading all the possible classifiers of choice in a dictionary, which contains the parameters as well (these are not directly used, are just personal reminders). The values provided in the code below are those found through model selection procedures in the following section."
   ]
  },
  {
   "cell_type": "code",
   "execution_count": null,
   "id": "33752968",
   "metadata": {
    "papermill": {
     "duration": null,
     "end_time": null,
     "exception": null,
     "start_time": null,
     "status": "pending"
    },
    "tags": []
   },
   "outputs": [],
   "source": [
    "from sklearn.neighbors import KNeighborsClassifier\n",
    "from sklearn.naive_bayes import MultinomialNB\n",
    "from sklearn.linear_model import LogisticRegression, Lasso\n",
    "from sklearn.svm import SVC\n",
    "from sklearn.tree import DecisionTreeClassifier\n",
    "from sklearn.ensemble import RandomForestClassifier\n",
    "from sklearn.neural_network import MLPClassifier\n",
    "\n",
    "from collections import OrderedDict\n",
    "\n",
    "models = OrderedDict([\n",
    "          ('Knn', {\"model\" : KNeighborsClassifier(n_neighbors=6)\n",
    "                  ,\"best_hyper\" : {'n_neighbors' : 6}}),\n",
    "          ('NaiveBayes', {\"model\" : MultinomialNB(alpha=0.9228456913827655)\n",
    "                          ,\"best_hyper\" : {'alpha' : 1.81}}),\n",
    "    #Using SAGA optimizer as it is compatible with all types of regularization\n",
    "          ('LogisticRegression', {\"model\" : LogisticRegression(C = 2.694026845637584, penalty = 'elasticnet', solver = 'saga', max_iter = 10000, l1_ratio=0.0)\n",
    "                                 ,\"best_hyper\" : {'alpha' : 1.38}}),\n",
    "    \n",
    "          ('PolySVM', {\"model\" : SVC(kernel='poly', C=10, degree = 1, gamma = 'auto', probability=False)\n",
    "                      ,\"best_hyper\" : {'C' : 10\n",
    "                                      ,'degree' : 1\n",
    "                                      ,'gamma' : 'auto'}}),\n",
    "          ('RBFSVM', {\"model\" : SVC(kernel='rbf', C=6.222570836730231, gamma=0.051114334834401684, probability=True)\n",
    "                      ,\"best_hyper\" : {'C' : 6.222570836730231\n",
    "                                      ,'gamma' : 0.051114334834401684}}),\n",
    "    #Selecting Random Splitter since many features are present\n",
    "          ('ClassificationTree', {'model' : DecisionTreeClassifier(splitter='random', max_depth=2, min_samples_split=12, min_samples_leaf=6, max_features='sqrt')\n",
    "                                 ,'best_hyper' : {'max_depth' : 2\n",
    "                                                 ,'min_samples_split' : 4\n",
    "                                                 ,'min_samples_leaf' : 6\n",
    "                                                 ,'max_features' : 'auto'}}),\n",
    "          ('RandomForest', {'model' : RandomForestClassifier(max_depth=32, n_estimators=158, min_samples_split=2, min_samples_leaf=6, max_features='auto',n_jobs = -1)\n",
    "                           ,'best_hyper' : {'max_depth' : 45\n",
    "                                           ,'n_estimators' : 300\n",
    "                                           ,'min_samples_leaf' : 6\n",
    "                                           ,'min_samples_split' : 4\n",
    "                                           ,'max_features' : 'auto'}}),\n",
    "          ('MLP', {\"model\" : MLPClassifier(hidden_layer_sizes=(4), alpha=24.589178356713425, activation='relu',solver='lbfgs', max_iter=50000)\n",
    "                  ,\"best_hyper\" : {'hidden_layer_sizes' : (3)\n",
    "                                  ,'alpha' : 31.238476953907814}})\n",
    "        ])\n"
   ]
  },
  {
   "cell_type": "markdown",
   "id": "d14a2473",
   "metadata": {
    "papermill": {
     "duration": null,
     "end_time": null,
     "exception": null,
     "start_time": null,
     "status": "pending"
    },
    "tags": []
   },
   "source": [
    "In order to provide a sample of (#layers,#neurons), defining a useful function for MLP hyperparameter optimization, which creates a random sample for the number of hidden layers and neurons. In this way, no manual selection is necessary."
   ]
  },
  {
   "cell_type": "code",
   "execution_count": null,
   "id": "4319dade",
   "metadata": {
    "papermill": {
     "duration": null,
     "end_time": null,
     "exception": null,
     "start_time": null,
     "status": "pending"
    },
    "tags": []
   },
   "outputs": [],
   "source": [
    "def layers_generator(n_hidden, max_neurons=8, min_neurons=1, samples_per_layer=3):\n",
    "    \"\"\"\n",
    "    Generate samples of layers for MLP\n",
    "    \"\"\"\n",
    "    import itertools\n",
    "    import random\n",
    "    hyper_layers = []\n",
    "    for n in range(1,n_hidden,1):\n",
    "        hyper_layers.extend(random.sample(list(itertools.product(range(min_neurons,max_neurons,1), repeat=n)), samples_per_layer))\n",
    "        \n",
    "    return hyper_layers\n",
    "    \n",
    "    #random.sample(list(itertools.product(range(1,20,1), repeat=random.randint(1,5))), 5)"
   ]
  },
  {
   "cell_type": "markdown",
   "id": "205b7b11",
   "metadata": {
    "papermill": {
     "duration": null,
     "end_time": null,
     "exception": null,
     "start_time": null,
     "status": "pending"
    },
    "tags": []
   },
   "source": [
    "## Model Selection"
   ]
  },
  {
   "cell_type": "markdown",
   "id": "a61537f8",
   "metadata": {
    "papermill": {
     "duration": null,
     "end_time": null,
     "exception": null,
     "start_time": null,
     "status": "pending"
    },
    "tags": []
   },
   "source": [
    "Defining the Cross-Validation strategy. Since classes are not balanced in the Training set, and considering that removal of data was not considered as an option given the fact that data is already limited in number of samples, a Stratified Cross-Validation is used: in this way, in each fold a proportionate number of samples from each class is used, so that the least possible bias is introduced in the model."
   ]
  },
  {
   "cell_type": "code",
   "execution_count": null,
   "id": "fc4f02e8",
   "metadata": {
    "papermill": {
     "duration": null,
     "end_time": null,
     "exception": null,
     "start_time": null,
     "status": "pending"
    },
    "tags": []
   },
   "outputs": [],
   "source": [
    "from sklearn.linear_model import Lasso\n",
    "from sklearn.model_selection import KFold, StratifiedKFold, cross_val_score, GridSearchCV, RandomizedSearchCV, RepeatedStratifiedKFold\n",
    "from sklearn.experimental import enable_halving_search_cv\n",
    "from sklearn.model_selection import HalvingGridSearchCV, HalvingRandomSearchCV\n",
    "\n",
    "cv = StratifiedKFold(n_splits=5, shuffle=True, random_state=1)"
   ]
  },
  {
   "cell_type": "markdown",
   "id": "828cf0d2",
   "metadata": {
    "papermill": {
     "duration": null,
     "end_time": null,
     "exception": null,
     "start_time": null,
     "status": "pending"
    },
    "tags": []
   },
   "source": [
    "### Hyperparameters Search"
   ]
  },
  {
   "cell_type": "markdown",
   "id": "8aa8bc5b",
   "metadata": {
    "papermill": {
     "duration": null,
     "end_time": null,
     "exception": null,
     "start_time": null,
     "status": "pending"
    },
    "tags": []
   },
   "source": [
    "In the most promising models, a pipeline is introduced, in order to combine CV with Feature Selection, so as to provide the models the most optimal number of features through which they manage to generalize and correctly predict classes.\n",
    "\n",
    "Also, to speed up the process and maintain a good hyperparameter research accuracy, a HalvingGrid system is used, sometimes a RandomizedSearch is used to ballpark the hyperparameters values. Then, when a coarse idea has been obtained, these values are fine-tuned through a complete GridSearch to explore all the hyperparameters space and obtain an accurate estimate."
   ]
  },
  {
   "cell_type": "markdown",
   "id": "2c5032ae",
   "metadata": {
    "papermill": {
     "duration": null,
     "end_time": null,
     "exception": null,
     "start_time": null,
     "status": "pending"
    },
    "tags": []
   },
   "source": [
    "#### KNN"
   ]
  },
  {
   "cell_type": "code",
   "execution_count": null,
   "id": "1197eea5",
   "metadata": {
    "papermill": {
     "duration": null,
     "end_time": null,
     "exception": null,
     "start_time": null,
     "status": "pending"
    },
    "tags": []
   },
   "outputs": [],
   "source": [
    "import scipy.stats as stats\n",
    "clf = models['Knn']['model']\n",
    "\n",
    "#After having tried on a larger scale, setting the research to \n",
    "#fine-research the best alpha value\n",
    "hyper = {}\n",
    "#hyper['C'] = np.logspace(-1.5, 3, 30)\n",
    "hyper['n_neighbors'] = range(2, 65)\n",
    "\n",
    "optimizer = GridSearchCV(clf, param_grid= hyper, n_jobs=-1, cv=cv, verbose=3, error_score=\"raise\")\n",
    "optimizer.fit(X, Y)\n",
    "print(\"Best parameters for\", str('LR'), \"are:\")\n",
    "print(optimizer.best_params_)\n",
    "print('Score:', str(optimizer.best_score_))\n",
    "      \n",
    "clf.C = optimizer.best_params_['n_neighbors']"
   ]
  },
  {
   "cell_type": "markdown",
   "id": "993f6d36",
   "metadata": {
    "papermill": {
     "duration": null,
     "end_time": null,
     "exception": null,
     "start_time": null,
     "status": "pending"
    },
    "tags": []
   },
   "source": [
    "#### Naive Bayes"
   ]
  },
  {
   "cell_type": "markdown",
   "id": "94eb4be2",
   "metadata": {
    "papermill": {
     "duration": null,
     "end_time": null,
     "exception": null,
     "start_time": null,
     "status": "pending"
    },
    "tags": []
   },
   "source": [
    "Naive Bayes algorithm gives best performance when paired with ANOVA feature selection (1400 features out of $\\sim$ 5400). In fact, Naive Bayes is one of the algorithms that works best after dimensionality reduction is applied, since a \"selection\" of the features is not natuarally incorporated as in models such as Trees and Neural Networks."
   ]
  },
  {
   "cell_type": "code",
   "execution_count": null,
   "id": "64c32e01",
   "metadata": {
    "papermill": {
     "duration": null,
     "end_time": null,
     "exception": null,
     "start_time": null,
     "status": "pending"
    },
    "tags": []
   },
   "outputs": [],
   "source": [
    "import scipy.stats as stats\n",
    "from sklearn.pipeline import Pipeline\n",
    "from sklearn.feature_selection import SelectKBest, f_classif \n",
    "\n",
    "clf = models['NaiveBayes']['model']\n",
    "\n",
    "#After having tried on a larger scale, setting the research to \n",
    "#fine-research the best alpha value\n",
    "hyper = {}\n",
    "#hyper['nb__alpha'] = np.logspace(-1.5, 3, 30)\n",
    "hyper['nb__alpha'] = np.linspace(0.5, 1, 500)\n",
    "hyper['anova__k'] = np.arange(1000, 1600, 10)\n",
    "\n",
    "pipe = Pipeline([('anova', SelectKBest(f_classif, k = 500)),\n",
    "                       ('nb', clf)])\n",
    "\n",
    "optimizer = GridSearchCV(pipe, param_grid= hyper, n_jobs=-1, cv=cv, verbose=3, error_score=\"raise\")\n",
    "optimizer.fit(X, Y)\n",
    "print(\"Best parameters for\", str('NaiveBayes'), \"are:\")\n",
    "print(optimizer.best_params_)\n",
    "print('Score:', str(optimizer.best_score_))"
   ]
  },
  {
   "cell_type": "markdown",
   "id": "c0a6989d",
   "metadata": {
    "papermill": {
     "duration": null,
     "end_time": null,
     "exception": null,
     "start_time": null,
     "status": "pending"
    },
    "tags": []
   },
   "source": [
    "#### Logistic Regression"
   ]
  },
  {
   "cell_type": "code",
   "execution_count": null,
   "id": "f1677f50",
   "metadata": {
    "papermill": {
     "duration": null,
     "end_time": null,
     "exception": null,
     "start_time": null,
     "status": "pending"
    },
    "scrolled": true,
    "tags": []
   },
   "outputs": [],
   "source": [
    "import scipy.stats as stats\n",
    "from sklearn.pipeline import Pipeline\n",
    "from sklearn.feature_selection import SelectKBest, f_classif \n",
    "\n",
    "clf = models['LogisticRegression']['model']\n",
    "\n",
    "#After having tried on a larger scale, setting the research to \n",
    "#fine-research the best alpha value\n",
    "hyper = {}\n",
    "#hyper['lr__C'] = np.logspace(-1.5, 3, 30)\n",
    "hyper['lr__C'] = np.linspace(0.01, 50, 150)\n",
    "hyper['lr__l1_ratio'] = np.linspace(0,1,20)\n",
    "hyper['anova__k'] = np.arange(1000, 2000, 20)\n",
    "#hyper['penalty'] = ['l1', 'l2']\n",
    "\n",
    "pipe = Pipeline([('anova', SelectKBest(f_classif, k = 500)),\n",
    "                       ('lr', clf)])\n",
    "\n",
    "optimizer = HalvingGridSearchCV(pipe, param_grid= hyper, n_jobs=-1, cv=cv, verbose=3, error_score=\"raise\")\n",
    "optimizer.fit(X, Y)\n",
    "print(\"Best parameters for\", str('LR'), \"are:\")\n",
    "print(optimizer.best_params_)\n",
    "print('Score:', str(optimizer.best_score_))\n",
    "\n"
   ]
  },
  {
   "cell_type": "markdown",
   "id": "623a5b04",
   "metadata": {
    "papermill": {
     "duration": null,
     "end_time": null,
     "exception": null,
     "start_time": null,
     "status": "pending"
    },
    "tags": []
   },
   "source": [
    "#### SVM Poly"
   ]
  },
  {
   "cell_type": "code",
   "execution_count": null,
   "id": "df62c241",
   "metadata": {
    "papermill": {
     "duration": null,
     "end_time": null,
     "exception": null,
     "start_time": null,
     "status": "pending"
    },
    "tags": []
   },
   "outputs": [],
   "source": [
    "clf = models['PolySVM']['model']\n",
    "\n",
    "hyper = {}\n",
    "hyper['C'] = np.linspace(0.001, 10, 500)\n",
    "hyper['degree'] = range(1,8)\n",
    "#hyper['gamma'] = ['auto', 'scale']\n",
    "\n",
    "optimizer = RandomizedSearchCV(clf, param_distributions= hyper,n_iter = 60, cv=cv, verbose=3, error_score=\"raise\")\n",
    "optimizer.fit(X, Y)\n",
    "\n",
    "print(\"Best parameters for\", str('LR'), \"are:\")\n",
    "print(optimizer.best_params_)\n",
    "print('Score:', str(optimizer.best_score_))\n",
    "      \n",
    "clf.C = optimizer.best_params_['C']\n",
    "clf.degree = optimizer.best_params_['degree']\n",
    "#clf.gamma = optimizer.best_params_['gamma']\n"
   ]
  },
  {
   "cell_type": "markdown",
   "id": "298e3ef4",
   "metadata": {
    "papermill": {
     "duration": null,
     "end_time": null,
     "exception": null,
     "start_time": null,
     "status": "pending"
    },
    "tags": []
   },
   "source": [
    "#### SVM RBF"
   ]
  },
  {
   "cell_type": "code",
   "execution_count": null,
   "id": "d2ec0457",
   "metadata": {
    "papermill": {
     "duration": null,
     "end_time": null,
     "exception": null,
     "start_time": null,
     "status": "pending"
    },
    "tags": []
   },
   "outputs": [],
   "source": [
    "import scipy.stats as stats\n",
    "from sklearn.pipeline import Pipeline\n",
    "from sklearn.feature_selection import SelectKBest, f_classif \n",
    "\n",
    "#  if name == \"LogisticRegression\":\n",
    "#print('Starting', str(name), 'evaluation. Please wait...')\n",
    "clf = models['RBFSVM']['model']\n",
    "\n",
    "hyper = {}\n",
    "\n",
    "hyper['C'] = np.logspace(-3, 2, 200)\n",
    "hyper['gamma'] = np.logspace(-3, 2, 200)\n",
    "#hyper['anova__k'] = np.arange(500, 2000,50)\n",
    "\n",
    "#pipe = Pipeline([('anova', SelectKBest(f_classif, k=500)),('svm', clf)])\n",
    "\n",
    "optimizer = HalvingGridSearchCV(clf, param_grid = hyper, cv=cv, verbose=0, error_score=\"raise\")\n",
    "optimizer.fit(X, Y)\n",
    "\n",
    "print(\"Best parameters for\", str('LR'), \"are:\")\n",
    "print(optimizer.best_params_)\n",
    "print('Score:', str(optimizer.best_score_))\n",
    "      \n",
    "clf.C = optimizer.best_params_['C']\n",
    "\n",
    "        \n",
    " "
   ]
  },
  {
   "cell_type": "markdown",
   "id": "6dd182e0",
   "metadata": {
    "papermill": {
     "duration": null,
     "end_time": null,
     "exception": null,
     "start_time": null,
     "status": "pending"
    },
    "tags": []
   },
   "source": [
    "#### MLP"
   ]
  },
  {
   "cell_type": "code",
   "execution_count": null,
   "id": "ff0be2c1",
   "metadata": {
    "papermill": {
     "duration": null,
     "end_time": null,
     "exception": null,
     "start_time": null,
     "status": "pending"
    },
    "tags": []
   },
   "outputs": [],
   "source": [
    "from sklearn.pipeline import Pipeline\n",
    "from sklearn.feature_selection import SelectKBest, f_classif \n",
    "#  if name == \"LogisticRegression\":\n",
    "#print('Starting', str(name), 'evaluation. Please wait...')\n",
    "clf = models['MLP']['model']\n",
    "\n",
    "hyper = {}\n",
    "#hyper['anova__k'] = np.arange(300, 3300,50)\n",
    "#hyper['hidden_layer_sizes'] = layers_generator(3, max_neurons=5,samples_per_layer=4)\n",
    "hyper['alpha'] = np.linspace(1,80, 500)\n",
    "\n",
    "#pipe = Pipeline([('anova', SelectKBest(f_classif, k=500)),('mlp', clf)])\n",
    "\n",
    "optimizer = GridSearchCV(clf, param_grid= hyper, cv=cv, verbose=3, error_score=\"raise\")\n",
    "optimizer.fit(X, Y)\n",
    "\n",
    "print(\"Best parameters for\", str('LR'), \"are:\")\n",
    "print(optimizer.best_params_)\n",
    "print('Score:', str(optimizer.best_score_))\n",
    "      \n",
    "#clf.hidden_layer_sizes = optimizer.best_params_[hidden_layer_sizes']\n",
    "#clf.alpha = optimizer.best_params_['alpha']\n",
    "#clf.alpha = optimizer.best_params[]\n"
   ]
  },
  {
   "cell_type": "markdown",
   "id": "56ee6e14",
   "metadata": {
    "papermill": {
     "duration": null,
     "end_time": null,
     "exception": null,
     "start_time": null,
     "status": "pending"
    },
    "tags": []
   },
   "source": [
    "#### ClassificationTree"
   ]
  },
  {
   "cell_type": "code",
   "execution_count": null,
   "id": "7dcf37c3",
   "metadata": {
    "papermill": {
     "duration": null,
     "end_time": null,
     "exception": null,
     "start_time": null,
     "status": "pending"
    },
    "tags": []
   },
   "outputs": [],
   "source": [
    "clf = models['ClassificationTree']['model']\n",
    "hyper = {}\n",
    "hyper['max_depth'] = range(2, 150, 1)\n",
    "hyper['min_samples_split'] = np.arange(2,40)\n",
    "hyper['min_samples_leaf'] = np.arange(1,20)\n",
    "hyper['max_features'] = ['sqrt', 'auto', 'log2']\n",
    "      \n",
    "#Having numerous hyperparameters to check for, a Random search is done\n",
    "optimizer = HalvingGridSearchCV(clf, param_grid = hyper, cv=cv, n_jobs=-1, verbose=3, error_score=\"raise\")\n",
    "optimizer.fit(X, Y)\n",
    "\n",
    "print(\"Best parameters for\", str('LR'), \"are:\")\n",
    "print(optimizer.best_params_)\n",
    "print('Score:', str(optimizer.best_score_))\n",
    "      \n",
    "clf.max_depth = optimizer.best_params_['max_depth']\n",
    "clf.min_samples_split = optimizer.best_params_['min_samples_split']\n",
    "clf.min_samples_leaf = optimizer.best_params_['min_samples_leaf'] \n",
    "clf.max_features = optimizer.best_params_['max_features']"
   ]
  },
  {
   "cell_type": "markdown",
   "id": "134cabf6",
   "metadata": {
    "papermill": {
     "duration": null,
     "end_time": null,
     "exception": null,
     "start_time": null,
     "status": "pending"
    },
    "tags": []
   },
   "source": [
    "#### RandomForest"
   ]
  },
  {
   "cell_type": "code",
   "execution_count": null,
   "id": "2ab9e34f",
   "metadata": {
    "papermill": {
     "duration": null,
     "end_time": null,
     "exception": null,
     "start_time": null,
     "status": "pending"
    },
    "tags": []
   },
   "outputs": [],
   "source": [
    "clf = models['RandomForest']['model']\n",
    "hyper = {}\n",
    "#hyper['n_estimators'] = range(50, 200, 6)\n",
    "hyper['max_depth'] = range(50, 150, 5)\n",
    "hyper['min_samples_split'] = np.arange(2,20)\n",
    "hyper['min_samples_leaf'] = np.arange(1,40)\n",
    "hyper['max_features'] = ['sqrt', 'auto', 'log2']\n",
    "      \n",
    "#Having numerous hyperparameters to check for, a Random search is done\n",
    "optimizer = HalvingGridSearchCV(clf, param_grid = hyper, cv=cv, n_jobs=-1, verbose=3, error_score=\"raise\")\n",
    "optimizer.fit(X, Y)\n",
    "\n",
    "print(\"Best parameters for\", str('LR'), \"are:\")\n",
    "print(optimizer.best_params_)\n",
    "print('Score:', str(optimizer.best_score_))\n",
    "\n",
    "#clf.n_estimators = optimizer.best_params_['n_estimators']\n",
    "clf.max_depth = optimizer.best_params_['max_depth']\n",
    "clf.min_samples_split = optimizer.best_params_['min_samples_split']\n",
    "clf.min_samples_leaf = optimizer.best_params_['min_samples_leaf'] \n",
    "clf.max_features = optimizer.best_params_['max_features']"
   ]
  },
  {
   "cell_type": "markdown",
   "id": "756f1f9a",
   "metadata": {
    "papermill": {
     "duration": null,
     "end_time": null,
     "exception": null,
     "start_time": null,
     "status": "pending"
    },
    "tags": []
   },
   "source": [
    "## FINAL TRAINING"
   ]
  },
  {
   "cell_type": "markdown",
   "id": "d97dc7e8",
   "metadata": {
    "papermill": {
     "duration": null,
     "end_time": null,
     "exception": null,
     "start_time": null,
     "status": "pending"
    },
    "tags": []
   },
   "source": [
    "Once hyperparameters are found, here the actual training is performed. In order to match Kaggle's AUC-ROC metric, a predict_proba method is used to evaluated probabilities for class attribution. The .csv file is formatted such that it matches the output required by the Kaggle's Competition."
   ]
  },
  {
   "cell_type": "code",
   "execution_count": null,
   "id": "1e663733",
   "metadata": {
    "papermill": {
     "duration": null,
     "end_time": null,
     "exception": null,
     "start_time": null,
     "status": "pending"
    },
    "tags": []
   },
   "outputs": [],
   "source": [
    "result = pd.DataFrame(test.author.unique(), columns=['author'])\n",
    "clf = models['NaiveBayes']['model']\n",
    "clf.fit(X, Y)\n",
    "pred = clf.predict_proba(X_test)\n",
    "prediction = result\n",
    "prediction['gender'] = np.array(pred)[:,1].tolist()\n",
    "prediction.to_csv('{0}\\{1}{2}'.format(\"Results\", str('NaiveBayes'), '.csv'), index=False)"
   ]
  },
  {
   "cell_type": "markdown",
   "id": "71c809e6",
   "metadata": {
    "papermill": {
     "duration": null,
     "end_time": null,
     "exception": null,
     "start_time": null,
     "status": "pending"
    },
    "tags": []
   },
   "source": [
    "**RESULT**: Naive Bayes applied with proper hyperparameter $\\alpha$ after ANOVA dimensionality reduction to 1480 features has been applied. Score in Kaggle."
   ]
  },
  {
   "cell_type": "markdown",
   "id": "88debf46",
   "metadata": {
    "papermill": {
     "duration": null,
     "end_time": null,
     "exception": null,
     "start_time": null,
     "status": "pending"
    },
    "tags": []
   },
   "source": [
    "# APPENDIX"
   ]
  },
  {
   "cell_type": "markdown",
   "id": "a163d768",
   "metadata": {
    "papermill": {
     "duration": null,
     "end_time": null,
     "exception": null,
     "start_time": null,
     "status": "pending"
    },
    "tags": []
   },
   "source": [
    "## 1.Feature Selection"
   ]
  },
  {
   "cell_type": "markdown",
   "id": "4ca68ce1",
   "metadata": {
    "papermill": {
     "duration": null,
     "end_time": null,
     "exception": null,
     "start_time": null,
     "status": "pending"
    },
    "tags": []
   },
   "source": [
    "### Truncated SVD"
   ]
  },
  {
   "cell_type": "code",
   "execution_count": null,
   "id": "062cdf5f",
   "metadata": {
    "papermill": {
     "duration": null,
     "end_time": null,
     "exception": null,
     "start_time": null,
     "status": "pending"
    },
    "tags": []
   },
   "outputs": [],
   "source": [
    "from sklearn.decomposition import TruncatedSVD\n",
    "\n"
   ]
  },
  {
   "cell_type": "code",
   "execution_count": null,
   "id": "d864ada7",
   "metadata": {
    "papermill": {
     "duration": null,
     "end_time": null,
     "exception": null,
     "start_time": null,
     "status": "pending"
    },
    "tags": []
   },
   "outputs": [],
   "source": [
    "n = range(1000, 5000, 200)\n",
    "\n",
    "for x in n:\n",
    "    svd = TruncatedSVD(x)\n",
    "    svd.fit(X)\n",
    "\n",
    "#plt.plot(svd.explained_variance_ratio_)\n",
    "#plt.xlabel('Number of dimensions')\n",
    "#plt.ylabel('Explained variance ratio')\n",
    "#plt.show()\n",
    "\n",
    "    var_explained = svd.explained_variance_ratio_.sum()\n",
    "    print(var_explained)\n",
    "    \n",
    "    if var_explained>=0.95:\n",
    "        print ('This is the best number of parameters:', x)\n",
    "        break;"
   ]
  },
  {
   "cell_type": "code",
   "execution_count": null,
   "id": "c0990210",
   "metadata": {
    "papermill": {
     "duration": null,
     "end_time": null,
     "exception": null,
     "start_time": null,
     "status": "pending"
    },
    "scrolled": true,
    "tags": []
   },
   "outputs": [],
   "source": [
    "svd = TruncatedSVD(n_components = 1450)\n",
    "svd.fit(X)"
   ]
  },
  {
   "cell_type": "code",
   "execution_count": null,
   "id": "abe8fa77",
   "metadata": {
    "papermill": {
     "duration": null,
     "end_time": null,
     "exception": null,
     "start_time": null,
     "status": "pending"
    },
    "tags": []
   },
   "outputs": [],
   "source": [
    "X = svd.transform(X)\n",
    "X_test = svd.transform(X_test)"
   ]
  },
  {
   "cell_type": "code",
   "execution_count": null,
   "id": "b0d8d26a",
   "metadata": {
    "papermill": {
     "duration": null,
     "end_time": null,
     "exception": null,
     "start_time": null,
     "status": "pending"
    },
    "tags": []
   },
   "outputs": [],
   "source": [
    "var_explained = svd.explained_variance_ratio_.sum()\n",
    "print(var_explained)"
   ]
  },
  {
   "cell_type": "code",
   "execution_count": null,
   "id": "2664a598",
   "metadata": {
    "papermill": {
     "duration": null,
     "end_time": null,
     "exception": null,
     "start_time": null,
     "status": "pending"
    },
    "scrolled": true,
    "tags": []
   },
   "outputs": [],
   "source": [
    "# plot the explained variance ratio as a function of the number of dimensions\n",
    "plt.plot(svd.explained_variance_ratio_)\n",
    "plt.xlabel('Number of dimensions')\n",
    "plt.ylabel('Explained variance ratio')\n",
    "plt.show()"
   ]
  },
  {
   "cell_type": "markdown",
   "id": "de37b71b",
   "metadata": {
    "papermill": {
     "duration": null,
     "end_time": null,
     "exception": null,
     "start_time": null,
     "status": "pending"
    },
    "tags": []
   },
   "source": [
    "## Dimensionality Reduction"
   ]
  },
  {
   "cell_type": "markdown",
   "id": "f62a67c7",
   "metadata": {
    "papermill": {
     "duration": null,
     "end_time": null,
     "exception": null,
     "start_time": null,
     "status": "pending"
    },
    "tags": []
   },
   "source": [
    "### Try PCA for NN"
   ]
  },
  {
   "cell_type": "markdown",
   "id": "00a4498e",
   "metadata": {
    "papermill": {
     "duration": null,
     "end_time": null,
     "exception": null,
     "start_time": null,
     "status": "pending"
    },
    "tags": []
   },
   "source": [
    "Try making matrix dense and do PCA for NN"
   ]
  },
  {
   "cell_type": "code",
   "execution_count": null,
   "id": "a044352b",
   "metadata": {
    "papermill": {
     "duration": null,
     "end_time": null,
     "exception": null,
     "start_time": null,
     "status": "pending"
    },
    "tags": []
   },
   "outputs": [],
   "source": [
    "pip install delayedsparse"
   ]
  },
  {
   "cell_type": "code",
   "execution_count": null,
   "id": "5ac97a4e",
   "metadata": {
    "papermill": {
     "duration": null,
     "end_time": null,
     "exception": null,
     "start_time": null,
     "status": "pending"
    },
    "tags": []
   },
   "outputs": [],
   "source": [
    "from sklearn.decomposition import PCA\n",
    "X_pca = X.todense()\n",
    "pca = PCA(1056)\n",
    "\n",
    "pca.fit(X_pca)\n",
    "\n",
    "U = pca.transform(X_pca)\n",
    "S = pca.explained_variance_\n",
    "V = pca.components_\n",
    "\n",
    "print (U.shape)\n",
    "print (S.shape)\n",
    "print (V.shape)"
   ]
  },
  {
   "cell_type": "code",
   "execution_count": null,
   "id": "72f03341",
   "metadata": {
    "papermill": {
     "duration": null,
     "end_time": null,
     "exception": null,
     "start_time": null,
     "status": "pending"
    },
    "tags": []
   },
   "outputs": [],
   "source": [
    "plt.plot(pca.explained_variance_)"
   ]
  },
  {
   "cell_type": "code",
   "execution_count": null,
   "id": "05a128fd",
   "metadata": {
    "papermill": {
     "duration": null,
     "end_time": null,
     "exception": null,
     "start_time": null,
     "status": "pending"
    },
    "scrolled": true,
    "tags": []
   },
   "outputs": [],
   "source": [
    "ev_cumsum = np.cumsum(pca.explained_variance_)/(pca.explained_variance_).sum()\n",
    "ev_at90 = ev_cumsum[ev_cumsum<0.9].shape[0]\n",
    "print (ev_at90)\n",
    "\n",
    "plt.plot(ev_cumsum)\n",
    "plt.vlines(ev_at90, 0, 1, linestyles='dashed')\n",
    "plt.hlines(0.9, 0, 500, linestyles='dashed');"
   ]
  },
  {
   "cell_type": "markdown",
   "id": "4caa7458",
   "metadata": {
    "papermill": {
     "duration": null,
     "end_time": null,
     "exception": null,
     "start_time": null,
     "status": "pending"
    },
    "tags": []
   },
   "source": [
    "## Model Selection"
   ]
  },
  {
   "cell_type": "markdown",
   "id": "d4066081",
   "metadata": {
    "papermill": {
     "duration": null,
     "end_time": null,
     "exception": null,
     "start_time": null,
     "status": "pending"
    },
    "tags": []
   },
   "source": [
    "### On Categorical Features first, Numerical after"
   ]
  },
  {
   "cell_type": "markdown",
   "id": "3fd140eb",
   "metadata": {
    "papermill": {
     "duration": null,
     "end_time": null,
     "exception": null,
     "start_time": null,
     "status": "pending"
    },
    "tags": []
   },
   "source": [
    "Since the Design Matrix is formed by multiple features, some categorical and some numerical, an attempt has been made to try and separate them to evaluate the hypothesis that models might behave best when dealing with just one kind of feature.\n",
    "\n",
    "In order to do so, a hyperparameter search is performed on the best performing set of feature ('Subreddits'), then trained with this specific hyperparameter on said feature and then, on the trained model, another hyperparameter search is applied with dimensionality reduction  (since Bag of Word is the most probable set of feature in which either redundancy or noise are found)."
   ]
  },
  {
   "cell_type": "markdown",
   "id": "7ee67364",
   "metadata": {
    "papermill": {
     "duration": null,
     "end_time": null,
     "exception": null,
     "start_time": null,
     "status": "pending"
    },
    "tags": []
   },
   "source": [
    "### [TESTING] Uso prima i subreddit e poi faccio fine-tuning sulle altre feature ###"
   ]
  },
  {
   "cell_type": "code",
   "execution_count": null,
   "id": "c17112f1",
   "metadata": {
    "papermill": {
     "duration": null,
     "end_time": null,
     "exception": null,
     "start_time": null,
     "status": "pending"
    },
    "tags": []
   },
   "outputs": [],
   "source": [
    "feat_subs = ['subs']\n",
    "feat_rest = ['lembow', 'averagelength', 'maxlength', 'profanity', 'capitalwords', 'capitalletters', 'self', 'acronyms', 'emoticons', 'exclamation', 'interrogation', 'quotation', 'punctuation', 'digits']\n",
    "X_subs, X_test_subs = generate_matrix(features_all=False, feature_list = feat_subs)\n",
    "X_rest, X_test_rest = generate_matrix(features_all=False, feature_list = feat_rest)"
   ]
  },
  {
   "cell_type": "code",
   "execution_count": null,
   "id": "c5429c91",
   "metadata": {
    "papermill": {
     "duration": null,
     "end_time": null,
     "exception": null,
     "start_time": null,
     "status": "pending"
    },
    "tags": []
   },
   "outputs": [],
   "source": [
    "import scipy.stats as stats\n",
    "from sklearn.pipeline import Pipeline\n",
    "from sklearn.feature_selection import SelectKBest, f_classif \n",
    "\n",
    "\n",
    "\n",
    "clf = models['NaiveBayes']['model']\n",
    "\n",
    "#After having tried on a larger scale, setting the research to \n",
    "#fine-research the best alpha value\n",
    "hyper = {}\n",
    "hyper2 = {}\n",
    "#hyper['C'] = np.logspace(-1.5, 3, 30)\n",
    "hyper['alpha'] = np.logspace(-3, 2, 500)\n",
    "#hyper['anova__k'] = np.arange(1000, 1400, 10)\n",
    "\n",
    "#kbest = SelectKBest(f_classif) \n",
    "#pipe = Pipeline([('anova', SelectKBest(chi2, k = 500)), ('nb', clf)])\n",
    "\n",
    "optimizer1 = GridSearchCV(clf, param_grid= hyper, n_jobs=-1, cv=cv, verbose=3, error_score=\"raise\")\n",
    "optimizer1.fit(X_subs, Y)\n",
    "\n",
    "best_alpha1 = optimizer1.best_params_['alpha']\n",
    "best1 = optimizer1.best_estimator_\n",
    "print(best1)\n",
    "#DA PROVARE DOPO\n",
    "best1.fit(X_subs, Y)\n",
    "\n",
    "hyper2['nb__alpha'] = np.linspace(best_alpha1-abs(best_alpha1*0.2), best_alpha1 + abs(best_alpha1*0.2), 300) \n",
    "hyper2['anova__k'] = np.arange(800, 1700, 10)\n",
    "\n",
    "pipe = Pipeline([('anova', SelectKBest(f_classif, k = 500)),\n",
    "                       ('nb', best1)])\n",
    "optimizer2 = GridSearchCV(pipe, param_grid= hyper2, n_jobs=-1, cv=cv, verbose=3, error_score=\"raise\")\n",
    "optimizer2.fit(X_rest, Y)\n",
    "\n",
    "print(\"Best parameters for\", str('LR'), \"are:\")\n",
    "print(optimizer2.best_params_)\n",
    "print('Score:', str(optimizer2.best_score_))\n",
    "      \n",
    "#clf.C = optimizer.best_params_['alpha']"
   ]
  }
 ],
 "metadata": {
  "kernelspec": {
   "display_name": "Python 3",
   "language": "python",
   "name": "python3"
  },
  "language_info": {
   "codemirror_mode": {
    "name": "ipython",
    "version": 3
   },
   "file_extension": ".py",
   "mimetype": "text/x-python",
   "name": "python",
   "nbconvert_exporter": "python",
   "pygments_lexer": "ipython3",
   "version": "3.10.9"
  },
  "papermill": {
   "default_parameters": {},
   "duration": 13.508259,
   "end_time": "2023-02-17T09:39:46.980825",
   "environment_variables": {},
   "exception": true,
   "input_path": "__notebook__.ipynb",
   "output_path": "__notebook__.ipynb",
   "parameters": {},
   "start_time": "2023-02-17T09:39:33.472566",
   "version": "2.3.4"
  }
 },
 "nbformat": 4,
 "nbformat_minor": 5
}
