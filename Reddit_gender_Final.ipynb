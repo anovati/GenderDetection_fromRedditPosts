{
 "cells": [
  {
   "cell_type": "markdown",
   "id": "1d87c202",
   "metadata": {},
   "source": [
    "# Data Mining - Kaggle Project"
   ]
  },
  {
   "cell_type": "markdown",
   "id": "e7c99de7",
   "metadata": {},
   "source": [
    "## Loading Data"
   ]
  },
  {
   "cell_type": "code",
   "execution_count": 36,
   "id": "972670fd",
   "metadata": {},
   "outputs": [
    {
     "name": "stdout",
     "output_type": "stream",
     "text": [
      "Populating the interactive namespace from numpy and matplotlib\n"
     ]
    },
    {
     "name": "stderr",
     "output_type": "stream",
     "text": [
      "D:\\Anaconda3\\lib\\site-packages\\IPython\\core\\magics\\pylab.py:159: UserWarning: pylab import has clobbered these variables: ['test', 'clf']\n",
      "`%matplotlib` prevents importing * from pylab and numpy\n",
      "  warn(\"pylab import has clobbered these variables: %s\"  % clobbered +\n"
     ]
    }
   ],
   "source": [
    "%pylab inline\n",
    "import pandas as pd\n",
    "import numpy as np\n",
    "from scipy import sparse\n",
    "from sklearn.preprocessing import MaxAbsScaler\n",
    "\n",
    "# for NLP\n",
    "import nltk\n",
    "import re\n",
    "from nltk.tokenize import word_tokenize\n",
    "from nltk.stem import WordNetLemmatizer\n",
    "from nltk.corpus import wordnet\n",
    "import string\n",
    "\n",
    "import sys\n",
    "sys.path+=['src']\n",
    "import data_preprocess"
   ]
  },
  {
   "cell_type": "markdown",
   "id": "8b97560f",
   "metadata": {},
   "source": [
    "## Loading Data"
   ]
  },
  {
   "cell_type": "code",
   "execution_count": null,
   "id": "9aa460b8",
   "metadata": {},
   "outputs": [],
   "source": [
    "# Reconstruct training data\n",
    "folder = 'data/train/'\n",
    "datafile = folder+'train_data.csv'\n",
    "data_preprocess.merge_csv(folder, datafile)\n",
    "\n",
    "# Reconstruct Test data\n",
    "folder = 'data/test/'\n",
    "datafile = folder+'test_data.csv'\n",
    "data_preprocess.merge_csv(folder, datafile)"
   ]
  },
  {
   "cell_type": "markdown",
   "metadata": {},
   "source": [
    "### Training Data"
   ]
  },
  {
   "cell_type": "code",
   "execution_count": 37,
   "id": "da459a43",
   "metadata": {},
   "outputs": [],
   "source": [
    "train = pd.read_csv(\"data/train/train_data.csv\", encoding=\"utf8\")\n",
    "\n",
    "\n",
    "target = pd.read_csv(\"data/train/train_target.csv\")\n",
    "#target.head()"
   ]
  },
  {
   "cell_type": "code",
   "execution_count": 38,
   "id": "4ceabed9",
   "metadata": {},
   "outputs": [
    {
     "data": {
      "text/html": [
       "<div>\n",
       "<style scoped>\n",
       "    .dataframe tbody tr th:only-of-type {\n",
       "        vertical-align: middle;\n",
       "    }\n",
       "\n",
       "    .dataframe tbody tr th {\n",
       "        vertical-align: top;\n",
       "    }\n",
       "\n",
       "    .dataframe thead th {\n",
       "        text-align: right;\n",
       "    }\n",
       "</style>\n",
       "<table border=\"1\" class=\"dataframe\">\n",
       "  <thead>\n",
       "    <tr style=\"text-align: right;\">\n",
       "      <th></th>\n",
       "      <th>author</th>\n",
       "      <th>subreddit</th>\n",
       "      <th>created_utc</th>\n",
       "      <th>body</th>\n",
       "    </tr>\n",
       "  </thead>\n",
       "  <tbody>\n",
       "    <tr>\n",
       "      <th>0</th>\n",
       "      <td>Shamus_Aran</td>\n",
       "      <td>mylittlepony</td>\n",
       "      <td>1.388534e+09</td>\n",
       "      <td>I don't think we'd get nearly as much fanficti...</td>\n",
       "    </tr>\n",
       "    <tr>\n",
       "      <th>1</th>\n",
       "      <td>Riddance</td>\n",
       "      <td>sex</td>\n",
       "      <td>1.388534e+09</td>\n",
       "      <td>Thanks. I made it up, that's how I got over my...</td>\n",
       "    </tr>\n",
       "    <tr>\n",
       "      <th>2</th>\n",
       "      <td>Secret_Wizard</td>\n",
       "      <td>DragonsDogma</td>\n",
       "      <td>1.388534e+09</td>\n",
       "      <td>Are you sure you aren't confusing Cyclops (the...</td>\n",
       "    </tr>\n",
       "    <tr>\n",
       "      <th>3</th>\n",
       "      <td>Penultimatum</td>\n",
       "      <td>malefashionadvice</td>\n",
       "      <td>1.388534e+09</td>\n",
       "      <td>dont do this to me bro</td>\n",
       "    </tr>\n",
       "    <tr>\n",
       "      <th>4</th>\n",
       "      <td>7-SE7EN-7</td>\n",
       "      <td>todayilearned</td>\n",
       "      <td>1.388534e+09</td>\n",
       "      <td>That's what we do when we can't find a mate</td>\n",
       "    </tr>\n",
       "  </tbody>\n",
       "</table>\n",
       "</div>"
      ],
      "text/plain": [
       "          author          subreddit   created_utc  \\\n",
       "0    Shamus_Aran       mylittlepony  1.388534e+09   \n",
       "1       Riddance                sex  1.388534e+09   \n",
       "2  Secret_Wizard       DragonsDogma  1.388534e+09   \n",
       "3   Penultimatum  malefashionadvice  1.388534e+09   \n",
       "4      7-SE7EN-7      todayilearned  1.388534e+09   \n",
       "\n",
       "                                                body  \n",
       "0  I don't think we'd get nearly as much fanficti...  \n",
       "1  Thanks. I made it up, that's how I got over my...  \n",
       "2  Are you sure you aren't confusing Cyclops (the...  \n",
       "3                             dont do this to me bro  \n",
       "4        That's what we do when we can't find a mate  "
      ]
     },
     "execution_count": 38,
     "metadata": {},
     "output_type": "execute_result"
    }
   ],
   "source": [
    "train.head()"
   ]
  },
  {
   "cell_type": "code",
   "execution_count": 39,
   "id": "d1a26b8d",
   "metadata": {},
   "outputs": [
    {
     "data": {
      "text/html": [
       "<div>\n",
       "<style scoped>\n",
       "    .dataframe tbody tr th:only-of-type {\n",
       "        vertical-align: middle;\n",
       "    }\n",
       "\n",
       "    .dataframe tbody tr th {\n",
       "        vertical-align: top;\n",
       "    }\n",
       "\n",
       "    .dataframe thead th {\n",
       "        text-align: right;\n",
       "    }\n",
       "</style>\n",
       "<table border=\"1\" class=\"dataframe\">\n",
       "  <thead>\n",
       "    <tr style=\"text-align: right;\">\n",
       "      <th></th>\n",
       "      <th>author</th>\n",
       "      <th>gender</th>\n",
       "    </tr>\n",
       "  </thead>\n",
       "  <tbody>\n",
       "    <tr>\n",
       "      <th>0</th>\n",
       "      <td>RedThunder90</td>\n",
       "      <td>0</td>\n",
       "    </tr>\n",
       "    <tr>\n",
       "      <th>1</th>\n",
       "      <td>Lirkmor</td>\n",
       "      <td>1</td>\n",
       "    </tr>\n",
       "    <tr>\n",
       "      <th>2</th>\n",
       "      <td>In0chi</td>\n",
       "      <td>0</td>\n",
       "    </tr>\n",
       "    <tr>\n",
       "      <th>3</th>\n",
       "      <td>ProjectGrudge</td>\n",
       "      <td>0</td>\n",
       "    </tr>\n",
       "    <tr>\n",
       "      <th>4</th>\n",
       "      <td>TehTurtleHermit</td>\n",
       "      <td>0</td>\n",
       "    </tr>\n",
       "  </tbody>\n",
       "</table>\n",
       "</div>"
      ],
      "text/plain": [
       "            author  gender\n",
       "0     RedThunder90       0\n",
       "1          Lirkmor       1\n",
       "2           In0chi       0\n",
       "3    ProjectGrudge       0\n",
       "4  TehTurtleHermit       0"
      ]
     },
     "execution_count": 39,
     "metadata": {},
     "output_type": "execute_result"
    }
   ],
   "source": [
    "target.head()"
   ]
  },
  {
   "cell_type": "markdown",
   "id": "e6dd6380",
   "metadata": {},
   "source": [
    "How many rows does the training set have"
   ]
  },
  {
   "cell_type": "code",
   "execution_count": 40,
   "id": "ec596964",
   "metadata": {},
   "outputs": [
    {
     "data": {
      "text/plain": [
       "296042"
      ]
     },
     "execution_count": 40,
     "metadata": {},
     "output_type": "execute_result"
    }
   ],
   "source": [
    "train.shape[0]"
   ]
  },
  {
   "cell_type": "code",
   "execution_count": 41,
   "id": "60704c75",
   "metadata": {},
   "outputs": [
    {
     "data": {
      "text/plain": [
       "5000"
      ]
     },
     "execution_count": 41,
     "metadata": {},
     "output_type": "execute_result"
    }
   ],
   "source": [
    "target.shape[0]"
   ]
  },
  {
   "cell_type": "markdown",
   "id": "44c44841",
   "metadata": {},
   "source": [
    "Checking if there are more comments from the same people"
   ]
  },
  {
   "cell_type": "code",
   "execution_count": 42,
   "id": "512808df",
   "metadata": {},
   "outputs": [
    {
     "data": {
      "text/plain": [
       "<AxesSubplot:xlabel='author'>"
      ]
     },
     "execution_count": 42,
     "metadata": {},
     "output_type": "execute_result"
    },
    {
     "data": {
      "image/png": "[encoded data removed]",
      "text/plain": [
       "<Figure size 432x288 with 1 Axes>"
      ]
     },
     "metadata": {
      "needs_background": "light"
     },
     "output_type": "display_data"
    }
   ],
   "source": [
    "train.groupby('author').count().plot()\n",
    "\n",
    "\n"
   ]
  },
  {
   "cell_type": "markdown",
   "id": "59d0ec5b",
   "metadata": {},
   "source": [
    "Checking how many different users wrote comments"
   ]
  },
  {
   "cell_type": "code",
   "execution_count": 43,
   "id": "72e7e92c",
   "metadata": {},
   "outputs": [
    {
     "data": {
      "text/plain": [
       "(5000,)"
      ]
     },
     "execution_count": 43,
     "metadata": {},
     "output_type": "execute_result"
    }
   ],
   "source": [
    "train['author'].unique().shape"
   ]
  },
  {
   "cell_type": "markdown",
   "id": "11e730b3",
   "metadata": {},
   "source": [
    "One user is ubiquitous, in order to remove bias in the model that user's posts are reduced to the mean value of the comments per user"
   ]
  },
  {
   "cell_type": "code",
   "execution_count": 44,
   "id": "e83ef517",
   "metadata": {},
   "outputs": [
    {
     "data": {
      "text/html": [
       "<div>\n",
       "<style scoped>\n",
       "    .dataframe tbody tr th:only-of-type {\n",
       "        vertical-align: middle;\n",
       "    }\n",
       "\n",
       "    .dataframe tbody tr th {\n",
       "        vertical-align: top;\n",
       "    }\n",
       "\n",
       "    .dataframe thead th {\n",
       "        text-align: right;\n",
       "    }\n",
       "</style>\n",
       "<table border=\"1\" class=\"dataframe\">\n",
       "  <thead>\n",
       "    <tr style=\"text-align: right;\">\n",
       "      <th></th>\n",
       "      <th>subreddit</th>\n",
       "      <th>created_utc</th>\n",
       "      <th>body</th>\n",
       "    </tr>\n",
       "  </thead>\n",
       "  <tbody>\n",
       "    <tr>\n",
       "      <th>count</th>\n",
       "      <td>5000.000000</td>\n",
       "      <td>5000.000000</td>\n",
       "      <td>5000.000000</td>\n",
       "    </tr>\n",
       "    <tr>\n",
       "      <th>mean</th>\n",
       "      <td>59.208400</td>\n",
       "      <td>59.208400</td>\n",
       "      <td>59.208400</td>\n",
       "    </tr>\n",
       "    <tr>\n",
       "      <th>std</th>\n",
       "      <td>298.134567</td>\n",
       "      <td>298.134567</td>\n",
       "      <td>298.134567</td>\n",
       "    </tr>\n",
       "    <tr>\n",
       "      <th>min</th>\n",
       "      <td>1.000000</td>\n",
       "      <td>1.000000</td>\n",
       "      <td>1.000000</td>\n",
       "    </tr>\n",
       "    <tr>\n",
       "      <th>25%</th>\n",
       "      <td>5.000000</td>\n",
       "      <td>5.000000</td>\n",
       "      <td>5.000000</td>\n",
       "    </tr>\n",
       "    <tr>\n",
       "      <th>50%</th>\n",
       "      <td>16.000000</td>\n",
       "      <td>16.000000</td>\n",
       "      <td>16.000000</td>\n",
       "    </tr>\n",
       "    <tr>\n",
       "      <th>75%</th>\n",
       "      <td>54.000000</td>\n",
       "      <td>54.000000</td>\n",
       "      <td>54.000000</td>\n",
       "    </tr>\n",
       "    <tr>\n",
       "      <th>max</th>\n",
       "      <td>19534.000000</td>\n",
       "      <td>19534.000000</td>\n",
       "      <td>19534.000000</td>\n",
       "    </tr>\n",
       "  </tbody>\n",
       "</table>\n",
       "</div>"
      ],
      "text/plain": [
       "          subreddit   created_utc          body\n",
       "count   5000.000000   5000.000000   5000.000000\n",
       "mean      59.208400     59.208400     59.208400\n",
       "std      298.134567    298.134567    298.134567\n",
       "min        1.000000      1.000000      1.000000\n",
       "25%        5.000000      5.000000      5.000000\n",
       "50%       16.000000     16.000000     16.000000\n",
       "75%       54.000000     54.000000     54.000000\n",
       "max    19534.000000  19534.000000  19534.000000"
      ]
     },
     "execution_count": 44,
     "metadata": {},
     "output_type": "execute_result"
    }
   ],
   "source": [
    "train.groupby('author').count().describe()\n"
   ]
  },
  {
   "cell_type": "markdown",
   "id": "c4228b98",
   "metadata": {},
   "source": [
    "Adding a count column, initialized at 1 for each row"
   ]
  },
  {
   "cell_type": "code",
   "execution_count": 45,
   "id": "28f9b65a",
   "metadata": {},
   "outputs": [
    {
     "data": {
      "text/html": [
       "<div>\n",
       "<style scoped>\n",
       "    .dataframe tbody tr th:only-of-type {\n",
       "        vertical-align: middle;\n",
       "    }\n",
       "\n",
       "    .dataframe tbody tr th {\n",
       "        vertical-align: top;\n",
       "    }\n",
       "\n",
       "    .dataframe thead th {\n",
       "        text-align: right;\n",
       "    }\n",
       "</style>\n",
       "<table border=\"1\" class=\"dataframe\">\n",
       "  <thead>\n",
       "    <tr style=\"text-align: right;\">\n",
       "      <th></th>\n",
       "      <th>author</th>\n",
       "      <th>subreddit</th>\n",
       "      <th>created_utc</th>\n",
       "      <th>body</th>\n",
       "      <th>count</th>\n",
       "    </tr>\n",
       "  </thead>\n",
       "  <tbody>\n",
       "    <tr>\n",
       "      <th>0</th>\n",
       "      <td>Shamus_Aran</td>\n",
       "      <td>mylittlepony</td>\n",
       "      <td>1.388534e+09</td>\n",
       "      <td>I don't think we'd get nearly as much fanficti...</td>\n",
       "      <td>1</td>\n",
       "    </tr>\n",
       "    <tr>\n",
       "      <th>1</th>\n",
       "      <td>Riddance</td>\n",
       "      <td>sex</td>\n",
       "      <td>1.388534e+09</td>\n",
       "      <td>Thanks. I made it up, that's how I got over my...</td>\n",
       "      <td>1</td>\n",
       "    </tr>\n",
       "    <tr>\n",
       "      <th>2</th>\n",
       "      <td>Secret_Wizard</td>\n",
       "      <td>DragonsDogma</td>\n",
       "      <td>1.388534e+09</td>\n",
       "      <td>Are you sure you aren't confusing Cyclops (the...</td>\n",
       "      <td>1</td>\n",
       "    </tr>\n",
       "    <tr>\n",
       "      <th>3</th>\n",
       "      <td>Penultimatum</td>\n",
       "      <td>malefashionadvice</td>\n",
       "      <td>1.388534e+09</td>\n",
       "      <td>dont do this to me bro</td>\n",
       "      <td>1</td>\n",
       "    </tr>\n",
       "    <tr>\n",
       "      <th>4</th>\n",
       "      <td>7-SE7EN-7</td>\n",
       "      <td>todayilearned</td>\n",
       "      <td>1.388534e+09</td>\n",
       "      <td>That's what we do when we can't find a mate</td>\n",
       "      <td>1</td>\n",
       "    </tr>\n",
       "    <tr>\n",
       "      <th>...</th>\n",
       "      <td>...</td>\n",
       "      <td>...</td>\n",
       "      <td>...</td>\n",
       "      <td>...</td>\n",
       "      <td>...</td>\n",
       "    </tr>\n",
       "    <tr>\n",
       "      <th>296037</th>\n",
       "      <td>Tashre</td>\n",
       "      <td>FiftyFifty</td>\n",
       "      <td>1.391213e+09</td>\n",
       "      <td>I don't want to play this game anymore :(</td>\n",
       "      <td>1</td>\n",
       "    </tr>\n",
       "    <tr>\n",
       "      <th>296038</th>\n",
       "      <td>someguyfromtheuk</td>\n",
       "      <td>AskReddit</td>\n",
       "      <td>1.391213e+09</td>\n",
       "      <td>Twist: I am your son and staged all of this to...</td>\n",
       "      <td>1</td>\n",
       "    </tr>\n",
       "    <tr>\n",
       "      <th>296039</th>\n",
       "      <td>spurscanada</td>\n",
       "      <td>HIMYM</td>\n",
       "      <td>1.391213e+09</td>\n",
       "      <td>I think a lot of people don't like her because...</td>\n",
       "      <td>1</td>\n",
       "    </tr>\n",
       "    <tr>\n",
       "      <th>296040</th>\n",
       "      <td>SPAZZEH</td>\n",
       "      <td>politics</td>\n",
       "      <td>1.391213e+09</td>\n",
       "      <td>And the Tea Party must be having strokes right...</td>\n",
       "      <td>1</td>\n",
       "    </tr>\n",
       "    <tr>\n",
       "      <th>296041</th>\n",
       "      <td>whslaxattack</td>\n",
       "      <td>WorldofTanks</td>\n",
       "      <td>1.391213e+09</td>\n",
       "      <td>It has a huge ROF boost, so it is pretty much ...</td>\n",
       "      <td>1</td>\n",
       "    </tr>\n",
       "  </tbody>\n",
       "</table>\n",
       "<p>296042 rows × 5 columns</p>\n",
       "</div>"
      ],
      "text/plain": [
       "                  author          subreddit   created_utc  \\\n",
       "0            Shamus_Aran       mylittlepony  1.388534e+09   \n",
       "1               Riddance                sex  1.388534e+09   \n",
       "2          Secret_Wizard       DragonsDogma  1.388534e+09   \n",
       "3           Penultimatum  malefashionadvice  1.388534e+09   \n",
       "4              7-SE7EN-7      todayilearned  1.388534e+09   \n",
       "...                  ...                ...           ...   \n",
       "296037            Tashre         FiftyFifty  1.391213e+09   \n",
       "296038  someguyfromtheuk          AskReddit  1.391213e+09   \n",
       "296039       spurscanada              HIMYM  1.391213e+09   \n",
       "296040           SPAZZEH           politics  1.391213e+09   \n",
       "296041      whslaxattack       WorldofTanks  1.391213e+09   \n",
       "\n",
       "                                                     body  count  \n",
       "0       I don't think we'd get nearly as much fanficti...      1  \n",
       "1       Thanks. I made it up, that's how I got over my...      1  \n",
       "2       Are you sure you aren't confusing Cyclops (the...      1  \n",
       "3                                  dont do this to me bro      1  \n",
       "4             That's what we do when we can't find a mate      1  \n",
       "...                                                   ...    ...  \n",
       "296037          I don't want to play this game anymore :(      1  \n",
       "296038  Twist: I am your son and staged all of this to...      1  \n",
       "296039  I think a lot of people don't like her because...      1  \n",
       "296040  And the Tea Party must be having strokes right...      1  \n",
       "296041  It has a huge ROF boost, so it is pretty much ...      1  \n",
       "\n",
       "[296042 rows x 5 columns]"
      ]
     },
     "execution_count": 45,
     "metadata": {},
     "output_type": "execute_result"
    }
   ],
   "source": [
    "train['count'] = 1\n",
    "train"
   ]
  },
  {
   "cell_type": "markdown",
   "id": "900a305e",
   "metadata": {},
   "source": [
    "Selecting the outlier by grouping by author and filtering for message count over 1k. Only one user has such a high message counter --> morbiusgreen"
   ]
  },
  {
   "cell_type": "code",
   "execution_count": 46,
   "id": "c18a3163",
   "metadata": {},
   "outputs": [
    {
     "data": {
      "text/plain": [
       "array(['morbiusgreen'], dtype=object)"
      ]
     },
     "execution_count": 46,
     "metadata": {},
     "output_type": "execute_result"
    }
   ],
   "source": [
    "train_outlier = train.groupby('author').filter(lambda x: len(x) > 10000)\n",
    "train_outlier['author'].unique()"
   ]
  },
  {
   "cell_type": "markdown",
   "id": "d337284d",
   "metadata": {},
   "source": [
    "Creating a table without the outlier, in order to understand what is the real mean number of messages per user. In this way, data from the outlier can be still used without completely dropping it, but normalizing it to the other inputs."
   ]
  },
  {
   "cell_type": "code",
   "execution_count": 47,
   "id": "f0d0bc37",
   "metadata": {},
   "outputs": [
    {
     "data": {
      "text/html": [
       "<div>\n",
       "<style scoped>\n",
       "    .dataframe tbody tr th:only-of-type {\n",
       "        vertical-align: middle;\n",
       "    }\n",
       "\n",
       "    .dataframe tbody tr th {\n",
       "        vertical-align: top;\n",
       "    }\n",
       "\n",
       "    .dataframe thead th {\n",
       "        text-align: right;\n",
       "    }\n",
       "</style>\n",
       "<table border=\"1\" class=\"dataframe\">\n",
       "  <thead>\n",
       "    <tr style=\"text-align: right;\">\n",
       "      <th></th>\n",
       "      <th>subreddit</th>\n",
       "      <th>created_utc</th>\n",
       "      <th>body</th>\n",
       "      <th>count</th>\n",
       "    </tr>\n",
       "  </thead>\n",
       "  <tbody>\n",
       "    <tr>\n",
       "      <th>count</th>\n",
       "      <td>4999.000000</td>\n",
       "      <td>4999.000000</td>\n",
       "      <td>4999.000000</td>\n",
       "      <td>4999.000000</td>\n",
       "    </tr>\n",
       "    <tr>\n",
       "      <th>mean</th>\n",
       "      <td>55.312663</td>\n",
       "      <td>55.312663</td>\n",
       "      <td>55.312663</td>\n",
       "      <td>55.312663</td>\n",
       "    </tr>\n",
       "    <tr>\n",
       "      <th>std</th>\n",
       "      <td>114.030563</td>\n",
       "      <td>114.030563</td>\n",
       "      <td>114.030563</td>\n",
       "      <td>114.030563</td>\n",
       "    </tr>\n",
       "    <tr>\n",
       "      <th>min</th>\n",
       "      <td>1.000000</td>\n",
       "      <td>1.000000</td>\n",
       "      <td>1.000000</td>\n",
       "      <td>1.000000</td>\n",
       "    </tr>\n",
       "    <tr>\n",
       "      <th>25%</th>\n",
       "      <td>5.000000</td>\n",
       "      <td>5.000000</td>\n",
       "      <td>5.000000</td>\n",
       "      <td>5.000000</td>\n",
       "    </tr>\n",
       "    <tr>\n",
       "      <th>50%</th>\n",
       "      <td>16.000000</td>\n",
       "      <td>16.000000</td>\n",
       "      <td>16.000000</td>\n",
       "      <td>16.000000</td>\n",
       "    </tr>\n",
       "    <tr>\n",
       "      <th>75%</th>\n",
       "      <td>54.000000</td>\n",
       "      <td>54.000000</td>\n",
       "      <td>54.000000</td>\n",
       "      <td>54.000000</td>\n",
       "    </tr>\n",
       "    <tr>\n",
       "      <th>max</th>\n",
       "      <td>1524.000000</td>\n",
       "      <td>1524.000000</td>\n",
       "      <td>1524.000000</td>\n",
       "      <td>1524.000000</td>\n",
       "    </tr>\n",
       "  </tbody>\n",
       "</table>\n",
       "</div>"
      ],
      "text/plain": [
       "         subreddit  created_utc         body        count\n",
       "count  4999.000000  4999.000000  4999.000000  4999.000000\n",
       "mean     55.312663    55.312663    55.312663    55.312663\n",
       "std     114.030563   114.030563   114.030563   114.030563\n",
       "min       1.000000     1.000000     1.000000     1.000000\n",
       "25%       5.000000     5.000000     5.000000     5.000000\n",
       "50%      16.000000    16.000000    16.000000    16.000000\n",
       "75%      54.000000    54.000000    54.000000    54.000000\n",
       "max    1524.000000  1524.000000  1524.000000  1524.000000"
      ]
     },
     "execution_count": 47,
     "metadata": {},
     "output_type": "execute_result"
    }
   ],
   "source": [
    "#Dropping from train table the rows with author \"morbiusgreen\". Drop requires index of these rows, so index is provided\n",
    "train_aux = train.drop(train[train.author == 'morbiusgreen'].index)\n",
    "train_aux.groupby('author').count().describe()"
   ]
  },
  {
   "cell_type": "markdown",
   "id": "d9ade6dc",
   "metadata": {},
   "source": [
    "Morbiusgreen is the outlier with a huge number of posts. Let's remove some of the posts and leave about the mean value of posts per user for Morbiusgreen. \n",
    "\n",
    "Selecting what percentage of messages from outlier to keep (0.2%)."
   ]
  },
  {
   "cell_type": "code",
   "execution_count": 48,
   "id": "9ed09c2c",
   "metadata": {},
   "outputs": [
    {
     "data": {
      "text/plain": [
       "0.002815603563018327"
      ]
     },
     "execution_count": 48,
     "metadata": {},
     "output_type": "execute_result"
    }
   ],
   "source": [
    "perc = 55/19534\n",
    "perc\n",
    "\n",
    "\n"
   ]
  },
  {
   "cell_type": "markdown",
   "id": "ce0147d5",
   "metadata": {},
   "source": [
    "Keeping the 0.2% of messages from outlier and dropping all the other $1-perc$ messages"
   ]
  },
  {
   "cell_type": "code",
   "execution_count": 49,
   "id": "6ad9aa23",
   "metadata": {
    "scrolled": true
   },
   "outputs": [
    {
     "data": {
      "text/html": [
       "<div>\n",
       "<style scoped>\n",
       "    .dataframe tbody tr th:only-of-type {\n",
       "        vertical-align: middle;\n",
       "    }\n",
       "\n",
       "    .dataframe tbody tr th {\n",
       "        vertical-align: top;\n",
       "    }\n",
       "\n",
       "    .dataframe thead th {\n",
       "        text-align: right;\n",
       "    }\n",
       "</style>\n",
       "<table border=\"1\" class=\"dataframe\">\n",
       "  <thead>\n",
       "    <tr style=\"text-align: right;\">\n",
       "      <th></th>\n",
       "      <th>author</th>\n",
       "      <th>subreddit</th>\n",
       "      <th>created_utc</th>\n",
       "      <th>body</th>\n",
       "      <th>count</th>\n",
       "    </tr>\n",
       "  </thead>\n",
       "  <tbody>\n",
       "    <tr>\n",
       "      <th>0</th>\n",
       "      <td>Shamus_Aran</td>\n",
       "      <td>mylittlepony</td>\n",
       "      <td>1.388534e+09</td>\n",
       "      <td>I don't think we'd get nearly as much fanficti...</td>\n",
       "      <td>1</td>\n",
       "    </tr>\n",
       "    <tr>\n",
       "      <th>1</th>\n",
       "      <td>Riddance</td>\n",
       "      <td>sex</td>\n",
       "      <td>1.388534e+09</td>\n",
       "      <td>Thanks. I made it up, that's how I got over my...</td>\n",
       "      <td>1</td>\n",
       "    </tr>\n",
       "    <tr>\n",
       "      <th>2</th>\n",
       "      <td>Secret_Wizard</td>\n",
       "      <td>DragonsDogma</td>\n",
       "      <td>1.388534e+09</td>\n",
       "      <td>Are you sure you aren't confusing Cyclops (the...</td>\n",
       "      <td>1</td>\n",
       "    </tr>\n",
       "    <tr>\n",
       "      <th>3</th>\n",
       "      <td>Penultimatum</td>\n",
       "      <td>malefashionadvice</td>\n",
       "      <td>1.388534e+09</td>\n",
       "      <td>dont do this to me bro</td>\n",
       "      <td>1</td>\n",
       "    </tr>\n",
       "    <tr>\n",
       "      <th>4</th>\n",
       "      <td>7-SE7EN-7</td>\n",
       "      <td>todayilearned</td>\n",
       "      <td>1.388534e+09</td>\n",
       "      <td>That's what we do when we can't find a mate</td>\n",
       "      <td>1</td>\n",
       "    </tr>\n",
       "    <tr>\n",
       "      <th>...</th>\n",
       "      <td>...</td>\n",
       "      <td>...</td>\n",
       "      <td>...</td>\n",
       "      <td>...</td>\n",
       "      <td>...</td>\n",
       "    </tr>\n",
       "    <tr>\n",
       "      <th>296037</th>\n",
       "      <td>Tashre</td>\n",
       "      <td>FiftyFifty</td>\n",
       "      <td>1.391213e+09</td>\n",
       "      <td>I don't want to play this game anymore :(</td>\n",
       "      <td>1</td>\n",
       "    </tr>\n",
       "    <tr>\n",
       "      <th>296038</th>\n",
       "      <td>someguyfromtheuk</td>\n",
       "      <td>AskReddit</td>\n",
       "      <td>1.391213e+09</td>\n",
       "      <td>Twist: I am your son and staged all of this to...</td>\n",
       "      <td>1</td>\n",
       "    </tr>\n",
       "    <tr>\n",
       "      <th>296039</th>\n",
       "      <td>spurscanada</td>\n",
       "      <td>HIMYM</td>\n",
       "      <td>1.391213e+09</td>\n",
       "      <td>I think a lot of people don't like her because...</td>\n",
       "      <td>1</td>\n",
       "    </tr>\n",
       "    <tr>\n",
       "      <th>296040</th>\n",
       "      <td>SPAZZEH</td>\n",
       "      <td>politics</td>\n",
       "      <td>1.391213e+09</td>\n",
       "      <td>And the Tea Party must be having strokes right...</td>\n",
       "      <td>1</td>\n",
       "    </tr>\n",
       "    <tr>\n",
       "      <th>296041</th>\n",
       "      <td>whslaxattack</td>\n",
       "      <td>WorldofTanks</td>\n",
       "      <td>1.391213e+09</td>\n",
       "      <td>It has a huge ROF boost, so it is pretty much ...</td>\n",
       "      <td>1</td>\n",
       "    </tr>\n",
       "  </tbody>\n",
       "</table>\n",
       "<p>276563 rows × 5 columns</p>\n",
       "</div>"
      ],
      "text/plain": [
       "                  author          subreddit   created_utc  \\\n",
       "0            Shamus_Aran       mylittlepony  1.388534e+09   \n",
       "1               Riddance                sex  1.388534e+09   \n",
       "2          Secret_Wizard       DragonsDogma  1.388534e+09   \n",
       "3           Penultimatum  malefashionadvice  1.388534e+09   \n",
       "4              7-SE7EN-7      todayilearned  1.388534e+09   \n",
       "...                  ...                ...           ...   \n",
       "296037            Tashre         FiftyFifty  1.391213e+09   \n",
       "296038  someguyfromtheuk          AskReddit  1.391213e+09   \n",
       "296039       spurscanada              HIMYM  1.391213e+09   \n",
       "296040           SPAZZEH           politics  1.391213e+09   \n",
       "296041      whslaxattack       WorldofTanks  1.391213e+09   \n",
       "\n",
       "                                                     body  count  \n",
       "0       I don't think we'd get nearly as much fanficti...      1  \n",
       "1       Thanks. I made it up, that's how I got over my...      1  \n",
       "2       Are you sure you aren't confusing Cyclops (the...      1  \n",
       "3                                  dont do this to me bro      1  \n",
       "4             That's what we do when we can't find a mate      1  \n",
       "...                                                   ...    ...  \n",
       "296037          I don't want to play this game anymore :(      1  \n",
       "296038  Twist: I am your son and staged all of this to...      1  \n",
       "296039  I think a lot of people don't like her because...      1  \n",
       "296040  And the Tea Party must be having strokes right...      1  \n",
       "296041  It has a huge ROF boost, so it is pretty much ...      1  \n",
       "\n",
       "[276563 rows x 5 columns]"
      ]
     },
     "execution_count": 49,
     "metadata": {},
     "output_type": "execute_result"
    }
   ],
   "source": [
    "train = train.drop(train[train.author == 'morbiusgreen'].sample(frac = 1 - perc).index)\n",
    "\n",
    "train"
   ]
  },
  {
   "cell_type": "markdown",
   "id": "dfaa989d",
   "metadata": {},
   "source": [
    "### Test Data"
   ]
  },
  {
   "cell_type": "markdown",
   "id": "d9ee9834",
   "metadata": {},
   "source": [
    "Loading test data"
   ]
  },
  {
   "cell_type": "code",
   "execution_count": 50,
   "id": "57f87f93",
   "metadata": {},
   "outputs": [
    {
     "data": {
      "text/html": [
       "<div>\n",
       "<style scoped>\n",
       "    .dataframe tbody tr th:only-of-type {\n",
       "        vertical-align: middle;\n",
       "    }\n",
       "\n",
       "    .dataframe tbody tr th {\n",
       "        vertical-align: top;\n",
       "    }\n",
       "\n",
       "    .dataframe thead th {\n",
       "        text-align: right;\n",
       "    }\n",
       "</style>\n",
       "<table border=\"1\" class=\"dataframe\">\n",
       "  <thead>\n",
       "    <tr style=\"text-align: right;\">\n",
       "      <th></th>\n",
       "      <th>author</th>\n",
       "      <th>subreddit</th>\n",
       "      <th>created_utc</th>\n",
       "      <th>body</th>\n",
       "    </tr>\n",
       "  </thead>\n",
       "  <tbody>\n",
       "    <tr>\n",
       "      <th>0</th>\n",
       "      <td>ejchristian86</td>\n",
       "      <td>TwoXChromosomes</td>\n",
       "      <td>1.388534e+09</td>\n",
       "      <td>I hadn't ever heard of them before joining thi...</td>\n",
       "    </tr>\n",
       "    <tr>\n",
       "      <th>1</th>\n",
       "      <td>ZenDragon</td>\n",
       "      <td>gaming</td>\n",
       "      <td>1.388534e+09</td>\n",
       "      <td>At 7680 by 4320 with 64x AA, right?</td>\n",
       "    </tr>\n",
       "    <tr>\n",
       "      <th>2</th>\n",
       "      <td>savoytruffle</td>\n",
       "      <td>AskReddit</td>\n",
       "      <td>1.388534e+09</td>\n",
       "      <td>bite me</td>\n",
       "    </tr>\n",
       "    <tr>\n",
       "      <th>3</th>\n",
       "      <td>hentercenter</td>\n",
       "      <td>stlouisblues</td>\n",
       "      <td>1.388534e+09</td>\n",
       "      <td>Damn that was a good penalty :(</td>\n",
       "    </tr>\n",
       "    <tr>\n",
       "      <th>4</th>\n",
       "      <td>rick-o-suave</td>\n",
       "      <td>army</td>\n",
       "      <td>1.388534e+09</td>\n",
       "      <td>I swore into DEP on 6-OCT and I left 5-NOV und...</td>\n",
       "    </tr>\n",
       "  </tbody>\n",
       "</table>\n",
       "</div>"
      ],
      "text/plain": [
       "          author        subreddit   created_utc  \\\n",
       "0  ejchristian86  TwoXChromosomes  1.388534e+09   \n",
       "1      ZenDragon           gaming  1.388534e+09   \n",
       "2   savoytruffle        AskReddit  1.388534e+09   \n",
       "3   hentercenter     stlouisblues  1.388534e+09   \n",
       "4   rick-o-suave             army  1.388534e+09   \n",
       "\n",
       "                                                body  \n",
       "0  I hadn't ever heard of them before joining thi...  \n",
       "1                At 7680 by 4320 with 64x AA, right?  \n",
       "2                                            bite me  \n",
       "3                    Damn that was a good penalty :(  \n",
       "4  I swore into DEP on 6-OCT and I left 5-NOV und...  "
      ]
     },
     "execution_count": 50,
     "metadata": {},
     "output_type": "execute_result"
    }
   ],
   "source": [
    "test = pd.read_csv(\"data/test/test_data.csv\", encoding=\"utf8\")\n",
    "test.head()"
   ]
  },
  {
   "cell_type": "code",
   "execution_count": 51,
   "id": "2e66f595",
   "metadata": {},
   "outputs": [
    {
     "data": {
      "text/plain": [
       "1107946"
      ]
     },
     "execution_count": 51,
     "metadata": {},
     "output_type": "execute_result"
    }
   ],
   "source": [
    "test.shape[0]"
   ]
  },
  {
   "cell_type": "code",
   "execution_count": 52,
   "id": "31b7d382",
   "metadata": {},
   "outputs": [
    {
     "data": {
      "text/html": [
       "<div>\n",
       "<style scoped>\n",
       "    .dataframe tbody tr th:only-of-type {\n",
       "        vertical-align: middle;\n",
       "    }\n",
       "\n",
       "    .dataframe tbody tr th {\n",
       "        vertical-align: top;\n",
       "    }\n",
       "\n",
       "    .dataframe thead th {\n",
       "        text-align: right;\n",
       "    }\n",
       "</style>\n",
       "<table border=\"1\" class=\"dataframe\">\n",
       "  <thead>\n",
       "    <tr style=\"text-align: right;\">\n",
       "      <th></th>\n",
       "      <th>author</th>\n",
       "      <th>subreddit</th>\n",
       "      <th>created_utc</th>\n",
       "      <th>body</th>\n",
       "    </tr>\n",
       "  </thead>\n",
       "  <tbody>\n",
       "    <tr>\n",
       "      <th>1</th>\n",
       "      <td>ZenDragon</td>\n",
       "      <td>gaming</td>\n",
       "      <td>1.388534e+09</td>\n",
       "      <td>At 7680 by 4320 with 64x AA, right?</td>\n",
       "    </tr>\n",
       "    <tr>\n",
       "      <th>27836</th>\n",
       "      <td>ZenDragon</td>\n",
       "      <td>explainlikeimfive</td>\n",
       "      <td>1.388638e+09</td>\n",
       "      <td>Wrong subreddit for this kind of post, but /r/...</td>\n",
       "    </tr>\n",
       "    <tr>\n",
       "      <th>29348</th>\n",
       "      <td>ZenDragon</td>\n",
       "      <td>Nexus7</td>\n",
       "      <td>1.388642e+09</td>\n",
       "      <td>This is something GravityBox can do. (a module...</td>\n",
       "    </tr>\n",
       "    <tr>\n",
       "      <th>55061</th>\n",
       "      <td>ZenDragon</td>\n",
       "      <td>WTF</td>\n",
       "      <td>1.388722e+09</td>\n",
       "      <td>Why is the enclosure even designed like that? ...</td>\n",
       "    </tr>\n",
       "    <tr>\n",
       "      <th>90435</th>\n",
       "      <td>ZenDragon</td>\n",
       "      <td>gadgets</td>\n",
       "      <td>1.388845e+09</td>\n",
       "      <td>**Especially** blue ones. They don't instantly...</td>\n",
       "    </tr>\n",
       "    <tr>\n",
       "      <th>...</th>\n",
       "      <td>...</td>\n",
       "      <td>...</td>\n",
       "      <td>...</td>\n",
       "      <td>...</td>\n",
       "    </tr>\n",
       "    <tr>\n",
       "      <th>1065115</th>\n",
       "      <td>ZenDragon</td>\n",
       "      <td>AskReddit</td>\n",
       "      <td>1.391093e+09</td>\n",
       "      <td>I ran into my two exes, Alex and Sarah at Swis...</td>\n",
       "    </tr>\n",
       "    <tr>\n",
       "      <th>1080476</th>\n",
       "      <td>ZenDragon</td>\n",
       "      <td>KerbalSpaceProgram</td>\n",
       "      <td>1.391128e+09</td>\n",
       "      <td>Does a spacecraft piloted by a cat always land...</td>\n",
       "    </tr>\n",
       "    <tr>\n",
       "      <th>1083575</th>\n",
       "      <td>ZenDragon</td>\n",
       "      <td>programming</td>\n",
       "      <td>1.391135e+09</td>\n",
       "      <td>Well, yeah... Lua follows old language standar...</td>\n",
       "    </tr>\n",
       "    <tr>\n",
       "      <th>1091883</th>\n",
       "      <td>ZenDragon</td>\n",
       "      <td>AskReddit</td>\n",
       "      <td>1.391169e+09</td>\n",
       "      <td>Jesus man I think ten seconds with a damp clot...</td>\n",
       "    </tr>\n",
       "    <tr>\n",
       "      <th>1092326</th>\n",
       "      <td>ZenDragon</td>\n",
       "      <td>minecraftsuggestions</td>\n",
       "      <td>1.391172e+09</td>\n",
       "      <td>That would get pretty messy as soon as player ...</td>\n",
       "    </tr>\n",
       "  </tbody>\n",
       "</table>\n",
       "<p>69 rows × 4 columns</p>\n",
       "</div>"
      ],
      "text/plain": [
       "            author             subreddit   created_utc  \\\n",
       "1        ZenDragon                gaming  1.388534e+09   \n",
       "27836    ZenDragon     explainlikeimfive  1.388638e+09   \n",
       "29348    ZenDragon                Nexus7  1.388642e+09   \n",
       "55061    ZenDragon                   WTF  1.388722e+09   \n",
       "90435    ZenDragon               gadgets  1.388845e+09   \n",
       "...            ...                   ...           ...   \n",
       "1065115  ZenDragon             AskReddit  1.391093e+09   \n",
       "1080476  ZenDragon    KerbalSpaceProgram  1.391128e+09   \n",
       "1083575  ZenDragon           programming  1.391135e+09   \n",
       "1091883  ZenDragon             AskReddit  1.391169e+09   \n",
       "1092326  ZenDragon  minecraftsuggestions  1.391172e+09   \n",
       "\n",
       "                                                      body  \n",
       "1                      At 7680 by 4320 with 64x AA, right?  \n",
       "27836    Wrong subreddit for this kind of post, but /r/...  \n",
       "29348    This is something GravityBox can do. (a module...  \n",
       "55061    Why is the enclosure even designed like that? ...  \n",
       "90435    **Especially** blue ones. They don't instantly...  \n",
       "...                                                    ...  \n",
       "1065115  I ran into my two exes, Alex and Sarah at Swis...  \n",
       "1080476  Does a spacecraft piloted by a cat always land...  \n",
       "1083575  Well, yeah... Lua follows old language standar...  \n",
       "1091883  Jesus man I think ten seconds with a damp clot...  \n",
       "1092326  That would get pretty messy as soon as player ...  \n",
       "\n",
       "[69 rows x 4 columns]"
      ]
     },
     "execution_count": 52,
     "metadata": {},
     "output_type": "execute_result"
    }
   ],
   "source": [
    "test[test.author=='ZenDragon']"
   ]
  },
  {
   "cell_type": "markdown",
   "id": "b8330587",
   "metadata": {},
   "source": [
    "# Feature Extraction"
   ]
  },
  {
   "cell_type": "markdown",
   "id": "e93707c3",
   "metadata": {},
   "source": [
    "## Reddit subforum"
   ]
  },
  {
   "cell_type": "markdown",
   "id": "3bcc585b",
   "metadata": {},
   "source": [
    "Mapping each subreddit to a numerical value"
   ]
  },
  {
   "cell_type": "code",
   "execution_count": null,
   "id": "ed5cecb1",
   "metadata": {},
   "outputs": [],
   "source": [
    "subreddits = train.subreddit.unique()\n",
    "subreddits_map = pd.Series(index=subreddits, data=arange(subreddits.shape[0]))\n",
    "\n",
    "subreddits_map"
   ]
  },
  {
   "cell_type": "code",
   "execution_count": null,
   "id": "8304eb39",
   "metadata": {},
   "outputs": [],
   "source": [
    "#One hot encoding for the subreddit\n",
    "\n",
    "from scipy import sparse\n",
    "def extract_features(group):\n",
    "    group_subreddits = group['subreddit']\n",
    "    group_subreddits = group_subreddits[group_subreddits.isin(subreddits_map.index)].values\n",
    "    idxs = subreddits_map.loc[group_subreddits].values\n",
    "    v = sparse.dok_matrix((1, subreddits.shape[0]))\n",
    "    for idx in idxs:\n",
    "        if not np.isnan(idx):\n",
    "            v[0, idx] = 1\n",
    "    return v.tocsr()\n",
    "\n",
    "\n",
    "extract_features(train[train.author=='RedThunder90'])"
   ]
  },
  {
   "cell_type": "markdown",
   "id": "1378939e",
   "metadata": {},
   "source": [
    "Inserting subreddit information in a dictionary, then used to build a matrix X of One-hot-encoded subreddit feature, that will be substituting the subreddit column in the original matrix with multiple, categorical columns in the final design matrix."
   ]
  },
  {
   "cell_type": "code",
   "execution_count": null,
   "id": "0ca69465",
   "metadata": {},
   "outputs": [],
   "source": [
    "features_dict = {}\n",
    "test_features_dict = {}\n",
    "\n",
    "for author, group in train.groupby('author'):\n",
    "    features_dict[author] = extract_features(group)\n",
    "\n",
    "for author, group in test.groupby('author'):\n",
    "    test_features_dict[author] = extract_features(group)\n",
    "    \n",
    "test_features_dict\n"
   ]
  },
  {
   "cell_type": "code",
   "execution_count": 56,
   "id": "6247113f",
   "metadata": {},
   "outputs": [],
   "source": [
    "X_subs = sparse.vstack([features_dict[author] for author in target.author])\n",
    "\n",
    "\n",
    "X_subs_test = sparse.vstack([test_features_dict[author] for author in test.author.unique()])\n"
   ]
  },
  {
   "cell_type": "code",
   "execution_count": 57,
   "id": "cbd9aca4",
   "metadata": {},
   "outputs": [],
   "source": [
    "sparse.save_npz('data/X_subs.npz', X_subs)\n",
    "sparse.save_npz('data/X_subs_test.npz', X_subs_test)"
   ]
  },
  {
   "cell_type": "markdown",
   "id": "dc37431a",
   "metadata": {},
   "source": [
    "### Extracting and transforming text"
   ]
  },
  {
   "cell_type": "markdown",
   "id": "938eef03",
   "metadata": {},
   "source": [
    "Let's now do feature extraction from the text. First of all, we need to put together all the text written by the specific user, in order to analyze it thoroughly.\n",
    "\n",
    "For example, user '-Jared' has written several posts; let's gather all the text in one place"
   ]
  },
  {
   "cell_type": "code",
   "execution_count": null,
   "id": "512074b8",
   "metadata": {},
   "outputs": [],
   "source": [
    "train.loc[train['author']=='-Jared']['body']"
   ]
  },
  {
   "cell_type": "code",
   "execution_count": 59,
   "id": "232949cc",
   "metadata": {},
   "outputs": [
    {
     "data": {
      "text/plain": [
       "'Neil Diamond - Sweet Caroline +1 on the chiropractor. I went religiously from ages 14 - 19 due to extreme lower back pain from running track / cross country. It\\'s important to remember it\\'s a somewhat slow process, but worth the results. \\n\\nOh, and don\\'t worry, they aren\\'t cracking your back - its just an \"adjustment\"  Looks like the pattern on the envelope that middle school photos came in.  If you had a bad motivator would you want to spell that out every time? And nothing beats a hangover quite like bacon (or better yet, Taylor ham), eggs over easy, toast, and hash browns! No, I think YOU mean Taylor Ham... Really, whatever you call it doesn\\'t matter, its damn delicious. '"
      ]
     },
     "execution_count": 59,
     "metadata": {},
     "output_type": "execute_result"
    }
   ],
   "source": [
    "def extract_text(group):\n",
    "    group_text = group['body'].astype(str).values\n",
    "    full_text = \" \".join(group_text)\n",
    "    return full_text\n",
    "\n",
    "extract_text(train[train.author=='-Jared'])\n",
    "\n"
   ]
  },
  {
   "cell_type": "markdown",
   "id": "4513555f",
   "metadata": {},
   "source": [
    "Let's now gather text for each user.\n",
    "\n",
    "Lower-case is applied as well. For Bag-of-Words lower_case will be used, whereas for some of other feature, where capital letters or words are evaluated, the one with upper-cases will be used."
   ]
  },
  {
   "cell_type": "code",
   "execution_count": 60,
   "id": "a73e5799",
   "metadata": {},
   "outputs": [],
   "source": [
    "#Base\n",
    "text_dict = {}\n",
    "test_text_dict = {}\n",
    "#Lower case\n",
    "text_dict_lower = {}\n",
    "test_text_dict_lower = {}\n",
    "\n",
    "#Training\n",
    "for author, group in train.groupby('author'):\n",
    "    full_text = extract_text(group)\n",
    "    text_dict[author] = full_text\n",
    "    text_dict_lower[author] = full_text.lower()\n",
    "    \n",
    "author_text = [text_dict[author] for author in target.author]\n",
    "author_text_lower = [text_dict_lower[author] for author in target.author]\n",
    "\n",
    "#Test\n",
    "for author, group in test.groupby('author'):\n",
    "    full_text = extract_text(group)\n",
    "    test_text_dict[author] = full_text\n",
    "    test_text_dict_lower[author] = full_text.lower()\n",
    "\n",
    "test_author_text = [test_text_dict[author] for author in test.author.unique()]\n",
    "test_author_text_lower = [test_text_dict_lower[author] for author in test.author.unique()]\n",
    "\n"
   ]
  },
  {
   "cell_type": "code",
   "execution_count": 61,
   "id": "0ade0856",
   "metadata": {},
   "outputs": [
    {
     "data": {
      "text/plain": [
       "\"darn, someone already used it.  yep, a co-worker showed me this. as soon as i have the money, i'm canceling my account with sprint. drinking tea with local honey will help, somewhat. bees pollinating  everything, those dirty little bees. as someone who has done support for a ton of video game companies:\\n**no.** for kids! i really hate to say, but check out a school system called harmony science academy. i went there from 6th to 12th. one of the requirements of graduation is to get accepted to a 4 year college. they've never had one person not graduate because of it. the teachers all really do care. they are very good with academics, but not so much sports. if you really are looking for a good college prep school, i couldn't recommend a better one. i had an ex give me this. \\nex. famine, disease, introduction to native americans?  oh gosh, the return of the king! it is so much fun to play with friends! ironically, i have that same thing on my desk. who would have thought?\""
      ]
     },
     "execution_count": 61,
     "metadata": {},
     "output_type": "execute_result"
    }
   ],
   "source": [
    "author_text_lower[4]"
   ]
  },
  {
   "cell_type": "markdown",
   "id": "f38e63e0",
   "metadata": {},
   "source": [
    "## LEMMATIZATION/STEMMING "
   ]
  },
  {
   "cell_type": "markdown",
   "id": "fb140413",
   "metadata": {},
   "source": [
    "For Bag of Words, a lemmatized text is provided in order to reduce vocabulary and thus number of features, and at the same time limit sparse words such as \"Hellllooooo\" typical of social media and that are highly unlikely to be present more than once, if ever. This kind of words contain information though, in their meaning. Thus, by applying a lemmatization technique, we are preserving meaning and neglecting the specific modified word.\n",
    "\n",
    "Since we use Pos-Tagging as a guideline for correct lemmatization, we need to map tags used by Pos-Tagging to the tags used by the Lemmatization tool."
   ]
  },
  {
   "cell_type": "code",
   "execution_count": 27,
   "id": "fd4922dd",
   "metadata": {},
   "outputs": [],
   "source": [
    "import nltk\n",
    "import re\n",
    "from nltk.tokenize import word_tokenize\n",
    "from nltk.stem import WordNetLemmatizer\n",
    "from nltk.corpus import wordnet\n",
    "import string\n",
    "\n",
    "def get_wordnet_pos(treebank_tag):\n",
    "\n",
    "    if treebank_tag.startswith('J'):\n",
    "        return wordnet.ADJ\n",
    "    elif treebank_tag.startswith('V'):\n",
    "        return wordnet.VERB\n",
    "    elif treebank_tag.startswith('N'):\n",
    "        return wordnet.NOUN\n",
    "    elif treebank_tag.startswith('R'):\n",
    "        return wordnet.ADV\n",
    "    else:\n",
    "        return ''\n",
    " "
   ]
  },
  {
   "cell_type": "markdown",
   "id": "be744f70",
   "metadata": {},
   "source": [
    "Then we create a translator to remove punctuation. This is the first of the pipeline, in which we clean data from punctuations in order to isolate words"
   ]
  },
  {
   "cell_type": "code",
   "execution_count": 28,
   "id": "ba00ed4f",
   "metadata": {},
   "outputs": [],
   "source": [
    "translator = str.maketrans('', '', string.punctuation)"
   ]
  },
  {
   "cell_type": "markdown",
   "id": "b82069f0",
   "metadata": {},
   "source": [
    "Creating a function that:\n",
    "1) Removes punctuation\n",
    "\n",
    "2) Tokenizes text (subdivides text in a list of words, so called tokens)\n",
    "\n",
    "3) Applies Pos-Tagging, thus giving grammatical context to each one of the tokens\n",
    "\n",
    "4) Applies Lemmatization, reducing each word to their root. The tag is coherently mapped from Pos-Tag to wordnet through the *get_wordnet_pos* function\n"
   ]
  },
  {
   "cell_type": "code",
   "execution_count": 29,
   "id": "6a2ed59b",
   "metadata": {},
   "outputs": [],
   "source": [
    "def token_pos_lemmatizer(text):\n",
    "    lemmatizer=WordNetLemmatizer()\n",
    "\n",
    "    data = text.translate(translator)\n",
    "    words=word_tokenize(data)\n",
    "    pos = nltk.pos_tag(words)\n",
    "\n",
    "\n",
    "    lemmatized_sentence = []\n",
    "    for tpl in pos:\n",
    "        tag = get_wordnet_pos(tpl[1])\n",
    "        if tag != '':\n",
    "            lemma = lemmatizer.lemmatize(tpl[0], get_wordnet_pos(tpl[1]))\n",
    "        else: \n",
    "            lemma = lemmatizer.lemmatize(tpl[0])\n",
    "    \n",
    "        lemmatized_sentence.append(lemma)\n",
    "    return lemmatized_sentence\n",
    "\n",
    "\n",
    "#lemmatized_sentence = []\n",
    "#for tpl in pos:\n",
    "#    print(tpl)\n",
    "#    lemma = lemmatizer.lemmatize(tpl[0], tag[1].lower())\n",
    "#    lemmatized_sentence.append(lemma)\n",
    "#words = [lemmmatizer.lemmatize(word[0],word[1]) for word in pos]\n",
    "\n"
   ]
  },
  {
   "cell_type": "markdown",
   "id": "e15e590b",
   "metadata": {},
   "source": [
    "Applying Lemmatization to all text data. From this point on, we can apply Bag of Words."
   ]
  },
  {
   "cell_type": "code",
   "execution_count": 30,
   "id": "64b09b35",
   "metadata": {},
   "outputs": [],
   "source": [
    "lemmatized_data=[]\n",
    "for author in author_text_lower:\n",
    "    lemma = token_pos_lemmatizer(author)\n",
    "    #Creating one single blob of text by joining the lemmatized words, from the list created by the lemmatizer. \n",
    "    #This way, the lemmatized data can be fed to a TF-IDF Vectorizer which accepts only blob of strings\n",
    "    lemmatized_data.append(\" \".join(lemma))\n",
    "\n",
    "lemmatized_data_test=[]\n",
    "for author in test_author_text_lower:\n",
    "    lemma = token_pos_lemmatizer(author)\n",
    "    #Creating one single blob of text by joining the lemmatized words, from the list created by the lemmatizer. \n",
    "    #This way, the lemmatized data can be fed to a TF-IDF Vectorizer which accepts only blob of strings\n",
    "    lemmatized_data_test.append(\" \".join(lemma))\n",
    "\n"
   ]
  },
  {
   "cell_type": "markdown",
   "id": "0860d6c1",
   "metadata": {},
   "source": [
    "Now, with this data we apply Bag-of-Words through a TF-IDF Vectorizer. Features are normalized, thus no further normalization is applied. Furthermore, not all features in the Training Data are selected: a threshold of appearence has been put, so that only features that appear in at least 5% of the texts is accepted. This is done in order to remove outliers (noise) and keeping into account the fact that in social media writing style allows for same words written in different formats, which would appear only once in the whole dataset. This does not provide any information regarding writing style of gender, so it is removed. This should help computation time as well as performance.\n",
    "\n",
    "Edit: TF-IDF was initially switched-off, as we are looking for writing style rather than topic/content. After performing some tests, TF-IDF seems to give better performance, hence it was turned on."
   ]
  },
  {
   "cell_type": "code",
   "execution_count": 31,
   "id": "fc5ddc5e",
   "metadata": {},
   "outputs": [
    {
     "data": {
      "text/plain": [
       "<15000x3594 sparse matrix of type '<class 'numpy.float64'>'\n",
       "\twith 5062855 stored elements in Compressed Sparse Row format>"
      ]
     },
     "execution_count": 31,
     "metadata": {},
     "output_type": "execute_result"
    }
   ],
   "source": [
    "from sklearn.feature_extraction.text import TfidfVectorizer\n",
    "vectorizer = TfidfVectorizer(use_idf=True, norm='l2', min_df=0.02)\n",
    "vectorizer.fit(lemmatized_data)\n",
    "X_lembow = vectorizer.transform(lemmatized_data)\n",
    "X_lembow_test = vectorizer.transform(lemmatized_data_test)\n",
    "\n",
    "X_lembow\n",
    "X_lembow_test\n"
   ]
  },
  {
   "cell_type": "markdown",
   "id": "861c3c40",
   "metadata": {},
   "source": [
    "Saving the feature to file, so that features will not have to be extracted every time the notebook is closed. At the end of the feature extraction process, all these feature matrices will be stacked together to form the Design Matrix X."
   ]
  },
  {
   "cell_type": "code",
   "execution_count": 32,
   "id": "bdcad0d1",
   "metadata": {},
   "outputs": [],
   "source": [
    "sparse.save_npz('data/X_lembow.npz', X_lembow)\n",
    "sparse.save_npz('data/X_lembow_test.npz', X_lembow_test)"
   ]
  },
  {
   "cell_type": "markdown",
   "id": "d54459df",
   "metadata": {},
   "source": [
    "## Bag of Words "
   ]
  },
  {
   "cell_type": "markdown",
   "id": "dd50b05a",
   "metadata": {},
   "source": [
    "Evaluating the frequency of the words used in the posts (augmented frequency, in order to eliminate bias towards lengthier documents). The Inverse Document Frequency is switched off (idf=1) since in this specific case it is not relevant to normalize for frequency in documents, the goal here is to evaluate how and what users write in spite of how many users do use the same words and how frequently. \n",
    "\n",
    "EDIT: IDF enabled as it provides better performance\n"
   ]
  },
  {
   "cell_type": "code",
   "execution_count": 41,
   "id": "7ac38e32",
   "metadata": {},
   "outputs": [],
   "source": [
    "from sklearn.feature_extraction.text import TfidfVectorizer\n",
    "vectorizer = TfidfVectorizer(use_idf=True, norm='l2', min_df=0.02)\n",
    "vectorizer.fit(author_text_lower)\n",
    "X_bow = vectorizer.transform(author_text_lower)\n",
    "X_bow_test = vectorizer.transform(test_author_text_lower)"
   ]
  },
  {
   "cell_type": "code",
   "execution_count": null,
   "id": "b95e39b5",
   "metadata": {},
   "outputs": [],
   "source": [
    "features = vectorizer.get_feature_names_out()\n",
    "[i for i in features if '' in i]"
   ]
  },
  {
   "cell_type": "code",
   "execution_count": 43,
   "id": "5eb5e2b5",
   "metadata": {},
   "outputs": [
    {
     "data": {
      "text/plain": [
       "<5000x4414 sparse matrix of type '<class 'numpy.float64'>'\n",
       "\twith 1895202 stored elements in Compressed Sparse Row format>"
      ]
     },
     "execution_count": 43,
     "metadata": {},
     "output_type": "execute_result"
    }
   ],
   "source": [
    "X_bow"
   ]
  },
  {
   "cell_type": "markdown",
   "id": "53d49a11",
   "metadata": {},
   "source": [
    "Saving the feature to file, so that features will not have to be extracted every time the notebook is closed. At the end of the feature extraction process, all these feature matrices will be stacked together to form the Design Matrix X."
   ]
  },
  {
   "cell_type": "code",
   "execution_count": 44,
   "id": "64efb035",
   "metadata": {},
   "outputs": [],
   "source": [
    "sparse.save_npz('data/X_bow.npz', X_bow)\n",
    "sparse.save_npz('data/X_bow_test.npz', X_bow_test)"
   ]
  },
  {
   "cell_type": "markdown",
   "id": "7050a6c8",
   "metadata": {},
   "source": [
    "## Evaluations on text (extracting new possibly useful features)"
   ]
  },
  {
   "cell_type": "markdown",
   "id": "1cc95f12",
   "metadata": {},
   "source": [
    "The features that might be useful in recognizing gender are:\n",
    "* Words used (thus a bag of words might be useful, in colloquial english stop-words could be included as well in order to model writing style)\n",
    "* Average word length --> OK\n",
    "* Longest word length --> OK\n",
    "* Misspelling frequency --> NO (computationally heavy, probably not that informative either)\n",
    "* Profanity frequency --> OK\n",
    "* Capital word frequency --> OK\n",
    "* Capital letter frequency --> OK\n",
    "* Self-reference Frequency --> OK\n",
    "* Internet acronym frequency --> OK\n",
    "* Exclamation point frequency --> OK\n",
    "* Question mark frequency --> OK \n",
    "* Quotation mark frequency  --> OK\n",
    "* Digits frequency --> OK\n",
    "* Punctuation token frequency --> OK\n",
    "* Emoticon token frequency --> OK\n"
   ]
  },
  {
   "cell_type": "markdown",
   "id": "cb19a57b",
   "metadata": {},
   "source": [
    "### Preparation\n"
   ]
  },
  {
   "cell_type": "markdown",
   "id": "f7f71a1b",
   "metadata": {},
   "source": [
    "Creating a splitter/filter that can optionally remove links and punctuation. Optionally it can track single characters as well, as it will be needed for some of the features to be extracted."
   ]
  },
  {
   "cell_type": "markdown",
   "id": "8d79456a",
   "metadata": {},
   "source": [
    "Using Fnmatch to filter through wildcards for whatever kind of hyper-links in posts"
   ]
  },
  {
   "cell_type": "code",
   "execution_count": 27,
   "id": "c3b6ae78",
   "metadata": {},
   "outputs": [],
   "source": [
    "import fnmatch as fn\n",
    "\n",
    "filtro = ('*www.*', '*http*', '*.html', '*.gif' )"
   ]
  },
  {
   "cell_type": "markdown",
   "id": "5454216d",
   "metadata": {},
   "source": [
    "The splitter/filter function itself. \n",
    "\n",
    "Flatten necessary as a workoaround for nested lists that come up when the fn.filter() is applied.\n",
    "\n",
    "After careful observation of the data, it is noticed that links tend to appear in the following format [TEXT]\\(LINK).\n",
    "In order to retain [TEXT] and remove (LINK) via wildcards, the 2 are separated adding a white-space between parenthesis."
   ]
  },
  {
   "cell_type": "code",
   "execution_count": 28,
   "id": "d77eb224",
   "metadata": {},
   "outputs": [],
   "source": [
    "from nltk import flatten\n",
    "import string\n",
    "\n",
    "def text_split_filter(sentence, no_links=True, no_punct=True, char=False):\n",
    "    #Pre-processing in order to remove links\n",
    "    sentence = sentence.replace('](', '] (')\n",
    "    \n",
    "    #Splitting sentence into a list of words\n",
    "    words = sentence.split()\n",
    "    \n",
    "    #Removing Links\n",
    "    if no_links == True:\n",
    "        filtered_words = [] #list of words to be filtered out\n",
    "        for pattern in filtro:\n",
    "            filtered_words.append(fn.filter(words, pattern)) #if there's a match with any patterns, add it to the list of filtered out words\n",
    "        filtered_words = flatten(filtered_words)\n",
    "        words2 = [word for word in words if word not in filtered_words] #Selecting only words that were not filtered out\n",
    "    else:\n",
    "        words2 = words #if no filtered out words, just take them all\n",
    "    \n",
    "    \n",
    "    #Removing Punctuation\n",
    "    words_filtered = []\n",
    "    if no_punct == True:\n",
    "        for word in words2: #Consider words that survived filtering process\n",
    "            #\n",
    "            words_filtered.append(''.join(filter(lambda x: x not in string.punctuation, word)))\n",
    "    else: \n",
    "         words_filtered = words2\n",
    "    \n",
    "    #Subdividing sentence into single chars (no spaces included)\n",
    "    #Needed for extracting certain features, set to False by default\n",
    "    if char == True:\n",
    "        chars = []\n",
    "        for word in words_filtered:\n",
    "            letters = [*word]\n",
    "            chars.append(letters)\n",
    "        \n",
    "        return flatten(chars)\n",
    "    \n",
    "    else:   \n",
    "        return words_filtered\n",
    "    "
   ]
  },
  {
   "cell_type": "markdown",
   "id": "c869726a",
   "metadata": {},
   "source": [
    "Now features are extracted both for training and test set"
   ]
  },
  {
   "cell_type": "markdown",
   "id": "f55d8668",
   "metadata": {},
   "source": [
    "### Average word length"
   ]
  },
  {
   "cell_type": "code",
   "execution_count": null,
   "id": "2843e8c5",
   "metadata": {},
   "outputs": [],
   "source": [
    "def avg_word_length(sentence):\n",
    "    words = text_split_filter(sentence)\n",
    "    #In case a message is composed by single punctuations chars or links that have been filtered out\n",
    "    if len(words) == 0:\n",
    "        return 0\n",
    "    else:\n",
    "        average = sum(len(word) for word in words) / (len(words))\n",
    "        return average  \n",
    " \n",
    "avg_word_feature = []\n",
    "test_avg_word_feature = []\n",
    "\n",
    "#Evaluating average word length for each author\n",
    "for text in author_text:\n",
    "    wl = avg_word_length(text)\n",
    "    avg_word_feature.append(wl)\n",
    "    \n",
    "for text in test_author_text:\n",
    "    wl = avg_word_length(text)\n",
    "    test_avg_word_feature.append(wl)\n",
    "\n",
    "avg_word_feature\n"
   ]
  },
  {
   "cell_type": "markdown",
   "id": "4ddce2c4",
   "metadata": {},
   "source": [
    "Making the feature into a sparse matrix, to even it out with all the other features. In this case, this matrix will probably not be a sparse one. "
   ]
  },
  {
   "cell_type": "code",
   "execution_count": 241,
   "id": "5aefe7e3",
   "metadata": {},
   "outputs": [],
   "source": [
    "arr = np.array(avg_word_feature)\n",
    "X_averagelength = sparse.csr_matrix(arr.reshape((5000,1)))"
   ]
  },
  {
   "cell_type": "code",
   "execution_count": 242,
   "id": "2c347532",
   "metadata": {},
   "outputs": [],
   "source": [
    "test_arr = np.array(test_avg_word_feature)\n",
    "X_averagelength_test = sparse.csr_matrix(test_arr.reshape((15000,1)))\n"
   ]
  },
  {
   "cell_type": "markdown",
   "id": "0239f8ef",
   "metadata": {},
   "source": [
    "Applying feature scaling: these numerical features, by nature, have different scales. Thus, they are normalized such that they weigh the same in ML models and there are no preferential features.\n",
    "\n",
    "The MaxAbsScaler is chosen, since we want to keep sparsity as a quality of our dataset, so that if a sample has value 0 for the specific feature, it will remain 0 after scaling is applied. "
   ]
  },
  {
   "cell_type": "code",
   "execution_count": 243,
   "id": "4321e283",
   "metadata": {},
   "outputs": [
    {
     "data": {
      "text/plain": [
       "<5000x1 sparse matrix of type '<class 'numpy.float64'>'\n",
       "\twith 4999 stored elements in Compressed Sparse Row format>"
      ]
     },
     "execution_count": 243,
     "metadata": {},
     "output_type": "execute_result"
    }
   ],
   "source": [
    "from sklearn.preprocessing import MaxAbsScaler\n",
    "\n",
    "scaler = MaxAbsScaler()\n",
    "scaler.fit(X_averagelength)\n",
    "X_averagelength = scaler.transform(X_averagelength)\n",
    "X_averagelength_test = scaler.transform(X_averagelength_test)\n",
    "\n",
    "X_averagelength"
   ]
  },
  {
   "cell_type": "code",
   "execution_count": 244,
   "id": "c2281e4a",
   "metadata": {},
   "outputs": [],
   "source": [
    "sparse.save_npz('data/X_averagelength.npz', X_averagelength)\n",
    "sparse.save_npz('data/X_averagelength_test.npz', X_averagelength_test)"
   ]
  },
  {
   "cell_type": "markdown",
   "id": "14415ab7",
   "metadata": {},
   "source": [
    "### Max word length"
   ]
  },
  {
   "cell_type": "code",
   "execution_count": null,
   "id": "9f850ea2",
   "metadata": {},
   "outputs": [],
   "source": [
    "def long_word(sentence):\n",
    "    words = text_split_filter(sentence)\n",
    "    if len(words) == 0:\n",
    "        return 0\n",
    "    else:\n",
    "        print(max(words, key=len))\n",
    "        return len(max(words, key=len)) #Evaluating 'len' attribute for each word of the array, then selecting max and returning its length\n",
    "\n",
    "\n",
    "\n",
    "long_word_feature = []\n",
    "for text in author_text:\n",
    "    length = long_word(text)\n",
    "    long_word_feature.append(length)\n",
    "    \n",
    "test_long_word_feature = []\n",
    "for text in test_author_text:\n",
    "    length = long_word(text)\n",
    "    test_long_word_feature.append(length)\n",
    "\n",
    "long_word_feature"
   ]
  },
  {
   "cell_type": "code",
   "execution_count": 246,
   "id": "d5f4c240",
   "metadata": {},
   "outputs": [],
   "source": [
    "arr = np.array(long_word_feature)\n",
    "X_maxlength = sparse.csr_matrix(arr.reshape((5000,1)))"
   ]
  },
  {
   "cell_type": "code",
   "execution_count": 247,
   "id": "d14b3016",
   "metadata": {},
   "outputs": [],
   "source": [
    "test_arr = np.array(test_long_word_feature)\n",
    "X_maxlength_test = sparse.csr_matrix(test_arr.reshape((15000,1)))\n"
   ]
  },
  {
   "cell_type": "code",
   "execution_count": 248,
   "id": "9da6c787",
   "metadata": {},
   "outputs": [],
   "source": [
    "from sklearn.preprocessing import MaxAbsScaler\n",
    "\n",
    "scaler = MaxAbsScaler()\n",
    "scaler.fit(X_maxlength)\n",
    "X_maxlength = scaler.transform(X_maxlength)\n",
    "X_maxlength_test = scaler.transform(X_maxlength_test)"
   ]
  },
  {
   "cell_type": "code",
   "execution_count": 249,
   "id": "e2366ee1",
   "metadata": {},
   "outputs": [],
   "source": [
    "sparse.save_npz('data/X_maxlength.npz', X_maxlength)\n",
    "sparse.save_npz('data/X_maxlength_test.npz', X_maxlength_test)"
   ]
  },
  {
   "cell_type": "markdown",
   "id": "e216cdf5",
   "metadata": {},
   "source": [
    "### Misspelling Frequency (not used)\n",
    "It takes too long, and the algorithm might not be very accurate. This feature is thus turned off."
   ]
  },
  {
   "cell_type": "code",
   "execution_count": 250,
   "id": "7fb3ae03",
   "metadata": {},
   "outputs": [],
   "source": [
    "#from textblob import Word\n"
   ]
  },
  {
   "cell_type": "code",
   "execution_count": 251,
   "id": "d1774170",
   "metadata": {},
   "outputs": [],
   "source": [
    "#def spell_checker(sentence):\n",
    "#    words = text_split_filter(sentence)\n",
    "#    counter = 0\n",
    "#    for word in words:\n",
    "#        w = Word(word)\n",
    "#        check_word = w.spellcheck()\n",
    "#        if (check_word[0][0] != word):\n",
    "#            counter += 1\n",
    "#    \n",
    "#    return counter\n",
    "#        \n",
    "#    "
   ]
  },
  {
   "cell_type": "code",
   "execution_count": 252,
   "id": "a782e25a",
   "metadata": {},
   "outputs": [],
   "source": [
    "#misspelling_feature = []\n",
    "#for text in author_text:\n",
    "#    N = len(text)\n",
    "#    if N==0:\n",
    "#        n_misspell = 0\n",
    "#    else:\n",
    "#        n_misspell = spell_checker(text)/N\n",
    "#    misspelling_feature.append(n_misspell)\n",
    "#\n",
    "#misspelling_feature"
   ]
  },
  {
   "cell_type": "markdown",
   "id": "95501cb3",
   "metadata": {},
   "source": [
    "Adding the feature to the feature matrix X."
   ]
  },
  {
   "cell_type": "code",
   "execution_count": 253,
   "id": "71a171e9",
   "metadata": {},
   "outputs": [],
   "source": [
    "#arr = np.array(misspelling_feature)\n",
    "#arr = arr.reshape((5000,1))\n",
    "#\n",
    "#X = sparse.hstack([X,arr])\n",
    "#X"
   ]
  },
  {
   "cell_type": "markdown",
   "id": "f3751402",
   "metadata": {},
   "source": [
    "### Profanity Frequency"
   ]
  },
  {
   "cell_type": "code",
   "execution_count": null,
   "id": "3a6781f7",
   "metadata": {},
   "outputs": [],
   "source": [
    "df_profanity = pd.read_csv(\"profanity.csv\", encoding=\"utf8\", header=None)\n",
    "df_profanity = df_profanity[0].str.casefold()\n",
    "profanity_1 = [badword for badword in df_profanity]\n",
    "\n",
    "#Since we apply it to text without punctuation (such as '-'), we eliminate punctuation from profanities as well, to match data\n",
    "profanity = []\n",
    "for badword in profanity_1:\n",
    "    profanity.append(''.join(filter(lambda x: x not in string.punctuation, badword)))\n",
    "profanity"
   ]
  },
  {
   "cell_type": "code",
   "execution_count": 33,
   "id": "08a71594",
   "metadata": {},
   "outputs": [],
   "source": [
    "def profanity_filter(text):\n",
    "    counter = 0\n",
    "    words = text_split_filter(text)\n",
    "    for word in words:\n",
    "        if word in profanity:\n",
    "            counter += 1\n",
    "    \n",
    "    return counter"
   ]
  },
  {
   "cell_type": "markdown",
   "id": "c6eac983",
   "metadata": {},
   "source": [
    "Using the lower-cased texts, to match the profanities list"
   ]
  },
  {
   "cell_type": "code",
   "execution_count": null,
   "id": "8a2aecf8",
   "metadata": {},
   "outputs": [],
   "source": [
    "profanity_feature = []\n",
    "for text in author_text_lower:\n",
    "    N = len(text_split_filter(text))\n",
    "    \n",
    "    if N == 0:\n",
    "        n_badwords = 0\n",
    "    else:\n",
    "        n_badwords = profanity_filter(text)/N\n",
    "    profanity_feature.append(n_badwords)\n",
    "    \n",
    "test_profanity_feature = []\n",
    "for text in test_author_text_lower:\n",
    "    N = len(text_split_filter(text))\n",
    "    \n",
    "    if N == 0:\n",
    "        n_badwords = 0\n",
    "    else:\n",
    "        n_badwords = profanity_filter(text)/N\n",
    "    test_profanity_feature.append(n_badwords)\n",
    "    \n",
    "profanity_feature"
   ]
  },
  {
   "cell_type": "code",
   "execution_count": 35,
   "id": "97ec4812",
   "metadata": {},
   "outputs": [],
   "source": [
    "arr = np.array(profanity_feature)\n",
    "X_profanity = sparse.csr_matrix(arr.reshape((5000,1)))\n"
   ]
  },
  {
   "cell_type": "code",
   "execution_count": 36,
   "id": "8278fe22",
   "metadata": {},
   "outputs": [],
   "source": [
    "test_arr = np.array(test_profanity_feature)\n",
    "X_profanity_test = sparse.csr_matrix(test_arr.reshape((15000,1)))\n"
   ]
  },
  {
   "cell_type": "code",
   "execution_count": 37,
   "id": "ce4264b6",
   "metadata": {},
   "outputs": [],
   "source": [
    "from sklearn.preprocessing import MaxAbsScaler\n",
    "\n",
    "scaler = MaxAbsScaler()\n",
    "scaler.fit(X_profanity)\n",
    "X_profanity = scaler.transform(X_profanity)\n",
    "X_profanity_test = scaler.transform(X_profanity_test)"
   ]
  },
  {
   "cell_type": "code",
   "execution_count": 38,
   "id": "861fa116",
   "metadata": {},
   "outputs": [],
   "source": [
    "sparse.save_npz('data/X_profanity.npz', X_profanity)\n",
    "sparse.save_npz('data/X_profanity_test.npz', X_profanity_test)"
   ]
  },
  {
   "cell_type": "markdown",
   "id": "2eb7af41",
   "metadata": {},
   "source": [
    "### Capital Words Frequency"
   ]
  },
  {
   "cell_type": "markdown",
   "id": "9b66182b",
   "metadata": {},
   "source": [
    "Measuring the frequency of FULL CAPITAL words. Only the pronoun \"I\" is taken out of the counting, for obvious reasons. The idea is to isolate a pattern of highlighting certain words that are not normally written in capital letters."
   ]
  },
  {
   "cell_type": "code",
   "execution_count": 261,
   "id": "c6cdcc75",
   "metadata": {},
   "outputs": [],
   "source": [
    "def capital_words_filter(sentence):\n",
    "    words = text_split_filter(sentence)\n",
    "    counter = 0\n",
    "    for word in words:\n",
    "        if word != \"I\":\n",
    "            capital_bool = word.isupper()\n",
    "            if capital_bool == True:\n",
    "                counter += 1\n",
    "    \n",
    "    return counter"
   ]
  },
  {
   "cell_type": "markdown",
   "id": "9e716131",
   "metadata": {},
   "source": [
    "Obviously, the non-lowered-cased text is used."
   ]
  },
  {
   "cell_type": "code",
   "execution_count": null,
   "id": "371b932d",
   "metadata": {},
   "outputs": [],
   "source": [
    "capital_words_feature = []\n",
    "\n",
    "for text in author_text:\n",
    "    N = len(text_split_filter(text))\n",
    "    \n",
    "    if N == 0:\n",
    "        capital_words = 0\n",
    "    else:\n",
    "        capital_words = capital_words_filter(text)/N\n",
    "    capital_words_feature.append(capital_words)\n",
    "\n",
    "test_capital_words_feature = []\n",
    "\n",
    "for text in test_author_text:\n",
    "    N = len(text_split_filter(text))\n",
    "    \n",
    "    if N == 0:\n",
    "        capital_words = 0\n",
    "    else:\n",
    "        capital_words = capital_words_filter(text)/N\n",
    "    test_capital_words_feature.append(capital_words)\n",
    "    \n",
    "capital_words_feature"
   ]
  },
  {
   "cell_type": "code",
   "execution_count": 263,
   "id": "c07578b5",
   "metadata": {},
   "outputs": [],
   "source": [
    "arr = np.array(capital_words_feature)\n",
    "X_capitalwords = sparse.csr_matrix(arr.reshape((5000,1)))"
   ]
  },
  {
   "cell_type": "code",
   "execution_count": 264,
   "id": "eb40cf68",
   "metadata": {},
   "outputs": [],
   "source": [
    "test_arr = np.array(test_capital_words_feature)\n",
    "X_capitalwords_test = sparse.csr_matrix(test_arr.reshape((15000,1)))"
   ]
  },
  {
   "cell_type": "code",
   "execution_count": 265,
   "id": "8df8ff24",
   "metadata": {},
   "outputs": [],
   "source": [
    "from sklearn.preprocessing import MaxAbsScaler\n",
    "\n",
    "scaler = MaxAbsScaler()\n",
    "scaler.fit(X_capitalwords)\n",
    "X_capitalwords = scaler.transform(X_capitalwords)\n",
    "X_capitalwords_test = scaler.transform(X_capitalwords_test)"
   ]
  },
  {
   "cell_type": "code",
   "execution_count": 266,
   "id": "a79f06f7",
   "metadata": {},
   "outputs": [],
   "source": [
    "sparse.save_npz('data/X_capitalwords.npz', X_capitalwords)\n",
    "sparse.save_npz('data/X_capitalwords_test.npz', X_capitalwords_test)"
   ]
  },
  {
   "cell_type": "markdown",
   "id": "93405ae5",
   "metadata": {},
   "source": [
    "### Capital Letters Frequency"
   ]
  },
  {
   "cell_type": "markdown",
   "id": "1d447c93",
   "metadata": {},
   "source": [
    "Extrapolate tendencies to use capital letters in words in both appropriate (eg. after a full-stop) or inappropriate (eg. \"she is Going over There\") contexts. THis tendencies may be correlated with gender."
   ]
  },
  {
   "cell_type": "code",
   "execution_count": 267,
   "id": "90fa4de3",
   "metadata": {},
   "outputs": [],
   "source": [
    "import re\n",
    "\n",
    "def capital_letter_filter(sentence):\n",
    "    words = text_split_filter(sentence)\n",
    "    counter = 0\n",
    "    for word in words:\n",
    "        if word != \"I\":\n",
    "            capital_counter = len(re.findall('([A-Z])', word))\n",
    "            counter += capital_counter\n",
    "    \n",
    "    return counter"
   ]
  },
  {
   "cell_type": "markdown",
   "id": "9f314fd7",
   "metadata": {},
   "source": [
    "Obviously, the non-lowered-cased text is used."
   ]
  },
  {
   "cell_type": "code",
   "execution_count": null,
   "id": "51b2f72d",
   "metadata": {},
   "outputs": [],
   "source": [
    "capital_letter_feature = []\n",
    "for text in author_text:\n",
    "    words = text_split_filter(text)\n",
    "    N = sum(len(word) for word in words)\n",
    "    \n",
    "    if N == 0:\n",
    "        capital_letter = 0\n",
    "    else:\n",
    "        capital_letter = capital_letter_filter(text)/N\n",
    "    \n",
    "    capital_letter_feature.append(capital_letter)\n",
    "    \n",
    "\n",
    "test_capital_letter_feature = []\n",
    "for text in test_author_text:\n",
    "    words = text_split_filter(text)\n",
    "    N = sum(len(word) for word in words)\n",
    "    \n",
    "    if N == 0:\n",
    "        capital_letter = 0\n",
    "    else:\n",
    "        capital_letter = capital_letter_filter(text)/N\n",
    "    \n",
    "    test_capital_letter_feature.append(capital_letter)\n",
    "    \n",
    "capital_letter_feature"
   ]
  },
  {
   "cell_type": "code",
   "execution_count": 269,
   "id": "6489b768",
   "metadata": {},
   "outputs": [],
   "source": [
    "arr = np.array(capital_letter_feature)\n",
    "X_capitalletters = sparse.csr_matrix(arr.reshape((5000,1)))\n"
   ]
  },
  {
   "cell_type": "code",
   "execution_count": 270,
   "id": "ea5f5ace",
   "metadata": {},
   "outputs": [],
   "source": [
    "test_arr = np.array(test_capital_letter_feature)\n",
    "X_capitalletters_test = sparse.csr_matrix(test_arr.reshape((15000,1)))\n"
   ]
  },
  {
   "cell_type": "code",
   "execution_count": 271,
   "id": "5ad9c5cb",
   "metadata": {},
   "outputs": [],
   "source": [
    "from sklearn.preprocessing import MaxAbsScaler\n",
    "\n",
    "scaler = MaxAbsScaler()\n",
    "scaler.fit(X_capitalletters)\n",
    "X_capitalletters = scaler.transform(X_capitalletters)\n",
    "X_capitalletters_test = scaler.transform(X_capitalletters_test)"
   ]
  },
  {
   "cell_type": "code",
   "execution_count": 272,
   "id": "0ac73bfe",
   "metadata": {},
   "outputs": [],
   "source": [
    "sparse.save_npz('data/X_capitalletters.npz', X_capitalletters)\n",
    "sparse.save_npz('data/X_capitalletters_test.npz', X_capitalletters_test)"
   ]
  },
  {
   "cell_type": "markdown",
   "id": "7f61de53",
   "metadata": {},
   "source": [
    "### Self-reference Frequency"
   ]
  },
  {
   "cell_type": "markdown",
   "id": "cbd8f27f",
   "metadata": {},
   "source": [
    "Evaluating how frequently a user self-references. the key words for this are the ones contained in the \"self_dict\". "
   ]
  },
  {
   "cell_type": "code",
   "execution_count": 273,
   "id": "09057f23",
   "metadata": {},
   "outputs": [],
   "source": [
    "self_dict = [\n",
    "'i',\n",
    "'i\\'m',\n",
    "'im'\n",
    "'myself',\n",
    "'me'\n",
    "]"
   ]
  },
  {
   "cell_type": "code",
   "execution_count": 274,
   "id": "9154b264",
   "metadata": {},
   "outputs": [],
   "source": [
    "def self_reference_filter(text):\n",
    "    words = text_split_filter(text)\n",
    "    counter = 0\n",
    "    for word in words:\n",
    "        if word in self_dict:\n",
    "            counter += 1\n",
    "        \n",
    "    \n",
    "    return counter"
   ]
  },
  {
   "cell_type": "code",
   "execution_count": null,
   "id": "8f6351fd",
   "metadata": {},
   "outputs": [],
   "source": [
    "self_reference_feature = []\n",
    "for text in author_text_lower:\n",
    "    N = len(text_split_filter(text))\n",
    "    \n",
    "    if N == 0:\n",
    "        n_self_reference = 0\n",
    "    else:\n",
    "        n_self_reference = self_reference_filter(text)/N\n",
    "    self_reference_feature.append(n_self_reference)\n",
    "\n",
    "    \n",
    "test_self_reference_feature = []\n",
    "for text in test_author_text_lower:\n",
    "    N = len(text_split_filter(text))\n",
    "    \n",
    "    if N == 0:\n",
    "        n_self_reference = 0\n",
    "    else:\n",
    "        n_self_reference = self_reference_filter(text)/N\n",
    "    test_self_reference_feature.append(n_self_reference)\n",
    "    \n",
    "    \n",
    "self_reference_feature"
   ]
  },
  {
   "cell_type": "code",
   "execution_count": 276,
   "id": "12bff158",
   "metadata": {},
   "outputs": [],
   "source": [
    "arr = np.array(self_reference_feature)\n",
    "X_self = sparse.csr_matrix(arr.reshape((5000,1)))\n"
   ]
  },
  {
   "cell_type": "code",
   "execution_count": 277,
   "id": "89670df8",
   "metadata": {},
   "outputs": [],
   "source": [
    "test_arr = np.array(test_self_reference_feature)\n",
    "X_self_test = sparse.csr_matrix(test_arr.reshape((15000,1)))\n"
   ]
  },
  {
   "cell_type": "code",
   "execution_count": 278,
   "id": "c3960071",
   "metadata": {},
   "outputs": [],
   "source": [
    "from sklearn.preprocessing import MaxAbsScaler\n",
    "\n",
    "scaler = MaxAbsScaler()\n",
    "scaler.fit(X_self)\n",
    "X_self = scaler.transform(X_self)\n",
    "X_self_test = scaler.transform(X_self_test)"
   ]
  },
  {
   "cell_type": "code",
   "execution_count": 279,
   "id": "0273f736",
   "metadata": {},
   "outputs": [],
   "source": [
    "sparse.save_npz('data/X_self.npz', X_self)\n",
    "sparse.save_npz('data/X_self_test.npz', X_self_test)"
   ]
  },
  {
   "cell_type": "markdown",
   "id": "237ea355",
   "metadata": {},
   "source": [
    "### Internet Acronym Frequency"
   ]
  },
  {
   "cell_type": "markdown",
   "id": "71719912",
   "metadata": {},
   "source": [
    "Comparing every single word of each user and checking whether this word is contained in the acronym dictionary. The dictionary was made and edited in capital words: sometimes users write acronyms in non-capital format. For this reason, a non-case sensitive comparison has been made. "
   ]
  },
  {
   "cell_type": "code",
   "execution_count": null,
   "id": "26955558",
   "metadata": {},
   "outputs": [],
   "source": [
    "df_acronyms = pd.read_csv(\"data/web_acronyms.csv\", encoding=\"utf8\", header=None)\n",
    "df_acronyms = df_acronyms[0].str.casefold()\n",
    "acronyms_1 = [acronym for acronym in df_acronyms]\n",
    "\n",
    "acronyms = []\n",
    "for acr in acronyms_1:\n",
    "    acronyms.append(''.join(filter(lambda x: x not in string.punctuation, acr)))\n",
    "acronyms"
   ]
  },
  {
   "cell_type": "code",
   "execution_count": 281,
   "id": "eb37c79b",
   "metadata": {},
   "outputs": [],
   "source": [
    "def acronyms_filter(text):\n",
    "    words = [word for word in text_split_filter(text)]\n",
    "    counter = 0\n",
    "    for word in words:\n",
    "        if word in acronyms:\n",
    "            counter += 1\n",
    "    \n",
    "    return counter"
   ]
  },
  {
   "cell_type": "code",
   "execution_count": null,
   "id": "1608a594",
   "metadata": {},
   "outputs": [],
   "source": [
    "acronyms_feature = []\n",
    "for text in author_text_lower:\n",
    "    N = len(text_split_filter(text))\n",
    "    \n",
    "    if N == 0:\n",
    "        n_acronyms = 0\n",
    "    else:\n",
    "        n_acronyms = acronyms_filter(text)/N\n",
    "    acronyms_feature.append(n_acronyms)\n",
    "    \n",
    "\n",
    "test_acronyms_feature = []\n",
    "for text in test_author_text_lower:\n",
    "    N = len(text_split_filter(text))\n",
    "    \n",
    "    if N == 0:\n",
    "        n_acronyms = 0\n",
    "    else:\n",
    "        n_acronyms = acronyms_filter(text)/N\n",
    "    test_acronyms_feature.append(n_acronyms)\n",
    "    \n",
    "acronyms_feature"
   ]
  },
  {
   "cell_type": "code",
   "execution_count": 283,
   "id": "51174995",
   "metadata": {},
   "outputs": [],
   "source": [
    "arr = np.array(acronyms_feature)\n",
    "X_acronyms = sparse.csr_matrix(arr.reshape((5000,1)))\n"
   ]
  },
  {
   "cell_type": "code",
   "execution_count": 284,
   "id": "ace38d85",
   "metadata": {},
   "outputs": [],
   "source": [
    "test_arr = np.array(test_acronyms_feature)\n",
    "X_acronyms_test = sparse.csr_matrix(test_arr.reshape((15000,1)))\n"
   ]
  },
  {
   "cell_type": "code",
   "execution_count": 285,
   "id": "6d3b3233",
   "metadata": {},
   "outputs": [],
   "source": [
    "scaler = MaxAbsScaler()\n",
    "scaler.fit(X_acronyms)\n",
    "X_acronyms = scaler.transform(X_acronyms)\n",
    "X_acronyms_test = scaler.transform(X_acronyms_test)"
   ]
  },
  {
   "cell_type": "code",
   "execution_count": 286,
   "id": "c54a3571",
   "metadata": {},
   "outputs": [],
   "source": [
    "sparse.save_npz('data/X_acronyms.npz', X_acronyms)\n",
    "sparse.save_npz('data/X_acronyms_test.npz', X_acronyms_test)"
   ]
  },
  {
   "cell_type": "markdown",
   "id": "f484eff4",
   "metadata": {},
   "source": [
    "### EMOTICONS FREQUENCY"
   ]
  },
  {
   "cell_type": "code",
   "execution_count": 287,
   "id": "069b97e3",
   "metadata": {},
   "outputs": [],
   "source": [
    "#df_emoticons = pd.read_csv(\"emoticons.csv\", encoding=\"utf8\", header=None)\n",
    "#emoticons = [emo for emo in df_emoticons]\n",
    "#emoticons"
   ]
  },
  {
   "cell_type": "code",
   "execution_count": 39,
   "id": "047901cf",
   "metadata": {},
   "outputs": [],
   "source": [
    "import csv\n",
    "with open(\"data/emoticons.txt\") as f:\n",
    "    reader = csv.reader(f, delimiter=\"\\t\")\n",
    "    emoticons = list(reader)\n"
   ]
  },
  {
   "cell_type": "code",
   "execution_count": 40,
   "id": "d9acd7c9",
   "metadata": {},
   "outputs": [],
   "source": [
    "def emoticons_filter(text):\n",
    "    words = text_split_filter(text, no_punct=False)\n",
    "    counter = 0\n",
    "    for word in words:\n",
    "        for emo in emoticons:\n",
    "            if word in emo:\n",
    "                counter += 1\n",
    "    \n",
    "    return counter\n",
    "    \n"
   ]
  },
  {
   "cell_type": "code",
   "execution_count": null,
   "id": "57a245c3",
   "metadata": {},
   "outputs": [],
   "source": [
    "emoticons_feature = []\n",
    "for text in author_text:\n",
    "    N = len(text_split_filter(text, no_punct=False))\n",
    "    \n",
    "    if N == 0:\n",
    "        n_emoticons = 0\n",
    "    else:\n",
    "        n_emoticons = emoticons_filter(text)/N\n",
    "    emoticons_feature.append(n_emoticons)\n",
    "    \n",
    "    \n",
    "test_emoticons_feature = []\n",
    "for text in test_author_text:\n",
    "    N = len(text_split_filter(text, no_punct=False))\n",
    "    \n",
    "    if N == 0:\n",
    "        n_emoticons = 0\n",
    "    else:\n",
    "        n_emoticons = emoticons_filter(text)/N\n",
    "    test_emoticons_feature.append(n_emoticons)\n",
    "    \n",
    "emoticons_feature"
   ]
  },
  {
   "cell_type": "code",
   "execution_count": 42,
   "id": "eddf853d",
   "metadata": {},
   "outputs": [],
   "source": [
    "arr = np.array(emoticons_feature)\n",
    "X_emoticons = sparse.csr_matrix(arr.reshape((5000,1)))\n"
   ]
  },
  {
   "cell_type": "code",
   "execution_count": 43,
   "id": "046dd120",
   "metadata": {},
   "outputs": [],
   "source": [
    "test_arr = np.array(test_emoticons_feature)\n",
    "X_emoticons_test = sparse.csr_matrix(test_arr.reshape((15000,1)))\n"
   ]
  },
  {
   "cell_type": "code",
   "execution_count": 44,
   "id": "9a597754",
   "metadata": {},
   "outputs": [],
   "source": [
    "scaler = MaxAbsScaler()\n",
    "scaler.fit(X_emoticons)\n",
    "X_emoticons = scaler.transform(X_emoticons)\n",
    "X_emoticons_test = scaler.transform(X_emoticons_test)"
   ]
  },
  {
   "cell_type": "code",
   "execution_count": 45,
   "id": "56453621",
   "metadata": {},
   "outputs": [],
   "source": [
    "sparse.save_npz('data/X_emoticons.npz', X_emoticons)\n",
    "sparse.save_npz('data/X_emoticons_test.npz', X_emoticons_test)"
   ]
  },
  {
   "cell_type": "markdown",
   "id": "5b4956e7",
   "metadata": {},
   "source": [
    "### Exclamation Mark Frequency"
   ]
  },
  {
   "cell_type": "code",
   "execution_count": 46,
   "id": "796dfd56",
   "metadata": {},
   "outputs": [],
   "source": [
    "def exclamation_filter(text):\n",
    "    chars = text_split_filter(text, no_punct=False, char=True)\n",
    "    counter = 0\n",
    "    for char in chars:\n",
    "        if char=='!':\n",
    "            counter += 1\n",
    "    \n",
    "    return counter"
   ]
  },
  {
   "cell_type": "code",
   "execution_count": null,
   "id": "419b4239",
   "metadata": {},
   "outputs": [],
   "source": [
    "exclamation_feature = []\n",
    "for text in author_text:\n",
    "    N = len(text_split_filter(text, no_punct=False, char=True))\n",
    "    \n",
    "    if N == 0:\n",
    "        n_exclamation = 0\n",
    "    else:\n",
    "        n_exclamation = exclamation_filter(text)/N\n",
    "    exclamation_feature.append(n_exclamation)\n",
    "    \n",
    "    \n",
    "test_exclamation_feature = []\n",
    "for text in test_author_text:\n",
    "    N = len(text_split_filter(text, no_punct=False, char=True))\n",
    "    \n",
    "    if N == 0:\n",
    "        n_exclamation = 0\n",
    "    else:\n",
    "        n_exclamation = exclamation_filter(text)/N\n",
    "    test_exclamation_feature.append(n_exclamation)\n",
    "    \n",
    "exclamation_feature"
   ]
  },
  {
   "cell_type": "code",
   "execution_count": 48,
   "id": "e474d938",
   "metadata": {},
   "outputs": [],
   "source": [
    "arr = np.array(exclamation_feature)\n",
    "X_exclamation = sparse.csr_matrix(arr.reshape((5000,1)))\n"
   ]
  },
  {
   "cell_type": "code",
   "execution_count": 49,
   "id": "33fa8552",
   "metadata": {},
   "outputs": [],
   "source": [
    "test_arr = np.array(test_exclamation_feature)\n",
    "X_exclamation_test = sparse.csr_matrix(test_arr.reshape((15000,1)))\n"
   ]
  },
  {
   "cell_type": "code",
   "execution_count": 50,
   "id": "dd50f88d",
   "metadata": {},
   "outputs": [],
   "source": [
    "scaler = MaxAbsScaler()\n",
    "scaler.fit(X_exclamation)\n",
    "X_exclamation = scaler.transform(X_exclamation)\n",
    "X_exclamation_test = scaler.transform(X_exclamation_test)"
   ]
  },
  {
   "cell_type": "code",
   "execution_count": 51,
   "id": "e93f353c",
   "metadata": {},
   "outputs": [],
   "source": [
    "sparse.save_npz('data/X_exclamation.npz', X_exclamation)\n",
    "sparse.save_npz('data/X_exclamation_test.npz', X_exclamation_test)"
   ]
  },
  {
   "cell_type": "markdown",
   "id": "e4e513f2",
   "metadata": {},
   "source": [
    "### Interrogation Mark Frequency"
   ]
  },
  {
   "cell_type": "code",
   "execution_count": 52,
   "id": "f40f101e",
   "metadata": {},
   "outputs": [],
   "source": [
    "def interrogation_filter(text):\n",
    "    chars = text_split_filter(text, no_punct=False, char=True)\n",
    "    counter = 0\n",
    "    for char in chars:\n",
    "        if char=='?':\n",
    "            counter += 1\n",
    "    \n",
    "    return counter"
   ]
  },
  {
   "cell_type": "code",
   "execution_count": null,
   "id": "3cf465a1",
   "metadata": {},
   "outputs": [],
   "source": [
    "interrogation_feature = []\n",
    "for text in author_text:\n",
    "    N = len(text_split_filter(text, no_punct=False, char=True))\n",
    "    \n",
    "    if N == 0:\n",
    "        n_interrogation = 0\n",
    "    else:\n",
    "        n_interrogation = interrogation_filter(text)/N\n",
    "    interrogation_feature.append(n_interrogation)\n",
    "    \n",
    "    \n",
    "    \n",
    "test_interrogation_feature = []\n",
    "for text in test_author_text:\n",
    "    N = len(text_split_filter(text, no_punct=False, char=True))\n",
    "    \n",
    "    if N == 0:\n",
    "        n_interrogation = 0\n",
    "    else:\n",
    "        n_interrogation = interrogation_filter(text)/N\n",
    "    test_interrogation_feature.append(n_interrogation)\n",
    "    \n",
    "    \n",
    "interrogation_feature"
   ]
  },
  {
   "cell_type": "code",
   "execution_count": 54,
   "id": "5dc95061",
   "metadata": {},
   "outputs": [],
   "source": [
    "arr = np.array(interrogation_feature)\n",
    "X_interrogation = sparse.csr_matrix(arr.reshape((5000,1)))\n"
   ]
  },
  {
   "cell_type": "code",
   "execution_count": 55,
   "id": "fc0da636",
   "metadata": {},
   "outputs": [],
   "source": [
    "test_arr = np.array(test_interrogation_feature)\n",
    "X_interrogation_test = sparse.csr_matrix(test_arr.reshape((15000,1)))\n"
   ]
  },
  {
   "cell_type": "code",
   "execution_count": 56,
   "id": "2d9a891d",
   "metadata": {},
   "outputs": [],
   "source": [
    "scaler = MaxAbsScaler()\n",
    "scaler.fit(X_interrogation)\n",
    "X_interrogation = scaler.transform(X_interrogation)\n",
    "X_interrogation_test = scaler.transform(X_interrogation_test)"
   ]
  },
  {
   "cell_type": "code",
   "execution_count": 57,
   "id": "4208463a",
   "metadata": {},
   "outputs": [],
   "source": [
    "sparse.save_npz('data/X_interrogation.npz', X_interrogation)\n",
    "sparse.save_npz('data/X_interrogation_test.npz', X_interrogation_test)"
   ]
  },
  {
   "cell_type": "markdown",
   "id": "c925c687",
   "metadata": {},
   "source": [
    "### Quotation Mark Frequency"
   ]
  },
  {
   "cell_type": "code",
   "execution_count": 58,
   "id": "486c3b78",
   "metadata": {},
   "outputs": [],
   "source": [
    "def quotation_filter(text):\n",
    "    chars = text_split_filter(text, no_punct=False, char=True)\n",
    "    counter = 0\n",
    "    for char in chars:\n",
    "        if char=='\"':\n",
    "            counter += 1\n",
    "    \n",
    "    return counter"
   ]
  },
  {
   "cell_type": "code",
   "execution_count": null,
   "id": "d245af9b",
   "metadata": {},
   "outputs": [],
   "source": [
    "quotation_feature = []\n",
    "for text in author_text:\n",
    "    N = len(text_split_filter(text, no_punct=False, char=True))\n",
    "    \n",
    "    if N == 0:\n",
    "        n_quotation = 0\n",
    "    else:\n",
    "        n_quotation = quotation_filter(text)/N\n",
    "    quotation_feature.append(n_quotation)\n",
    "    \n",
    "    \n",
    "test_quotation_feature = []\n",
    "for text in test_author_text:\n",
    "    N = len(text_split_filter(text, no_punct=False, char=True))\n",
    "    \n",
    "    if N == 0:\n",
    "        n_quotation = 0\n",
    "    else:\n",
    "        n_quotation = quotation_filter(text)/N\n",
    "    test_quotation_feature.append(n_quotation)\n",
    "    \n",
    "quotation_feature"
   ]
  },
  {
   "cell_type": "code",
   "execution_count": 60,
   "id": "7b57dbe4",
   "metadata": {},
   "outputs": [],
   "source": [
    "arr = np.array(quotation_feature)\n",
    "X_quotation = sparse.csr_matrix(arr.reshape((5000,1)))\n"
   ]
  },
  {
   "cell_type": "code",
   "execution_count": 61,
   "id": "70a3709b",
   "metadata": {},
   "outputs": [],
   "source": [
    "test_arr = np.array(test_quotation_feature)\n",
    "X_quotation_test = sparse.csr_matrix(test_arr.reshape((15000,1)))\n"
   ]
  },
  {
   "cell_type": "code",
   "execution_count": 62,
   "id": "ff18ca18",
   "metadata": {},
   "outputs": [],
   "source": [
    "scaler = MaxAbsScaler()\n",
    "scaler.fit(X_quotation)\n",
    "X_quotation = scaler.transform(X_quotation)\n",
    "X_quotation_test = scaler.transform(X_quotation_test)"
   ]
  },
  {
   "cell_type": "code",
   "execution_count": 63,
   "id": "c33b96dc",
   "metadata": {},
   "outputs": [],
   "source": [
    "sparse.save_npz('data/X_quotation.npz', X_quotation)\n",
    "sparse.save_npz('data/X_quotation_test.npz', X_quotation_test)"
   ]
  },
  {
   "cell_type": "markdown",
   "id": "caf3b830",
   "metadata": {},
   "source": [
    "### Punctutation Frequency"
   ]
  },
  {
   "cell_type": "code",
   "execution_count": 64,
   "id": "69ca9703",
   "metadata": {},
   "outputs": [
    {
     "data": {
      "text/plain": [
       "'!\"#$%&\\'()*+,-./:;<=>?@[\\\\]^_`{|}~'"
      ]
     },
     "execution_count": 64,
     "metadata": {},
     "output_type": "execute_result"
    }
   ],
   "source": [
    "punct_list = string.punctuation\n",
    "punct_list"
   ]
  },
  {
   "cell_type": "code",
   "execution_count": 65,
   "id": "4fa68775",
   "metadata": {},
   "outputs": [],
   "source": [
    "def punctuation_filter(text):\n",
    "    chars = text_split_filter(text, no_punct=False, char=True)\n",
    "    counter = 0\n",
    "    for char in chars:\n",
    "        if char in punct_list:\n",
    "            counter += 1\n",
    "    \n",
    "    return counter"
   ]
  },
  {
   "cell_type": "code",
   "execution_count": null,
   "id": "4b636405",
   "metadata": {},
   "outputs": [],
   "source": [
    "punctuation_feature = []\n",
    "for text in author_text:\n",
    "    N = len(text_split_filter(text, no_punct=False, char=True))\n",
    "    \n",
    "    if N == 0:\n",
    "        n_punctuation = 0\n",
    "    else:\n",
    "        n_punctuation = punctuation_filter(text)/N\n",
    "    punctuation_feature.append(n_punctuation)\n",
    "    \n",
    "    \n",
    "test_punctuation_feature = []\n",
    "for text in test_author_text:\n",
    "    N = len(text_split_filter(text, no_punct=False, char=True))\n",
    "    \n",
    "    if N == 0:\n",
    "        n_punctuation = 0\n",
    "    else:\n",
    "        n_punctuation = punctuation_filter(text)/N\n",
    "    test_punctuation_feature.append(n_punctuation)\n",
    "    \n",
    "punctuation_feature"
   ]
  },
  {
   "cell_type": "code",
   "execution_count": 67,
   "id": "5fb642eb",
   "metadata": {},
   "outputs": [],
   "source": [
    "arr = np.array(punctuation_feature)\n",
    "X_punctuation = sparse.csr_matrix(arr.reshape((5000,1)))\n"
   ]
  },
  {
   "cell_type": "code",
   "execution_count": 68,
   "id": "1848e1d8",
   "metadata": {},
   "outputs": [],
   "source": [
    "test_arr = np.array(test_punctuation_feature)\n",
    "X_punctuation_test = sparse.csr_matrix(test_arr.reshape((15000,1)))\n"
   ]
  },
  {
   "cell_type": "code",
   "execution_count": 69,
   "id": "74811609",
   "metadata": {},
   "outputs": [],
   "source": [
    "scaler = MaxAbsScaler()\n",
    "scaler.fit(X_punctuation)\n",
    "X_punctuation = scaler.transform(X_punctuation)\n",
    "X_punctuation_test = scaler.transform(X_punctuation_test)"
   ]
  },
  {
   "cell_type": "code",
   "execution_count": 70,
   "id": "5a4db044",
   "metadata": {},
   "outputs": [],
   "source": [
    "sparse.save_npz('data/X_punctuation.npz', X_punctuation)\n",
    "sparse.save_npz('data/X_punctuation_test.npz', X_punctuation_test)"
   ]
  },
  {
   "cell_type": "markdown",
   "id": "0ab1522f",
   "metadata": {},
   "source": [
    "### Digits Frequency"
   ]
  },
  {
   "cell_type": "code",
   "execution_count": 71,
   "id": "bf391c0b",
   "metadata": {},
   "outputs": [],
   "source": [
    "digits_list = [\n",
    "'0',\n",
    "'1',\n",
    "'2',\n",
    "'3',\n",
    "'4',\n",
    "'5',\n",
    "'6',\n",
    "'7',\n",
    "'8',\n",
    "'9'\n",
    "]"
   ]
  },
  {
   "cell_type": "code",
   "execution_count": 72,
   "id": "128966b3",
   "metadata": {},
   "outputs": [],
   "source": [
    "def digits_filter(text):\n",
    "    chars = text_split_filter(text, char=True)\n",
    "    counter = 0\n",
    "    for char in chars:\n",
    "        if char in digits_list:\n",
    "            counter += 1\n",
    "    \n",
    "    return counter"
   ]
  },
  {
   "cell_type": "code",
   "execution_count": null,
   "id": "adb3f688",
   "metadata": {},
   "outputs": [],
   "source": [
    "digits_feature = []\n",
    "for text in author_text:\n",
    "    N = len(text_split_filter(text, char=True))\n",
    "    \n",
    "    if N == 0:\n",
    "        n_digits = 0\n",
    "    else:\n",
    "        n_digits = digits_filter(text)/N\n",
    "    digits_feature.append(n_digits)\n",
    "    \n",
    "    \n",
    "test_digits_feature = []\n",
    "for text in test_author_text:\n",
    "    N = len(text_split_filter(text, char=True))\n",
    "    \n",
    "    if N == 0:\n",
    "        n_digits = 0\n",
    "    else:\n",
    "        n_digits = digits_filter(text)/N\n",
    "    test_digits_feature.append(n_digits)\n",
    "    \n",
    "digits_feature"
   ]
  },
  {
   "cell_type": "code",
   "execution_count": 74,
   "id": "5324bf59",
   "metadata": {},
   "outputs": [],
   "source": [
    "arr = np.array(digits_feature)\n",
    "X_digits = sparse.csr_matrix(arr.reshape((5000,1)))\n"
   ]
  },
  {
   "cell_type": "code",
   "execution_count": 75,
   "id": "64fc4535",
   "metadata": {},
   "outputs": [],
   "source": [
    "test_arr = np.array(test_digits_feature)\n",
    "X_digits_test = sparse.csr_matrix(test_arr.reshape((15000,1)))\n"
   ]
  },
  {
   "cell_type": "code",
   "execution_count": 76,
   "id": "31e31433",
   "metadata": {},
   "outputs": [],
   "source": [
    "scaler = MaxAbsScaler()\n",
    "scaler.fit(X_digits)\n",
    "X_digits = scaler.transform(X_digits)\n",
    "X_digits_test = scaler.transform(X_digits_test)"
   ]
  },
  {
   "cell_type": "code",
   "execution_count": 77,
   "id": "d8713bd0",
   "metadata": {},
   "outputs": [],
   "source": [
    "sparse.save_npz('data/X_digits.npz', X_digits)\n",
    "sparse.save_npz('data/X_digits_test.npz', X_digits_test)"
   ]
  },
  {
   "cell_type": "markdown",
   "id": "ded9afa0",
   "metadata": {},
   "source": [
    "# Loading Preprocessed Data"
   ]
  },
  {
   "cell_type": "markdown",
   "id": "650919fb",
   "metadata": {},
   "source": [
    "Creating target array"
   ]
  },
  {
   "cell_type": "code",
   "execution_count": null,
   "id": "23c3f42d",
   "metadata": {},
   "outputs": [],
   "source": [
    "Y = target.gender\n",
    "Y"
   ]
  },
  {
   "cell_type": "markdown",
   "id": "43fea27e",
   "metadata": {},
   "source": [
    "Creating Design Matrix from feature files, using a list of wanted features (in order to perform some tests, it is preferable to have the possibility to choose which features to use)."
   ]
  },
  {
   "cell_type": "code",
   "execution_count": 2,
   "id": "13f6d77c",
   "metadata": {},
   "outputs": [],
   "source": [
    "def generate_matrix(features_all=False, feature_list=['subs', 'lembow', 'averagelength', 'maxlength', 'profanity', 'capitalwords', 'capitalletters', 'self', 'acronyms', 'emoticons', 'exclamation', 'interrogation', 'quotation', 'punctuation', 'digits']):\n",
    "    \"Function that generates the Design Matrix X from single features matrices/arrays\"\n",
    "    l = []\n",
    "    l_test = []\n",
    "    \n",
    "    if features_all == True:\n",
    "        feature_list_all = ['subs', 'lembow', 'averagelength', 'maxlength', 'profanity', 'capitalwords', 'capitalletters', 'self', 'acronyms', 'emoticons', 'exclamation', 'interrogation', 'quotation', 'punctuation', 'digits']\n",
    "        for feature in feature_list_all:\n",
    "            x = sparse.load_npz('data/X_'+str(feature)+'.npz')\n",
    "            x_test = sparse.load_npz('data/X_'+str(feature)+'_test.npz')\n",
    "            l.append(x)\n",
    "            l_test.append(x_test)\n",
    "        X = sparse.hstack(l)\n",
    "        X_test = sparse.hstack(l_test)\n",
    "    else:\n",
    "        for feature in feature_list:\n",
    "            x = sparse.load_npz('data/X_'+str(feature)+'.npz')\n",
    "            x\n",
    "            x_test = sparse.load_npz('data/X_'+str(feature)+'_test.npz')\n",
    "            l.append(x)\n",
    "            l_test.append(x_test)\n",
    "        X = sparse.hstack(l)\n",
    "        X_test = sparse.hstack(l_test)\n",
    "    \n",
    "    return X, X_test\n",
    "\n",
    "\n",
    "    \n",
    "    "
   ]
  },
  {
   "cell_type": "markdown",
   "id": "0befff99",
   "metadata": {},
   "source": [
    "Creating the Design Matrix. We can choose which features to include, so that different tests and options of Feature Selection can be performed at will (or if necessary)."
   ]
  },
  {
   "cell_type": "code",
   "execution_count": 4,
   "id": "5db52ae0",
   "metadata": {},
   "outputs": [
    {
     "data": {
      "text/plain": [
       "<5000x5228 sparse matrix of type '<class 'numpy.float64'>'\n",
       "\twith 1510259 stored elements in Compressed Sparse Row format>"
      ]
     },
     "execution_count": 4,
     "metadata": {},
     "output_type": "execute_result"
    }
   ],
   "source": [
    "feature_list = ['subs', 'lembow', 'averagelength', 'maxlength', 'profanity', 'capitalwords', 'capitalletters', 'self', 'acronyms', 'emoticons', 'exclamation', 'interrogation', 'quotation', 'punctuation', 'digits']#, 'averagelength', 'maxlength', 'profanity', 'capitalwords', 'capitalletters', 'self', 'acronyms', 'emoticons', 'exclamation', 'interrogation', 'quotation', 'punctuation', 'digits']\n",
    "X, X_test = generate_matrix(features_all=True, feature_list = feature_list)\n",
    "X\n"
   ]
  },
  {
   "cell_type": "markdown",
   "id": "3d996901",
   "metadata": {},
   "source": [
    "## Feature Selection"
   ]
  },
  {
   "cell_type": "markdown",
   "id": "4ab86953",
   "metadata": {},
   "source": [
    "From the way the data has been processed, numerous features have been selected. The dataset dimensionality and feature correlations might hinder some models different from Neural Networks and Trees, that might then be able to perform better if a significative subset of the data is provided to them, rather than all of the variability. \n",
    "\n",
    "Hence, different feature techniques have been tried to improve performance and have been entagled in a pipeline in the model selection process (see below)."
   ]
  },
  {
   "cell_type": "markdown",
   "id": "e2c7ddd6",
   "metadata": {},
   "source": [
    "A filtering feature selection method is applied. Keeping in mind that our input data is numerical and the output is categorical, the ANOVA score is applied. The number of features is given in the model selection process, in which ANOVA is part of the pipeline. Best scoring given for number of features of $\\sim$1500\n",
    "\n",
    "As a notice of work, different feature selection techniques have been tried. In particular Truncated SVD was tested as an alternative method that would keep sparsity untouched, but in the Model Selection/ Hyperparameters Selection, when included in the pipeline, even the best number for singular components to keep did not provide a performance on pair with ANOVA.\n"
   ]
  },
  {
   "cell_type": "code",
   "execution_count": 62,
   "id": "5a6e66ea",
   "metadata": {},
   "outputs": [],
   "source": [
    "from sklearn.feature_selection import SelectKBest\n",
    "from sklearn.feature_selection import f_classif #ANOVA"
   ]
  },
  {
   "cell_type": "markdown",
   "id": "2001d93d",
   "metadata": {},
   "source": [
    "Selecting which features to keep, once the optimal number $k$ is found during the Model Selection process (see below)."
   ]
  },
  {
   "cell_type": "code",
   "execution_count": 81,
   "id": "e5448372",
   "metadata": {
    "scrolled": true
   },
   "outputs": [
    {
     "data": {
      "text/plain": [
       "SelectKBest(k=1520)"
      ]
     },
     "execution_count": 81,
     "metadata": {},
     "output_type": "execute_result"
    }
   ],
   "source": [
    "selector = SelectKBest(f_classif, k=1520) # k is the number of features to be selected\n",
    "selector.fit(X, Y)"
   ]
  },
  {
   "cell_type": "markdown",
   "id": "657c7806",
   "metadata": {},
   "source": [
    "Transforming (selecting only relevant features) both Training & Test Set"
   ]
  },
  {
   "cell_type": "code",
   "execution_count": 82,
   "id": "45f914ba",
   "metadata": {},
   "outputs": [],
   "source": [
    "X = selector.transform(X)\n",
    "X_test = selector.transform(X_test)"
   ]
  },
  {
   "cell_type": "markdown",
   "id": "343210a3",
   "metadata": {},
   "source": [
    "## Machine Learning --> Classification Problem"
   ]
  },
  {
   "cell_type": "markdown",
   "id": "23246159",
   "metadata": {},
   "source": [
    "Loading all the possible classifiers of choice in a dictionary, which contains the parameters as well (these are not directly used, are just personal reminders). The values provided in the code below are those found through model selection procedures in the following section."
   ]
  },
  {
   "cell_type": "code",
   "execution_count": 1,
   "id": "7f97e6e8",
   "metadata": {},
   "outputs": [],
   "source": [
    "from sklearn.neighbors import KNeighborsClassifier\n",
    "from sklearn.naive_bayes import MultinomialNB\n",
    "from sklearn.linear_model import LogisticRegression, Lasso\n",
    "from sklearn.svm import SVC\n",
    "from sklearn.tree import DecisionTreeClassifier\n",
    "from sklearn.ensemble import RandomForestClassifier\n",
    "from sklearn.neural_network import MLPClassifier\n",
    "\n",
    "from collections import OrderedDict\n",
    "\n",
    "models = OrderedDict([\n",
    "          ('Knn', {\"model\" : KNeighborsClassifier(n_neighbors=6)\n",
    "                  ,\"best_hyper\" : {'n_neighbors' : 6}}),\n",
    "          ('NaiveBayes', {\"model\" : MultinomialNB(alpha=1.0240480961923848)\n",
    "                          ,\"best_hyper\" : {'alpha' : 1.81}}),\n",
    "    #Using SAGA optimizer as it is compatible with all types of regularization\n",
    "          ('LogisticRegression', {\"model\" : LogisticRegression(C = 2.694026845637584, penalty = 'elasticnet', solver = 'saga', max_iter = 10000, l1_ratio=0.0)\n",
    "                                 ,\"best_hyper\" : {'alpha' : 1.38}}),\n",
    "    \n",
    "          ('PolySVM', {\"model\" : SVC(kernel='poly', C=10, degree = 1, gamma = 'auto', probability=False)\n",
    "                      ,\"best_hyper\" : {'C' : 10\n",
    "                                      ,'degree' : 1\n",
    "                                      ,'gamma' : 'auto'}}),\n",
    "          ('RBFSVM', {\"model\" : SVC(kernel='rbf', C=6.222570836730231, gamma=0.051114334834401684, probability=True)\n",
    "                      ,\"best_hyper\" : {'C' : 6.222570836730231\n",
    "                                      ,'gamma' : 0.051114334834401684}}),\n",
    "    #Selecting Random Splitter since many features are present\n",
    "          ('ClassificationTree', {'model' : DecisionTreeClassifier(splitter='random', max_depth=2, min_samples_split=12, min_samples_leaf=6, max_features='sqrt')\n",
    "                                 ,'best_hyper' : {'max_depth' : 2\n",
    "                                                 ,'min_samples_split' : 4\n",
    "                                                 ,'min_samples_leaf' : 6\n",
    "                                                 ,'max_features' : 'auto'}}),\n",
    "          ('RandomForest', {'model' : RandomForestClassifier(max_depth=32, n_estimators=158, min_samples_split=2, min_samples_leaf=6, max_features='auto',n_jobs = -1)\n",
    "                           ,'best_hyper' : {'max_depth' : 45\n",
    "                                           ,'n_estimators' : 300\n",
    "                                           ,'min_samples_leaf' : 6\n",
    "                                           ,'min_samples_split' : 4\n",
    "                                           ,'max_features' : 'auto'}}),\n",
    "          ('MLP', {\"model\" : MLPClassifier(hidden_layer_sizes=(4), alpha=24.589178356713425, activation='relu',solver='lbfgs', max_iter=50000)\n",
    "                  ,\"best_hyper\" : {'hidden_layer_sizes' : (3)\n",
    "                                  ,'alpha' : 31.238476953907814}})\n",
    "        ])\n"
   ]
  },
  {
   "cell_type": "markdown",
   "id": "209347e9",
   "metadata": {},
   "source": [
    "In order to provide a sample of (#layers,#neurons), defining a useful function for MLP hyperparameter optimization, which creates a random sample for the number of hidden layers and neurons. In this way, no manual selection is necessary."
   ]
  },
  {
   "cell_type": "code",
   "execution_count": 67,
   "id": "e4fcc2dd",
   "metadata": {},
   "outputs": [],
   "source": [
    "def layers_generator(n_hidden, max_neurons=8, min_neurons=1, samples_per_layer=3):\n",
    "    \"\"\"\n",
    "    Generate samples of layers for MLP\n",
    "    \"\"\"\n",
    "    import itertools\n",
    "    import random\n",
    "    hyper_layers = []\n",
    "    for n in range(1,n_hidden,1):\n",
    "        hyper_layers.extend(random.sample(list(itertools.product(range(min_neurons,max_neurons,1), repeat=n)), samples_per_layer))\n",
    "        \n",
    "    return hyper_layers\n",
    "    \n",
    "    #random.sample(list(itertools.product(range(1,20,1), repeat=random.randint(1,5))), 5)"
   ]
  },
  {
   "cell_type": "markdown",
   "id": "73ee63ca",
   "metadata": {},
   "source": [
    "## Model Selection"
   ]
  },
  {
   "cell_type": "markdown",
   "id": "48895708",
   "metadata": {},
   "source": [
    "Defining the Cross-Validation strategy. Since classes are not balanced in the Training set, and considering that removal of data was not considered as an option given the fact that data is already limited in number of samples, a Stratified Cross-Validation is used: in this way, in each fold a proportionate number of samples from each class is used, so that the least possible bias is introduced in the model."
   ]
  },
  {
   "cell_type": "code",
   "execution_count": 69,
   "id": "b4d8adba",
   "metadata": {},
   "outputs": [],
   "source": [
    "from sklearn.linear_model import Lasso\n",
    "from sklearn.model_selection import KFold, StratifiedKFold, cross_val_score, GridSearchCV, RandomizedSearchCV, RepeatedStratifiedKFold\n",
    "from sklearn.experimental import enable_halving_search_cv\n",
    "from sklearn.model_selection import HalvingGridSearchCV, HalvingRandomSearchCV\n",
    "\n",
    "cv = StratifiedKFold(n_splits=5, shuffle=True, random_state=1)"
   ]
  },
  {
   "cell_type": "markdown",
   "id": "de2d4117",
   "metadata": {},
   "source": [
    "### Hyperparameters Search"
   ]
  },
  {
   "cell_type": "markdown",
   "id": "958f2b43",
   "metadata": {},
   "source": [
    "In the most promising models, a pipeline is introduced, in order to combine CV with Feature Selection, so as to provide the models the most optimal number of features through which they manage to generalize and correctly predict classes.\n",
    "\n",
    "Also, to speed up the process and maintain a good hyperparameter research accuracy, a HalvingGrid system is used, sometimes a RandomizedSearch is used to ballpark the hyperparameters values. Then, when a coarse idea has been obtained, these values are fine-tuned through a complete GridSearch to explore all the hyperparameters space and obtain an accurate estimate."
   ]
  },
  {
   "cell_type": "markdown",
   "id": "d799c569",
   "metadata": {},
   "source": [
    "#### KNN"
   ]
  },
  {
   "cell_type": "code",
   "execution_count": null,
   "id": "30612869",
   "metadata": {},
   "outputs": [],
   "source": [
    "import scipy.stats as stats\n",
    "clf = models['Knn']['model']\n",
    "\n",
    "#After having tried on a larger scale, setting the research to \n",
    "#fine-research the best alpha value\n",
    "hyper = {}\n",
    "#hyper['C'] = np.logspace(-1.5, 3, 30)\n",
    "hyper['n_neighbors'] = range(2, 65)\n",
    "\n",
    "optimizer = GridSearchCV(clf, param_grid= hyper, n_jobs=-1, cv=cv, verbose=3, error_score=\"raise\")\n",
    "optimizer.fit(X, Y)\n",
    "print(\"Best parameters for\", str('LR'), \"are:\")\n",
    "print(optimizer.best_params_)\n",
    "print('Score:', str(optimizer.best_score_))\n",
    "      \n",
    "clf.C = optimizer.best_params_['n_neighbors']"
   ]
  },
  {
   "cell_type": "markdown",
   "id": "2e1e4ec9",
   "metadata": {},
   "source": [
    "#### Naive Bayes"
   ]
  },
  {
   "cell_type": "markdown",
   "id": "b4a97451",
   "metadata": {},
   "source": [
    "Naive Bayes algorithm gives best performance when paired with ANOVA feature selection (1400 features out of $\\sim$ 5400). In fact, Naive Bayes is one of the algorithms that works best after dimensionality reduction is applied, since a \"selection\" of the features is not natuarally incorporated as in models such as Trees and Neural Networks."
   ]
  },
  {
   "cell_type": "code",
   "execution_count": 79,
   "id": "de46ede6",
   "metadata": {},
   "outputs": [
    {
     "name": "stdout",
     "output_type": "stream",
     "text": [
      "Fitting 5 folds for each of 40000 candidates, totalling 200000 fits\n",
      "Best parameters for NaiveBayes are:\n",
      "{'anova__k': 1520, 'nb__alpha': 1.0240480961923848}\n",
      "Score: 0.8702\n"
     ]
    }
   ],
   "source": [
    "import scipy.stats as stats\n",
    "from sklearn.pipeline import Pipeline\n",
    "from sklearn.feature_selection import SelectKBest, f_classif \n",
    "\n",
    "clf = models['NaiveBayes']['model']\n",
    "\n",
    "#After having tried on a larger scale, setting the research to \n",
    "#fine-research the best alpha value\n",
    "hyper = {}\n",
    "#hyper['nb__alpha'] = np.logspace(-1.5, 3, 30)\n",
    "hyper['nb__alpha'] = np.linspace(0.1, 3, 500)\n",
    "hyper['anova__k'] = np.arange(800, 1600, 10)\n",
    "\n",
    "pipe = Pipeline([('anova', SelectKBest(f_classif, k = 500)),\n",
    "                       ('nb', clf)])\n",
    "\n",
    "optimizer = GridSearchCV(pipe, param_grid= hyper, n_jobs=-1, cv=cv, verbose=3, error_score=\"raise\")\n",
    "optimizer.fit(X, Y)\n",
    "print(\"Best parameters for\", str('NaiveBayes'), \"are:\")\n",
    "print(optimizer.best_params_)\n",
    "print('Score:', str(optimizer.best_score_))"
   ]
  },
  {
   "cell_type": "markdown",
   "id": "55fdf340",
   "metadata": {},
   "source": [
    "#### Logistic Regression"
   ]
  },
  {
   "cell_type": "code",
   "execution_count": null,
   "id": "8b736b35",
   "metadata": {
    "scrolled": true
   },
   "outputs": [],
   "source": [
    "import scipy.stats as stats\n",
    "from sklearn.pipeline import Pipeline\n",
    "from sklearn.feature_selection import SelectKBest, f_classif \n",
    "\n",
    "clf = models['LogisticRegression']['model']\n",
    "\n",
    "#After having tried on a larger scale, setting the research to \n",
    "#fine-research the best alpha value\n",
    "hyper = {}\n",
    "#hyper['lr__C'] = np.logspace(-1.5, 3, 30)\n",
    "hyper['lr__C'] = np.linspace(0.01, 50, 150)\n",
    "hyper['lr__l1_ratio'] = np.linspace(0,1,20)\n",
    "hyper['anova__k'] = np.arange(1000, 2000, 20)\n",
    "#hyper['penalty'] = ['l1', 'l2']\n",
    "\n",
    "pipe = Pipeline([('anova', SelectKBest(f_classif, k = 500)),\n",
    "                       ('lr', clf)])\n",
    "\n",
    "optimizer = HalvingGridSearchCV(pipe, param_grid= hyper, n_jobs=-1, cv=cv, verbose=3, error_score=\"raise\")\n",
    "optimizer.fit(X, Y)\n",
    "print(\"Best parameters for\", str('LR'), \"are:\")\n",
    "print(optimizer.best_params_)\n",
    "print('Score:', str(optimizer.best_score_))\n",
    "\n"
   ]
  },
  {
   "cell_type": "markdown",
   "id": "4a47c519",
   "metadata": {},
   "source": [
    "#### SVM Poly"
   ]
  },
  {
   "cell_type": "code",
   "execution_count": null,
   "id": "1d233db4",
   "metadata": {},
   "outputs": [],
   "source": [
    "clf = models['PolySVM']['model']\n",
    "\n",
    "hyper = {}\n",
    "hyper['C'] = np.linspace(0.001, 10, 500)\n",
    "hyper['degree'] = range(1,8)\n",
    "#hyper['gamma'] = ['auto', 'scale']\n",
    "\n",
    "optimizer = RandomizedSearchCV(clf, param_distributions= hyper,n_iter = 60, cv=cv, verbose=3, error_score=\"raise\")\n",
    "optimizer.fit(X, Y)\n",
    "\n",
    "print(\"Best parameters for\", str('LR'), \"are:\")\n",
    "print(optimizer.best_params_)\n",
    "print('Score:', str(optimizer.best_score_))\n",
    "      \n",
    "clf.C = optimizer.best_params_['C']\n",
    "clf.degree = optimizer.best_params_['degree']\n",
    "#clf.gamma = optimizer.best_params_['gamma']\n"
   ]
  },
  {
   "cell_type": "markdown",
   "id": "b3daede5",
   "metadata": {},
   "source": [
    "#### SVM RBF"
   ]
  },
  {
   "cell_type": "code",
   "execution_count": null,
   "id": "8c8dfc31",
   "metadata": {},
   "outputs": [],
   "source": [
    "import scipy.stats as stats\n",
    "from sklearn.pipeline import Pipeline\n",
    "from sklearn.feature_selection import SelectKBest, f_classif \n",
    "\n",
    "#  if name == \"LogisticRegression\":\n",
    "#print('Starting', str(name), 'evaluation. Please wait...')\n",
    "clf = models['RBFSVM']['model']\n",
    "\n",
    "hyper = {}\n",
    "\n",
    "hyper['C'] = np.logspace(-3, 2, 200)\n",
    "hyper['gamma'] = np.logspace(-3, 2, 200)\n",
    "#hyper['anova__k'] = np.arange(500, 2000,50)\n",
    "\n",
    "#pipe = Pipeline([('anova', SelectKBest(f_classif, k=500)),('svm', clf)])\n",
    "\n",
    "optimizer = HalvingGridSearchCV(clf, param_grid = hyper, cv=cv, verbose=0, error_score=\"raise\")\n",
    "optimizer.fit(X, Y)\n",
    "\n",
    "print(\"Best parameters for\", str('LR'), \"are:\")\n",
    "print(optimizer.best_params_)\n",
    "print('Score:', str(optimizer.best_score_))\n",
    "      \n",
    "clf.C = optimizer.best_params_['C']\n",
    "\n",
    "        \n",
    " "
   ]
  },
  {
   "cell_type": "markdown",
   "id": "c0102e37",
   "metadata": {},
   "source": [
    "#### MLP"
   ]
  },
  {
   "cell_type": "code",
   "execution_count": null,
   "id": "94edc72d",
   "metadata": {},
   "outputs": [],
   "source": [
    "from sklearn.pipeline import Pipeline\n",
    "from sklearn.feature_selection import SelectKBest, f_classif \n",
    "#  if name == \"LogisticRegression\":\n",
    "#print('Starting', str(name), 'evaluation. Please wait...')\n",
    "clf = models['MLP']['model']\n",
    "\n",
    "hyper = {}\n",
    "#hyper['anova__k'] = np.arange(300, 3300,50)\n",
    "#hyper['hidden_layer_sizes'] = layers_generator(3, max_neurons=5,samples_per_layer=4)\n",
    "hyper['alpha'] = np.linspace(1,80, 500)\n",
    "\n",
    "#pipe = Pipeline([('anova', SelectKBest(f_classif, k=500)),('mlp', clf)])\n",
    "\n",
    "optimizer = GridSearchCV(clf, param_grid= hyper, cv=cv, verbose=3, error_score=\"raise\")\n",
    "optimizer.fit(X, Y)\n",
    "\n",
    "print(\"Best parameters for\", str('LR'), \"are:\")\n",
    "print(optimizer.best_params_)\n",
    "print('Score:', str(optimizer.best_score_))\n",
    "      \n",
    "#clf.hidden_layer_sizes = optimizer.best_params_[hidden_layer_sizes']\n",
    "#clf.alpha = optimizer.best_params_['alpha']\n",
    "#clf.alpha = optimizer.best_params[]\n"
   ]
  },
  {
   "cell_type": "markdown",
   "id": "da696dd0",
   "metadata": {},
   "source": [
    "#### ClassificationTree"
   ]
  },
  {
   "cell_type": "code",
   "execution_count": null,
   "id": "4e2123b4",
   "metadata": {},
   "outputs": [],
   "source": [
    "clf = models['ClassificationTree']['model']\n",
    "hyper = {}\n",
    "hyper['max_depth'] = range(2, 150, 1)\n",
    "hyper['min_samples_split'] = np.arange(2,40)\n",
    "hyper['min_samples_leaf'] = np.arange(1,20)\n",
    "hyper['max_features'] = ['sqrt', 'auto', 'log2']\n",
    "      \n",
    "#Having numerous hyperparameters to check for, a Random search is done\n",
    "optimizer = HalvingGridSearchCV(clf, param_grid = hyper, cv=cv, n_jobs=-1, verbose=3, error_score=\"raise\")\n",
    "optimizer.fit(X, Y)\n",
    "\n",
    "print(\"Best parameters for\", str('LR'), \"are:\")\n",
    "print(optimizer.best_params_)\n",
    "print('Score:', str(optimizer.best_score_))\n",
    "      \n",
    "clf.max_depth = optimizer.best_params_['max_depth']\n",
    "clf.min_samples_split = optimizer.best_params_['min_samples_split']\n",
    "clf.min_samples_leaf = optimizer.best_params_['min_samples_leaf'] \n",
    "clf.max_features = optimizer.best_params_['max_features']"
   ]
  },
  {
   "cell_type": "markdown",
   "id": "70de4f6b",
   "metadata": {},
   "source": [
    "#### RandomForest"
   ]
  },
  {
   "cell_type": "code",
   "execution_count": null,
   "id": "f5502da1",
   "metadata": {},
   "outputs": [],
   "source": [
    "clf = models['RandomForest']['model']\n",
    "hyper = {}\n",
    "#hyper['n_estimators'] = range(50, 200, 6)\n",
    "hyper['max_depth'] = range(50, 150, 5)\n",
    "hyper['min_samples_split'] = np.arange(2,20)\n",
    "hyper['min_samples_leaf'] = np.arange(1,40)\n",
    "hyper['max_features'] = ['sqrt', 'auto', 'log2']\n",
    "      \n",
    "#Having numerous hyperparameters to check for, a Random search is done\n",
    "optimizer = HalvingGridSearchCV(clf, param_grid = hyper, cv=cv, n_jobs=-1, verbose=3, error_score=\"raise\")\n",
    "optimizer.fit(X, Y)\n",
    "\n",
    "print(\"Best parameters for\", str('LR'), \"are:\")\n",
    "print(optimizer.best_params_)\n",
    "print('Score:', str(optimizer.best_score_))\n",
    "\n",
    "#clf.n_estimators = optimizer.best_params_['n_estimators']\n",
    "clf.max_depth = optimizer.best_params_['max_depth']\n",
    "clf.min_samples_split = optimizer.best_params_['min_samples_split']\n",
    "clf.min_samples_leaf = optimizer.best_params_['min_samples_leaf'] \n",
    "clf.max_features = optimizer.best_params_['max_features']"
   ]
  },
  {
   "cell_type": "markdown",
   "id": "cbd0d83e",
   "metadata": {},
   "source": [
    "## FINAL TRAINING"
   ]
  },
  {
   "cell_type": "markdown",
   "id": "32711689",
   "metadata": {},
   "source": [
    "Once hyperparameters are found, here the actual training is performed. In order to match Kaggle's AUC-ROC metric, a predict_proba method is used to evaluated probabilities for class attribution. The .csv file is formatted such that it matches the output required by the Kaggle's Competition."
   ]
  },
  {
   "cell_type": "code",
   "execution_count": 84,
   "id": "c49d5121",
   "metadata": {},
   "outputs": [],
   "source": [
    "result = pd.DataFrame(test.author.unique(), columns=['author'])\n",
    "clf = models['NaiveBayes']['model']\n",
    "clf.fit(X, Y)\n",
    "pred = clf.predict_proba(X_test)\n",
    "prediction = result\n",
    "prediction['gender'] = np.array(pred)[:,1].tolist()\n",
    "prediction.to_csv('{0}\\{1}{2}'.format(\"Results\", str('NaiveBayes'), '.csv'), index=False)"
   ]
  },
  {
   "cell_type": "markdown",
   "id": "e52f5b28",
   "metadata": {},
   "source": [
    "**RESULT**: Naive Bayes applied with proper hyperparameter $\\alpha$ after ANOVA dimensionality reduction to 1480 features has been applied. Score in Kaggle."
   ]
  },
  {
   "cell_type": "markdown",
   "id": "dc8f2107",
   "metadata": {},
   "source": [
    "# APPENDIX"
   ]
  },
  {
   "cell_type": "markdown",
   "id": "857606cd",
   "metadata": {},
   "source": [
    "## 1.Feature Selection"
   ]
  },
  {
   "cell_type": "markdown",
   "id": "02ec8837",
   "metadata": {},
   "source": [
    "### Truncated SVD"
   ]
  },
  {
   "cell_type": "code",
   "execution_count": 125,
   "id": "b1fe557c",
   "metadata": {},
   "outputs": [],
   "source": [
    "from sklearn.decomposition import TruncatedSVD\n",
    "\n"
   ]
  },
  {
   "cell_type": "code",
   "execution_count": null,
   "id": "ff95c6f4",
   "metadata": {},
   "outputs": [],
   "source": [
    "n = range(1000, 5000, 200)\n",
    "\n",
    "for x in n:\n",
    "    svd = TruncatedSVD(x)\n",
    "    svd.fit(X)\n",
    "\n",
    "#plt.plot(svd.explained_variance_ratio_)\n",
    "#plt.xlabel('Number of dimensions')\n",
    "#plt.ylabel('Explained variance ratio')\n",
    "#plt.show()\n",
    "\n",
    "    var_explained = svd.explained_variance_ratio_.sum()\n",
    "    print(var_explained)\n",
    "    \n",
    "    if var_explained>=0.95:\n",
    "        print ('This is the best number of parameters:', x)\n",
    "        break;"
   ]
  },
  {
   "cell_type": "code",
   "execution_count": 128,
   "id": "33ba18d3",
   "metadata": {
    "scrolled": true
   },
   "outputs": [
    {
     "data": {
      "text/plain": [
       "TruncatedSVD(n_components=1450)"
      ]
     },
     "execution_count": 128,
     "metadata": {},
     "output_type": "execute_result"
    }
   ],
   "source": [
    "svd = TruncatedSVD(n_components = 1450)\n",
    "svd.fit(X)"
   ]
  },
  {
   "cell_type": "code",
   "execution_count": 131,
   "id": "72c5feca",
   "metadata": {},
   "outputs": [],
   "source": [
    "X = svd.transform(X)\n",
    "X_test = svd.transform(X_test)"
   ]
  },
  {
   "cell_type": "code",
   "execution_count": 129,
   "id": "5b7ea622",
   "metadata": {},
   "outputs": [
    {
     "name": "stdout",
     "output_type": "stream",
     "text": [
      "0.87427953724426\n"
     ]
    }
   ],
   "source": [
    "var_explained = svd.explained_variance_ratio_.sum()\n",
    "print(var_explained)"
   ]
  },
  {
   "cell_type": "code",
   "execution_count": 130,
   "id": "ac289ada",
   "metadata": {
    "scrolled": true
   },
   "outputs": [
    {
     "data": {
      "image/png": "[encoded data removed]",
      "text/plain": [
       "<Figure size 640x480 with 1 Axes>"
      ]
     },
     "metadata": {},
     "output_type": "display_data"
    }
   ],
   "source": [
    "# plot the explained variance ratio as a function of the number of dimensions\n",
    "plt.plot(svd.explained_variance_ratio_)\n",
    "plt.xlabel('Number of dimensions')\n",
    "plt.ylabel('Explained variance ratio')\n",
    "plt.show()"
   ]
  },
  {
   "cell_type": "markdown",
   "id": "7291aa8f",
   "metadata": {},
   "source": [
    "## Dimensionality Reduction"
   ]
  },
  {
   "cell_type": "markdown",
   "id": "5908d176",
   "metadata": {},
   "source": [
    "### Try PCA for NN"
   ]
  },
  {
   "cell_type": "markdown",
   "id": "9eedaaf1",
   "metadata": {},
   "source": [
    "Try making matrix dense and do PCA for NN"
   ]
  },
  {
   "cell_type": "code",
   "execution_count": 47,
   "id": "0c544933",
   "metadata": {},
   "outputs": [
    {
     "name": "stdout",
     "output_type": "stream",
     "text": [
      "Collecting delayedsparse\n",
      "  Downloading delayedsparse-0.2.4.tar.gz (18 kB)\n",
      "Requirement already satisfied: numpy>=1.14.0 in d:\\anaconda3\\lib\\site-packages (from delayedsparse) (1.20.3)\n",
      "Requirement already satisfied: scipy>=1.0.1 in d:\\anaconda3\\lib\\site-packages (from delayedsparse) (1.7.1)\n",
      "Requirement already satisfied: scikit-learn>=0.19.0 in d:\\anaconda3\\lib\\site-packages (from delayedsparse) (0.24.2)\n",
      "Requirement already satisfied: joblib>=0.11 in d:\\anaconda3\\lib\\site-packages (from scikit-learn>=0.19.0->delayedsparse) (1.1.0)\n",
      "Requirement already satisfied: threadpoolctl>=2.0.0 in d:\\anaconda3\\lib\\site-packages (from scikit-learn>=0.19.0->delayedsparse) (2.2.0)\n",
      "Building wheels for collected packages: delayedsparse\n",
      "  Building wheel for delayedsparse (setup.py): started\n",
      "  Building wheel for delayedsparse (setup.py): finished with status 'done'\n",
      "  Created wheel for delayedsparse: filename=delayedsparse-0.2.4-py3-none-any.whl size=19763 sha256=b9f82dba24bf83ccb72c640a3a2cd08426711996ce85517e0bb7470fc8b41280\n",
      "  Stored in directory: c:\\users\\alber\\appdata\\local\\pip\\cache\\wheels\\74\\ca\\12\\3bc6f3a95c8890be326d46780e2d5b092a4b3ef0e55587cbdd\n",
      "Successfully built delayedsparse\n",
      "Installing collected packages: delayedsparse\n",
      "Successfully installed delayedsparse-0.2.4\n",
      "Note: you may need to restart the kernel to use updated packages.\n"
     ]
    }
   ],
   "source": [
    "pip install delayedsparse"
   ]
  },
  {
   "cell_type": "code",
   "execution_count": 58,
   "id": "7f80ceb7",
   "metadata": {},
   "outputs": [
    {
     "name": "stdout",
     "output_type": "stream",
     "text": [
      "(5000, 1056)\n",
      "(1056,)\n",
      "(1056, 5228)\n"
     ]
    }
   ],
   "source": [
    "from sklearn.decomposition import PCA\n",
    "X_pca = X.todense()\n",
    "pca = PCA(1056)\n",
    "\n",
    "pca.fit(X_pca)\n",
    "\n",
    "U = pca.transform(X_pca)\n",
    "S = pca.explained_variance_\n",
    "V = pca.components_\n",
    "\n",
    "print (U.shape)\n",
    "print (S.shape)\n",
    "print (V.shape)"
   ]
  },
  {
   "cell_type": "code",
   "execution_count": 56,
   "id": "cac0ef31",
   "metadata": {},
   "outputs": [
    {
     "data": {
      "text/plain": [
       "[<matplotlib.lines.Line2D at 0x1ec95877760>]"
      ]
     },
     "execution_count": 56,
     "metadata": {},
     "output_type": "execute_result"
    },
    {
     "data": {
      "image/png": "[encoded data removed]",
      "text/plain": [
       "<Figure size 432x288 with 1 Axes>"
      ]
     },
     "metadata": {
      "needs_background": "light"
     },
     "output_type": "display_data"
    }
   ],
   "source": [
    "plt.plot(pca.explained_variance_)"
   ]
  },
  {
   "cell_type": "code",
   "execution_count": 57,
   "id": "3fee508e",
   "metadata": {
    "scrolled": true
   },
   "outputs": [
    {
     "name": "stdout",
     "output_type": "stream",
     "text": [
      "1056\n"
     ]
    },
    {
     "data": {
      "image/png": "[encoded data removed]",
      "text/plain": [
       "<Figure size 432x288 with 1 Axes>"
      ]
     },
     "metadata": {
      "needs_background": "light"
     },
     "output_type": "display_data"
    }
   ],
   "source": [
    "ev_cumsum = np.cumsum(pca.explained_variance_)/(pca.explained_variance_).sum()\n",
    "ev_at90 = ev_cumsum[ev_cumsum<0.9].shape[0]\n",
    "print (ev_at90)\n",
    "\n",
    "plt.plot(ev_cumsum)\n",
    "plt.vlines(ev_at90, 0, 1, linestyles='dashed')\n",
    "plt.hlines(0.9, 0, 500, linestyles='dashed');"
   ]
  },
  {
   "cell_type": "markdown",
   "id": "ace855b3",
   "metadata": {},
   "source": [
    "## Model Selection"
   ]
  },
  {
   "cell_type": "markdown",
   "id": "f4d8e559",
   "metadata": {},
   "source": [
    "### On Categorical Features first, Numerical after"
   ]
  },
  {
   "cell_type": "markdown",
   "id": "b8a3e797",
   "metadata": {},
   "source": [
    "Since the Design Matrix is formed by multiple features, some categorical and some numerical, an attempt has been made to try and separate them to evaluate the hypothesis that models might behave best when dealing with just one kind of feature.\n",
    "\n",
    "In order to do so, a hyperparameter search is performed on the best performing set of feature ('Subreddits'), then trained with this specific hyperparameter on said feature and then, on the trained model, another hyperparameter search is applied with dimensionality reduction  (since Bag of Word is the most probable set of feature in which either redundancy or noise are found)."
   ]
  },
  {
   "cell_type": "markdown",
   "id": "8dc96d38",
   "metadata": {},
   "source": [
    "### [TESTING] Uso prima i subreddit e poi faccio fine-tuning sulle altre feature ###"
   ]
  },
  {
   "cell_type": "code",
   "execution_count": 33,
   "id": "bad89583",
   "metadata": {},
   "outputs": [],
   "source": [
    "feat_subs = ['subs']\n",
    "feat_rest = ['lembow', 'averagelength', 'maxlength', 'profanity', 'capitalwords', 'capitalletters', 'self', 'acronyms', 'emoticons', 'exclamation', 'interrogation', 'quotation', 'punctuation', 'digits']\n",
    "X_subs, X_test_subs = generate_matrix(features_all=False, feature_list = feat_subs)\n",
    "X_rest, X_test_rest = generate_matrix(features_all=False, feature_list = feat_rest)"
   ]
  },
  {
   "cell_type": "code",
   "execution_count": 34,
   "id": "31a05fcc",
   "metadata": {},
   "outputs": [
    {
     "name": "stdout",
     "output_type": "stream",
     "text": [
      "Fitting 5 folds for each of 500 candidates, totalling 2500 fits\n",
      "MultinomialNB(alpha=0.924553109823357)\n",
      "Fitting 5 folds for each of 27000 candidates, totalling 135000 fits\n",
      "Best parameters for LR are:\n",
      "{'anova__k': 1320, 'nb__alpha': 0.7643796948104811}\n",
      "Score: 0.737\n"
     ]
    }
   ],
   "source": [
    "import scipy.stats as stats\n",
    "from sklearn.pipeline import Pipeline\n",
    "from sklearn.feature_selection import SelectKBest, f_classif \n",
    "\n",
    "\n",
    "\n",
    "clf = models['NaiveBayes']['model']\n",
    "\n",
    "#After having tried on a larger scale, setting the research to \n",
    "#fine-research the best alpha value\n",
    "hyper = {}\n",
    "hyper2 = {}\n",
    "#hyper['C'] = np.logspace(-1.5, 3, 30)\n",
    "hyper['alpha'] = np.logspace(-3, 2, 500)\n",
    "#hyper['anova__k'] = np.arange(1000, 1400, 10)\n",
    "\n",
    "#kbest = SelectKBest(f_classif) \n",
    "#pipe = Pipeline([('anova', SelectKBest(chi2, k = 500)), ('nb', clf)])\n",
    "\n",
    "optimizer1 = GridSearchCV(clf, param_grid= hyper, n_jobs=-1, cv=cv, verbose=3, error_score=\"raise\")\n",
    "optimizer1.fit(X_subs, Y)\n",
    "\n",
    "best_alpha1 = optimizer1.best_params_['alpha']\n",
    "best1 = optimizer1.best_estimator_\n",
    "print(best1)\n",
    "#DA PROVARE DOPO\n",
    "best1.fit(X_subs, Y)\n",
    "\n",
    "hyper2['nb__alpha'] = np.linspace(best_alpha1-abs(best_alpha1*0.2), best_alpha1 + abs(best_alpha1*0.2), 300) \n",
    "hyper2['anova__k'] = np.arange(800, 1700, 10)\n",
    "\n",
    "pipe = Pipeline([('anova', SelectKBest(f_classif, k = 500)),\n",
    "                       ('nb', best1)])\n",
    "optimizer2 = GridSearchCV(pipe, param_grid= hyper2, n_jobs=-1, cv=cv, verbose=3, error_score=\"raise\")\n",
    "optimizer2.fit(X_rest, Y)\n",
    "\n",
    "print(\"Best parameters for\", str('LR'), \"are:\")\n",
    "print(optimizer2.best_params_)\n",
    "print('Score:', str(optimizer2.best_score_))\n",
    "      \n",
    "#clf.C = optimizer.best_params_['alpha']"
   ]
  }
 ],
 "metadata": {
  "kernelspec": {
   "display_name": "Python 3 (ipykernel)",
   "language": "python",
   "name": "python3"
  },
  "language_info": {
   "codemirror_mode": {
    "name": "ipython",
    "version": 3
   },
   "file_extension": ".py",
   "mimetype": "text/x-python",
   "name": "python",
   "nbconvert_exporter": "python",
   "pygments_lexer": "ipython3",
   "version": "3.10.9"
  }
 },
 "nbformat": 4,
 "nbformat_minor": 5
}
